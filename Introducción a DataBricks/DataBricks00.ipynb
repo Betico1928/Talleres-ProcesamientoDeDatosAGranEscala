{
 "cells": [
  {
   "cell_type": "markdown",
   "metadata": {
    "application/vnd.databricks.v1+cell": {
     "cellMetadata": {},
     "inputWidgets": {},
     "nuid": "77c0eaf9-2aff-4c1a-8053-de421ed1cb14",
     "showTitle": false,
     "title": ""
    }
   },
   "source": [
    "<h1>Procesamiento de Datos a Gran Escala</h1>"
   ]
  },
  {
   "cell_type": "markdown",
   "metadata": {
    "application/vnd.databricks.v1+cell": {
     "cellMetadata": {},
     "inputWidgets": {},
     "nuid": "4ff2fc56-62f0-465b-bf2e-e6ad88b80ec6",
     "showTitle": false,
     "title": ""
    }
   },
   "source": [
    "# Membrete\n",
    "\n",
    "<img src=\"https://upload.wikimedia.org/wikipedia/commons/6/6c/Javeriana.svg\" alt=\"Logo Javeriana\" width=\"150\"/>\n",
    "\n",
    "- **Nombre:** Alberto Luis Vigna Arroyo\n",
    "- **Universidad:** Pontificia Universidad Javeriana\n",
    "- **Materia:** Procesamiento de Datos a Gran Escala\n",
    "- **Nombre del Profesor:** John Corredor\n",
    "- **Correo Electrónico:** a-vigna@javeriana.edu.co\n",
    "- **Fecha:** 29 de enero de 2024"
   ]
  },
  {
   "cell_type": "markdown",
   "metadata": {
    "application/vnd.databricks.v1+cell": {
     "cellMetadata": {},
     "inputWidgets": {},
     "nuid": "af01edca-9656-4d27-aaaa-1eea97fa0952",
     "showTitle": false,
     "title": ""
    }
   },
   "source": [
    "<h2>Creación de Cluster en Databricks</h2>"
   ]
  },
  {
   "cell_type": "markdown",
   "metadata": {
    "application/vnd.databricks.v1+cell": {
     "cellMetadata": {},
     "inputWidgets": {},
     "nuid": "ffc84427-8c44-4e8a-b3bc-05a596c1a7b9",
     "showTitle": false,
     "title": ""
    }
   },
   "source": [
    "Para poder ejecutar un programa en Databricks debes tener creado un cluster. Un cluster es un conjunto de máquinas que te serán asignadas para que puedas ejecutar todo lo que construyas. Un cluster puede tener muchas máquinas asignadas, lo cual te permitirá ejecutar más rápido tus programas. No obtante, si estás usando la versión gratuita de comunidad, tu cluster será básico y compartirás recursos con muchas más personas.\n",
    "Para crear tu primer cluster dirígete al menú de la izquierda y haz clic en Create y luego en Clusters. Debes elegir Create Cluster, nómbralo MiCluster y selecciona la última versión de runtime. La creación puede tardar algunos minutos. Para verificar que ya esté correcta, vuelve a hacer clic en crear Clusters, luego en Cancelar y te debe aparecer la lista de clusters.<br>\n",
    "Ahora que está creado el cluster, en la parte superior izquierda de este cuaderno, debes seleccionar MiCluster para que sea usado cada vez que quieras ejecutar tu código."
   ]
  },
  {
   "cell_type": "markdown",
   "metadata": {
    "application/vnd.databricks.v1+cell": {
     "cellMetadata": {},
     "inputWidgets": {},
     "nuid": "671ae45a-5db2-4df9-9f73-509ef39a8256",
     "showTitle": false,
     "title": ""
    }
   },
   "source": [
    "<h2>Python - ¡Escribiendo Tu Primer Código en Python!</h2>"
   ]
  },
  {
   "cell_type": "markdown",
   "metadata": {
    "application/vnd.databricks.v1+cell": {
     "cellMetadata": {},
     "inputWidgets": {},
     "nuid": "c4e47f51-dc4f-4a26-b48e-ce54b185e2c6",
     "showTitle": false,
     "title": ""
    }
   },
   "source": [
    "<p><strong>¡Bienvenido!</strong> Este cuaderno te va a mostrar lo esencial del lenguaje de programación Python. Aunque la información que presentamos aquí es bastante elemental, es una base importante que te ayudará a leer y escribir código Python. Al finalizar este cuaderno habrás aprendido los fundamentos de Python, incluyendo cómo escribir comandos sencillos, comprendiendo algunos tipos básicos y sabiendo cómo realizar operaciones simples sobre ellos.</p>"
   ]
  },
  {
   "cell_type": "markdown",
   "metadata": {
    "application/vnd.databricks.v1+cell": {
     "cellMetadata": {},
     "inputWidgets": {},
     "nuid": "66e61f41-108b-4d60-9f0a-45bc7f82f2fd",
     "showTitle": false,
     "title": ""
    }
   },
   "source": [
    "<h2>Índice de Contenidos</h2>\n",
    "<div class=\"alert alert-block alert-info\" style=\"margin-top: 20px\">\n",
    "    <ul>\n",
    "        <li>\n",
    "            <a href=\"#hello\">Dile \"Hola\" al mundo en Python</a>\n",
    "            <ul>\n",
    "                <li><a href=\"version\">¿Qué versión de Python estamos usando?</a></li>\n",
    "                <li><a href=\"comments\">Escribir comentarios en Python</a></li>\n",
    "                <li><a href=\"errors\">Errores en Python</a></li>\n",
    "                <li><a href=\"python_error\">¿Ve Python tu error antes de ejecutar el código?</a></li>\n",
    "                <li><a href=\"exercise\">Ejercicio: Tu Primer Programa</a></li>\n",
    "            </ul>\n",
    "        </li>\n",
    "        <li>\n",
    "            <a href=\"#types_objects\">Tipos de objetos en Python</a>\n",
    "            <ul>\n",
    "                <li><a href=\"int\">Enteros</a></li>\n",
    "                <li><a href=\"float\">Punto Flotante</a></li>\n",
    "                <li><a href=\"convert\">Convertir de un tipo de objeto a otro tipo de objeto diferente</a></li>\n",
    "                <li><a href=\"bool\">Tipo de dato booleano</a></li>\n",
    "                <li><a href=\"exer_type\">Ejercicio: Tipos</a></li>\n",
    "            </ul>\n",
    "        </li>\n",
    "        <li>\n",
    "            <a href=\"#expressions\">Expresiones y Variables</a>\n",
    "            <ul>\n",
    "                <li><a href=\"exp\">Expresiones</a></li>\n",
    "                <li><a href=\"exer_exp\">Ejercicio: Expresiones</a></li>\n",
    "                <li><a href=\"var\">Variables</a></li>\n",
    "                <li><a href=\"exer_exp_var\">Ejercicio: Expresión y Variables en Python</a></li>\n",
    "            </ul>\n",
    "        </li>\n",
    "    </ul>\n",
    "    <p>\n",
    "        Tiempo estimado requerido: <strong>25 min</strong>\n",
    "    </p>\n",
    "</div>\n",
    "\n",
    "<hr>"
   ]
  },
  {
   "cell_type": "markdown",
   "metadata": {
    "application/vnd.databricks.v1+cell": {
     "cellMetadata": {},
     "inputWidgets": {},
     "nuid": "d7fff63f-f502-4b41-9f03-e1519e7f7303",
     "showTitle": false,
     "title": ""
    }
   },
   "source": [
    "<h2 id=\"hello\">Dile \"Hola\" al mundo en Python</h2>"
   ]
  },
  {
   "cell_type": "markdown",
   "metadata": {
    "application/vnd.databricks.v1+cell": {
     "cellMetadata": {},
     "inputWidgets": {},
     "nuid": "c08b2574-a619-4b7e-ae70-a688f8396d13",
     "showTitle": false,
     "title": ""
    }
   },
   "source": [
    "Cuando se aprende un nuevo lenguaje de programación, se acostumbra a empezar con un ejemplo de \"hola mundo\". A pesar de lo simple que es, esta línea de código asegurará que sepamos cómo escribir una cadena de texto en la salida y cómo ejecutar el código de las celdas de un cuaderno."
   ]
  },
  {
   "cell_type": "markdown",
   "metadata": {
    "application/vnd.databricks.v1+cell": {
     "cellMetadata": {},
     "inputWidgets": {},
     "nuid": "f9044d44-0d6c-488d-ba97-67618a6fa0b8",
     "showTitle": false,
     "title": ""
    }
   },
   "source": [
    "<hr/>\n",
    "<div class=\"alert alert-success alertsuccess\" style=\"margin-top: 20px\">\n",
    "[Idea]: Para ejecutar el código Python de la celda de código de debajo, haz clic en la celda para seleccionarla y pulsa <kbd>Mayúsculas</kbd> + <kbd>Enter</kbd>.\n",
    "</div>\n",
    "<hr/>"
   ]
  },
  {
   "cell_type": "code",
   "execution_count": 0,
   "metadata": {
    "application/vnd.databricks.v1+cell": {
     "cellMetadata": {
      "byteLimit": 2048000,
      "rowLimit": 10000
     },
     "inputWidgets": {},
     "nuid": "7282fc23-ed6a-4c6b-8d06-482abd0f7cd6",
     "showTitle": false,
     "title": ""
    }
   },
   "outputs": [
    {
     "output_type": "stream",
     "name": "stdout",
     "output_type": "stream",
     "text": [
      "¡Hola Python!\n"
     ]
    }
   ],
   "source": [
    "# Intenta tu primer mensaje en Python\n",
    "\n",
    "print('¡Hola Python!')"
   ]
  },
  {
   "cell_type": "markdown",
   "metadata": {
    "application/vnd.databricks.v1+cell": {
     "cellMetadata": {},
     "inputWidgets": {},
     "nuid": "30be925d-c6dd-414f-80f9-0656bd408802",
     "showTitle": false,
     "title": ""
    }
   },
   "source": [
    "Tras ejecutar la celda de arriba, deberías ver que Python imprime <code>¡Hola Python!</code>. ¡Enhorabuena por ejecutar tu primer código en Python!"
   ]
  },
  {
   "cell_type": "markdown",
   "metadata": {
    "application/vnd.databricks.v1+cell": {
     "cellMetadata": {},
     "inputWidgets": {},
     "nuid": "f414cf34-cea2-4ad4-85b7-3b74a3346ead",
     "showTitle": false,
     "title": ""
    }
   },
   "source": [
    "<hr/>\n",
    "<div class=\"alert alert-success alertsuccess\" style=\"margin-top: 20px\">\n",
    "    [Idea:] <code>print()</code> es una función. Pasaste la cadena <code>'¡Hola Python!'</code> como argumento para indicar a Python lo que debía imprimir.\n",
    "</div>\n",
    "<hr/>"
   ]
  },
  {
   "cell_type": "markdown",
   "metadata": {
    "application/vnd.databricks.v1+cell": {
     "cellMetadata": {},
     "inputWidgets": {},
     "nuid": "27bedaeb-0536-40e9-bfb9-367cc58539bb",
     "showTitle": false,
     "title": ""
    }
   },
   "source": [
    "<h3 id=\"version\">¿Qué versión de Python estamos utilizando?</h3>"
   ]
  },
  {
   "cell_type": "markdown",
   "metadata": {
    "application/vnd.databricks.v1+cell": {
     "cellMetadata": {},
     "inputWidgets": {},
     "nuid": "ccc8d40a-1856-4ff0-ae04-8fef1b605000",
     "showTitle": false,
     "title": ""
    }
   },
   "source": [
    "<p>\n",
    "    Hoy en día existen dos versiones comunes en uso del lenguaje de programación Python: Python 2 y Python 3. La comunidad de Python ha decidido pasar de Python 2 a Python 3, y muchas bibliotecas populares han anunciado que ya no ofrecerán soporte para Python 2.\n",
    "</p>\n",
    "<p>\n",
    "    Como Python 3 es el futuro, en este curso lo vamos a utilizar de forma exclusiva. ¿Cómo sabemos que nuestro cuaderno se ejecuta bajo un tiempo de ejecución (runtime) de Python 3? Podemos mirar en la esquina superior derecha de este cuaderno y ver \"Python 3\".\n",
    "</p>\n",
    "<p>\n",
    "    También podemos preguntar directamente a Python y obtener una respuesta detallada. Intenta ejecutar el siguiente código:\n",
    "</p>"
   ]
  },
  {
   "cell_type": "code",
   "execution_count": 0,
   "metadata": {
    "application/vnd.databricks.v1+cell": {
     "cellMetadata": {
      "byteLimit": 2048000,
      "rowLimit": 10000
     },
     "inputWidgets": {},
     "nuid": "c83c387d-683c-4c81-b4c9-9bf1b09da22b",
     "showTitle": false,
     "title": ""
    }
   },
   "outputs": [
    {
     "output_type": "stream",
     "name": "stdout",
     "output_type": "stream",
     "text": [
      "3.10.12 (main, Nov 20 2023, 15:14:05) [GCC 11.4.0]\n"
     ]
    }
   ],
   "source": [
    "# Comprobar la Versión de Python\n",
    "\n",
    "import sys\n",
    "print(sys.version)"
   ]
  },
  {
   "cell_type": "markdown",
   "metadata": {
    "application/vnd.databricks.v1+cell": {
     "cellMetadata": {},
     "inputWidgets": {},
     "nuid": "ce0dbff6-c61d-432b-9afc-cc59bc508acc",
     "showTitle": false,
     "title": ""
    }
   },
   "source": [
    "<hr/>\n",
    "<div class=\"alert alert-success alertsuccess\" style=\"margin-top: 20px\">\n",
    "    [Idea:] <code>sys</code> es un módulo integrado que contiene muchos parámetros y funciones específicas del sistema, incluyendo la versión de Python en uso. Antes de utilizarlo, debemos importarlo (<code>import</code>) explícitamente.\n",
    "</div>\n",
    "<hr/>"
   ]
  },
  {
   "cell_type": "markdown",
   "metadata": {
    "application/vnd.databricks.v1+cell": {
     "cellMetadata": {},
     "inputWidgets": {},
     "nuid": "1ead76c9-ae4f-4d9c-859f-9a06063af43f",
     "showTitle": false,
     "title": ""
    }
   },
   "source": [
    "<h3 id=\"comments\">Escribir comentarios en Python</h3>"
   ]
  },
  {
   "cell_type": "markdown",
   "metadata": {
    "application/vnd.databricks.v1+cell": {
     "cellMetadata": {},
     "inputWidgets": {},
     "nuid": "b140c5ba-80bf-40c9-b60e-40bef37469db",
     "showTitle": false,
     "title": ""
    }
   },
   "source": [
    "<p>\n",
    "    Además de escribir código, ten en cuenta que siempre es una buena idea incluir comentarios en el. Ayudará a que los demás entiendan lo que intentabas lograr (la razón por la que escribiste un determinado fragmento de código). Esto no sólo sirve para que <strong>otras personas</strong> entiendan tu código, sino que también puede servir de recordatorio <strong>para ti</strong> cuando vuelvas a él semanas o meses después.</p>\n",
    "\n",
    "<p>\n",
    "    Para escribir comentarios en Python, usa el símbolo de almohadilla <code>#</code> antes de escribir el comentario. Cuando ejecutes el código, Python ignorará todo lo que vaya detrás de <code>#</code> en una determinada línea.\n",
    "</p>"
   ]
  },
  {
   "cell_type": "code",
   "execution_count": 0,
   "metadata": {
    "application/vnd.databricks.v1+cell": {
     "cellMetadata": {
      "byteLimit": 2048000,
      "rowLimit": 10000
     },
     "inputWidgets": {},
     "nuid": "90af98da-c2ec-45a1-89b4-5fd34f1df97e",
     "showTitle": false,
     "title": ""
    }
   },
   "outputs": [
    {
     "output_type": "stream",
     "name": "stdout",
     "output_type": "stream",
     "text": [
      "¡Hola Python!\n"
     ]
    }
   ],
   "source": [
    "# Práctica de escritura de comentarios\n",
    "\n",
    "print('¡Hola Python!') # Esta línea imprime una cadena de texto\n",
    "# print('Hola')"
   ]
  },
  {
   "cell_type": "markdown",
   "metadata": {
    "application/vnd.databricks.v1+cell": {
     "cellMetadata": {},
     "inputWidgets": {},
     "nuid": "e7e3d76a-0b38-482f-bbc0-e3c888130706",
     "showTitle": false,
     "title": ""
    }
   },
   "source": [
    "<p>\n",
    "    Tras ejecutar la celda de arriba, deberías observar que <code>Esta línea imprime una cadena de texto</code> no apareció en el resultado, porque era un comentario (y por lo tanto, ignorado por Python).\n",
    "</p>\n",
    "<p>\n",
    "    La segunda línea tampoco se ejecutó porque <code>print('Hola')</code> ¡también estaba precedida por el símbolo de almohadilla (<code>#</code>)! Como esto no es un comentario aclaratorio del programador, sino una línea de código real, podríamos decir que el programador <em>comentó</em> esa segunda línea de código.\n",
    "</p>"
   ]
  },
  {
   "cell_type": "markdown",
   "metadata": {
    "application/vnd.databricks.v1+cell": {
     "cellMetadata": {},
     "inputWidgets": {},
     "nuid": "4ccb325d-e662-4a65-bd80-64170df9f733",
     "showTitle": false,
     "title": ""
    }
   },
   "source": [
    "<h3 id=\"errors\">Errores en Python</h3>"
   ]
  },
  {
   "cell_type": "markdown",
   "metadata": {
    "application/vnd.databricks.v1+cell": {
     "cellMetadata": {},
     "inputWidgets": {},
     "nuid": "9c9024bf-2ad6-40aa-82d6-9989d53c445f",
     "showTitle": false,
     "title": ""
    }
   },
   "source": [
    "<p>Todo el mundo comete errores. Para muchos tipos de errores, Python te dirá que has cometido una equivocación dándote un mensaje de error. Es importante leer los mensajes de error con cuidado para entender realmente dónde has cometido el error y cómo puedes corregirlo.</p>\n",
    "<p>Por ejemplo, si escribes <code>print</code> como <code>frint</code>, Python mostrará un mensaje de error. Pruébalo:</p>"
   ]
  },
  {
   "cell_type": "code",
   "execution_count": 0,
   "metadata": {
    "application/vnd.databricks.v1+cell": {
     "cellMetadata": {
      "byteLimit": 2048000,
      "rowLimit": 10000
     },
     "inputWidgets": {},
     "nuid": "3f662b88-bef7-43b3-8833-93edd6277e0f",
     "showTitle": false,
     "title": ""
    }
   },
   "outputs": [],
   "source": [
    "x=4"
   ]
  },
  {
   "cell_type": "code",
   "execution_count": 0,
   "metadata": {
    "application/vnd.databricks.v1+cell": {
     "cellMetadata": {
      "byteLimit": 2048000,
      "rowLimit": 10000
     },
     "inputWidgets": {},
     "nuid": "03671b83-cdc5-46a0-a71d-a365c82b7a09",
     "showTitle": false,
     "title": ""
    }
   },
   "outputs": [
    {
     "output_type": "display_data",
     "data": {
      "text/plain": [
       "\u001B[0;31m---------------------------------------------------------------------------\u001B[0m\n",
       "\u001B[0;31mNameError\u001B[0m                                 Traceback (most recent call last)\n",
       "File \u001B[0;32m<command-471493590521656>, line 3\u001B[0m\n",
       "\u001B[1;32m      1\u001B[0m \u001B[38;5;66;03m# Imprimir cadena como mensaje de error\u001B[39;00m\n",
       "\u001B[0;32m----> 3\u001B[0m \u001B[43mfrint\u001B[49m(\u001B[38;5;124m\"\u001B[39m\u001B[38;5;124m¡Hola Python!\u001B[39m\u001B[38;5;124m\"\u001B[39m)\n",
       "\n",
       "\u001B[0;31mNameError\u001B[0m: name 'frint' is not defined"
      ]
     },
     "metadata": {
      "application/vnd.databricks.v1+output": {
       "arguments": {},
       "data": "\u001B[0;31m---------------------------------------------------------------------------\u001B[0m\n\u001B[0;31mNameError\u001B[0m                                 Traceback (most recent call last)\nFile \u001B[0;32m<command-471493590521656>, line 3\u001B[0m\n\u001B[1;32m      1\u001B[0m \u001B[38;5;66;03m# Imprimir cadena como mensaje de error\u001B[39;00m\n\u001B[0;32m----> 3\u001B[0m \u001B[43mfrint\u001B[49m(\u001B[38;5;124m\"\u001B[39m\u001B[38;5;124m¡Hola Python!\u001B[39m\u001B[38;5;124m\"\u001B[39m)\n\n\u001B[0;31mNameError\u001B[0m: name 'frint' is not defined",
       "errorSummary": "<span class='ansi-red-fg'>NameError</span>: name 'frint' is not defined",
       "errorTraceType": "ansi",
       "metadata": {},
       "type": "ipynbError"
      }
     },
     "output_type": "display_data"
    }
   ],
   "source": [
    "# Imprimir cadena como mensaje de error\n",
    "\n",
    "frint(\"¡Hola Python!\")"
   ]
  },
  {
   "cell_type": "markdown",
   "metadata": {
    "application/vnd.databricks.v1+cell": {
     "cellMetadata": {},
     "inputWidgets": {},
     "nuid": "88697d31-7613-4fa4-82de-ff8605c26da9",
     "showTitle": false,
     "title": ""
    }
   },
   "source": [
    "<p>El mensaje de error te dice: \n",
    "<ol>\n",
    "    <li>dónde se produjo el error (más útil en celdas de cuadernos o scripts de gran tamaño), y</li> \n",
    "    <li>qué tipo de error era (NameError)</li> \n",
    "</ol>\n",
    "<p>Aquí, Python intentó ejecutar la función <code>frint</code>, pero no pudo determinar qué es <code>frint</code> ya que no es una función integrada y tampoco la hemos definido previamente nosotros.</p>"
   ]
  },
  {
   "cell_type": "markdown",
   "metadata": {
    "application/vnd.databricks.v1+cell": {
     "cellMetadata": {},
     "inputWidgets": {},
     "nuid": "2651aa9d-86e4-4f9a-bb77-f728a2ee1af6",
     "showTitle": false,
     "title": ""
    }
   },
   "source": [
    "<p>\n",
    "    Observarás que si cometemos un tipo de error diferente, olvidándonos de cerrar la cadena, obtendremos un error diferente (es decir, un <code>SyntaxError</code> (Error de Sintaxis)). Pruébalo aquí debajo:\n",
    "</p>"
   ]
  },
  {
   "cell_type": "code",
   "execution_count": 0,
   "metadata": {
    "application/vnd.databricks.v1+cell": {
     "cellMetadata": {
      "byteLimit": 2048000,
      "rowLimit": 10000
     },
     "inputWidgets": {},
     "nuid": "29be85ad-d459-48ed-8b6b-cebe92d36328",
     "showTitle": false,
     "title": ""
    }
   },
   "outputs": [
    {
     "output_type": "display_data",
     "data": {
      "text/plain": [
       "\u001B[0;36m  File \u001B[0;32m<command-471493590521659>, line 3\u001B[0;36m\u001B[0m\n",
       "\u001B[0;31m    print(\"¡Hola Python!)\u001B[0m\n",
       "\u001B[0m          ^\u001B[0m\n",
       "\u001B[0;31mSyntaxError\u001B[0m\u001B[0;31m:\u001B[0m unterminated string literal (detected at line 3)\n"
      ]
     },
     "metadata": {
      "application/vnd.databricks.v1+output": {
       "arguments": {},
       "data": "\u001B[0;36m  File \u001B[0;32m<command-471493590521659>, line 3\u001B[0;36m\u001B[0m\n\u001B[0;31m    print(\"¡Hola Python!)\u001B[0m\n\u001B[0m          ^\u001B[0m\n\u001B[0;31mSyntaxError\u001B[0m\u001B[0;31m:\u001B[0m unterminated string literal (detected at line 3)\n",
       "errorSummary": "<span class='ansi-red-fg'>SyntaxError</span>: unterminated string literal (detected at line 3) (command-471493590521659-1786335092, line 3)",
       "errorTraceType": "ansi",
       "metadata": {},
       "type": "ipynbError"
      }
     },
     "output_type": "display_data"
    }
   ],
   "source": [
    "# Prueba a ver el mensaje de error\n",
    "\n",
    "print(\"¡Hola Python!)"
   ]
  },
  {
   "cell_type": "markdown",
   "metadata": {
    "application/vnd.databricks.v1+cell": {
     "cellMetadata": {},
     "inputWidgets": {},
     "nuid": "d4249327-6a9d-4f21-af38-a7b5985ef3f6",
     "showTitle": false,
     "title": ""
    }
   },
   "source": [
    "<h3 id=\"python_error\">¿Ve Python tu error antes de ejecutar el código?</h3>"
   ]
  },
  {
   "cell_type": "markdown",
   "metadata": {
    "application/vnd.databricks.v1+cell": {
     "cellMetadata": {},
     "inputWidgets": {},
     "nuid": "26ad6158-ed18-46a5-a74b-30fa05b84b9a",
     "showTitle": false,
     "title": ""
    }
   },
   "source": [
    "Python es lo que se llama un <em>lenguaje interpretado</em>. Los lenguajes compilados examinan todo el programa en tiempo de compilación, y son capaces de advertirte sobre todo un conjunto de errores antes de la ejecución. Por contra, Python interpreta el script línea por línea mientras lo ejecuta. Python dejará de ejecutar el programa entero en cuanto encuentre un error (a menos que el error sea esperado y lo gestione el programador, un tema más avanzado que cubriremos más adelante en este curso)."
   ]
  },
  {
   "cell_type": "markdown",
   "metadata": {
    "application/vnd.databricks.v1+cell": {
     "cellMetadata": {},
     "inputWidgets": {},
     "nuid": "285044cd-f7b1-4d79-8259-e8a76a40d709",
     "showTitle": false,
     "title": ""
    }
   },
   "source": [
    "Prueba a ejecutar el código de la celda de debajo y mira lo que pasa:"
   ]
  },
  {
   "cell_type": "code",
   "execution_count": 0,
   "metadata": {
    "application/vnd.databricks.v1+cell": {
     "cellMetadata": {
      "byteLimit": 2048000,
      "rowLimit": 10000
     },
     "inputWidgets": {},
     "nuid": "e9cf5f8d-3480-466b-9101-e1f326b54d64",
     "showTitle": false,
     "title": ""
    }
   },
   "outputs": [
    {
     "output_type": "stream",
     "name": "stdout",
     "output_type": "stream",
     "text": [
      "Esto se imprimirá\n"
     ]
    },
    {
     "output_type": "display_data",
     "data": {
      "text/plain": [
       "\u001B[0;31m---------------------------------------------------------------------------\u001B[0m\n",
       "\u001B[0;31mNameError\u001B[0m                                 Traceback (most recent call last)\n",
       "File \u001B[0;32m<command-471493590521663>, line 4\u001B[0m\n",
       "\u001B[1;32m      1\u001B[0m \u001B[38;5;66;03m# Impresión de cadena y error para ver el orden de ejecución\u001B[39;00m\n",
       "\u001B[1;32m      3\u001B[0m \u001B[38;5;28mprint\u001B[39m(\u001B[38;5;124m\"\u001B[39m\u001B[38;5;124mEsto se imprimirá\u001B[39m\u001B[38;5;124m\"\u001B[39m)\n",
       "\u001B[0;32m----> 4\u001B[0m frint(\u001B[38;5;124m\"\u001B[39m\u001B[38;5;124mEsto provocará un error\u001B[39m\u001B[38;5;124m\"\u001B[39m)\n",
       "\u001B[1;32m      5\u001B[0m \u001B[38;5;28mprint\u001B[39m(\u001B[38;5;124m\"\u001B[39m\u001B[38;5;124mEsto NO se imprimirá\u001B[39m\u001B[38;5;124m\"\u001B[39m)\n",
       "\n",
       "\u001B[0;31mNameError\u001B[0m: name 'frint' is not defined"
      ]
     },
     "metadata": {
      "application/vnd.databricks.v1+output": {
       "arguments": {},
       "data": "\u001B[0;31m---------------------------------------------------------------------------\u001B[0m\n\u001B[0;31mNameError\u001B[0m                                 Traceback (most recent call last)\nFile \u001B[0;32m<command-471493590521663>, line 4\u001B[0m\n\u001B[1;32m      1\u001B[0m \u001B[38;5;66;03m# Impresión de cadena y error para ver el orden de ejecución\u001B[39;00m\n\u001B[1;32m      3\u001B[0m \u001B[38;5;28mprint\u001B[39m(\u001B[38;5;124m\"\u001B[39m\u001B[38;5;124mEsto se imprimirá\u001B[39m\u001B[38;5;124m\"\u001B[39m)\n\u001B[0;32m----> 4\u001B[0m frint(\u001B[38;5;124m\"\u001B[39m\u001B[38;5;124mEsto provocará un error\u001B[39m\u001B[38;5;124m\"\u001B[39m)\n\u001B[1;32m      5\u001B[0m \u001B[38;5;28mprint\u001B[39m(\u001B[38;5;124m\"\u001B[39m\u001B[38;5;124mEsto NO se imprimirá\u001B[39m\u001B[38;5;124m\"\u001B[39m)\n\n\u001B[0;31mNameError\u001B[0m: name 'frint' is not defined",
       "errorSummary": "<span class='ansi-red-fg'>NameError</span>: name 'frint' is not defined",
       "errorTraceType": "ansi",
       "metadata": {},
       "type": "ipynbError"
      }
     },
     "output_type": "display_data"
    }
   ],
   "source": [
    "# Impresión de cadena y error para ver el orden de ejecución\n",
    "\n",
    "print(\"Esto se imprimirá\")\n",
    "frint(\"Esto provocará un error\")\n",
    "print(\"Esto NO se imprimirá\")"
   ]
  },
  {
   "cell_type": "markdown",
   "metadata": {
    "application/vnd.databricks.v1+cell": {
     "cellMetadata": {},
     "inputWidgets": {},
     "nuid": "5a74b872-1bc3-453e-b78f-33590e0baff8",
     "showTitle": false,
     "title": ""
    }
   },
   "source": [
    "<h3 id=\"exercise\">Ejercicio: Tu Primer Programa</h3>"
   ]
  },
  {
   "cell_type": "markdown",
   "metadata": {
    "application/vnd.databricks.v1+cell": {
     "cellMetadata": {},
     "inputWidgets": {},
     "nuid": "8bc6ba35-96aa-47fd-a927-f2f6622dc267",
     "showTitle": false,
     "title": ""
    }
   },
   "source": [
    "<p>Generaciones de programadores han comenzado sus carreras en la programación simplemente imprimiendo \"¡Hola mundo!\". Tú también seguirás sus pasos.</p>\n",
    "<p>En la celda de código de debajo, usa la función <code>print()</code> para imprimir la frase: <code>¡Hola mundo!</code></p>"
   ]
  },
  {
   "cell_type": "code",
   "execution_count": 0,
   "metadata": {
    "application/vnd.databricks.v1+cell": {
     "cellMetadata": {
      "byteLimit": 2048000,
      "rowLimit": 10000
     },
     "inputWidgets": {},
     "nuid": "312c4b5c-a278-4db8-b7fd-934f465cee88",
     "showTitle": false,
     "title": ""
    }
   },
   "outputs": [
    {
     "output_type": "stream",
     "name": "stdout",
     "output_type": "stream",
     "text": [
      "¡Hola Mundo!\n"
     ]
    }
   ],
   "source": [
    "# Escribe tu código a continuación y presiona Mayúsculas+Intro para ejecutar\n",
    "\n",
    "print(\"¡Hola Mundo!\")"
   ]
  },
  {
   "cell_type": "markdown",
   "metadata": {
    "application/vnd.databricks.v1+cell": {
     "cellMetadata": {},
     "inputWidgets": {},
     "nuid": "e5f526a5-3556-4769-9be8-6b361bb1d408",
     "showTitle": false,
     "title": ""
    }
   },
   "source": [
    "Haz doble clic en __aquí__ para ver la solución.\n",
    "\n",
    "<!-- Tu respuesta está a continuación:\n",
    "\n",
    "print(\"¡Hola mundo!\")\n",
    "\n",
    "-->"
   ]
  },
  {
   "cell_type": "markdown",
   "metadata": {
    "application/vnd.databricks.v1+cell": {
     "cellMetadata": {},
     "inputWidgets": {},
     "nuid": "3a5b355b-b6a2-4949-a642-72a49ec6d44b",
     "showTitle": false,
     "title": ""
    }
   },
   "source": [
    "<p>Ahora, vamos a mejorar el código con un comentario. En la celda de código de debajo, imprime la frase: <code>¡Hola mundo!</code> y coméntala con la frase <code>Imprime el tradicional hola mundo</code> todo en una línea de código.</p>"
   ]
  },
  {
   "cell_type": "code",
   "execution_count": 0,
   "metadata": {
    "application/vnd.databricks.v1+cell": {
     "cellMetadata": {
      "byteLimit": 2048000,
      "rowLimit": 10000
     },
     "inputWidgets": {},
     "nuid": "e5478e4c-b4eb-46b2-a6ab-8df342a0559e",
     "showTitle": false,
     "title": ""
    }
   },
   "outputs": [
    {
     "output_type": "stream",
     "name": "stdout",
     "output_type": "stream",
     "text": [
      "¡Hola Mundo!\n"
     ]
    }
   ],
   "source": [
    "# Escribe tu código a continuación y presiona Mayúsculas+Intro para ejecutar\n",
    "#Imprime tradicional hola mundo\n",
    "\n",
    "print(\"¡Hola Mundo!\") # Imprime el tradicional hola mundo."
   ]
  },
  {
   "cell_type": "markdown",
   "metadata": {
    "application/vnd.databricks.v1+cell": {
     "cellMetadata": {},
     "inputWidgets": {},
     "nuid": "fb33320e-3c21-40f3-a921-3e5275e8f8fd",
     "showTitle": false,
     "title": ""
    }
   },
   "source": [
    "Haz doble clic en __aquí__ para ver la solución.\n",
    "\n",
    "<!-- Tu respuesta está a continuación:\n",
    "\n",
    "print(\"¡Hola mundo!\") # Imprime el tradicional hola mundo\n",
    "\n",
    "-->"
   ]
  },
  {
   "cell_type": "markdown",
   "metadata": {
    "application/vnd.databricks.v1+cell": {
     "cellMetadata": {},
     "inputWidgets": {},
     "nuid": "564522db-1268-4fc0-b952-04ffab901c30",
     "showTitle": false,
     "title": ""
    }
   },
   "source": [
    "<h2 id=\"types_objects\" align=\"center\">Tipos de objetos en Python</h2>"
   ]
  },
  {
   "cell_type": "markdown",
   "metadata": {
    "application/vnd.databricks.v1+cell": {
     "cellMetadata": {},
     "inputWidgets": {},
     "nuid": "ef7483e3-c683-4e85-968c-5728e3053985",
     "showTitle": false,
     "title": ""
    }
   },
   "source": [
    "<p>Python es un lenguaje orientado a objetos. Hay muchos tipos diferentes de objetos en Python. Comencemos con los tipos de objetos más comunes: <i>cadenas</i>, <i>enteros</i> y <i>punto flotante</i>. Cada vez que escribes palabras (texto) en Python, estás usando <i>cadenas de caracteres</i> (cadenas para abreviar). Los números más comunes, por otra parte, son los <i>enteros</i> (por ejemplo -1, 0, 100) y los de <i>punto flotante</i>, que representan números reales (por ejemplo 3.14, -42.0).</p>"
   ]
  },
  {
   "cell_type": "markdown",
   "metadata": {
    "application/vnd.databricks.v1+cell": {
     "cellMetadata": {},
     "inputWidgets": {},
     "nuid": "ba53fd1e-7ace-4c60-adac-26beb43abe6b",
     "showTitle": false,
     "title": ""
    }
   },
   "source": [
    "<a align=\"center\">\n",
    "    <img src=\"https://s3-api.us-geo.objectstorage.softlayer.net/cf-courses-data/CognitiveClass/PY0101EN/Chapter%201/Images/TypesObjects.png\" width=\"600\">\n",
    "</a>"
   ]
  },
  {
   "cell_type": "markdown",
   "metadata": {
    "application/vnd.databricks.v1+cell": {
     "cellMetadata": {},
     "inputWidgets": {},
     "nuid": "60371100-7707-4f2d-b1f5-374fe4b89a11",
     "showTitle": false,
     "title": ""
    }
   },
   "source": [
    "<p>Las siguientes celdas de código presentan algunos ejemplos.</p>"
   ]
  },
  {
   "cell_type": "code",
   "execution_count": 0,
   "metadata": {
    "application/vnd.databricks.v1+cell": {
     "cellMetadata": {
      "byteLimit": 2048000,
      "rowLimit": 10000
     },
     "inputWidgets": {},
     "nuid": "65608d99-02a5-4b90-9aeb-3a4d33d9c5f5",
     "showTitle": false,
     "title": ""
    }
   },
   "outputs": [
    {
     "output_type": "execute_result",
     "data": {
      "text/plain": [
       "11"
      ]
     },
     "execution_count": 19,
     "metadata": {},
     "output_type": "execute_result"
    }
   ],
   "source": [
    "# Entero\n",
    "\n",
    "11"
   ]
  },
  {
   "cell_type": "code",
   "execution_count": 0,
   "metadata": {
    "application/vnd.databricks.v1+cell": {
     "cellMetadata": {
      "byteLimit": 2048000,
      "rowLimit": 10000
     },
     "inputWidgets": {},
     "nuid": "0e044cce-0d69-4696-9923-2717f788064f",
     "showTitle": false,
     "title": ""
    }
   },
   "outputs": [
    {
     "output_type": "execute_result",
     "data": {
      "text/plain": [
       "2.14"
      ]
     },
     "execution_count": 20,
     "metadata": {},
     "output_type": "execute_result"
    }
   ],
   "source": [
    "# Punto flotante\n",
    "\n",
    "2.14"
   ]
  },
  {
   "cell_type": "code",
   "execution_count": 0,
   "metadata": {
    "application/vnd.databricks.v1+cell": {
     "cellMetadata": {
      "byteLimit": 2048000,
      "rowLimit": 10000
     },
     "inputWidgets": {},
     "nuid": "ff286445-9250-4f70-9f14-1f24108ced36",
     "showTitle": false,
     "title": ""
    }
   },
   "outputs": [
    {
     "output_type": "execute_result",
     "data": {
      "text/plain": [
       "'¡Hola, Python 101!'"
      ]
     },
     "execution_count": 21,
     "metadata": {},
     "output_type": "execute_result"
    }
   ],
   "source": [
    "# Cadena\n",
    "\n",
    "\"¡Hola, Python 101!\""
   ]
  },
  {
   "cell_type": "markdown",
   "metadata": {
    "application/vnd.databricks.v1+cell": {
     "cellMetadata": {},
     "inputWidgets": {},
     "nuid": "0e39607f-6ca3-42ca-a9c6-f193ed98b5c8",
     "showTitle": false,
     "title": ""
    }
   },
   "source": [
    "<p>Puedes hacer que Python te diga el tipo de una expresión mediante la función integrada <code>type()</code>. Observarás que Python se refiere a los enteros como <code>int</code>, a los números de punto flotante como <code>float</code>, y a las cadenas de caracteres como <code>str</code>.</p>"
   ]
  },
  {
   "cell_type": "code",
   "execution_count": 0,
   "metadata": {
    "application/vnd.databricks.v1+cell": {
     "cellMetadata": {
      "byteLimit": 2048000,
      "rowLimit": 10000
     },
     "inputWidgets": {},
     "nuid": "c3dc954e-5f58-4e67-8194-3970e4d13f12",
     "showTitle": false,
     "title": ""
    }
   },
   "outputs": [
    {
     "output_type": "execute_result",
     "data": {
      "text/plain": [
       "int"
      ]
     },
     "execution_count": 22,
     "metadata": {},
     "output_type": "execute_result"
    }
   ],
   "source": [
    "# Tipo de 12\n",
    "\n",
    "type(12)"
   ]
  },
  {
   "cell_type": "code",
   "execution_count": 0,
   "metadata": {
    "application/vnd.databricks.v1+cell": {
     "cellMetadata": {
      "byteLimit": 2048000,
      "rowLimit": 10000
     },
     "inputWidgets": {},
     "nuid": "02feead7-a6c4-47c4-9ccd-848dc0d43d28",
     "showTitle": false,
     "title": ""
    }
   },
   "outputs": [
    {
     "output_type": "execute_result",
     "data": {
      "text/plain": [
       "float"
      ]
     },
     "execution_count": 23,
     "metadata": {},
     "output_type": "execute_result"
    }
   ],
   "source": [
    "# Tipo de 2.14\n",
    "\n",
    "type(2.14)"
   ]
  },
  {
   "cell_type": "code",
   "execution_count": 0,
   "metadata": {
    "application/vnd.databricks.v1+cell": {
     "cellMetadata": {
      "byteLimit": 2048000,
      "rowLimit": 10000
     },
     "inputWidgets": {},
     "nuid": "4e082122-38df-42e7-9a4c-4342449c7389",
     "showTitle": false,
     "title": ""
    }
   },
   "outputs": [
    {
     "output_type": "execute_result",
     "data": {
      "text/plain": [
       "str"
      ]
     },
     "execution_count": 24,
     "metadata": {},
     "output_type": "execute_result"
    }
   ],
   "source": [
    "# Tipo de \"¡Hola, Python 101!\"\n",
    "\n",
    "type(\"¡Hola, Python 101!\")"
   ]
  },
  {
   "cell_type": "markdown",
   "metadata": {
    "application/vnd.databricks.v1+cell": {
     "cellMetadata": {},
     "inputWidgets": {},
     "nuid": "0408ccaa-f1e9-4b2b-9d45-d4b3609a36a4",
     "showTitle": false,
     "title": ""
    }
   },
   "source": [
    "<p>En la celda de código de debajo, utiliza la función <code>type()</code> para comprobar el tipo de objeto de <code>12.0</code>."
   ]
  },
  {
   "cell_type": "code",
   "execution_count": 0,
   "metadata": {
    "application/vnd.databricks.v1+cell": {
     "cellMetadata": {
      "byteLimit": 2048000,
      "rowLimit": 10000
     },
     "inputWidgets": {},
     "nuid": "b74d3918-b8ac-4217-8453-eda21fde8e51",
     "showTitle": false,
     "title": ""
    }
   },
   "outputs": [
    {
     "output_type": "execute_result",
     "data": {
      "text/plain": [
       "float"
      ]
     },
     "execution_count": 25,
     "metadata": {},
     "output_type": "execute_result"
    }
   ],
   "source": [
    "# Introduce el código a continuación. No te olvides de pulsar Mayúsculas+Intro para ejecutar la celda\n",
    "\n",
    "type(12.0)"
   ]
  },
  {
   "cell_type": "markdown",
   "metadata": {
    "application/vnd.databricks.v1+cell": {
     "cellMetadata": {},
     "inputWidgets": {},
     "nuid": "6e9b026a-8b29-449c-91ed-76580179bcac",
     "showTitle": false,
     "title": ""
    }
   },
   "source": [
    "Haz doble clic en __aquí__ para ver la solución.\n",
    "\n",
    "<!-- Tu respuesta está a continuación:\n",
    "\n",
    "type(12.0)\n",
    "\n",
    "-->"
   ]
  },
  {
   "cell_type": "markdown",
   "metadata": {
    "application/vnd.databricks.v1+cell": {
     "cellMetadata": {},
     "inputWidgets": {},
     "nuid": "dd460cd2-5aa7-46f9-a8b9-8522081d26b2",
     "showTitle": false,
     "title": ""
    }
   },
   "source": [
    "<h3 id=\"int\">Enteros</h3>"
   ]
  },
  {
   "cell_type": "markdown",
   "metadata": {
    "application/vnd.databricks.v1+cell": {
     "cellMetadata": {},
     "inputWidgets": {},
     "nuid": "5fa009fc-7282-4731-938e-25143de24983",
     "showTitle": false,
     "title": ""
    }
   },
   "source": [
    "<p>Aquí hay algunos ejemplos de números enteros. Los números enteros pueden ser números negativos o positivos:</p>"
   ]
  },
  {
   "cell_type": "markdown",
   "metadata": {
    "application/vnd.databricks.v1+cell": {
     "cellMetadata": {},
     "inputWidgets": {},
     "nuid": "6df2594b-b31d-4154-b9c1-b4aac21d2182",
     "showTitle": false,
     "title": ""
    }
   },
   "source": [
    "<a align=\"center\">\n",
    "    <img src=\"https://s3-api.us-geo.objectstorage.softlayer.net/cf-courses-data/CognitiveClass/PY0101EN/Chapter%201/Images/TypesInt.png\" width=\"600\">\n",
    "</a>"
   ]
  },
  {
   "cell_type": "markdown",
   "metadata": {
    "application/vnd.databricks.v1+cell": {
     "cellMetadata": {},
     "inputWidgets": {},
     "nuid": "e82d4d69-09fc-423a-b1b0-c44468fbbefc",
     "showTitle": false,
     "title": ""
    }
   },
   "source": [
    "<p>Podemos verificar que este es el caso mediante el uso, lo has adivinado, de la función <code>type()</code>:"
   ]
  },
  {
   "cell_type": "code",
   "execution_count": 0,
   "metadata": {
    "application/vnd.databricks.v1+cell": {
     "cellMetadata": {
      "byteLimit": 2048000,
      "rowLimit": 10000
     },
     "inputWidgets": {},
     "nuid": "e876f544-0505-4094-8375-b73765805af8",
     "showTitle": false,
     "title": ""
    }
   },
   "outputs": [
    {
     "output_type": "execute_result",
     "data": {
      "text/plain": [
       "int"
      ]
     },
     "execution_count": 26,
     "metadata": {},
     "output_type": "execute_result"
    }
   ],
   "source": [
    "# Imprime el tipo de -1\n",
    "\n",
    "type(-1)"
   ]
  },
  {
   "cell_type": "code",
   "execution_count": 0,
   "metadata": {
    "application/vnd.databricks.v1+cell": {
     "cellMetadata": {
      "byteLimit": 2048000,
      "rowLimit": 10000
     },
     "inputWidgets": {},
     "nuid": "bbf70a3d-272a-4a67-b860-2f841043cd8b",
     "showTitle": false,
     "title": ""
    }
   },
   "outputs": [
    {
     "output_type": "execute_result",
     "data": {
      "text/plain": [
       "int"
      ]
     },
     "execution_count": 27,
     "metadata": {},
     "output_type": "execute_result"
    }
   ],
   "source": [
    "# Imprime el tipo de 4\n",
    "\n",
    "type(4)"
   ]
  },
  {
   "cell_type": "code",
   "execution_count": 0,
   "metadata": {
    "application/vnd.databricks.v1+cell": {
     "cellMetadata": {
      "byteLimit": 2048000,
      "rowLimit": 10000
     },
     "inputWidgets": {},
     "nuid": "d35c8f45-c94c-4a88-83ba-1bc507b94e0b",
     "showTitle": false,
     "title": ""
    }
   },
   "outputs": [
    {
     "output_type": "execute_result",
     "data": {
      "text/plain": [
       "int"
      ]
     },
     "execution_count": 28,
     "metadata": {},
     "output_type": "execute_result"
    }
   ],
   "source": [
    "# Imprime el tipo de 0\n",
    "\n",
    "type(0)"
   ]
  },
  {
   "cell_type": "markdown",
   "metadata": {
    "application/vnd.databricks.v1+cell": {
     "cellMetadata": {},
     "inputWidgets": {},
     "nuid": "c4d67e37-e26e-4bd3-be56-6c6b44a520f0",
     "showTitle": false,
     "title": ""
    }
   },
   "source": [
    "<h3 id=\"float\">Punto Flotante</h3>"
   ]
  },
  {
   "cell_type": "markdown",
   "metadata": {
    "application/vnd.databricks.v1+cell": {
     "cellMetadata": {},
     "inputWidgets": {},
     "nuid": "cc76b543-1d7e-4dcc-b3ed-8ed34435d775",
     "showTitle": false,
     "title": ""
    }
   },
   "source": [
    "<p>Los números de punto flotante representan números reales; son un superconjunto de números enteros pero también incluyen \"números con decimales\". Existen algunas limitaciones cuando se trata de que las máquinas representen números reales, pero los números de punto flotante son una buena representación para la mayoría de los casos. Puedes obtener más información sobre las características específicas de los números de punto flotante en tu entorno de ejecución, comprobando el valor de <code>sys.float_info</code>. Esto también te dirá cuál es el número más grande y más pequeño que se puede representar con ellos.</p>\n",
    "\n",
    "<p>Una vez más, puedes probar algunos ejemplos con la función  <code>type()</code>:"
   ]
  },
  {
   "cell_type": "code",
   "execution_count": 0,
   "metadata": {
    "application/vnd.databricks.v1+cell": {
     "cellMetadata": {
      "byteLimit": 2048000,
      "rowLimit": 10000
     },
     "inputWidgets": {},
     "nuid": "54e6919e-e784-45c5-a9b2-41ceced1beb5",
     "showTitle": false,
     "title": ""
    }
   },
   "outputs": [
    {
     "output_type": "execute_result",
     "data": {
      "text/plain": [
       "float"
      ]
     },
     "execution_count": 29,
     "metadata": {},
     "output_type": "execute_result"
    }
   ],
   "source": [
    "# Imprime el tipo de 1.0\n",
    "\n",
    "type(1.0) # Observa que 1 es un int, y 1.0 es un float"
   ]
  },
  {
   "cell_type": "code",
   "execution_count": 0,
   "metadata": {
    "application/vnd.databricks.v1+cell": {
     "cellMetadata": {
      "byteLimit": 2048000,
      "rowLimit": 10000
     },
     "inputWidgets": {},
     "nuid": "46d8a506-6a80-452d-8c65-25c2ab8072b2",
     "showTitle": false,
     "title": ""
    }
   },
   "outputs": [
    {
     "output_type": "execute_result",
     "data": {
      "text/plain": [
       "float"
      ]
     },
     "execution_count": 30,
     "metadata": {},
     "output_type": "execute_result"
    }
   ],
   "source": [
    "# Imprime el tipo de 0.5\n",
    "\n",
    "type(0.5)"
   ]
  },
  {
   "cell_type": "code",
   "execution_count": 0,
   "metadata": {
    "application/vnd.databricks.v1+cell": {
     "cellMetadata": {
      "byteLimit": 2048000,
      "rowLimit": 10000
     },
     "inputWidgets": {},
     "nuid": "1ee9928a-503c-44bf-95d5-d1ed5486d4e3",
     "showTitle": false,
     "title": ""
    }
   },
   "outputs": [
    {
     "output_type": "execute_result",
     "data": {
      "text/plain": [
       "float"
      ]
     },
     "execution_count": 31,
     "metadata": {},
     "output_type": "execute_result"
    }
   ],
   "source": [
    "# Imprime el tipo de 0.56\n",
    "\n",
    "type(0.56)"
   ]
  },
  {
   "cell_type": "code",
   "execution_count": 0,
   "metadata": {
    "application/vnd.databricks.v1+cell": {
     "cellMetadata": {
      "byteLimit": 2048000,
      "rowLimit": 10000
     },
     "inputWidgets": {},
     "nuid": "562e313b-c077-44a9-b46e-878d2ff98817",
     "showTitle": false,
     "title": ""
    }
   },
   "outputs": [
    {
     "output_type": "execute_result",
     "data": {
      "text/plain": [
       "sys.float_info(max=1.7976931348623157e+308, max_exp=1024, max_10_exp=308, min=2.2250738585072014e-308, min_exp=-1021, min_10_exp=-307, dig=15, mant_dig=53, epsilon=2.220446049250313e-16, radix=2, rounds=1)"
      ]
     },
     "execution_count": 32,
     "metadata": {},
     "output_type": "execute_result"
    }
   ],
   "source": [
    "# Ajustes del sistema para el tipo float\n",
    "\n",
    "sys.float_info"
   ]
  },
  {
   "cell_type": "markdown",
   "metadata": {
    "application/vnd.databricks.v1+cell": {
     "cellMetadata": {},
     "inputWidgets": {},
     "nuid": "7145263a-0974-4f42-9998-7b522874c339",
     "showTitle": false,
     "title": ""
    }
   },
   "source": [
    "<h3 id=\"convert\">Convertir de un tipo de objeto a otro tipo de objeto diferente</h3>"
   ]
  },
  {
   "cell_type": "markdown",
   "metadata": {
    "application/vnd.databricks.v1+cell": {
     "cellMetadata": {},
     "inputWidgets": {},
     "nuid": "987f5bcf-b5e5-4e6b-b51a-a6eea8d61e32",
     "showTitle": false,
     "title": ""
    }
   },
   "source": [
    "<p>Puedes cambiar el tipo del objeto en Python; esto se llama conversión de tipos, o typecasting. Por ejemplo, puedes convertir un <i>entero</i> en un <i>punto flotante</i> (por ejemplo 2 a 2.0).</p>\n",
    "<p>Vamos a probarlo:</p>"
   ]
  },
  {
   "cell_type": "code",
   "execution_count": 0,
   "metadata": {
    "application/vnd.databricks.v1+cell": {
     "cellMetadata": {
      "byteLimit": 2048000,
      "rowLimit": 10000
     },
     "inputWidgets": {},
     "nuid": "c9490920-eedb-41ed-816c-01ae84c46619",
     "showTitle": false,
     "title": ""
    }
   },
   "outputs": [
    {
     "output_type": "execute_result",
     "data": {
      "text/plain": [
       "int"
      ]
     },
     "execution_count": 33,
     "metadata": {},
     "output_type": "execute_result"
    }
   ],
   "source": [
    "# Verifica que esto es un entero\n",
    "\n",
    "type(2)"
   ]
  },
  {
   "cell_type": "markdown",
   "metadata": {
    "application/vnd.databricks.v1+cell": {
     "cellMetadata": {},
     "inputWidgets": {},
     "nuid": "d2fae9fd-1e6d-4ab4-8862-7eacc1194a57",
     "showTitle": false,
     "title": ""
    }
   },
   "source": [
    "<h4>Convertir enteros en punto flotante</h4>\n",
    "<p>Vamos a convertir el entero 2 en punto flotante:</p>"
   ]
  },
  {
   "cell_type": "code",
   "execution_count": 0,
   "metadata": {
    "application/vnd.databricks.v1+cell": {
     "cellMetadata": {
      "byteLimit": 2048000,
      "rowLimit": 10000
     },
     "inputWidgets": {},
     "nuid": "b76da7aa-35c3-4592-ba21-726073d947e7",
     "showTitle": false,
     "title": ""
    }
   },
   "outputs": [
    {
     "output_type": "execute_result",
     "data": {
      "text/plain": [
       "2.0"
      ]
     },
     "execution_count": 34,
     "metadata": {},
     "output_type": "execute_result"
    }
   ],
   "source": [
    "# Convierte 2 a punto flotante\n",
    "\n",
    "float(2)"
   ]
  },
  {
   "cell_type": "code",
   "execution_count": 0,
   "metadata": {
    "application/vnd.databricks.v1+cell": {
     "cellMetadata": {
      "byteLimit": 2048000,
      "rowLimit": 10000
     },
     "inputWidgets": {},
     "nuid": "1a2a64b1-ea8b-47e3-bb0a-ba5dc42b4683",
     "showTitle": false,
     "title": ""
    }
   },
   "outputs": [
    {
     "output_type": "execute_result",
     "data": {
      "text/plain": [
       "float"
      ]
     },
     "execution_count": 35,
     "metadata": {},
     "output_type": "execute_result"
    }
   ],
   "source": [
    "# Convierte el entero 2 a punto flotante y comprobar su tipo\n",
    "\n",
    "type(float(2))"
   ]
  },
  {
   "cell_type": "markdown",
   "metadata": {
    "application/vnd.databricks.v1+cell": {
     "cellMetadata": {},
     "inputWidgets": {},
     "nuid": "a792abe3-b6b5-4d9a-a92a-fa7a2bc3235e",
     "showTitle": false,
     "title": ""
    }
   },
   "source": [
    "<p>Cuando convertimos un entero en un punto flotante, no cambiamos realmente el valor (es decir, el significante) del número. Sin embargo, si convertimos un punto flotante en un entero, potencialmente podríamos perder algo de información. Por ejemplo, si convertimos el punto flotante 1.1 en un entero, obtenemos 1 y perdemos la información decimal (es decir, 0.1):</p>"
   ]
  },
  {
   "cell_type": "code",
   "execution_count": 0,
   "metadata": {
    "application/vnd.databricks.v1+cell": {
     "cellMetadata": {
      "byteLimit": 2048000,
      "rowLimit": 10000
     },
     "inputWidgets": {},
     "nuid": "18d45a39-a7ad-4ade-8259-8ac411951eb3",
     "showTitle": false,
     "title": ""
    }
   },
   "outputs": [
    {
     "output_type": "execute_result",
     "data": {
      "text/plain": [
       "1"
      ]
     },
     "execution_count": 36,
     "metadata": {},
     "output_type": "execute_result"
    }
   ],
   "source": [
    "# Convertir 1.1 a entero resultará en una pérdida de información\n",
    "\n",
    "int(1.1)"
   ]
  },
  {
   "cell_type": "markdown",
   "metadata": {
    "application/vnd.databricks.v1+cell": {
     "cellMetadata": {},
     "inputWidgets": {},
     "nuid": "e043e9e2-6e43-4719-ae26-af7091c27771",
     "showTitle": false,
     "title": ""
    }
   },
   "source": [
    "<h4>Convertir cadenas a enteros o punto flotante</h4>"
   ]
  },
  {
   "cell_type": "markdown",
   "metadata": {
    "application/vnd.databricks.v1+cell": {
     "cellMetadata": {},
     "inputWidgets": {},
     "nuid": "1ef645b4-3c5b-43a9-9ca1-d3483a7db5eb",
     "showTitle": false,
     "title": ""
    }
   },
   "source": [
    "<p>A veces, podemos tener una cadena que contiene un número dentro de ella. Si este es el caso, podemos convertir esa cadena que representa un número en un número entero mediante <code>int()</code>:</p>"
   ]
  },
  {
   "cell_type": "code",
   "execution_count": 0,
   "metadata": {
    "application/vnd.databricks.v1+cell": {
     "cellMetadata": {
      "byteLimit": 2048000,
      "rowLimit": 10000
     },
     "inputWidgets": {},
     "nuid": "4c91070a-67be-4aaa-a9f1-0c3d7092e8ec",
     "showTitle": false,
     "title": ""
    }
   },
   "outputs": [
    {
     "output_type": "execute_result",
     "data": {
      "text/plain": [
       "1"
      ]
     },
     "execution_count": 37,
     "metadata": {},
     "output_type": "execute_result"
    }
   ],
   "source": [
    "# Convierte una cadena en un entero\n",
    "\n",
    "int('1')"
   ]
  },
  {
   "cell_type": "markdown",
   "metadata": {
    "application/vnd.databricks.v1+cell": {
     "cellMetadata": {},
     "inputWidgets": {},
     "nuid": "cd0ba50c-b2c4-4c94-ad91-078f8e363cec",
     "showTitle": false,
     "title": ""
    }
   },
   "source": [
    "<p>Pero si intentas hacerlo con una cadena que no coincide perfectamente con un número, recibirás un error. Prueba lo siguiente:</p>"
   ]
  },
  {
   "cell_type": "code",
   "execution_count": 0,
   "metadata": {
    "application/vnd.databricks.v1+cell": {
     "cellMetadata": {
      "byteLimit": 2048000,
      "rowLimit": 10000
     },
     "inputWidgets": {},
     "nuid": "0d2db219-a5c8-4c22-a5e7-d3819ee241a0",
     "showTitle": false,
     "title": ""
    }
   },
   "outputs": [
    {
     "output_type": "display_data",
     "data": {
      "text/plain": [
       "\u001B[0;31m---------------------------------------------------------------------------\u001B[0m\n",
       "\u001B[0;31mValueError\u001B[0m                                Traceback (most recent call last)\n",
       "File \u001B[0;32m<command-471493590521710>, line 3\u001B[0m\n",
       "\u001B[1;32m      1\u001B[0m \u001B[38;5;66;03m# Convierte una cadena en un entero con error\u001B[39;00m\n",
       "\u001B[0;32m----> 3\u001B[0m \u001B[38;5;28;43mint\u001B[39;49m\u001B[43m(\u001B[49m\u001B[38;5;124;43m'\u001B[39;49m\u001B[38;5;124;43m1 o 2 personas\u001B[39;49m\u001B[38;5;124;43m'\u001B[39;49m\u001B[43m)\u001B[49m\n",
       "\n",
       "\u001B[0;31mValueError\u001B[0m: invalid literal for int() with base 10: '1 o 2 personas'"
      ]
     },
     "metadata": {
      "application/vnd.databricks.v1+output": {
       "arguments": {},
       "data": "\u001B[0;31m---------------------------------------------------------------------------\u001B[0m\n\u001B[0;31mValueError\u001B[0m                                Traceback (most recent call last)\nFile \u001B[0;32m<command-471493590521710>, line 3\u001B[0m\n\u001B[1;32m      1\u001B[0m \u001B[38;5;66;03m# Convierte una cadena en un entero con error\u001B[39;00m\n\u001B[0;32m----> 3\u001B[0m \u001B[38;5;28;43mint\u001B[39;49m\u001B[43m(\u001B[49m\u001B[38;5;124;43m'\u001B[39;49m\u001B[38;5;124;43m1 o 2 personas\u001B[39;49m\u001B[38;5;124;43m'\u001B[39;49m\u001B[43m)\u001B[49m\n\n\u001B[0;31mValueError\u001B[0m: invalid literal for int() with base 10: '1 o 2 personas'",
       "errorSummary": "<span class='ansi-red-fg'>ValueError</span>: invalid literal for int() with base 10: '1 o 2 personas'",
       "errorTraceType": "ansi",
       "metadata": {},
       "type": "ipynbError"
      }
     },
     "output_type": "display_data"
    }
   ],
   "source": [
    "# Convierte una cadena en un entero con error\n",
    "\n",
    "int('1 o 2 personas')"
   ]
  },
  {
   "cell_type": "markdown",
   "metadata": {
    "application/vnd.databricks.v1+cell": {
     "cellMetadata": {},
     "inputWidgets": {},
     "nuid": "69a0d92e-0068-4887-8b58-cabf5a4e93e5",
     "showTitle": false,
     "title": ""
    }
   },
   "source": [
    "<p>También puedes convertir cadenas que contienen números de punto flotante en objetos de <i>punto flotante</i>:</p>"
   ]
  },
  {
   "cell_type": "code",
   "execution_count": 0,
   "metadata": {
    "application/vnd.databricks.v1+cell": {
     "cellMetadata": {
      "byteLimit": 2048000,
      "rowLimit": 10000
     },
     "inputWidgets": {},
     "nuid": "330259a9-aec6-4a9a-9987-7a642501a71a",
     "showTitle": false,
     "title": ""
    }
   },
   "outputs": [
    {
     "output_type": "execute_result",
     "data": {
      "text/plain": [
       "1.2"
      ]
     },
     "execution_count": 39,
     "metadata": {},
     "output_type": "execute_result"
    }
   ],
   "source": [
    "# Convierte la cadena \"1.2\" en un punto flotante\n",
    "\n",
    "float('1.2')"
   ]
  },
  {
   "cell_type": "markdown",
   "metadata": {
    "application/vnd.databricks.v1+cell": {
     "cellMetadata": {},
     "inputWidgets": {},
     "nuid": "e27fef26-f285-4ff3-8c49-eddba335523d",
     "showTitle": false,
     "title": ""
    }
   },
   "source": [
    "<hr/>\n",
    "<div class=\"alert alert-success alertsuccess\" style=\"margin-top: 20px\">\n",
    "    [Idea:] Observa que las cadenas pueden representarse con comillas simples (<code>'1.2'</code>) o dobles (<code>\"1.2\"</code>), pero no puedes mezclar ambas (por ejemplo, <code>\"1.2'</code>).\n",
    "</div>\n",
    "<hr/>"
   ]
  },
  {
   "cell_type": "markdown",
   "metadata": {
    "application/vnd.databricks.v1+cell": {
     "cellMetadata": {},
     "inputWidgets": {},
     "nuid": "b6a1ccb8-f953-4f69-87a6-71a86a12893f",
     "showTitle": false,
     "title": ""
    }
   },
   "source": [
    "<h4>Convertir números en cadenas</h4>"
   ]
  },
  {
   "cell_type": "markdown",
   "metadata": {
    "application/vnd.databricks.v1+cell": {
     "cellMetadata": {},
     "inputWidgets": {},
     "nuid": "08f6f464-fc1f-4ff7-9b9a-755d9750fd6a",
     "showTitle": false,
     "title": ""
    }
   },
   "source": [
    "<p>Si podemos convertir las cadenas en números, es lógico suponer que podemos convertir los números en cadenas, ¿verdad?  </p>"
   ]
  },
  {
   "cell_type": "code",
   "execution_count": 0,
   "metadata": {
    "application/vnd.databricks.v1+cell": {
     "cellMetadata": {
      "byteLimit": 2048000,
      "rowLimit": 10000
     },
     "inputWidgets": {},
     "nuid": "a0d292d1-b045-4f35-be0e-3e3e006788af",
     "showTitle": false,
     "title": ""
    }
   },
   "outputs": [
    {
     "output_type": "execute_result",
     "data": {
      "text/plain": [
       "'1'"
      ]
     },
     "execution_count": 40,
     "metadata": {},
     "output_type": "execute_result"
    }
   ],
   "source": [
    "# Convierte un entero en una cadena\n",
    "\n",
    "str(1)"
   ]
  },
  {
   "cell_type": "markdown",
   "metadata": {
    "application/vnd.databricks.v1+cell": {
     "cellMetadata": {},
     "inputWidgets": {},
     "nuid": "814b6ebf-e386-4931-a532-f8c940abc78a",
     "showTitle": false,
     "title": ""
    }
   },
   "source": [
    "<p>Y no hay razón por la que no podamos convertir los números de punto flotante también en cadenas:</p>"
   ]
  },
  {
   "cell_type": "code",
   "execution_count": 0,
   "metadata": {
    "application/vnd.databricks.v1+cell": {
     "cellMetadata": {
      "byteLimit": 2048000,
      "rowLimit": 10000
     },
     "inputWidgets": {},
     "nuid": "8acdf661-fdc1-4ea4-ab6d-25089b18a3b5",
     "showTitle": false,
     "title": ""
    }
   },
   "outputs": [
    {
     "output_type": "execute_result",
     "data": {
      "text/plain": [
       "'1.2'"
      ]
     },
     "execution_count": 41,
     "metadata": {},
     "output_type": "execute_result"
    }
   ],
   "source": [
    "# Convierte un punto flotante en una cadena\n",
    "\n",
    "str(1.2)"
   ]
  },
  {
   "cell_type": "markdown",
   "metadata": {
    "application/vnd.databricks.v1+cell": {
     "cellMetadata": {},
     "inputWidgets": {},
     "nuid": "e48cfa33-d867-428d-83fa-a9e58681a731",
     "showTitle": false,
     "title": ""
    }
   },
   "source": [
    "<h3 id=\"bool\">Tipo de datos booleano</h3>"
   ]
  },
  {
   "cell_type": "markdown",
   "metadata": {
    "application/vnd.databricks.v1+cell": {
     "cellMetadata": {},
     "inputWidgets": {},
     "nuid": "f4086afe-f7d9-4d1e-b6f1-dc828f4c2d09",
     "showTitle": false,
     "title": ""
    }
   },
   "source": [
    "<p>El <i>Booleano</i> es otro tipo importante en Python. Un objeto de tipo <i>Booleano</i> puede tener uno de entre dos valores: <code>True</code> (verdadero) o <code>False</code> (falso):</p>"
   ]
  },
  {
   "cell_type": "code",
   "execution_count": 0,
   "metadata": {
    "application/vnd.databricks.v1+cell": {
     "cellMetadata": {
      "byteLimit": 2048000,
      "rowLimit": 10000
     },
     "inputWidgets": {},
     "nuid": "429dcf07-20c0-45eb-bbdb-5db981347542",
     "showTitle": false,
     "title": ""
    }
   },
   "outputs": [
    {
     "output_type": "execute_result",
     "data": {
      "text/plain": [
       "True"
      ]
     },
     "execution_count": 42,
     "metadata": {},
     "output_type": "execute_result"
    }
   ],
   "source": [
    "# Valor verdadero\n",
    "\n",
    "True"
   ]
  },
  {
   "cell_type": "markdown",
   "metadata": {
    "application/vnd.databricks.v1+cell": {
     "cellMetadata": {},
     "inputWidgets": {},
     "nuid": "d00ab0f1-84ee-413e-9c57-16cd27db8f03",
     "showTitle": false,
     "title": ""
    }
   },
   "source": [
    "<p>Observa que el valor <code>True</code> tiene una \"T\" mayúscula. Lo mismo ocurre con <code>False</code> (es decir, debes usar una \"F\" mayúscula).</p>"
   ]
  },
  {
   "cell_type": "code",
   "execution_count": 0,
   "metadata": {
    "application/vnd.databricks.v1+cell": {
     "cellMetadata": {},
     "inputWidgets": {},
     "nuid": "c6b5090b-1b38-462e-91e2-c15df938c661",
     "showTitle": false,
     "title": ""
    }
   },
   "outputs": [
    {
     "output_type": "display_data",
     "data": {
      "text/html": [
       "<style scoped>\n",
       "  .ansiout {\n",
       "    display: block;\n",
       "    unicode-bidi: embed;\n",
       "    white-space: pre-wrap;\n",
       "    word-wrap: break-word;\n",
       "    word-break: break-all;\n",
       "    font-family: \"Menlo\", \"Monaco\", \"Consolas\", \"Ubuntu Mono\", \"Source Code Pro\", monospace;\n",
       "    font-size: 13px;\n",
       "    color: #555;\n",
       "    margin-left: 4px;\n",
       "    line-height: 19px;\n",
       "  }\n",
       "</style>"
      ]
     },
     "metadata": {
      "application/vnd.databricks.v1+output": {
       "arguments": {},
       "data": "",
       "errorSummary": "",
       "errorTraceType": null,
       "metadata": {},
       "type": "ipynbError"
      }
     },
     "output_type": "display_data"
    }
   ],
   "source": [
    "# Valor falso\n",
    "\n",
    "False"
   ]
  },
  {
   "cell_type": "markdown",
   "metadata": {
    "application/vnd.databricks.v1+cell": {
     "cellMetadata": {},
     "inputWidgets": {},
     "nuid": "2bb2065e-3f07-431b-ab0b-9e62b167658e",
     "showTitle": false,
     "title": ""
    }
   },
   "source": [
    "<p>Cuando le pides a Python que muestre el tipo de un objeto booleano, mostrará <code>bool</code> que significa <i>booleano</i>:</p>"
   ]
  },
  {
   "cell_type": "code",
   "execution_count": 0,
   "metadata": {
    "application/vnd.databricks.v1+cell": {
     "cellMetadata": {
      "byteLimit": 2048000,
      "rowLimit": 10000
     },
     "inputWidgets": {},
     "nuid": "138a7591-9c7b-46b1-aed9-41b57a3d98bd",
     "showTitle": false,
     "title": ""
    }
   },
   "outputs": [
    {
     "output_type": "execute_result",
     "data": {
      "text/plain": [
       "bool"
      ]
     },
     "execution_count": 43,
     "metadata": {},
     "output_type": "execute_result"
    }
   ],
   "source": [
    "# Tipo de True\n",
    "\n",
    "type(True)"
   ]
  },
  {
   "cell_type": "code",
   "execution_count": 0,
   "metadata": {
    "application/vnd.databricks.v1+cell": {
     "cellMetadata": {
      "byteLimit": 2048000,
      "rowLimit": 10000
     },
     "inputWidgets": {},
     "nuid": "24b302f7-fb23-4e86-9c04-f74d2ca3e798",
     "showTitle": false,
     "title": ""
    }
   },
   "outputs": [
    {
     "output_type": "execute_result",
     "data": {
      "text/plain": [
       "bool"
      ]
     },
     "execution_count": 44,
     "metadata": {},
     "output_type": "execute_result"
    }
   ],
   "source": [
    "# Tipo de False\n",
    "\n",
    "type(False)"
   ]
  },
  {
   "cell_type": "markdown",
   "metadata": {
    "application/vnd.databricks.v1+cell": {
     "cellMetadata": {},
     "inputWidgets": {},
     "nuid": "dbbb1f79-7f2f-4dc4-9366-bde4888373a7",
     "showTitle": false,
     "title": ""
    }
   },
   "source": [
    "<p>Podemos convertir objetos booleanos en otros tipos de datos. Si convertimos un booleano con un valor de <code>True</code> a un entero o punto flotante obtendremos un uno. Si convertimos un booleano con un valor de <code>False</code> en un entero o en un punto flotante, obtendremos un cero. Del mismo modo, si convertimos un 1 en Booleano, obtendremos <code>True</code>. Y si convertimos un 0 a Booleano, obtendremos <code>False</code>. Vamos a probarlo:</p>"
   ]
  },
  {
   "cell_type": "code",
   "execution_count": 0,
   "metadata": {
    "application/vnd.databricks.v1+cell": {
     "cellMetadata": {
      "byteLimit": 2048000,
      "rowLimit": 10000
     },
     "inputWidgets": {},
     "nuid": "a8bdf4f5-2a57-4b89-bd6a-7b4cdc5b140d",
     "showTitle": false,
     "title": ""
    }
   },
   "outputs": [
    {
     "output_type": "execute_result",
     "data": {
      "text/plain": [
       "1"
      ]
     },
     "execution_count": 45,
     "metadata": {},
     "output_type": "execute_result"
    }
   ],
   "source": [
    "# Convierte True a int\n",
    "\n",
    "int(True)"
   ]
  },
  {
   "cell_type": "code",
   "execution_count": 0,
   "metadata": {
    "application/vnd.databricks.v1+cell": {
     "cellMetadata": {
      "byteLimit": 2048000,
      "rowLimit": 10000
     },
     "inputWidgets": {},
     "nuid": "f260f2d4-0c17-46af-82bf-a8d65982016d",
     "showTitle": false,
     "title": ""
    }
   },
   "outputs": [
    {
     "output_type": "execute_result",
     "data": {
      "text/plain": [
       "True"
      ]
     },
     "execution_count": 46,
     "metadata": {},
     "output_type": "execute_result"
    }
   ],
   "source": [
    "# Convierte 1 a booleano\n",
    "\n",
    "bool(1.0)"
   ]
  },
  {
   "cell_type": "code",
   "execution_count": 0,
   "metadata": {
    "application/vnd.databricks.v1+cell": {
     "cellMetadata": {},
     "inputWidgets": {},
     "nuid": "6590ef7d-f302-4ce0-b030-7bff2bcd56a4",
     "showTitle": false,
     "title": ""
    }
   },
   "outputs": [
    {
     "output_type": "display_data",
     "data": {
      "text/html": [
       "<style scoped>\n",
       "  .ansiout {\n",
       "    display: block;\n",
       "    unicode-bidi: embed;\n",
       "    white-space: pre-wrap;\n",
       "    word-wrap: break-word;\n",
       "    word-break: break-all;\n",
       "    font-family: \"Menlo\", \"Monaco\", \"Consolas\", \"Ubuntu Mono\", \"Source Code Pro\", monospace;\n",
       "    font-size: 13px;\n",
       "    color: #555;\n",
       "    margin-left: 4px;\n",
       "    line-height: 19px;\n",
       "  }\n",
       "</style>"
      ]
     },
     "metadata": {
      "application/vnd.databricks.v1+output": {
       "arguments": {},
       "data": "",
       "errorSummary": "",
       "errorTraceType": null,
       "metadata": {},
       "type": "ipynbError"
      }
     },
     "output_type": "display_data"
    }
   ],
   "source": [
    "# Convierte 0 a booleano\n",
    "\n",
    "bool(0)"
   ]
  },
  {
   "cell_type": "code",
   "execution_count": 0,
   "metadata": {
    "application/vnd.databricks.v1+cell": {
     "cellMetadata": {
      "byteLimit": 2048000,
      "rowLimit": 10000
     },
     "inputWidgets": {},
     "nuid": "68dd9033-b8d2-473e-8bd5-107f4a8f32a9",
     "showTitle": false,
     "title": ""
    }
   },
   "outputs": [
    {
     "output_type": "execute_result",
     "data": {
      "text/plain": [
       "1.0"
      ]
     },
     "execution_count": 47,
     "metadata": {},
     "output_type": "execute_result"
    }
   ],
   "source": [
    "# Convierte True a punto flotante\n",
    "\n",
    "float(True)"
   ]
  },
  {
   "cell_type": "markdown",
   "metadata": {
    "application/vnd.databricks.v1+cell": {
     "cellMetadata": {},
     "inputWidgets": {},
     "nuid": "3d7cb42b-d174-41a5-9fa2-abda3cf98107",
     "showTitle": false,
     "title": ""
    }
   },
   "source": [
    "<h3 id=\"exer_type\">Ejercicio: Tipos</h3>"
   ]
  },
  {
   "cell_type": "markdown",
   "metadata": {
    "application/vnd.databricks.v1+cell": {
     "cellMetadata": {},
     "inputWidgets": {},
     "nuid": "d6748045-5db9-4387-b032-fb3e29a21ef7",
     "showTitle": false,
     "title": ""
    }
   },
   "source": [
    "<p>¿Cuál es el tipo de dato del resultado de: <code>6 / 2</code>?</p>"
   ]
  },
  {
   "cell_type": "code",
   "execution_count": 0,
   "metadata": {
    "application/vnd.databricks.v1+cell": {
     "cellMetadata": {
      "byteLimit": 2048000,
      "rowLimit": 10000
     },
     "inputWidgets": {},
     "nuid": "6f20e108-b793-4d4b-adb0-198316b6458f",
     "showTitle": false,
     "title": ""
    }
   },
   "outputs": [
    {
     "output_type": "execute_result",
     "data": {
      "text/plain": [
       "float"
      ]
     },
     "execution_count": 50,
     "metadata": {},
     "output_type": "execute_result"
    }
   ],
   "source": [
    "# Introduce el código a continuación. No te olvides de pulsar Mayúsculas+Intro para ejecutar la celda\n",
    "\n",
    "numero = 6/2\n",
    "\n",
    "type(numero) # Sería un flotante."
   ]
  },
  {
   "cell_type": "markdown",
   "metadata": {
    "application/vnd.databricks.v1+cell": {
     "cellMetadata": {},
     "inputWidgets": {},
     "nuid": "9b122892-96a4-44c8-8d79-32702589e05e",
     "showTitle": false,
     "title": ""
    }
   },
   "source": [
    "Haz doble clic en __aquí__ para ver la solución.\n",
    "\n",
    "<!-- Tu respuesta está a continuación:\n",
    "type(6/2) # float\n",
    "-->"
   ]
  },
  {
   "cell_type": "markdown",
   "metadata": {
    "application/vnd.databricks.v1+cell": {
     "cellMetadata": {},
     "inputWidgets": {},
     "nuid": "5483bfe3-7820-486d-9cde-8af96b75d68a",
     "showTitle": false,
     "title": ""
    }
   },
   "source": [
    "<p>¿Cuál es el tipo del resultado de: <code>6 // 2</code>? (Observa la doble barra inclinada <code>//</code>.)</p>"
   ]
  },
  {
   "cell_type": "code",
   "execution_count": 0,
   "metadata": {
    "application/vnd.databricks.v1+cell": {
     "cellMetadata": {
      "byteLimit": 2048000,
      "rowLimit": 10000
     },
     "inputWidgets": {},
     "nuid": "0a8cd64f-8252-4478-b1b5-0bd9a56403b9",
     "showTitle": false,
     "title": ""
    }
   },
   "outputs": [
    {
     "output_type": "execute_result",
     "data": {
      "text/plain": [
       "int"
      ]
     },
     "execution_count": 51,
     "metadata": {},
     "output_type": "execute_result"
    }
   ],
   "source": [
    "# Introduce el código a continuación. No te olvides de pulsar Mayúsculas+Intro para ejecutar la celda\n",
    "\n",
    "numero = 6 // 2\n",
    "\n",
    "type(numero) # Lo convierte a entero."
   ]
  },
  {
   "cell_type": "markdown",
   "metadata": {
    "application/vnd.databricks.v1+cell": {
     "cellMetadata": {},
     "inputWidgets": {},
     "nuid": "5a540b7d-ca7c-497a-b402-e3fdaedf56ea",
     "showTitle": false,
     "title": ""
    }
   },
   "source": [
    "Haz doble clic en __aquí__ para ver la solución.\n",
    "\n",
    "<!-- Tu respuesta está a continuación:\n",
    "type(6//2) # int, ya que las barras dobles representan la división entera \n",
    "-->"
   ]
  },
  {
   "cell_type": "markdown",
   "metadata": {
    "application/vnd.databricks.v1+cell": {
     "cellMetadata": {},
     "inputWidgets": {},
     "nuid": "7d389db0-0055-46ec-9776-97caec09ea6e",
     "showTitle": false,
     "title": ""
    }
   },
   "source": [
    "<h2 id=\"expressions\">Expresiones y Variables</h2>"
   ]
  },
  {
   "cell_type": "markdown",
   "metadata": {
    "application/vnd.databricks.v1+cell": {
     "cellMetadata": {},
     "inputWidgets": {},
     "nuid": "b08d0915-2e10-4860-af2c-73c683bafb67",
     "showTitle": false,
     "title": ""
    }
   },
   "source": [
    "<h3 id=\"exp\">Expresiones</h3>"
   ]
  },
  {
   "cell_type": "markdown",
   "metadata": {
    "application/vnd.databricks.v1+cell": {
     "cellMetadata": {},
     "inputWidgets": {},
     "nuid": "a8e248ee-791e-4b65-aa14-e80abec15cbf",
     "showTitle": false,
     "title": ""
    }
   },
   "source": [
    "<p>Las expresiones en Python pueden incluir operaciones entre tipos compatibles (por ejemplo, números enteros y de punto flotante). Por ejemplo, operaciones aritméticas básicas como sumar varios números:</p>"
   ]
  },
  {
   "cell_type": "code",
   "execution_count": 0,
   "metadata": {
    "application/vnd.databricks.v1+cell": {
     "cellMetadata": {
      "byteLimit": 2048000,
      "rowLimit": 10000
     },
     "inputWidgets": {},
     "nuid": "bc7eb13e-4256-4b91-9c1c-ddad8081719d",
     "showTitle": false,
     "title": ""
    }
   },
   "outputs": [
    {
     "output_type": "execute_result",
     "data": {
      "text/plain": [
       "160"
      ]
     },
     "execution_count": 52,
     "metadata": {},
     "output_type": "execute_result"
    }
   ],
   "source": [
    "# Expresión de operación de suma\n",
    "\n",
    "43 + 60 + 16 + 41"
   ]
  },
  {
   "cell_type": "markdown",
   "metadata": {
    "application/vnd.databricks.v1+cell": {
     "cellMetadata": {},
     "inputWidgets": {},
     "nuid": "3afce753-0657-41c6-9249-c643fc2b7580",
     "showTitle": false,
     "title": ""
    }
   },
   "source": [
    "<p>Podemos realizar operaciones de resta utilizando el operador menos. En este caso el resultado es un número negativo:</p>"
   ]
  },
  {
   "cell_type": "code",
   "execution_count": 0,
   "metadata": {
    "application/vnd.databricks.v1+cell": {
     "cellMetadata": {
      "byteLimit": 2048000,
      "rowLimit": 10000
     },
     "inputWidgets": {},
     "nuid": "ec6654b8-f763-4484-b546-041bb9600e37",
     "showTitle": false,
     "title": ""
    }
   },
   "outputs": [
    {
     "output_type": "execute_result",
     "data": {
      "text/plain": [
       "-10"
      ]
     },
     "execution_count": 53,
     "metadata": {},
     "output_type": "execute_result"
    }
   ],
   "source": [
    "# Expresión de operación de resta\n",
    "\n",
    "50 - 60"
   ]
  },
  {
   "cell_type": "markdown",
   "metadata": {
    "application/vnd.databricks.v1+cell": {
     "cellMetadata": {},
     "inputWidgets": {},
     "nuid": "ce94bf82-834d-4521-b0b3-e58ab35b5822",
     "showTitle": false,
     "title": ""
    }
   },
   "source": [
    "<p>Podemos multiplicar utilizando un asterisco:</p>"
   ]
  },
  {
   "cell_type": "code",
   "execution_count": 0,
   "metadata": {
    "application/vnd.databricks.v1+cell": {
     "cellMetadata": {
      "byteLimit": 2048000,
      "rowLimit": 10000
     },
     "inputWidgets": {},
     "nuid": "849092e8-1d4d-48ae-bb2c-50657d0ea052",
     "showTitle": false,
     "title": ""
    }
   },
   "outputs": [
    {
     "output_type": "execute_result",
     "data": {
      "text/plain": [
       "25"
      ]
     },
     "execution_count": 54,
     "metadata": {},
     "output_type": "execute_result"
    }
   ],
   "source": [
    "# Expresión de operación de multiplicación\n",
    "\n",
    "5 * 5"
   ]
  },
  {
   "cell_type": "markdown",
   "metadata": {
    "application/vnd.databricks.v1+cell": {
     "cellMetadata": {},
     "inputWidgets": {},
     "nuid": "9bde2c08-dd2e-4498-a31e-1b57a070c77d",
     "showTitle": false,
     "title": ""
    }
   },
   "source": [
    "<p>También podemos realizar la división con la barra inclinada:"
   ]
  },
  {
   "cell_type": "code",
   "execution_count": 0,
   "metadata": {
    "application/vnd.databricks.v1+cell": {
     "cellMetadata": {
      "byteLimit": 2048000,
      "rowLimit": 10000
     },
     "inputWidgets": {},
     "nuid": "18151892-c5bb-43f1-b2e1-e1a067a127fd",
     "showTitle": false,
     "title": ""
    }
   },
   "outputs": [
    {
     "output_type": "execute_result",
     "data": {
      "text/plain": [
       "5.0"
      ]
     },
     "execution_count": 55,
     "metadata": {},
     "output_type": "execute_result"
    }
   ],
   "source": [
    "# Expresión de operación de división\n",
    "\n",
    "25 / 5"
   ]
  },
  {
   "cell_type": "code",
   "execution_count": 0,
   "metadata": {
    "application/vnd.databricks.v1+cell": {
     "cellMetadata": {
      "byteLimit": 2048000,
      "rowLimit": 10000
     },
     "inputWidgets": {},
     "nuid": "f11c7ee6-f24f-41ad-918a-cb31e5c0a30e",
     "showTitle": false,
     "title": ""
    }
   },
   "outputs": [
    {
     "output_type": "execute_result",
     "data": {
      "text/plain": [
       "4.166666666666667"
      ]
     },
     "execution_count": 56,
     "metadata": {},
     "output_type": "execute_result"
    }
   ],
   "source": [
    "# Expresión de operación de división\n",
    "\n",
    "25 / 6"
   ]
  },
  {
   "cell_type": "markdown",
   "metadata": {
    "application/vnd.databricks.v1+cell": {
     "cellMetadata": {},
     "inputWidgets": {},
     "nuid": "231567e2-64bb-449e-96ae-583c7e4fd316",
     "showTitle": false,
     "title": ""
    }
   },
   "source": [
    "<p>Como se ve en el cuestionario anterior, podemos usar la doble barra inclinada para la división entera, donde el resultado se redondea al entero más cercano:"
   ]
  },
  {
   "cell_type": "code",
   "execution_count": 0,
   "metadata": {
    "application/vnd.databricks.v1+cell": {
     "cellMetadata": {
      "byteLimit": 2048000,
      "rowLimit": 10000
     },
     "inputWidgets": {},
     "nuid": "479f8ced-9d31-4151-b1f3-6138a66fdbd2",
     "showTitle": false,
     "title": ""
    }
   },
   "outputs": [
    {
     "output_type": "execute_result",
     "data": {
      "text/plain": [
       "5"
      ]
     },
     "execution_count": 57,
     "metadata": {},
     "output_type": "execute_result"
    }
   ],
   "source": [
    "# Expresión de operación de división entera\n",
    "\n",
    "25 // 5"
   ]
  },
  {
   "cell_type": "code",
   "execution_count": 0,
   "metadata": {
    "application/vnd.databricks.v1+cell": {
     "cellMetadata": {
      "byteLimit": 2048000,
      "rowLimit": 10000
     },
     "inputWidgets": {},
     "nuid": "6da6d90f-e252-41aa-ab47-ce97ef5337f5",
     "showTitle": false,
     "title": ""
    }
   },
   "outputs": [
    {
     "output_type": "execute_result",
     "data": {
      "text/plain": [
       "4"
      ]
     },
     "execution_count": 58,
     "metadata": {},
     "output_type": "execute_result"
    }
   ],
   "source": [
    "# Expresión de operación de división entera\n",
    "\n",
    "25 // 6"
   ]
  },
  {
   "cell_type": "markdown",
   "metadata": {
    "application/vnd.databricks.v1+cell": {
     "cellMetadata": {},
     "inputWidgets": {},
     "nuid": "ceae1673-1199-4a0c-82ed-6892b8b39a4a",
     "showTitle": false,
     "title": ""
    }
   },
   "source": [
    "<h3 id=\"exer_exp\">Ejercicio: Expresión</h3>"
   ]
  },
  {
   "cell_type": "markdown",
   "metadata": {
    "application/vnd.databricks.v1+cell": {
     "cellMetadata": {},
     "inputWidgets": {},
     "nuid": "09c4be80-ec87-4b82-a971-b31cc7bacbaf",
     "showTitle": false,
     "title": ""
    }
   },
   "source": [
    "<p>Escribamos una expresión que calcule cuántas horas hay en 160 minutos:"
   ]
  },
  {
   "cell_type": "code",
   "execution_count": 0,
   "metadata": {
    "application/vnd.databricks.v1+cell": {
     "cellMetadata": {
      "byteLimit": 2048000,
      "rowLimit": 10000
     },
     "inputWidgets": {},
     "nuid": "4a5ef9e9-36bf-4b22-848b-71f8865e92fc",
     "showTitle": false,
     "title": ""
    }
   },
   "outputs": [
    {
     "output_type": "stream",
     "name": "stdout",
     "output_type": "stream",
     "text": [
      "2.6666666666666665\n"
     ]
    }
   ],
   "source": [
    "# Introduce el código a continuación. No te olvides de pulsar Mayúsculas+Intro para ejecutar la celda\n",
    "\n",
    "cantidadDeHoras = 160 / 60\n",
    "\n",
    "print(cantidadDeHoras)"
   ]
  },
  {
   "cell_type": "markdown",
   "metadata": {
    "application/vnd.databricks.v1+cell": {
     "cellMetadata": {},
     "inputWidgets": {},
     "nuid": "3c88b36b-a90d-4d80-b852-5a1ace9e0b0f",
     "showTitle": false,
     "title": ""
    }
   },
   "source": [
    "Haz doble clic en __aquí__ para ver la solución.\n",
    "\n",
    "<!-- Tu respuesta está a continuación:\n",
    "160/60 \n",
    "# O \n",
    "160//60\n",
    "-->"
   ]
  },
  {
   "cell_type": "markdown",
   "metadata": {
    "application/vnd.databricks.v1+cell": {
     "cellMetadata": {},
     "inputWidgets": {},
     "nuid": "8a744699-c3fe-4270-9a19-0411b710f4d9",
     "showTitle": false,
     "title": ""
    }
   },
   "source": [
    "<p>Python sigue las convenciones matemáticas ampliamente aceptadas al evaluar las expresiones matemáticas. En el siguiente ejemplo, Python suma 30 al resultado de la multiplicación (es decir, 120)."
   ]
  },
  {
   "cell_type": "code",
   "execution_count": 0,
   "metadata": {
    "application/vnd.databricks.v1+cell": {
     "cellMetadata": {
      "byteLimit": 2048000,
      "rowLimit": 10000
     },
     "inputWidgets": {},
     "nuid": "974685bc-5129-4843-a209-8136d06c6c38",
     "showTitle": false,
     "title": ""
    }
   },
   "outputs": [
    {
     "output_type": "execute_result",
     "data": {
      "text/plain": [
       "150"
      ]
     },
     "execution_count": 60,
     "metadata": {},
     "output_type": "execute_result"
    }
   ],
   "source": [
    "# Expresión matemática\n",
    "\n",
    "30 + 2 * 60"
   ]
  },
  {
   "cell_type": "markdown",
   "metadata": {
    "application/vnd.databricks.v1+cell": {
     "cellMetadata": {},
     "inputWidgets": {},
     "nuid": "f65f63ca-e76b-4059-a372-c944cd987037",
     "showTitle": false,
     "title": ""
    }
   },
   "source": [
    "<p>Y al igual que en las matemáticas, las expresiones entre paréntesis tienen prioridad. Así que lo siguiente multiplica 32 por 60."
   ]
  },
  {
   "cell_type": "code",
   "execution_count": 0,
   "metadata": {
    "application/vnd.databricks.v1+cell": {
     "cellMetadata": {
      "byteLimit": 2048000,
      "rowLimit": 10000
     },
     "inputWidgets": {},
     "nuid": "31ecf92b-61f3-4107-a39f-a3e47f470a16",
     "showTitle": false,
     "title": ""
    }
   },
   "outputs": [
    {
     "output_type": "execute_result",
     "data": {
      "text/plain": [
       "1920"
      ]
     },
     "execution_count": 61,
     "metadata": {},
     "output_type": "execute_result"
    }
   ],
   "source": [
    "# Expresión matemática\n",
    "\n",
    "(30 + 2) * 60"
   ]
  },
  {
   "cell_type": "markdown",
   "metadata": {
    "application/vnd.databricks.v1+cell": {
     "cellMetadata": {},
     "inputWidgets": {},
     "nuid": "cf51add6-94cf-4449-8b44-860623d829d3",
     "showTitle": false,
     "title": ""
    }
   },
   "source": [
    "<h3 id=\"var\">Variables</h3>"
   ]
  },
  {
   "cell_type": "markdown",
   "metadata": {
    "application/vnd.databricks.v1+cell": {
     "cellMetadata": {},
     "inputWidgets": {},
     "nuid": "820b0377-c5c9-4255-84f9-a43c5bf4f3c0",
     "showTitle": false,
     "title": ""
    }
   },
   "source": [
    "<p>Como con la mayoría de los lenguajes de programación, podemos almacenar valores en <i>variables</i> para poder usarlos más tarde. Por ejemplo:</p>"
   ]
  },
  {
   "cell_type": "code",
   "execution_count": 0,
   "metadata": {
    "application/vnd.databricks.v1+cell": {
     "cellMetadata": {
      "byteLimit": 2048000,
      "rowLimit": 10000
     },
     "inputWidgets": {},
     "nuid": "4b4f073e-3a37-403b-b66e-26583eef56d9",
     "showTitle": false,
     "title": ""
    }
   },
   "outputs": [],
   "source": [
    "# Almacena el valor en una variable\n",
    "\n",
    "x = 43 + 60 + 16 + 41"
   ]
  },
  {
   "cell_type": "markdown",
   "metadata": {
    "application/vnd.databricks.v1+cell": {
     "cellMetadata": {},
     "inputWidgets": {},
     "nuid": "b1f66160-c148-41a1-a1a6-725ee5de3adf",
     "showTitle": false,
     "title": ""
    }
   },
   "source": [
    "<p>Para ver el valor de <code>x</code> en un Cuaderno, podemos simplemente colocarlo en la última línea de una celda:</p>"
   ]
  },
  {
   "cell_type": "code",
   "execution_count": 0,
   "metadata": {
    "application/vnd.databricks.v1+cell": {
     "cellMetadata": {
      "byteLimit": 2048000,
      "rowLimit": 10000
     },
     "inputWidgets": {},
     "nuid": "c4746a95-5934-4193-8b26-e6cbaa4335aa",
     "showTitle": false,
     "title": ""
    }
   },
   "outputs": [
    {
     "output_type": "execute_result",
     "data": {
      "text/plain": [
       "160"
      ]
     },
     "execution_count": 63,
     "metadata": {},
     "output_type": "execute_result"
    }
   ],
   "source": [
    "# Imprime el valor de la variable\n",
    "\n",
    "x"
   ]
  },
  {
   "cell_type": "markdown",
   "metadata": {
    "application/vnd.databricks.v1+cell": {
     "cellMetadata": {},
     "inputWidgets": {},
     "nuid": "3881d41a-1de1-4861-9b64-cfec769b8f77",
     "showTitle": false,
     "title": ""
    }
   },
   "source": [
    "<p>También podemos realizar operaciones sobre <code>x</code> y guardar el resultado en una nueva variable:</p>"
   ]
  },
  {
   "cell_type": "code",
   "execution_count": 0,
   "metadata": {
    "application/vnd.databricks.v1+cell": {
     "cellMetadata": {
      "byteLimit": 2048000,
      "rowLimit": 10000
     },
     "inputWidgets": {},
     "nuid": "2e8c4ac9-d840-4dec-a277-b577a20eb65f",
     "showTitle": false,
     "title": ""
    }
   },
   "outputs": [
    {
     "output_type": "execute_result",
     "data": {
      "text/plain": [
       "2.6666666666666665"
      ]
     },
     "execution_count": 64,
     "metadata": {},
     "output_type": "execute_result"
    }
   ],
   "source": [
    "# Utiliza otra variable para almacenar el resultado de la operación entre variable y valor\n",
    "\n",
    "y = x / 60\n",
    "y"
   ]
  },
  {
   "cell_type": "markdown",
   "metadata": {
    "application/vnd.databricks.v1+cell": {
     "cellMetadata": {},
     "inputWidgets": {},
     "nuid": "bc666943-bec1-4f96-ad6c-471ceb96871d",
     "showTitle": false,
     "title": ""
    }
   },
   "source": [
    "<p>Si guardamos un valor en una variable ya existente, el nuevo valor sobrescribirá el valor anterior:</p>"
   ]
  },
  {
   "cell_type": "code",
   "execution_count": 0,
   "metadata": {
    "application/vnd.databricks.v1+cell": {
     "cellMetadata": {
      "byteLimit": 2048000,
      "rowLimit": 10000
     },
     "inputWidgets": {},
     "nuid": "66c0cb4c-d729-4498-9815-876888173d0d",
     "showTitle": false,
     "title": ""
    }
   },
   "outputs": [
    {
     "output_type": "execute_result",
     "data": {
      "text/plain": [
       "2.6666666666666665"
      ]
     },
     "execution_count": 65,
     "metadata": {},
     "output_type": "execute_result"
    }
   ],
   "source": [
    "# Sobrescribe la variable con un nuevo valor\n",
    "\n",
    "x = x / 60\n",
    "x"
   ]
  },
  {
   "cell_type": "markdown",
   "metadata": {
    "application/vnd.databricks.v1+cell": {
     "cellMetadata": {},
     "inputWidgets": {},
     "nuid": "7166ef84-b80c-46dd-a678-41fe666319a8",
     "showTitle": false,
     "title": ""
    }
   },
   "source": [
    "<p>Es una buena práctica utilizar nombres de variables con significado, para que tanto tú como los demás puedan leer el código y entenderlo más fácilmente:</p>"
   ]
  },
  {
   "cell_type": "code",
   "execution_count": 0,
   "metadata": {
    "application/vnd.databricks.v1+cell": {
     "cellMetadata": {
      "byteLimit": 2048000,
      "rowLimit": 10000
     },
     "inputWidgets": {},
     "nuid": "5bfe231c-c4c6-4b97-95b0-a9b66fe328c5",
     "showTitle": false,
     "title": ""
    }
   },
   "outputs": [
    {
     "output_type": "execute_result",
     "data": {
      "text/plain": [
       "142"
      ]
     },
     "execution_count": 66,
     "metadata": {},
     "output_type": "execute_result"
    }
   ],
   "source": [
    "# Da un nombre a las variables que tenga un significado\n",
    "\n",
    "total_min = 43 + 42 + 57 # Duración total de los álbumes en minutos\n",
    "total_min"
   ]
  },
  {
   "cell_type": "code",
   "execution_count": 0,
   "metadata": {
    "application/vnd.databricks.v1+cell": {
     "cellMetadata": {
      "byteLimit": 2048000,
      "rowLimit": 10000
     },
     "inputWidgets": {},
     "nuid": "4a12c635-833b-43ab-95d0-9d674fed64e4",
     "showTitle": false,
     "title": ""
    }
   },
   "outputs": [
    {
     "output_type": "execute_result",
     "data": {
      "text/plain": [
       "2.3666666666666667"
      ]
     },
     "execution_count": 67,
     "metadata": {},
     "output_type": "execute_result"
    }
   ],
   "source": [
    "# Da un nombre a las variables que tenga un significado\n",
    "\n",
    "total_horas = total_min / 60 # Duración total de los álbumes en horas \n",
    "total_horas"
   ]
  },
  {
   "cell_type": "markdown",
   "metadata": {
    "application/vnd.databricks.v1+cell": {
     "cellMetadata": {},
     "inputWidgets": {},
     "nuid": "80efe29c-52e6-40e6-9709-ae6c1e0c0e1c",
     "showTitle": false,
     "title": ""
    }
   },
   "source": [
    "<p>En las celdas de arriba hemos sumado la duración de tres álbumes en minutos y lo hemos almacenado en <code>total_min</code>. Luego lo dividimos entre 60 para calcular la duración total <code>total_horas</code> en horas. También puedes hacerlo todo de una vez en una sola expresión, siempre y cuando uses paréntesis para sumar la duración de los álbumes antes de dividir, como se muestra a continuación.</p>"
   ]
  },
  {
   "cell_type": "code",
   "execution_count": 0,
   "metadata": {
    "application/vnd.databricks.v1+cell": {
     "cellMetadata": {
      "byteLimit": 2048000,
      "rowLimit": 10000
     },
     "inputWidgets": {},
     "nuid": "6208258e-4af0-4ab7-8bc2-2274115dc087",
     "showTitle": false,
     "title": ""
    }
   },
   "outputs": [
    {
     "output_type": "execute_result",
     "data": {
      "text/plain": [
       "2.3666666666666667"
      ]
     },
     "execution_count": 68,
     "metadata": {},
     "output_type": "execute_result"
    }
   ],
   "source": [
    "# Expresión compleja\n",
    "\n",
    "total_horas = (43 + 42 + 57) / 60  # Total de horas en una sola expresión\n",
    "total_horas"
   ]
  },
  {
   "cell_type": "markdown",
   "metadata": {
    "application/vnd.databricks.v1+cell": {
     "cellMetadata": {},
     "inputWidgets": {},
     "nuid": "bf931804-de25-477b-90f1-836f488fd4b0",
     "showTitle": false,
     "title": ""
    }
   },
   "source": [
    "<p>Si prefieres tener el total de horas como un número entero, puedes, por supuesto, reemplazar la división en punto flotante por la división entera (es decir, <code>//</code>).</p>"
   ]
  },
  {
   "cell_type": "markdown",
   "metadata": {
    "application/vnd.databricks.v1+cell": {
     "cellMetadata": {},
     "inputWidgets": {},
     "nuid": "eb399380-b133-4483-8950-81aec2fe96f9",
     "showTitle": false,
     "title": ""
    }
   },
   "source": [
    "<h3 id=\"exer_exp_var\">Ejercicio: Expresión y Variables en Python</h3>"
   ]
  },
  {
   "cell_type": "markdown",
   "metadata": {
    "application/vnd.databricks.v1+cell": {
     "cellMetadata": {},
     "inputWidgets": {},
     "nuid": "ef3d9ee9-eaad-4962-90bd-68c7fcb30be6",
     "showTitle": false,
     "title": ""
    }
   },
   "source": [
    "<p>¿Cuál es el valor de <code>x</code>, donde <code>x = 3 + 2 * 2</code>?</p>"
   ]
  },
  {
   "cell_type": "code",
   "execution_count": 0,
   "metadata": {
    "application/vnd.databricks.v1+cell": {
     "cellMetadata": {
      "byteLimit": 2048000,
      "rowLimit": 10000
     },
     "inputWidgets": {},
     "nuid": "2a483ee4-aced-4330-b8ac-9882fa274b75",
     "showTitle": false,
     "title": ""
    }
   },
   "outputs": [
    {
     "output_type": "stream",
     "name": "stdout",
     "output_type": "stream",
     "text": [
      "7\n"
     ]
    }
   ],
   "source": [
    "# Introduce el código a continuación. No te olvides de pulsar Mayúsculas+Intro para ejecutar la celda\n",
    "\n",
    "x = 3 + 2 * 2 \n",
    "\n",
    "print(x) # El resultado es 7."
   ]
  },
  {
   "cell_type": "markdown",
   "metadata": {
    "application/vnd.databricks.v1+cell": {
     "cellMetadata": {},
     "inputWidgets": {},
     "nuid": "e90e372f-1fbc-425f-ab73-c7aa0860d94b",
     "showTitle": false,
     "title": ""
    }
   },
   "source": [
    "Haz doble clic en __aquí__ para ver la solución.\n",
    "\n",
    "<!-- Tu respuesta está a continuación:\n",
    "7\n",
    "-->"
   ]
  },
  {
   "cell_type": "markdown",
   "metadata": {
    "application/vnd.databricks.v1+cell": {
     "cellMetadata": {},
     "inputWidgets": {},
     "nuid": "0bd7576d-1cf5-40c7-b226-6f031c3e3e7b",
     "showTitle": false,
     "title": ""
    }
   },
   "source": [
    "<p>¿Cuál es el valor de <code>y</code>, donde <code>y = (3 + 2) * 2</code>?</p>"
   ]
  },
  {
   "cell_type": "code",
   "execution_count": 0,
   "metadata": {
    "application/vnd.databricks.v1+cell": {
     "cellMetadata": {
      "byteLimit": 2048000,
      "rowLimit": 10000
     },
     "inputWidgets": {},
     "nuid": "4b4e7db6-b2d6-40ed-b66d-9a97eba3fbfe",
     "showTitle": false,
     "title": ""
    }
   },
   "outputs": [
    {
     "output_type": "stream",
     "name": "stdout",
     "output_type": "stream",
     "text": [
      "10\n"
     ]
    }
   ],
   "source": [
    "# Introduce el código a continuación. No te olvides de pulsar Mayúsculas+Intro para ejecutar la celda\n",
    "\n",
    "y = (3 + 2) * 2\n",
    "\n",
    "print(y) # El resultado es 10."
   ]
  },
  {
   "cell_type": "markdown",
   "metadata": {
    "application/vnd.databricks.v1+cell": {
     "cellMetadata": {},
     "inputWidgets": {},
     "nuid": "0f29a5ab-bf4a-42b2-b0e4-35f98f0ea846",
     "showTitle": false,
     "title": ""
    }
   },
   "source": [
    "Haz doble clic en __aquí__ para ver la solución.\n",
    "\n",
    "<!-- Tu respuesta está a continuación:\n",
    "10\n",
    "-->"
   ]
  },
  {
   "cell_type": "markdown",
   "metadata": {
    "application/vnd.databricks.v1+cell": {
     "cellMetadata": {},
     "inputWidgets": {},
     "nuid": "a287c905-9ff4-43bc-bec6-b44ace578d18",
     "showTitle": false,
     "title": ""
    }
   },
   "source": [
    "<p>¿Cuál es el valor de <code>z</code>, donde <code>z = x + y</code>?</p>"
   ]
  },
  {
   "cell_type": "code",
   "execution_count": 0,
   "metadata": {
    "application/vnd.databricks.v1+cell": {
     "cellMetadata": {
      "byteLimit": 2048000,
      "rowLimit": 10000
     },
     "inputWidgets": {},
     "nuid": "b5cc6d88-b9f8-49f5-822c-f1885e3ac797",
     "showTitle": false,
     "title": ""
    }
   },
   "outputs": [
    {
     "output_type": "stream",
     "name": "stdout",
     "output_type": "stream",
     "text": [
      "17\n"
     ]
    }
   ],
   "source": [
    "# Introduce el código a continuación. No te olvides de pulsar Mayúsculas+Intro para ejecutar la celda\n",
    "\n",
    "z = x + y\n",
    "\n",
    "print(z) # El resultado es 17."
   ]
  },
  {
   "cell_type": "markdown",
   "metadata": {
    "application/vnd.databricks.v1+cell": {
     "cellMetadata": {},
     "inputWidgets": {},
     "nuid": "d307aced-9e01-40ce-b0fa-fe387c499221",
     "showTitle": false,
     "title": ""
    }
   },
   "source": [
    "Haz doble clic en __aquí__ para ver la solución.\n",
    "\n",
    "<!-- Tu respuesta está a continuación:\n",
    "17\n",
    "-->"
   ]
  }
 ],
 "metadata": {
  "application/vnd.databricks.v1+notebook": {
   "dashboards": [],
   "language": "python",
   "notebookMetadata": {
    "pythonIndentUnit": 2
   },
   "notebookName": "DataBricks00",
   "widgets": {}
  },
  "kernelspec": {
   "display_name": "Python",
   "language": "python",
   "name": "conda-env-python-py"
  },
  "language_info": {
   "codemirror_mode": {
    "name": "ipython",
    "version": 3
   },
   "file_extension": ".py",
   "mimetype": "text/x-python",
   "name": "python",
   "nbconvert_exporter": "python",
   "pygments_lexer": "ipython3",
   "version": "3.6.11"
  }
 },
 "nbformat": 4,
 "nbformat_minor": 0
}
