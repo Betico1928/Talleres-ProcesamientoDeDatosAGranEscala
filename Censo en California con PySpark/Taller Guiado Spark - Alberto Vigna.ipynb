{
 "cells": [
  {
   "cell_type": "markdown",
   "metadata": {
    "application/vnd.databricks.v1+cell": {
     "cellMetadata": {},
     "inputWidgets": {},
     "nuid": "37e51699-72e8-4fe9-8e30-b76a3a641190",
     "showTitle": false,
     "title": ""
    }
   },
   "source": [
    "# Membrete\n",
    "\n",
    "<img src=\"https://upload.wikimedia.org/wikipedia/commons/6/6c/Javeriana.svg\" alt=\"Logo Javeriana\" width=\"150\"/>\n",
    "\n",
    "- **Nombre:** Alberto Luis Vigna Arroyo\n",
    "- **Universidad:** Pontificia Universidad Javeriana\n",
    "- **Materia:** Procesamiento de Datos a Gran Escala\n",
    "- **Nombre del Profesor:** John Corredor\n",
    "- **Correo Electrónico:** a-vigna@javeriana.edu.co\n",
    "- **Fecha:** 05 de febrero de 2024\n",
    "- **Objetivo:** Presentar los diferentes métodos de PySpark para el tratamiento de los datos y conocer los primeros pasos de ML con Spark.\n"
   ]
  },
  {
   "cell_type": "markdown",
   "metadata": {
    "application/vnd.databricks.v1+cell": {
     "cellMetadata": {},
     "inputWidgets": {},
     "nuid": "7b276937-50ea-4ed7-a072-d025fb55033f",
     "showTitle": false,
     "title": ""
    }
   },
   "source": [
    "**Datos: Censo en California en 1990**\n",
    "Los datos presentan valores medios de los precios de las viviendas en California para el año 1990.\n",
    "\n",
    "- longitude: continuous.\n",
    "- latitude: continuous.\n",
    "- housingMedianAge: continuous. \n",
    "- totalRooms: continuous. \n",
    "- totalBedrooms: continuous. \n",
    "- population: continuous. \n",
    "- households: continuous. \n",
    "- medianIncome: continuous. \n",
    "- medianHouseValue: continuous. "
   ]
  },
  {
   "cell_type": "markdown",
   "metadata": {
    "application/vnd.databricks.v1+cell": {
     "cellMetadata": {
      "byteLimit": 2048000,
      "rowLimit": 10000
     },
     "inputWidgets": {},
     "nuid": "2855cf39-79af-42fa-8d49-edab05507096",
     "showTitle": false,
     "title": ""
    }
   },
   "source": [
    "## Bibliotecas Necesarias"
   ]
  },
  {
   "cell_type": "code",
   "execution_count": 0,
   "metadata": {
    "application/vnd.databricks.v1+cell": {
     "cellMetadata": {
      "byteLimit": 2048000,
      "rowLimit": 10000
     },
     "inputWidgets": {},
     "nuid": "61460b21-2a74-4252-8559-f8be134462b3",
     "showTitle": false,
     "title": ""
    }
   },
   "outputs": [],
   "source": [
    "# Importar las bibliotecas necesarias:\n",
    "\n",
    "# PySpart\n",
    "import pyspark\n",
    "\n",
    "from pyspark import SparkContext\n",
    "from pyspark.sql import SQLContext, Row\n",
    "from pyspark.sql.types import IntegerType, FloatType\n",
    "from pyspark.sql.functions import col\n",
    "\n",
    "\n",
    "# Pandas\n",
    "import pandas as pd\n",
    "\n",
    "\n",
    "# Para importarlo todo:\n",
    "from pyspark import *\n",
    "from pandas import *"
   ]
  },
  {
   "cell_type": "markdown",
   "metadata": {
    "application/vnd.databricks.v1+cell": {
     "cellMetadata": {},
     "inputWidgets": {},
     "nuid": "37981b27-a0e1-4927-81d8-86b70089c456",
     "showTitle": false,
     "title": ""
    }
   },
   "source": [
    "## Se levanta la sesión de PySpart"
   ]
  },
  {
   "cell_type": "code",
   "execution_count": 0,
   "metadata": {
    "application/vnd.databricks.v1+cell": {
     "cellMetadata": {
      "byteLimit": 2048000,
      "rowLimit": 10000
     },
     "inputWidgets": {},
     "nuid": "34bfb8e9-3da2-4a56-a18f-383afd106e38",
     "showTitle": false,
     "title": ""
    }
   },
   "outputs": [
    {
     "output_type": "stream",
     "name": "stderr",
     "output_type": "stream",
     "text": [
      "/databricks/spark/python/pyspark/sql/context.py:117: FutureWarning: Deprecated in 3.0.0. Use SparkSession.builder.getOrCreate() instead.\n  warnings.warn(\n"
     ]
    },
    {
     "output_type": "execute_result",
     "data": {
      "text/html": [
       "\n",
       "        <div>\n",
       "            <p><b>SparkContext</b></p>\n",
       "\n",
       "            <p><a href=\"/?o=8915046351226302#setting/sparkui/0212-121951-t6hcaeq1/driver-5630515056264835900\">Spark UI</a></p>\n",
       "\n",
       "            <dl>\n",
       "              <dt>Version</dt>\n",
       "                <dd><code>v3.5.0</code></dd>\n",
       "              <dt>Master</dt>\n",
       "                <dd><code>local[8]</code></dd>\n",
       "              <dt>AppName</dt>\n",
       "                <dd><code>Databricks Shell</code></dd>\n",
       "            </dl>\n",
       "        </div>\n",
       "        "
      ],
      "text/plain": [
       "<SparkContext master=local[8] appName=Databricks Shell>"
      ]
     },
     "execution_count": 35,
     "metadata": {},
     "output_type": "execute_result"
    }
   ],
   "source": [
    "# Se levanta la sesión de PySpart, para hacer uso de los métodos y herramientas que dispone.\n",
    "\n",
    "sc = SparkContext.getOrCreate()\n",
    "sql_sc = SQLContext(sc)\n",
    "\n",
    "sc"
   ]
  },
  {
   "cell_type": "code",
   "execution_count": 0,
   "metadata": {
    "application/vnd.databricks.v1+cell": {
     "cellMetadata": {
      "byteLimit": 2048000,
      "rowLimit": 10000
     },
     "inputWidgets": {},
     "nuid": "ba585649-dfeb-4bbf-970c-85b96b51342e",
     "showTitle": false,
     "title": ""
    }
   },
   "outputs": [
    {
     "output_type": "stream",
     "name": "stdout",
     "output_type": "stream",
     "text": [
      "Header de los datos: \n ['longitude', 'latitude', 'housingMedianAge', 'totalRooms', 'totalBedrooms', 'population', 'households', 'medianIncome', 'medianHouseValue']\n"
     ]
    }
   ],
   "source": [
    "# Se carga desde el repositorio de profesor (John Corredor): HC Housing California\n",
    "\n",
    "headerHC = [\n",
    "    \"longitude\", \n",
    "    \"latitude\",\n",
    "    \"housingMedianAge\",\n",
    "    \"totalRooms\",\n",
    "    \"totalBedrooms\",\n",
    "    \"population\",\n",
    "    \"households\",\n",
    "    \"medianIncome\",\n",
    "    \"medianHouseValue\"\n",
    "]\n",
    "\n",
    "print(\"Header de los datos: \\n\", headerHC)\n",
    "\n",
    "pathHC = \"https://raw.githubusercontent.com/corredor-john/ExploratoryDataAnalisys/main/Varios/CaliforniaHousing/cal_housing.data\""
   ]
  },
  {
   "cell_type": "markdown",
   "metadata": {
    "application/vnd.databricks.v1+cell": {
     "cellMetadata": {},
     "inputWidgets": {},
     "nuid": "0e188066-f43a-4724-be22-1404c053a92f",
     "showTitle": false,
     "title": ""
    }
   },
   "source": [
    "### Visualización de datos con Pandas: "
   ]
  },
  {
   "cell_type": "code",
   "execution_count": 0,
   "metadata": {
    "application/vnd.databricks.v1+cell": {
     "cellMetadata": {
      "byteLimit": 2048000,
      "rowLimit": 10000
     },
     "inputWidgets": {},
     "nuid": "387d8ef2-9f58-45cb-a514-e8bec97cb1c9",
     "showTitle": false,
     "title": ""
    }
   },
   "outputs": [
    {
     "output_type": "execute_result",
     "data": {
      "text/html": [
       "<div>\n",
       "<style scoped>\n",
       "    .dataframe tbody tr th:only-of-type {\n",
       "        vertical-align: middle;\n",
       "    }\n",
       "\n",
       "    .dataframe tbody tr th {\n",
       "        vertical-align: top;\n",
       "    }\n",
       "\n",
       "    .dataframe thead th {\n",
       "        text-align: right;\n",
       "    }\n",
       "</style>\n",
       "<table border=\"1\" class=\"dataframe\">\n",
       "  <thead>\n",
       "    <tr style=\"text-align: right;\">\n",
       "      <th></th>\n",
       "      <th>longitude</th>\n",
       "      <th>latitude</th>\n",
       "      <th>housingMedianAge</th>\n",
       "      <th>totalRooms</th>\n",
       "      <th>totalBedrooms</th>\n",
       "      <th>population</th>\n",
       "      <th>households</th>\n",
       "      <th>medianIncome</th>\n",
       "      <th>medianHouseValue</th>\n",
       "    </tr>\n",
       "  </thead>\n",
       "  <tbody>\n",
       "    <tr>\n",
       "      <th>0</th>\n",
       "      <td>-122.23</td>\n",
       "      <td>37.88</td>\n",
       "      <td>41.0</td>\n",
       "      <td>880.0</td>\n",
       "      <td>129.0</td>\n",
       "      <td>322.0</td>\n",
       "      <td>126.0</td>\n",
       "      <td>8.3252</td>\n",
       "      <td>452600.0</td>\n",
       "    </tr>\n",
       "    <tr>\n",
       "      <th>1</th>\n",
       "      <td>-122.22</td>\n",
       "      <td>37.86</td>\n",
       "      <td>21.0</td>\n",
       "      <td>7099.0</td>\n",
       "      <td>1106.0</td>\n",
       "      <td>2401.0</td>\n",
       "      <td>1138.0</td>\n",
       "      <td>8.3014</td>\n",
       "      <td>358500.0</td>\n",
       "    </tr>\n",
       "    <tr>\n",
       "      <th>2</th>\n",
       "      <td>-122.24</td>\n",
       "      <td>37.85</td>\n",
       "      <td>52.0</td>\n",
       "      <td>1467.0</td>\n",
       "      <td>190.0</td>\n",
       "      <td>496.0</td>\n",
       "      <td>177.0</td>\n",
       "      <td>7.2574</td>\n",
       "      <td>352100.0</td>\n",
       "    </tr>\n",
       "    <tr>\n",
       "      <th>3</th>\n",
       "      <td>-122.25</td>\n",
       "      <td>37.85</td>\n",
       "      <td>52.0</td>\n",
       "      <td>1274.0</td>\n",
       "      <td>235.0</td>\n",
       "      <td>558.0</td>\n",
       "      <td>219.0</td>\n",
       "      <td>5.6431</td>\n",
       "      <td>341300.0</td>\n",
       "    </tr>\n",
       "    <tr>\n",
       "      <th>4</th>\n",
       "      <td>-122.25</td>\n",
       "      <td>37.85</td>\n",
       "      <td>52.0</td>\n",
       "      <td>1627.0</td>\n",
       "      <td>280.0</td>\n",
       "      <td>565.0</td>\n",
       "      <td>259.0</td>\n",
       "      <td>3.8462</td>\n",
       "      <td>342200.0</td>\n",
       "    </tr>\n",
       "    <tr>\n",
       "      <th>...</th>\n",
       "      <td>...</td>\n",
       "      <td>...</td>\n",
       "      <td>...</td>\n",
       "      <td>...</td>\n",
       "      <td>...</td>\n",
       "      <td>...</td>\n",
       "      <td>...</td>\n",
       "      <td>...</td>\n",
       "      <td>...</td>\n",
       "    </tr>\n",
       "    <tr>\n",
       "      <th>20635</th>\n",
       "      <td>-121.09</td>\n",
       "      <td>39.48</td>\n",
       "      <td>25.0</td>\n",
       "      <td>1665.0</td>\n",
       "      <td>374.0</td>\n",
       "      <td>845.0</td>\n",
       "      <td>330.0</td>\n",
       "      <td>1.5603</td>\n",
       "      <td>78100.0</td>\n",
       "    </tr>\n",
       "    <tr>\n",
       "      <th>20636</th>\n",
       "      <td>-121.21</td>\n",
       "      <td>39.49</td>\n",
       "      <td>18.0</td>\n",
       "      <td>697.0</td>\n",
       "      <td>150.0</td>\n",
       "      <td>356.0</td>\n",
       "      <td>114.0</td>\n",
       "      <td>2.5568</td>\n",
       "      <td>77100.0</td>\n",
       "    </tr>\n",
       "    <tr>\n",
       "      <th>20637</th>\n",
       "      <td>-121.22</td>\n",
       "      <td>39.43</td>\n",
       "      <td>17.0</td>\n",
       "      <td>2254.0</td>\n",
       "      <td>485.0</td>\n",
       "      <td>1007.0</td>\n",
       "      <td>433.0</td>\n",
       "      <td>1.7000</td>\n",
       "      <td>92300.0</td>\n",
       "    </tr>\n",
       "    <tr>\n",
       "      <th>20638</th>\n",
       "      <td>-121.32</td>\n",
       "      <td>39.43</td>\n",
       "      <td>18.0</td>\n",
       "      <td>1860.0</td>\n",
       "      <td>409.0</td>\n",
       "      <td>741.0</td>\n",
       "      <td>349.0</td>\n",
       "      <td>1.8672</td>\n",
       "      <td>84700.0</td>\n",
       "    </tr>\n",
       "    <tr>\n",
       "      <th>20639</th>\n",
       "      <td>-121.24</td>\n",
       "      <td>39.37</td>\n",
       "      <td>16.0</td>\n",
       "      <td>2785.0</td>\n",
       "      <td>616.0</td>\n",
       "      <td>1387.0</td>\n",
       "      <td>530.0</td>\n",
       "      <td>2.3886</td>\n",
       "      <td>89400.0</td>\n",
       "    </tr>\n",
       "  </tbody>\n",
       "</table>\n",
       "<p>20640 rows × 9 columns</p>\n",
       "</div>"
      ],
      "text/plain": [
       "       longitude  latitude  ...  medianIncome  medianHouseValue\n",
       "0        -122.23     37.88  ...        8.3252          452600.0\n",
       "1        -122.22     37.86  ...        8.3014          358500.0\n",
       "2        -122.24     37.85  ...        7.2574          352100.0\n",
       "3        -122.25     37.85  ...        5.6431          341300.0\n",
       "4        -122.25     37.85  ...        3.8462          342200.0\n",
       "...          ...       ...  ...           ...               ...\n",
       "20635    -121.09     39.48  ...        1.5603           78100.0\n",
       "20636    -121.21     39.49  ...        2.5568           77100.0\n",
       "20637    -121.22     39.43  ...        1.7000           92300.0\n",
       "20638    -121.32     39.43  ...        1.8672           84700.0\n",
       "20639    -121.24     39.37  ...        2.3886           89400.0\n",
       "\n",
       "[20640 rows x 9 columns]"
      ]
     },
     "execution_count": 39,
     "metadata": {},
     "output_type": "execute_result"
    }
   ],
   "source": [
    "# Se cargan los datos a un dataframe de PySpark y visualizarlos con Pandas\n",
    "housing_DFP = pd.read_csv(pathHC, sep = ',', names = headerHC)\n",
    "housing_DFP"
   ]
  },
  {
   "cell_type": "markdown",
   "metadata": {
    "application/vnd.databricks.v1+cell": {
     "cellMetadata": {},
     "inputWidgets": {},
     "nuid": "20c65d38-ce5e-45e9-afda-645699c5b878",
     "showTitle": false,
     "title": ""
    }
   },
   "source": [
    "### Visualización de datos con Spark:"
   ]
  },
  {
   "cell_type": "code",
   "execution_count": 0,
   "metadata": {
    "application/vnd.databricks.v1+cell": {
     "cellMetadata": {
      "byteLimit": 2048000,
      "rowLimit": 10000
     },
     "inputWidgets": {},
     "nuid": "8a42fa40-d765-4bf8-a612-9d3b1e8cf81b",
     "showTitle": false,
     "title": ""
    }
   },
   "outputs": [
    {
     "output_type": "stream",
     "name": "stdout",
     "output_type": "stream",
     "text": [
      "+---------+--------+----------------+----------+-------------+----------+----------+------------+----------------+\n|longitude|latitude|housingMedianAge|totalRooms|totalBedrooms|population|households|medianIncome|medianHouseValue|\n+---------+--------+----------------+----------+-------------+----------+----------+------------+----------------+\n|  -122.23|   37.88|            41.0|     880.0|        129.0|     322.0|     126.0|      8.3252|        452600.0|\n|  -122.22|   37.86|            21.0|    7099.0|       1106.0|    2401.0|    1138.0|      8.3014|        358500.0|\n|  -122.24|   37.85|            52.0|    1467.0|        190.0|     496.0|     177.0|      7.2574|        352100.0|\n|  -122.25|   37.85|            52.0|    1274.0|        235.0|     558.0|     219.0|      5.6431|        341300.0|\n|  -122.25|   37.85|            52.0|    1627.0|        280.0|     565.0|     259.0|      3.8462|        342200.0|\n|  -122.25|   37.85|            52.0|     919.0|        213.0|     413.0|     193.0|      4.0368|        269700.0|\n|  -122.25|   37.84|            52.0|    2535.0|        489.0|    1094.0|     514.0|      3.6591|        299200.0|\n|  -122.25|   37.84|            52.0|    3104.0|        687.0|    1157.0|     647.0|        3.12|        241400.0|\n|  -122.26|   37.84|            42.0|    2555.0|        665.0|    1206.0|     595.0|      2.0804|        226700.0|\n|  -122.25|   37.84|            52.0|    3549.0|        707.0|    1551.0|     714.0|      3.6912|        261100.0|\n+---------+--------+----------------+----------+-------------+----------+----------+------------+----------------+\nonly showing top 10 rows\n\n"
     ]
    }
   ],
   "source": [
    "# Se cargan los datos a un dataframe de PySpark y visualizarlos con Spark directamente. (Se formatea el dataframe al tipo Spark ya que este es uno mucho mas liviano y no presenta estructura formal de vista agradable. La idea es que sea rápido, no bonito)\n",
    "housing_DFS = sql_sc.createDataFrame(housing_DFP)\n",
    "housing_DFS.show(10)"
   ]
  },
  {
   "cell_type": "code",
   "execution_count": 0,
   "metadata": {
    "application/vnd.databricks.v1+cell": {
     "cellMetadata": {
      "byteLimit": 2048000,
      "rowLimit": 10000
     },
     "inputWidgets": {},
     "nuid": "1ce6e276-ac90-4961-a05a-d928d8a340df",
     "showTitle": false,
     "title": ""
    }
   },
   "outputs": [
    {
     "output_type": "stream",
     "name": "stdout",
     "output_type": "stream",
     "text": [
      "root\n |-- longitude: double (nullable = true)\n |-- latitude: double (nullable = true)\n |-- housingMedianAge: double (nullable = true)\n |-- totalRooms: double (nullable = true)\n |-- totalBedrooms: double (nullable = true)\n |-- population: double (nullable = true)\n |-- households: double (nullable = true)\n |-- medianIncome: double (nullable = true)\n |-- medianHouseValue: double (nullable = true)\n\n"
     ]
    }
   ],
   "source": [
    "# Se presentan los tipos de datos del dataset, y si existen o no datos imposibles/nulos/etc.\n",
    "housing_DFS.printSchema()"
   ]
  },
  {
   "cell_type": "markdown",
   "metadata": {
    "application/vnd.databricks.v1+cell": {
     "cellMetadata": {
      "byteLimit": 2048000,
      "rowLimit": 10000
     },
     "inputWidgets": {},
     "nuid": "29ba75c5-ee9d-4d1b-8525-303dd7f1d372",
     "showTitle": false,
     "title": ""
    }
   },
   "source": [
    "### Conversión de Datos"
   ]
  },
  {
   "cell_type": "code",
   "execution_count": 0,
   "metadata": {
    "application/vnd.databricks.v1+cell": {
     "cellMetadata": {
      "byteLimit": 2048000,
      "rowLimit": 10000
     },
     "inputWidgets": {},
     "nuid": "8295f893-767d-4663-8244-21a88ac64a3d",
     "showTitle": false,
     "title": ""
    }
   },
   "outputs": [
    {
     "output_type": "stream",
     "name": "stdout",
     "output_type": "stream",
     "text": [
      "root\n |-- longitude: double (nullable = true)\n |-- latitude: double (nullable = true)\n |-- housingMedianAge: double (nullable = true)\n |-- totalRooms: integer (nullable = true)\n |-- totalBedrooms: integer (nullable = true)\n |-- population: integer (nullable = true)\n |-- households: integer (nullable = true)\n |-- medianIncome: double (nullable = true)\n |-- medianHouseValue: double (nullable = true)\n\n"
     ]
    }
   ],
   "source": [
    "# Se requiere que algunas columnas pase al tipo, por ejemplo, Entero. Para ello se hace una función que permite el paso o casting de tipos de datos:\n",
    "\n",
    "def convertirColumnaTipo(dataframe, nombres, nuevoTipo):\n",
    "    for nombre in nombres:\n",
    "        dataframe = dataframe.withColumn(nombre, dataframe[nombre].cast(nuevoTipo))\n",
    "    \n",
    "    return dataframe    \n",
    "\n",
    "\n",
    "## Lista de columnas a cambiar:\n",
    "ColumnasAEntero = [\"totalRooms\", \"totalBedrooms\", \"population\", \"households\"]\n",
    "housing_DFS_Entero = convertirColumnaTipo(housing_DFS, ColumnasAEntero, IntegerType())\n",
    "\n",
    "\n",
    "## Se verifica si el cambio ha sido satisfactorio:\n",
    "housing_DFS_Entero.printSchema()"
   ]
  },
  {
   "cell_type": "markdown",
   "metadata": {
    "application/vnd.databricks.v1+cell": {
     "cellMetadata": {},
     "inputWidgets": {},
     "nuid": "a81ac901-15f7-47d6-a628-2aa95d3fc4f9",
     "showTitle": false,
     "title": ""
    }
   },
   "source": [
    "### Consultas:"
   ]
  },
  {
   "cell_type": "markdown",
   "metadata": {
    "application/vnd.databricks.v1+cell": {
     "cellMetadata": {},
     "inputWidgets": {},
     "nuid": "e29bc029-b791-45c6-acb6-0f4b4678355a",
     "showTitle": false,
     "title": ""
    }
   },
   "source": [
    "#### Consulta de \"population\" y \"totalBedroooms\""
   ]
  },
  {
   "cell_type": "code",
   "execution_count": 0,
   "metadata": {
    "application/vnd.databricks.v1+cell": {
     "cellMetadata": {
      "byteLimit": 2048000,
      "rowLimit": 10000
     },
     "inputWidgets": {},
     "nuid": "86eb8c48-f913-451e-8d39-969cb2c886a7",
     "showTitle": false,
     "title": ""
    }
   },
   "outputs": [
    {
     "output_type": "stream",
     "name": "stdout",
     "output_type": "stream",
     "text": [
      "+-------------+----------+\n|totalBedrooms|population|\n+-------------+----------+\n|          129|       322|\n|         1106|      2401|\n|          190|       496|\n|          235|       558|\n|          280|       565|\n|          213|       413|\n|          489|      1094|\n|          687|      1157|\n|          665|      1206|\n|          707|      1551|\n+-------------+----------+\nonly showing top 10 rows\n\n"
     ]
    }
   ],
   "source": [
    "# Consulta de \"population\" y \"totalBedroooms\"\n",
    "housing_DFS_Entero.select(\"totalBedrooms\", \"population\").show(10)"
   ]
  },
  {
   "cell_type": "markdown",
   "metadata": {
    "application/vnd.databricks.v1+cell": {
     "cellMetadata": {},
     "inputWidgets": {},
     "nuid": "477eb7cf-a7ff-4c12-be32-a70e82981a5e",
     "showTitle": false,
     "title": ""
    }
   },
   "source": [
    "#### Consulta de la \"housingMedianAge\": "
   ]
  },
  {
   "cell_type": "code",
   "execution_count": 0,
   "metadata": {
    "application/vnd.databricks.v1+cell": {
     "cellMetadata": {
      "byteLimit": 2048000,
      "rowLimit": 10000
     },
     "inputWidgets": {},
     "nuid": "11df6557-7260-4fd4-97ce-39a6fb70a55b",
     "showTitle": false,
     "title": ""
    }
   },
   "outputs": [
    {
     "output_type": "stream",
     "name": "stdout",
     "output_type": "stream",
     "text": [
      "+----------------+-----+\n|housingMedianAge|count|\n+----------------+-----+\n|             8.0|  206|\n|             7.0|  175|\n|            49.0|  134|\n|            29.0|  461|\n|            47.0|  198|\n|            42.0|  368|\n|            44.0|  356|\n|            35.0|  824|\n|            18.0|  570|\n|            39.0|  369|\n+----------------+-----+\nonly showing top 10 rows\n\n"
     ]
    }
   ],
   "source": [
    "# Se requiere una consulta de la \"housingMedianAge\": \n",
    "housing_DFS_Entero.groupBy(\"housingMedianAge\").count().show(10)"
   ]
  },
  {
   "cell_type": "markdown",
   "metadata": {
    "application/vnd.databricks.v1+cell": {
     "cellMetadata": {},
     "inputWidgets": {},
     "nuid": "ea2a4d02-1928-4c25-b30b-0928517a829b",
     "showTitle": false,
     "title": ""
    }
   },
   "source": [
    "#### Consulta de la \"housingMedianAge\" ordenada por la cantidad: "
   ]
  },
  {
   "cell_type": "code",
   "execution_count": 0,
   "metadata": {
    "application/vnd.databricks.v1+cell": {
     "cellMetadata": {
      "byteLimit": 2048000,
      "rowLimit": 10000
     },
     "inputWidgets": {},
     "nuid": "76b5d6c1-e27a-41a2-ad05-7d26e60c8450",
     "showTitle": false,
     "title": ""
    }
   },
   "outputs": [
    {
     "output_type": "stream",
     "name": "stdout",
     "output_type": "stream",
     "text": [
      "+----------------+-----+\n|housingMedianAge|count|\n+----------------+-----+\n|            52.0| 1273|\n|            51.0|   48|\n|            50.0|  136|\n|            49.0|  134|\n|            48.0|  177|\n|            47.0|  198|\n|            46.0|  245|\n|            45.0|  294|\n|            44.0|  356|\n|            43.0|  353|\n+----------------+-----+\nonly showing top 10 rows\n\n"
     ]
    }
   ],
   "source": [
    "# Se requiere una consulta de la \"housingMedianAge\" ordenada por la cantidad: \n",
    "housing_DFS_Entero.groupBy(\"housingMedianAge\").count().sort(\"housingMedianAge\", ascending = False).show(10)"
   ]
  },
  {
   "cell_type": "markdown",
   "metadata": {
    "application/vnd.databricks.v1+cell": {
     "cellMetadata": {},
     "inputWidgets": {},
     "nuid": "314eea62-2f4b-4695-b69f-bb44c0460b57",
     "showTitle": false,
     "title": ""
    }
   },
   "source": [
    "#### Resumen estadístico de los datos numéricos (Con Show):"
   ]
  },
  {
   "cell_type": "code",
   "execution_count": 0,
   "metadata": {
    "application/vnd.databricks.v1+cell": {
     "cellMetadata": {
      "byteLimit": 2048000,
      "rowLimit": 10000
     },
     "inputWidgets": {},
     "nuid": "1b2c865d-8536-4621-9026-76a53ea6b494",
     "showTitle": false,
     "title": ""
    }
   },
   "outputs": [
    {
     "output_type": "stream",
     "name": "stdout",
     "output_type": "stream",
     "text": [
      "+-------+-------------------+------------------+------------------+------------------+------------------+------------------+------------------+------------------+------------------+\n|summary|          longitude|          latitude|  housingMedianAge|        totalRooms|     totalBedrooms|        population|        households|      medianIncome|  medianHouseValue|\n+-------+-------------------+------------------+------------------+------------------+------------------+------------------+------------------+------------------+------------------+\n|  count|              20640|             20640|             20640|             20640|             20640|             20640|             20640|             20640|             20640|\n|   mean|-119.56970445736447| 35.63186143410853|28.639486434108527|2635.7630813953488| 537.8980135658915|1425.4767441860465| 499.5396802325581| 3.870671002906976|206855.81690891474|\n| stddev| 2.0035317235026016|2.1359523974570953|12.585557612111653|2181.6152515827957|421.24790594313197|1132.4621217653412|382.32975283161085|1.8998217179452688|115395.61587441387|\n|    min|            -124.35|             32.54|               1.0|                 2|                 1|                 3|                 1|            0.4999|           14999.0|\n|    max|            -114.31|             41.95|              52.0|             39320|              6445|             35682|              6082|           15.0001|          500001.0|\n+-------+-------------------+------------------+------------------+------------------+------------------+------------------+------------------+------------------+------------------+\n\n"
     ]
    }
   ],
   "source": [
    "# Se requiere un resumen estadístico de los datos numéricos:\n",
    "housing_DFS_Entero.describe().show()"
   ]
  },
  {
   "cell_type": "markdown",
   "metadata": {
    "application/vnd.databricks.v1+cell": {
     "cellMetadata": {},
     "inputWidgets": {},
     "nuid": "5ab2b7ff-20d2-4204-9870-84918a867a62",
     "showTitle": false,
     "title": ""
    }
   },
   "source": [
    "#### Resumen estadístico de los datos numéricos (Método Display):"
   ]
  },
  {
   "cell_type": "code",
   "execution_count": 0,
   "metadata": {
    "application/vnd.databricks.v1+cell": {
     "cellMetadata": {
      "byteLimit": 2048000,
      "rowLimit": 10000
     },
     "inputWidgets": {},
     "nuid": "75f05780-5eb5-493b-a3d4-e870731ed4c1",
     "showTitle": false,
     "title": ""
    }
   },
   "outputs": [
    {
     "output_type": "display_data",
     "data": {
      "text/html": [
       "<style scoped>\n",
       "  .table-result-container {\n",
       "    max-height: 300px;\n",
       "    overflow: auto;\n",
       "  }\n",
       "  table, th, td {\n",
       "    border: 1px solid black;\n",
       "    border-collapse: collapse;\n",
       "  }\n",
       "  th, td {\n",
       "    padding: 5px;\n",
       "  }\n",
       "  th {\n",
       "    text-align: left;\n",
       "  }\n",
       "</style><div class='table-result-container'><table class='table-result'><thead style='background-color: white'><tr><th>summary</th><th>longitude</th><th>latitude</th><th>housingMedianAge</th><th>totalRooms</th><th>totalBedrooms</th><th>population</th><th>households</th><th>medianIncome</th><th>medianHouseValue</th></tr></thead><tbody><tr><td>count</td><td>20640</td><td>20640</td><td>20640</td><td>20640</td><td>20640</td><td>20640</td><td>20640</td><td>20640</td><td>20640</td></tr><tr><td>mean</td><td>-119.56970445736447</td><td>35.63186143410853</td><td>28.639486434108527</td><td>2635.7630813953488</td><td>537.8980135658915</td><td>1425.4767441860465</td><td>499.5396802325581</td><td>3.870671002906976</td><td>206855.81690891474</td></tr><tr><td>stddev</td><td>2.0035317235026016</td><td>2.1359523974570953</td><td>12.585557612111653</td><td>2181.6152515827957</td><td>421.24790594313197</td><td>1132.4621217653412</td><td>382.32975283161085</td><td>1.8998217179452688</td><td>115395.61587441387</td></tr><tr><td>min</td><td>-124.35</td><td>32.54</td><td>1.0</td><td>2</td><td>1</td><td>3</td><td>1</td><td>0.4999</td><td>14999.0</td></tr><tr><td>max</td><td>-114.31</td><td>41.95</td><td>52.0</td><td>39320</td><td>6445</td><td>35682</td><td>6082</td><td>15.0001</td><td>500001.0</td></tr></tbody></table></div>"
      ]
     },
     "metadata": {
      "application/vnd.databricks.v1+output": {
       "addedWidgets": {},
       "aggData": [],
       "aggError": "",
       "aggOverflow": false,
       "aggSchema": [],
       "aggSeriesLimitReached": false,
       "aggType": "",
       "arguments": {},
       "columnCustomDisplayInfos": {},
       "data": [
        [
         "count",
         "20640",
         "20640",
         "20640",
         "20640",
         "20640",
         "20640",
         "20640",
         "20640",
         "20640"
        ],
        [
         "mean",
         "-119.56970445736447",
         "35.63186143410853",
         "28.639486434108527",
         "2635.7630813953488",
         "537.8980135658915",
         "1425.4767441860465",
         "499.5396802325581",
         "3.870671002906976",
         "206855.81690891474"
        ],
        [
         "stddev",
         "2.0035317235026016",
         "2.1359523974570953",
         "12.585557612111653",
         "2181.6152515827957",
         "421.24790594313197",
         "1132.4621217653412",
         "382.32975283161085",
         "1.8998217179452688",
         "115395.61587441387"
        ],
        [
         "min",
         "-124.35",
         "32.54",
         "1.0",
         "2",
         "1",
         "3",
         "1",
         "0.4999",
         "14999.0"
        ],
        [
         "max",
         "-114.31",
         "41.95",
         "52.0",
         "39320",
         "6445",
         "35682",
         "6082",
         "15.0001",
         "500001.0"
        ]
       ],
       "datasetInfos": [],
       "dbfsResultPath": null,
       "isJsonSchema": true,
       "metadata": {},
       "overflow": false,
       "plotOptions": {
        "customPlotOptions": {},
        "displayType": "table",
        "pivotAggregation": null,
        "pivotColumns": null,
        "xColumns": null,
        "yColumns": null
       },
       "removedWidgets": [],
       "schema": [
        {
         "metadata": "{}",
         "name": "summary",
         "type": "\"string\""
        },
        {
         "metadata": "{}",
         "name": "longitude",
         "type": "\"string\""
        },
        {
         "metadata": "{}",
         "name": "latitude",
         "type": "\"string\""
        },
        {
         "metadata": "{}",
         "name": "housingMedianAge",
         "type": "\"string\""
        },
        {
         "metadata": "{}",
         "name": "totalRooms",
         "type": "\"string\""
        },
        {
         "metadata": "{}",
         "name": "totalBedrooms",
         "type": "\"string\""
        },
        {
         "metadata": "{}",
         "name": "population",
         "type": "\"string\""
        },
        {
         "metadata": "{}",
         "name": "households",
         "type": "\"string\""
        },
        {
         "metadata": "{}",
         "name": "medianIncome",
         "type": "\"string\""
        },
        {
         "metadata": "{}",
         "name": "medianHouseValue",
         "type": "\"string\""
        }
       ],
       "type": "table"
      }
     },
     "output_type": "display_data"
    }
   ],
   "source": [
    "# Se requiere un resumen estadístico de los datos numéricos (Método Display):\n",
    "display(housing_DFS_Entero.describe())"
   ]
  },
  {
   "cell_type": "markdown",
   "metadata": {
    "application/vnd.databricks.v1+cell": {
     "cellMetadata": {},
     "inputWidgets": {},
     "nuid": "febdd344-05f3-45ec-bc03-bc664be4bc94",
     "showTitle": false,
     "title": ""
    }
   },
   "source": [
    "#### Observaciones\n",
    "- No se encuentran valores nulos/imposibles/invalidos.\n",
    "- Se recomienda normalizar los datos, para que queden en una misma celda.\n",
    "- Se recomienda agregar algunas variables que presenten atributos adicionales (variables, derivadas, habitaciones por hogar).\n",
    "- La variable \"target\": *medianHouseValue*, presenta un alto valor o magnitud."
   ]
  },
  {
   "cell_type": "markdown",
   "metadata": {
    "application/vnd.databricks.v1+cell": {
     "cellMetadata": {
      "byteLimit": 2048000,
      "rowLimit": 10000
     },
     "inputWidgets": {},
     "nuid": "a6374b60-02c9-4f4e-a041-f2bf90628609",
     "showTitle": false,
     "title": ""
    }
   },
   "source": [
    "### Correcciones con base en las observaciones:"
   ]
  },
  {
   "cell_type": "markdown",
   "metadata": {
    "application/vnd.databricks.v1+cell": {
     "cellMetadata": {},
     "inputWidgets": {},
     "nuid": "837ffeeb-befe-44b7-8930-8a683f38a271",
     "showTitle": false,
     "title": ""
    }
   },
   "source": [
    "#### Ajustar el orden de magnitud de la variable target:"
   ]
  },
  {
   "cell_type": "code",
   "execution_count": 0,
   "metadata": {
    "application/vnd.databricks.v1+cell": {
     "cellMetadata": {
      "byteLimit": 2048000,
      "rowLimit": 10000
     },
     "inputWidgets": {},
     "nuid": "8e437692-b5f2-4271-89b9-93ca2e0b25a5",
     "showTitle": false,
     "title": ""
    }
   },
   "outputs": [
    {
     "output_type": "execute_result",
     "data": {
      "text/plain": [
       "[Row(longitude=-122.23, latitude=37.88, housingMedianAge=41.0, totalRooms=880, totalBedrooms=129, population=322, households=126, medianIncome=8.3252, medianHouseValue=4.526),\n",
       " Row(longitude=-122.22, latitude=37.86, housingMedianAge=21.0, totalRooms=7099, totalBedrooms=1106, population=2401, households=1138, medianIncome=8.3014, medianHouseValue=3.585)]"
      ]
     },
     "execution_count": 68,
     "metadata": {},
     "output_type": "execute_result"
    }
   ],
   "source": [
    "# Se ajusta el orden de magnitud de la variable target: Los valores se encuentran en el orden de los 100.000, se divide toda la columna entre 100.000:\n",
    "housing_DFS_Entero = housing_DFS_Entero.withColumn(\"medianHouseValue\", col(\"medianHouseValue\")/100000)\n",
    "\n",
    "# Inspección visual de las 2 primeras filas:\n",
    "housing_DFS_Entero.take(2)"
   ]
  },
  {
   "cell_type": "code",
   "execution_count": 0,
   "metadata": {
    "application/vnd.databricks.v1+cell": {
     "cellMetadata": {},
     "inputWidgets": {},
     "nuid": "b1e828e6-6007-4c2a-86f4-9b656ded9aac",
     "showTitle": false,
     "title": ""
    }
   },
   "outputs": [],
   "source": []
  }
 ],
 "metadata": {
  "application/vnd.databricks.v1+notebook": {
   "dashboards": [],
   "language": "python",
   "notebookMetadata": {
    "pythonIndentUnit": 4
   },
   "notebookName": "Taller Guiado Spark - Alberto Vigna",
   "widgets": {}
  }
 },
 "nbformat": 4,
 "nbformat_minor": 0
}
