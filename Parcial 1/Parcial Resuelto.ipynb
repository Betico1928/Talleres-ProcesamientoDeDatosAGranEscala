{
 "cells": [
  {
   "cell_type": "markdown",
   "metadata": {
    "application/vnd.databricks.v1+cell": {
     "cellMetadata": {
      "byteLimit": 2048000,
      "rowLimit": 10000
     },
     "inputWidgets": {},
     "nuid": "f4ea4b6f-0f81-4d27-918e-bcb7d9a5166c",
     "showTitle": false,
     "title": ""
    }
   },
   "source": [
    "\n",
    "###*Pontificia Universidad Javeriana*\n",
    "\n",
    "**Fecha**: 4 de marzo 2024\n",
    "\n",
    "**Profesor**: John Corredor, PhD\n",
    "\n",
    "**Materia**: Procesamiento de Alto Volumen de Datos\n",
    "\n",
    "**Objetivo**: Primer Parcial **Modelo A**\n",
    "\n",
    "###**Nombre Estudiante**: Alberto Luis Vigna Arroyo\n",
    "\n",
    "###**ID Estudiante**: C.C 1193215807"
   ]
  },
  {
   "cell_type": "markdown",
   "metadata": {
    "application/vnd.databricks.v1+cell": {
     "cellMetadata": {
      "byteLimit": 2048000,
      "rowLimit": 10000
     },
     "inputWidgets": {},
     "nuid": "7908876e-fbfb-4c49-b19a-d21497e7df77",
     "showTitle": false,
     "title": ""
    }
   },
   "source": [
    "**Contexto**\n",
    "- Se presenta un conjunto de datos (dataset) los cuales representan las ventas de productos en el año 2019\n",
    "- Cada dataset tiene los siguientes campos\n",
    "     \n",
    "      - ID Orden: identificador de orden de compra\n",
    "     \n",
    "      - Producto: Descripción de producto\n",
    "     \n",
    "      - Cantidad Ordenada: cantidad de productos del mismo tipo ordenados/pedidos/comprados\n",
    "     \n",
    "      - Precio Unitarios: valor comercial del producto\n",
    "     \n",
    "      - Fecha: fecha del producto vendido, formato: mes/día/año hora\n",
    "     \n",
    "      - Dirección de compra: dirección de venta del producto, formato: dirección, ciudad, iniciales del departamento\n",
    "\n",
    "- El conjunto de datos se ubica en la carpeta del enlace <https://github.com/corredor-john/ExploratoryDataAnalisys/tree/main/Ventas>\n",
    "- A continuación de se presenta los pasos a seguir a para el desarrollo del parcial"
   ]
  },
  {
   "cell_type": "markdown",
   "metadata": {
    "application/vnd.databricks.v1+cell": {
     "cellMetadata": {
      "byteLimit": 2048000,
      "rowLimit": 10000
     },
     "inputWidgets": {},
     "nuid": "a7c334ff-0fb4-4de7-a542-43d91733db8f",
     "showTitle": false,
     "title": ""
    }
   },
   "source": [
    "##1. Cargar las bibliotecas necesarias y la sesión PYSPARK"
   ]
  },
  {
   "cell_type": "code",
   "outputs": [
    {
     "ename": "ModuleNotFoundError",
     "evalue": "No module named 'pyspark'",
     "output_type": "error",
     "traceback": [
      "\u001B[0;31m---------------------------------------------------------------------------\u001B[0m",
      "\u001B[0;31mModuleNotFoundError\u001B[0m                       Traceback (most recent call last)",
      "Cell \u001B[0;32mIn[49], line 4\u001B[0m\n\u001B[1;32m      1\u001B[0m \u001B[38;5;66;03m# Importar las bibliotecas necesarias:\u001B[39;00m\n\u001B[1;32m      2\u001B[0m \n\u001B[1;32m      3\u001B[0m \u001B[38;5;66;03m# PySpark\u001B[39;00m\n\u001B[0;32m----> 4\u001B[0m \u001B[38;5;28;01mimport\u001B[39;00m \u001B[38;5;21;01mpyspark\u001B[39;00m\n\u001B[1;32m      6\u001B[0m \u001B[38;5;28;01mfrom\u001B[39;00m \u001B[38;5;21;01mpyspark\u001B[39;00m \u001B[38;5;28;01mimport\u001B[39;00m SparkContext\n\u001B[1;32m      7\u001B[0m \u001B[38;5;28;01mfrom\u001B[39;00m \u001B[38;5;21;01mpyspark\u001B[39;00m\u001B[38;5;21;01m.\u001B[39;00m\u001B[38;5;21;01msql\u001B[39;00m \u001B[38;5;28;01mimport\u001B[39;00m SQLContext, Row\n",
      "\u001B[0;31mModuleNotFoundError\u001B[0m: No module named 'pyspark'"
     ]
    }
   ],
   "source": [
    "# Importar las bibliotecas necesarias:\n",
    "\n",
    "# PySpark\n",
    "import pyspark\n",
    "\n",
    "from pyspark import SparkContext\n",
    "from pyspark.sql import SQLContext, Row\n",
    "from pyspark.sql.types import IntegerType, DoubleType, DateType, FloatType\n",
    "from pyspark.sql.functions import col, concat, lit, to_date, month, from_unixtime, unix_timestamp, date_format, split, count, when, desc, asc, avg\n",
    "\n",
    "\n",
    "# MatPlotLib\n",
    "import matplotlib.pyplot as plt\n",
    "\n",
    "\n",
    "\n",
    "# Pandas\n",
    "import pandas as pd"
   ],
   "metadata": {
    "collapsed": false,
    "ExecuteTime": {
     "end_time": "2024-03-04T14:27:41.181521Z",
     "start_time": "2024-03-04T14:27:41.166232Z"
    }
   },
   "execution_count": 49
  },
  {
   "cell_type": "markdown",
   "source": [
    "##2. DataFrame PySpark (10 pts)\n",
    "####2.1.- Crear un dataframe PySpark con los conjuntos de datos de la carpeta dada en el enlace"
   ],
   "metadata": {
    "collapsed": false
   }
  },
  {
   "cell_type": "code",
   "outputs": [],
   "source": [
    "# Se levanta la sesión de PySpart, para hacer uso de los métodos y herramientas que dispone.\n",
    "\n",
    "sc = SparkContext.getOrCreate()\n",
    "sql_sc = SQLContext(sc)\n",
    "\n",
    "sc"
   ],
   "metadata": {
    "collapsed": false
   }
  },
  {
   "cell_type": "code",
   "outputs": [],
   "source": [
    "# Se carga el dataset de ventas:\n",
    "\n",
    "headerVentas = [\n",
    "    \"IdOrden\", \n",
    "    \"Producto\",\n",
    "    \"CantidadOrdenada\",\n",
    "    \"PrecioUnitario\",\n",
    "    \"Fecha\",\n",
    "    \"DirecciónDeCompra\"\n",
    "]\n",
    "\n",
    "print(\"Header de los datos: \\n\", headerVentas)\n",
    "\n",
    "# Se cargan los datos del dataset de \"Ventas Enero\":\n",
    "pathVentasJanuary = \"https://raw.githubusercontent.com/corredor-john/ExploratoryDataAnalisys/main/Ventas/Ventas_January_2019.csv\"\n",
    "\n",
    "# Se cargan los datos del dataset de \"Ventas Febrero\":\n",
    "pathVentasFebrary = \"https://raw.githubusercontent.com/corredor-john/ExploratoryDataAnalisys/main/Ventas/Ventas_February_2019.csv\"\n",
    "\n",
    "# Se cargan los datos del dataset de \"Ventas Marzo\": \n",
    "pathVentasMarch = \"https://raw.githubusercontent.com/corredor-john/ExploratoryDataAnalisys/main/Ventas/Ventas_March_2019.csv\"\n",
    "\n",
    "# Se cargan los datos del dataset de \"Ventas Abril\":\n",
    "pathVentasAbril = \"https://raw.githubusercontent.com/corredor-john/ExploratoryDataAnalisys/main/Ventas/Ventas_April_2019.csv\"\n",
    "\n",
    "# Se cargan los datos del dataset de \"Ventas Mayo\":\n",
    "pathVentasMayo = \"https://raw.githubusercontent.com/corredor-john/ExploratoryDataAnalisys/main/Ventas/Ventas_May_2019.csv\"\n",
    "\n",
    "# Se cargan los datos del dataset de \"Ventas Junio\":\n",
    "pathVentasJunio = \"https://raw.githubusercontent.com/corredor-john/ExploratoryDataAnalisys/main/Ventas/Ventas_June_2019.csv\"\n",
    "\n",
    "# Se cargan los datos del dataset de \"Ventas Julio\":\n",
    "pathVentasJulio = \"https://raw.githubusercontent.com/corredor-john/ExploratoryDataAnalisys/main/Ventas/Ventas_July_2019.csv\"\n",
    "\n",
    "# Se cargan los datos del dataset de \"Ventas Agosto\":\n",
    "pathVentasAgosto = \"https://raw.githubusercontent.com/corredor-john/ExploratoryDataAnalisys/main/Ventas/Ventas_August_2019.csv\"\n",
    "\n",
    "# Se cargan los datos del dataset de \"Ventas Septiembre\":\n",
    "pathVentasSeptiembre = \"https://raw.githubusercontent.com/corredor-john/ExploratoryDataAnalisys/main/Ventas/Ventas_September_2019.csv\"\n",
    "\n",
    "# Se cargan los datos del dataset de \"Ventas Octubre\":\n",
    "pathVentasOctubre = \"https://raw.githubusercontent.com/corredor-john/ExploratoryDataAnalisys/main/Ventas/Ventas_October_2019.csv\"\n",
    "\n",
    "# Se cargan los datos del dataset de \"Ventas Noviembre\":\n",
    "pathVentasNoviembre = \"https://raw.githubusercontent.com/corredor-john/ExploratoryDataAnalisys/main/Ventas/Ventas_November_2019.csv\"\n",
    "\n",
    "# Se cargan los datos del dataset de \"Ventas Diciembre\":\n",
    "pathVentasDiciembre = \"https://raw.githubusercontent.com/corredor-john/ExploratoryDataAnalisys/main/Ventas/Ventas_December_2019.csv\""
   ],
   "metadata": {
    "collapsed": false
   }
  },
  {
   "cell_type": "markdown",
   "source": [
    "####2.2.- Presentar el tipo de datos del dataframe spark (5 pts)"
   ],
   "metadata": {
    "collapsed": false
   }
  },
  {
   "cell_type": "code",
   "outputs": [],
   "source": [
    "# Cargar los DataFrames de los demás meses\n",
    "DF_Ventas_january = pd.read_csv(pathVentasJanuary, sep = ',', names = headerVentas)\n",
    "DF_Ventas_febrary = pd.read_csv(pathVentasFebrary, sep = ',', names = headerVentas)\n",
    "DF_Ventas_march = pd.read_csv(pathVentasMarch, sep = ',', names = headerVentas)\n",
    "DF_Ventas_april = pd.read_csv(pathVentasAbril, sep = ',', names = headerVentas)\n",
    "DF_Ventas_may = pd.read_csv(pathVentasMayo, sep = ',', names = headerVentas)\n",
    "DF_Ventas_june = pd.read_csv(pathVentasJunio, sep = ',', names = headerVentas)\n",
    "DF_Ventas_july = pd.read_csv(pathVentasJulio, sep = ',', names = headerVentas)\n",
    "DF_Ventas_august = pd.read_csv(pathVentasAgosto, sep = ',', names = headerVentas)\n",
    "DF_Ventas_september = pd.read_csv(pathVentasSeptiembre, sep = ',', names = headerVentas)\n",
    "DF_Ventas_october = pd.read_csv(pathVentasOctubre, sep = ',', names = headerVentas)\n",
    "DF_Ventas_november = pd.read_csv(pathVentasNoviembre, sep = ',', names = headerVentas)\n",
    "DF_Ventas_december = pd.read_csv(pathVentasDiciembre, sep = ',', names = headerVentas)\n",
    "\n",
    "# Unificar los DataFrames\n",
    "DF_Ventas_unificado = pd.concat([DF_Ventas_january, DF_Ventas_febrary, DF_Ventas_march,\n",
    "                                DF_Ventas_april, DF_Ventas_may, DF_Ventas_june,\n",
    "                                DF_Ventas_july, DF_Ventas_august, DF_Ventas_september,\n",
    "                                DF_Ventas_october, DF_Ventas_november, DF_Ventas_december])\n",
    "\n",
    "\n",
    "# Se cargan los datos a un dataframe de PySpark y visualizarlos con Spark directamente:\n",
    "DFS_Ventas_Unificadas = sql_sc.createDataFrame(DF_Ventas_unificado)\n",
    "DFS_Ventas_Unificadas.show(10)\n"
   ],
   "metadata": {
    "collapsed": false
   }
  },
  {
   "cell_type": "code",
   "outputs": [],
   "source": [
    "print(\"La cantidad de registros en el Data Frame de Spark es: \" + str(DFS_Ventas_Unificadas.count()))"
   ],
   "metadata": {
    "collapsed": false
   }
  },
  {
   "cell_type": "markdown",
   "source": [
    "####2.3.-Se requiere cambiar los nombres de las columnas: (3 pts)\n",
    "  - 'Producto '->'Producto'\n",
    "  - ' Cantidad Ordenada'->'Cantidad'\n",
    "  - 'Precio Unitario '->'Precio_Unitario'"
   ],
   "metadata": {
    "collapsed": false
   }
  },
  {
   "cell_type": "code",
   "outputs": [],
   "source": [
    "# Mostrar las columnas iniciales:\n",
    "DFS_Ventas_Unificadas.columns"
   ],
   "metadata": {
    "collapsed": false
   }
  },
  {
   "cell_type": "code",
   "outputs": [],
   "source": [
    "# Cambiar nombres de las columnas en PySpark DataFrame\n",
    "DFS_Ventas_Unificadas = DFS_Ventas_Unificadas.withColumnRenamed(\"Producto \", \"Producto\") \\\n",
    "                                             .withColumnRenamed(\"CantidadOrdenada\", \"Cantidad\") \\\n",
    "                                             .withColumnRenamed(\"PrecioUnitario\", \"Precio_Unitario\")\n",
    "\n",
    "# Mostrar el DataFrame con los nombres de las columnas modificados\n",
    "DFS_Ventas_Unificadas.show(10)\n"
   ],
   "metadata": {
    "collapsed": false
   }
  },
  {
   "cell_type": "markdown",
   "source": [
    "####2.4.- Convertir las columnas requeridas a los tipos de datos correspondientes (2 pts)"
   ],
   "metadata": {
    "collapsed": false
   }
  },
  {
   "cell_type": "code",
   "outputs": [],
   "source": [
    "# Se presentan los tipos de datos del dataset, y si pueden o no existir datos imposibles/nulos/etc.\n",
    "DFS_Ventas_Unificadas.printSchema()"
   ],
   "metadata": {
    "collapsed": false
   }
  },
  {
   "cell_type": "code",
   "outputs": [],
   "source": [
    "# Convertir columnas a tipos de datos correspondientes\n",
    "DFS_Ventas_Unificadas = DFS_Ventas_Unificadas \\\n",
    "    .withColumn(\"IdOrden\", col(\"IdOrden\").cast(IntegerType())) \\\n",
    "    .withColumn(\"Cantidad\", col(\"Cantidad\").cast(IntegerType())) \\\n",
    "    .withColumn(\"Precio_Unitario\", col(\"Precio_Unitario\").cast(DoubleType())) \\\n",
    "    .withColumn(\"Fecha\", to_date(from_unixtime(unix_timestamp(\"Fecha\", \"MM/dd/yy HH:mm\"))))\n",
    "\n",
    "# Mostrar el DataFrame con los tipos de datos modificados\n",
    "DFS_Ventas_Unificadas.printSchema()\n"
   ],
   "metadata": {
    "collapsed": false
   }
  },
  {
   "cell_type": "markdown",
   "source": [
    "##3.- Creación de variables: derivación de variables *(20pts)*"
   ],
   "metadata": {
    "collapsed": false
   }
  },
  {
   "cell_type": "markdown",
   "source": [
    "####3.1.-Se requiere Crear nueva columna **Mes** a partir de la columna *Fecha* (5 pts)"
   ],
   "metadata": {
    "collapsed": false
   }
  },
  {
   "cell_type": "code",
   "outputs": [],
   "source": [
    "# Crear nueva columna 'Mes' con el nombre del mes\n",
    "DFS_Ventas_Unificadas = DFS_Ventas_Unificadas.withColumn(\"Mes\", date_format(\"Fecha\", \"MMMM\"))\n",
    "\n",
    "# Mostrar el DataFrame con la nueva columna 'Mes'\n",
    "DFS_Ventas_Unificadas.show(5)"
   ],
   "metadata": {
    "collapsed": false
   }
  },
  {
   "cell_type": "markdown",
   "source": [
    "####3.2.-Se requiere Crear 3 nuevas columnas (**Dirección**, **Ciudad**, **Departamento**) a partir de la columna *Dirección de Compra* (5 pts)"
   ],
   "metadata": {
    "collapsed": false
   }
  },
  {
   "cell_type": "code",
   "outputs": [],
   "source": [
    "# Crear nuevas columnas 'Dirección', 'Ciudad', 'Departamento' a partir de 'DirecciónDeCompra'\n",
    "DFS_Ventas_Unificadas = DFS_Ventas_Unificadas \\\n",
    "    .withColumn(\"Dirección\", split(col(\"DirecciónDeCompra\"), ',')[0]) \\\n",
    "    .withColumn(\"Ciudad\", split(col(\"DirecciónDeCompra\"), ',')[1]) \\\n",
    "    .withColumn(\"Departamento\", split(col(\"DirecciónDeCompra\"), ',')[2])\n",
    "\n",
    "# Mostrar el DataFrame con las nuevas columnas\n",
    "DFS_Ventas_Unificadas.show(40)"
   ],
   "metadata": {
    "collapsed": false
   }
  },
  {
   "cell_type": "code",
   "outputs": [],
   "source": [
    "DFS_Ventas_Unificadas.limit(4).toPandas()"
   ],
   "metadata": {
    "collapsed": false
   }
  },
  {
   "cell_type": "markdown",
   "source": [
    "####3.3.-Se requiere crear una nueva columna 'Ciudad(Departamento)', a partir de las columnas Ciudad y Departamento (5 pts)"
   ],
   "metadata": {
    "collapsed": false
   }
  },
  {
   "cell_type": "code",
   "outputs": [],
   "source": [
    "from pyspark.sql.functions import col, concat, lit\n",
    "\n",
    "# Crear nueva columna 'Ciudad(Departamento)'\n",
    "DFS_Ventas_Unificadas = DFS_Ventas_Unificadas.withColumn(\"Ciudad(Departamento)\", concat(col(\"Ciudad\"), lit(\"(\"), col(\"Departamento\"), lit(\")\")))\n",
    "\n",
    "# Mostrar el DataFrame con la nueva columna 'Ciudad(Departamento)'\n",
    "DFS_Ventas_Unificadas.show(5)"
   ],
   "metadata": {
    "collapsed": false
   }
  },
  {
   "cell_type": "code",
   "outputs": [],
   "source": [
    "DFS_Ventas_Unificadas.limit(6).toPandas()"
   ],
   "metadata": {
    "collapsed": false
   }
  },
  {
   "cell_type": "markdown",
   "source": [
    "####3.4.- Eliminar las columnas: 'Dirección de Compra', 'Ciudad', 'Departamento' (5 pts)"
   ],
   "metadata": {
    "collapsed": false
   }
  },
  {
   "cell_type": "code",
   "outputs": [],
   "source": [
    "# Eliminar las columnas 'DirecciónDeCompra', 'Ciudad', 'Departamento'\n",
    "DFS_Ventas_Unificadas = DFS_Ventas_Unificadas.drop(\"DirecciónDeCompra\", \"Ciudad\", \"Departamento\")\n",
    "\n",
    "# Mostrar el DataFrame con las columnas eliminadas\n",
    "DFS_Ventas_Unificadas.show(5)"
   ],
   "metadata": {
    "collapsed": false
   }
  },
  {
   "cell_type": "markdown",
   "source": [
    "##4.- Limpieza de Datos y Análisis Exploratorio de Datos (40 pts)"
   ],
   "metadata": {
    "collapsed": false
   }
  },
  {
   "cell_type": "markdown",
   "source": [
    "####4.1.- Se requiere una tabla que presente la cantidad de datos nulos por variable (1pts)"
   ],
   "metadata": {
    "collapsed": false
   }
  },
  {
   "cell_type": "code",
   "outputs": [],
   "source": [
    "# Calcular la cantidad de datos nulos por variable\n",
    "nulos_por_variable = DFS_Ventas_Unificadas.select(*[count(when(col(c).isNull(), c)).alias(f'Nulos_{c}') for c in DFS_Ventas_Unificadas.columns])\n",
    "\n",
    "# Mostrar la tabla con la cantidad de datos nulos por variable\n",
    "nulos_por_variable.show()"
   ],
   "metadata": {
    "collapsed": false
   }
  },
  {
   "cell_type": "markdown",
   "source": [
    "####4.2.- Se requiere que los valores nulos encontrados de la variable Producto, sean cambiados por el producto más vendido (8 pts)"
   ],
   "metadata": {
    "collapsed": false
   }
  },
  {
   "cell_type": "code",
   "outputs": [],
   "source": [
    "# Calcular el producto más vendido\n",
    "producto_mas_vendido = DFS_Ventas_Unificadas.groupBy(\"Producto\").count().orderBy(desc(\"count\")).first()[\"Producto\"]\n",
    "print(\"El producto más vendido ha sido: \" + producto_mas_vendido)\n",
    "\n",
    "# Rellenar los valores nulos en 'Producto' con el producto más vendido\n",
    "DFS_Ventas_Unificadas = DFS_Ventas_Unificadas.withColumn(\"Producto\", when(col(\"Producto\").isNull(), producto_mas_vendido).otherwise(col(\"Producto\")))\n",
    "\n",
    "# Mostrar el DataFrame\n",
    "DFS_Ventas_Unificadas.show(5)"
   ],
   "metadata": {
    "collapsed": false
   }
  },
  {
   "cell_type": "code",
   "outputs": [],
   "source": [
    "# Se vuelve a hacer lo que se hizo en el punto de arriba para poder ver cuantos productos nulos hay \n",
    "# Calcular la cantidad de datos nulos por variable\n",
    "nulos_por_variable = DFS_Ventas_Unificadas.select(*[count(when(col(c).isNull(), c)).alias(f'Nulos_{c}') for c in DFS_Ventas_Unificadas.columns])\n",
    "\n",
    "# Mostrar la tabla con la cantidad de datos nulos por variable\n",
    "nulos_por_variable.show()"
   ],
   "metadata": {
    "collapsed": false
   }
  },
  {
   "cell_type": "markdown",
   "source": [
    "####4.3.-Se requiere saber el promedio de precios de cada Producto (1 pts)"
   ],
   "metadata": {
    "collapsed": false
   }
  },
  {
   "cell_type": "code",
   "outputs": [],
   "source": [
    "# Calcular el promedio de precios por producto\n",
    "promedio_precios = DFS_Ventas_Unificadas.groupBy(\"Producto\").agg(avg(\"Precio_Unitario\").alias(\"Promedio_Precio\"))\n",
    "\n",
    "# Mostrar el DataFrame con el promedio de precios por producto\n",
    "promedio_precios.show()\n"
   ],
   "metadata": {
    "collapsed": false
   }
  },
  {
   "cell_type": "markdown",
   "source": [
    "####4.4.- Se requiere que se sustituya los valores Nulos de la variable 'Precio_Unitario', cuando la variable Producto sea:\n",
    "          - Cable de Carga USB-C P/O\n",
    "          - Cable de Carga Lightning\n",
    "####por el precio promedio de los dos productos anteriores (8 pts)."
   ],
   "metadata": {
    "collapsed": false
   }
  },
  {
   "cell_type": "code",
   "outputs": [],
   "source": [
    "# Calcular el promedio de precios para los productos específicos\n",
    "productos_especificos = [\"Cable de Carga USB-C P/O\", \"Cable de Carga Lightning\"]\n",
    "promedio_precios_especificos = DFS_Ventas_Unificadas.filter(col(\"Producto\").isin(productos_especificos)).groupBy().agg(avg(\"Precio_Unitario\").alias(\"Promedio_Precio_Especifico\")).collect()[0][\"Promedio_Precio_Especifico\"]\n",
    "\n",
    "# Sustituir los valores nulos en 'Precio_Unitario' con el promedio calculado\n",
    "DFS_Ventas_Unificadas = DFS_Ventas_Unificadas.withColumn(\"Precio_Unitario\", when((col(\"Producto\").isin(productos_especificos)) & col(\"Precio_Unitario\").isNull(), promedio_precios_especificos).otherwise(col(\"Precio_Unitario\")))\n",
    "\n",
    "# Mostrar el DataFrame con los valores nulos en 'Precio_Unitario' actualizados\n",
    "DFS_Ventas_Unificadas.show(5)"
   ],
   "metadata": {
    "collapsed": false
   }
  },
  {
   "cell_type": "markdown",
   "source": [
    "####4.5.- ¿Cúantos valores nulos quedaron de la variable Precio_Unitario? (1pts)"
   ],
   "metadata": {
    "collapsed": false
   }
  },
  {
   "cell_type": "code",
   "outputs": [],
   "source": [
    "# Contar la cantidad de valores nulos en 'Precio_Unitario'\n",
    "valores_nulos_precio = DFS_Ventas_Unificadas.select(count(when(col(\"Precio_Unitario\").isNull(), \"Precio_Unitario\")))\n",
    "\n",
    "# Mostrar la cantidad de valores nulos en 'Precio_Unitario'\n",
    "valores_nulos_precio.show()"
   ],
   "metadata": {
    "collapsed": false
   }
  },
  {
   "cell_type": "markdown",
   "source": [
    "####4.6.- Elimine los valores nulos restantes del Dataframe (verifique) (2pts)"
   ],
   "metadata": {
    "collapsed": false
   }
  },
  {
   "cell_type": "code",
   "outputs": [],
   "source": [
    "# Eliminar las filas con valores nulos restantes\n",
    "DFS_Ventas_Unificadas = DFS_Ventas_Unificadas.na.drop()\n",
    "\n",
    "# Verificar el DataFrame después de eliminar los valores nulos\n",
    "DFS_Ventas_Unificadas.show(5)"
   ],
   "metadata": {
    "collapsed": false
   }
  },
  {
   "cell_type": "code",
   "outputs": [],
   "source": [
    "# Se vuelve a hacer lo que se hizo en el punto de arriba para poder ver cuantos productos nulos hay \n",
    "# Calcular la cantidad de datos nulos por variable\n",
    "nulos_por_variable = DFS_Ventas_Unificadas.select(*[count(when(col(c).isNull(), c)).alias(f'Nulos_{c}') for c in DFS_Ventas_Unificadas.columns])\n",
    "\n",
    "# Mostrar la tabla con la cantidad de datos nulos por variable\n",
    "nulos_por_variable.show()"
   ],
   "metadata": {
    "collapsed": false
   }
  },
  {
   "cell_type": "markdown",
   "source": [
    "####4.7.- Haga una tabla y un gráfico histograma de cantidad de ventas por mes (8pts)"
   ],
   "metadata": {
    "collapsed": false
   }
  },
  {
   "cell_type": "code",
   "outputs": [],
   "source": [
    "# Convertir la columna 'Fecha' a tipo de dato de fecha\n",
    "DFS_Ventas_Unificadas = DFS_Ventas_Unificadas.withColumn(\"Fecha\", col(\"Fecha\").cast(\"date\"))\n",
    "\n",
    "# Extraer el mes de la columna 'Fecha'\n",
    "DFS_Ventas_Unificadas = DFS_Ventas_Unificadas.withColumn(\"Mes\", month(\"Fecha\"))\n",
    "\n",
    "# Crear tabla de cantidad de ventas por mes\n",
    "ventas_por_mes = DFS_Ventas_Unificadas.groupBy(\"Mes\").count().orderBy(\"Mes\")\n",
    "\n",
    "# Mostrar la tabla\n",
    "ventas_por_mes.show()\n",
    "\n",
    "# Convertir a Pandas para el gráfico de histograma\n",
    "ventas_por_mes_pd = ventas_por_mes.toPandas()\n",
    "\n",
    "# Crear gráfico de histograma\n",
    "plt.bar(ventas_por_mes_pd[\"Mes\"], ventas_por_mes_pd[\"count\"])\n",
    "plt.xlabel('Mes')\n",
    "plt.ylabel('Cantidad de Ventas')\n",
    "plt.title('Cantidad de Ventas por Mes')\n",
    "plt.show()\n"
   ],
   "metadata": {
    "collapsed": false
   }
  },
  {
   "cell_type": "markdown",
   "source": [
    "####4.8.- Presente un resumen estadístico del dataframe (1pts)"
   ],
   "metadata": {
    "collapsed": false
   }
  },
  {
   "cell_type": "code",
   "outputs": [],
   "source": [
    "# Obtener el resumen estadístico del DataFrame\n",
    "resumen_estadistico = DFS_Ventas_Unificadas.describe()\n",
    "\n",
    "# Mostrar el resumen estadístico\n",
    "resumen_estadistico.show()"
   ],
   "metadata": {
    "collapsed": false
   }
  },
  {
   "cell_type": "markdown",
   "source": [
    "####4.9.- Se requiere presentar la cantidad de ventas por Ciudad(Departamento) y hacer un histograma (8pts)."
   ],
   "metadata": {
    "collapsed": false
   }
  },
  {
   "cell_type": "code",
   "outputs": [],
   "source": [
    "# Agrupar por 'Ciudad(Departamento)' y contar la cantidad de ventas\n",
    "ventas_por_ciudad = DFS_Ventas_Unificadas.groupBy(\"Ciudad(Departamento)\").count().orderBy(\"count\", ascending=False)\n",
    "\n",
    "# Mostrar la tabla\n",
    "ventas_por_ciudad.show()\n",
    "\n",
    "# Convertir a Pandas para el gráfico de histograma\n",
    "ventas_por_ciudad_pd = ventas_por_ciudad.toPandas()\n",
    "\n",
    "# Crear gráfico de histograma\n",
    "plt.bar(ventas_por_ciudad_pd[\"Ciudad(Departamento)\"], ventas_por_ciudad_pd[\"count\"])\n",
    "plt.xlabel('Ciudad(Departamento)')\n",
    "plt.ylabel('Cantidad de Ventas')\n",
    "plt.title('Cantidad de Ventas por Ciudad(Departamento)')\n",
    "plt.xticks(rotation=45, ha='right')  # Rotar las etiquetas del eje x para mayor legibilidad\n",
    "plt.show()"
   ],
   "metadata": {
    "collapsed": false
   }
  },
  {
   "cell_type": "markdown",
   "source": [
    "##5.-Responda justificando las siguientes preguntas (30 pts):\n",
    "#### 5.1.- Escriba 5 observaciones de la gráfica *4.7* (10 pts)"
   ],
   "metadata": {
    "collapsed": false
   }
  },
  {
   "cell_type": "code",
   "outputs": [],
   "source": [
    "# Crear gráfico de histograma\n",
    "plt.bar(ventas_por_mes_pd[\"Mes\"], ventas_por_mes_pd[\"count\"])\n",
    "plt.xlabel('Mes')\n",
    "plt.ylabel('Cantidad de Ventas')\n",
    "plt.title('Cantidad de Ventas por Mes')\n",
    "plt.show()"
   ],
   "metadata": {
    "collapsed": false
   }
  },
  {
   "cell_type": "markdown",
   "source": [
    "Visualizando la gráfica es posible observar los siguiente: \n",
    "1. El mes donde más se venden productos es el mes 12 (o diciembre), esto es algo bastante \"predecible\" debido a que es la época de dar y recibir (en teoría) regalos.\n",
    "2. El mes donde menos se venden productos es el mes 9 (o septiembre), esto podría verse presentado gracias a que septiembre es un mes bastante tranquilo, sin ninguna festividad en especial y con la gente ahorrando para las navidades.\n",
    "3. En el mes de agosto se puede evidenciar un pico que incluso situa a este mes como el segundo mes con más ventas, esto puede verse presentado por el regreso a clases, donde estudiantes buscan adquirir todo tipo de productos para sus semestres o años escolares.\n",
    "4. En el mes de junio es posible ver que tambien hay un pico (aunque no tan alto), puede verse por el ingreso de las vacaciones y que la gente suele comprar más cosas para disfrutar de estas.\n",
    "5. Octubre y noviembre tienen ventas muy simulares, puede verse presentado por festividades como halloween (para el caso de octubre) y el black friday (para noviembre)."
   ],
   "metadata": {
    "collapsed": false
   }
  },
  {
   "cell_type": "markdown",
   "source": [
    "#### 5.2.-¿Cúal fue la ciudad que más productos vendió? (5 pts)"
   ],
   "metadata": {
    "collapsed": false
   }
  },
  {
   "cell_type": "code",
   "outputs": [],
   "source": [
    "# Ordenar la tabla por cantidad de ventas de manera descendente\n",
    "ciudad_mas_productos = ventas_por_ciudad.orderBy(\"count\", ascending=False).first()[\"Ciudad(Departamento)\"]\n",
    "\n",
    "# Mostrar la ciudad que más productos vendió\n",
    "print(\"La ciudad que más productos vendió es:\", ciudad_mas_productos)"
   ],
   "metadata": {
    "collapsed": false
   }
  },
  {
   "cell_type": "code",
   "outputs": [],
   "source": [
    "La ciduad con más ventas es Medellín, esto debido a su gran población y a su gran cantidad de comercios."
   ],
   "metadata": {
    "collapsed": false
   }
  },
  {
   "cell_type": "markdown",
   "source": [
    "#### 5.3.-¿Cúal es el producto más vendido? (5 pts)"
   ],
   "metadata": {
    "collapsed": false
   }
  },
  {
   "cell_type": "code",
   "outputs": [],
   "source": [
    "# Agrupar por 'Producto' y contar la cantidad de ventas\n",
    "ventas_por_producto = DFS_Ventas_Unificadas.groupBy(\"Producto\").count()\n",
    "\n",
    "# Ordenar la tabla por cantidad de ventas de manera descendente\n",
    "producto_mas_vendido = ventas_por_producto.orderBy(desc(\"count\")).first()[\"Producto\"]\n",
    "\n",
    "# Mostrar el producto más vendido\n",
    "print(\"El producto más vendido es:\", producto_mas_vendido)"
   ],
   "metadata": {
    "collapsed": false
   }
  },
  {
   "cell_type": "code",
   "outputs": [],
   "source": [
    "El producto más vendido es el Cable de Carga USB-C P/O. Esto es debido a que es algo que casi todos necesitamos para cargar nuestros dispositivos."
   ],
   "metadata": {
    "collapsed": false
   }
  },
  {
   "cell_type": "markdown",
   "source": [
    "#### 5.4.-¿Cúal es el producto menos vendido? (5 pts)"
   ],
   "metadata": {
    "collapsed": false
   }
  },
  {
   "cell_type": "code",
   "outputs": [],
   "source": [
    "# Agrupar por 'Producto' y contar la cantidad de ventas\n",
    "ventas_por_producto = DFS_Ventas_Unificadas.groupBy(\"Producto\").count()\n",
    "\n",
    "# Ordenar la tabla por cantidad de ventas de manera ascendente\n",
    "producto_menos_vendido = ventas_por_producto.orderBy(asc(\"count\")).first()[\"Producto\"]\n",
    "\n",
    "# Mostrar el producto menos vendido\n",
    "print(\"El producto menos vendido es:\", producto_menos_vendido)\n"
   ],
   "metadata": {
    "collapsed": false
   }
  },
  {
   "cell_type": "markdown",
   "source": [
    "El producto menos vendido es la lavadora LG de 19Kg Inv WT19. Esto es de esperar debido a que uno no compra una lavadora todos los días y además, el producto es de un costo elevado."
   ],
   "metadata": {
    "collapsed": false
   }
  },
  {
   "cell_type": "markdown",
   "source": [
    "#### 5.5.-¿Cúal es la proporción de ventas de la ciudad que más vendió productos? (5 pts)"
   ],
   "metadata": {
    "collapsed": false
   }
  },
  {
   "cell_type": "code",
   "outputs": [],
   "source": [
    "# Obtener el total de ventas en todas las ciudades\n",
    "total_ventas = DFS_Ventas_Unificadas.count()\n",
    "\n",
    "# Obtener la cantidad de ventas en la ciudad que más productos vendió\n",
    "ventas_ciudad_mas_productos = ventas_por_ciudad.where(col(\"Ciudad(Departamento)\") == ciudad_mas_productos).first()[\"count\"]\n",
    "\n",
    "# Calcular la proporción\n",
    "proporcion_ventas_ciudad_mas_productos = ventas_ciudad_mas_productos / total_ventas\n",
    "\n",
    "# Mostrar la proporción de ventas de la ciudad que más vendió productos\n",
    "print(\"La proporción de ventas de la ciudad que más vendió productos es:\", proporcion_ventas_ciudad_mas_productos)\n"
   ],
   "metadata": {
    "collapsed": false
   }
  },
  {
   "cell_type": "markdown",
   "metadata": {
    "application/vnd.databricks.v1+cell": {
     "cellMetadata": {
      "byteLimit": 2048000,
      "rowLimit": 10000
     },
     "inputWidgets": {},
     "nuid": "c99d39f3-d1b2-4f0a-b13e-1f7c87483b43",
     "showTitle": false,
     "title": ""
    }
   },
   "source": [
    "La proporción de ventas de la ciudad que más productos vendió es del 24.01%. Esto significa que aproximadamente el 24.01% de todas las ventas registradas en el conjunto de datos provienen de esa ciudad en particular. En términos porcentuales, la ciudad en cuestión tiene una participación significativa en el total de ventas, destacándose como un contribuyente importante al volumen de transacciones."
   ]
  }
 ],
 "metadata": {
  "application/vnd.databricks.v1+notebook": {
   "dashboards": [],
   "language": "python",
   "notebookMetadata": {
    "pythonIndentUnit": 4
   },
   "notebookName": "Parcial_A_Datos",
   "widgets": {}
  },
  "kernelspec": {
   "name": "python3",
   "language": "python",
   "display_name": "Python 3 (ipykernel)"
  }
 },
 "nbformat": 4,
 "nbformat_minor": 0
}
