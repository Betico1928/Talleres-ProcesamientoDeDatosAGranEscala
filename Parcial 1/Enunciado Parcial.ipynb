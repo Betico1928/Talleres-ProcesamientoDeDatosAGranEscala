{
 "cells": [
  {
   "cell_type": "markdown",
   "metadata": {
    "application/vnd.databricks.v1+cell": {
     "cellMetadata": {
      "byteLimit": 2048000,
      "rowLimit": 10000
     },
     "inputWidgets": {},
     "nuid": "f4ea4b6f-0f81-4d27-918e-bcb7d9a5166c",
     "showTitle": false,
     "title": ""
    }
   },
   "source": [
    "\n",
    "###*Pontificia Universidad Javeriana*\n",
    "\n",
    "**Fecha**: 4 de marzo 2024\n",
    "\n",
    "**Profesor**: John Corredor, PhD\n",
    "\n",
    "**Materia**: Procesamiento de Alto Volumen de Datos\n",
    "\n",
    "**Objetivo**: Primer Parcial **Modelo A**\n",
    "\n",
    "###**Nombre Estudiante**:\n",
    "\n",
    "###**ID Estudiante**:"
   ]
  },
  {
   "cell_type": "markdown",
   "metadata": {
    "application/vnd.databricks.v1+cell": {
     "cellMetadata": {
      "byteLimit": 2048000,
      "rowLimit": 10000
     },
     "inputWidgets": {},
     "nuid": "7908876e-fbfb-4c49-b19a-d21497e7df77",
     "showTitle": false,
     "title": ""
    }
   },
   "source": [
    "**Contexto**\n",
    "- Se presenta un conjunto de datos (dataset) los cuales representan las ventas de productos en el año 2019\n",
    "- Cada dataset tiene los siguientes campos\n",
    "     \n",
    "      - ID Orden: identificador de orden de compra\n",
    "     \n",
    "      - Producto: Descripción de producto\n",
    "     \n",
    "      - Cantidad Ordenada: cantidad de productos del mismo tipo ordenados/pedidos/comprados\n",
    "     \n",
    "      - Precio Unitarios: valor comercial del producto\n",
    "     \n",
    "      - Fecha: fecha del producto vendido, formato: mes/día/año hora\n",
    "     \n",
    "      - Dirección de compra: dirección de venta del producto, formato: dirección, ciudad, iniciales del departamento\n",
    "\n",
    "- El conjunto de datos se ubica en la carpeta del enlace <https://github.com/corredor-john/ExploratoryDataAnalisys/tree/main/Ventas>\n",
    "- A continuación de se presenta los pasos a seguir a para el desarrollo del parcial"
   ]
  },
  {
   "cell_type": "markdown",
   "metadata": {
    "application/vnd.databricks.v1+cell": {
     "cellMetadata": {},
     "inputWidgets": {},
     "nuid": "a7c334ff-0fb4-4de7-a542-43d91733db8f",
     "showTitle": false,
     "title": ""
    }
   },
   "source": [
    "##1. Cargar las bibliotecas necesarias y la sesión PYSPARK"
   ]
  },
  {
   "cell_type": "code",
   "execution_count": 0,
   "metadata": {
    "application/vnd.databricks.v1+cell": {
     "cellMetadata": {
      "byteLimit": 2048000,
      "rowLimit": 10000
     },
     "inputWidgets": {},
     "nuid": "77939459-6da8-4bbc-b7a5-96ea7c1c81f2",
     "showTitle": false,
     "title": ""
    }
   },
   "outputs": [],
   "source": []
  },
  {
   "cell_type": "markdown",
   "metadata": {
    "application/vnd.databricks.v1+cell": {
     "cellMetadata": {},
     "inputWidgets": {},
     "nuid": "c263a600-c213-4786-a358-595380c11af3",
     "showTitle": false,
     "title": ""
    }
   },
   "source": [
    "##2. DataFrame PySpark (10 pts)\n",
    "####2.1.- Crear un dataframe PySpark con los conjuntos de datos de la carpeta dada en el enlace"
   ]
  },
  {
   "cell_type": "code",
   "execution_count": 0,
   "metadata": {
    "application/vnd.databricks.v1+cell": {
     "cellMetadata": {
      "byteLimit": 2048000,
      "rowLimit": 10000
     },
     "inputWidgets": {},
     "nuid": "efc51c35-4a4e-42ec-9cef-922c6bc3ef58",
     "showTitle": false,
     "title": ""
    }
   },
   "outputs": [],
   "source": []
  },
  {
   "cell_type": "code",
   "execution_count": 0,
   "metadata": {
    "application/vnd.databricks.v1+cell": {
     "cellMetadata": {
      "byteLimit": 2048000,
      "rowLimit": 10000
     },
     "inputWidgets": {},
     "nuid": "3ecd2632-a256-4b32-91cc-7b53e79a665b",
     "showTitle": false,
     "title": ""
    }
   },
   "outputs": [],
   "source": []
  },
  {
   "cell_type": "markdown",
   "metadata": {
    "application/vnd.databricks.v1+cell": {
     "cellMetadata": {},
     "inputWidgets": {},
     "nuid": "509e58fd-13ae-4cea-84d7-5d9b7857f0de",
     "showTitle": false,
     "title": ""
    }
   },
   "source": [
    "####2.2.- Presentar el tipo de datos del dataframe spark (5 pts)"
   ]
  },
  {
   "cell_type": "code",
   "execution_count": 0,
   "metadata": {
    "application/vnd.databricks.v1+cell": {
     "cellMetadata": {
      "byteLimit": 2048000,
      "rowLimit": 10000
     },
     "inputWidgets": {},
     "nuid": "afe4aae0-d48d-4cfb-bc21-3aee9d29c54b",
     "showTitle": false,
     "title": ""
    }
   },
   "outputs": [],
   "source": []
  },
  {
   "cell_type": "markdown",
   "metadata": {
    "application/vnd.databricks.v1+cell": {
     "cellMetadata": {},
     "inputWidgets": {},
     "nuid": "c5029b61-b6e3-4d46-805f-f71c37a3a119",
     "showTitle": false,
     "title": ""
    }
   },
   "source": [
    "####2.3.-Se requiere cambiar los nombres de las columnas: (3 pts)\n",
    "  - 'Producto '->'Producto'\n",
    "  - ' Cantidad Ordenada'->'Cantidad'\n",
    "  - 'Precio Unitario '->'Precio_Unitario'"
   ]
  },
  {
   "cell_type": "code",
   "execution_count": 0,
   "metadata": {
    "application/vnd.databricks.v1+cell": {
     "cellMetadata": {
      "byteLimit": 2048000,
      "rowLimit": 10000
     },
     "inputWidgets": {},
     "nuid": "b229d93a-f6bb-47d5-bde9-b765aa069594",
     "showTitle": false,
     "title": ""
    }
   },
   "outputs": [],
   "source": []
  },
  {
   "cell_type": "markdown",
   "metadata": {
    "application/vnd.databricks.v1+cell": {
     "cellMetadata": {},
     "inputWidgets": {},
     "nuid": "12b315e4-1c6b-4206-a848-7b919fc35712",
     "showTitle": false,
     "title": ""
    }
   },
   "source": [
    "####2.4.- Convertir las columnas requeridas a los tipos de datos correspondientes (2 pts)"
   ]
  },
  {
   "cell_type": "code",
   "execution_count": 0,
   "metadata": {
    "application/vnd.databricks.v1+cell": {
     "cellMetadata": {
      "byteLimit": 2048000,
      "rowLimit": 10000
     },
     "inputWidgets": {},
     "nuid": "185b4719-728f-44c8-b469-9a5b4638f2b7",
     "showTitle": false,
     "title": ""
    }
   },
   "outputs": [],
   "source": []
  },
  {
   "cell_type": "markdown",
   "metadata": {
    "application/vnd.databricks.v1+cell": {
     "cellMetadata": {},
     "inputWidgets": {},
     "nuid": "5fe982f1-2369-409c-b3d2-016274bd5e68",
     "showTitle": false,
     "title": ""
    }
   },
   "source": [
    "##3.- Creación de variables: derivación de variables *(20pts)*"
   ]
  },
  {
   "cell_type": "markdown",
   "metadata": {
    "application/vnd.databricks.v1+cell": {
     "cellMetadata": {},
     "inputWidgets": {},
     "nuid": "835bd32e-51ec-431c-9655-932ee9f10bb0",
     "showTitle": false,
     "title": ""
    }
   },
   "source": [
    "####3.1.-Se requiere Crear nueva columna **Mes** a partir de la columna *Fecha* (5 pts)"
   ]
  },
  {
   "cell_type": "code",
   "execution_count": 0,
   "metadata": {
    "application/vnd.databricks.v1+cell": {
     "cellMetadata": {
      "byteLimit": 2048000,
      "rowLimit": 10000
     },
     "inputWidgets": {},
     "nuid": "f1f995ff-06db-4187-8389-0832ee77a87b",
     "showTitle": false,
     "title": ""
    }
   },
   "outputs": [],
   "source": []
  },
  {
   "cell_type": "markdown",
   "metadata": {
    "application/vnd.databricks.v1+cell": {
     "cellMetadata": {},
     "inputWidgets": {},
     "nuid": "bde22dc5-eadb-4aa4-ad96-fedac64a454b",
     "showTitle": false,
     "title": ""
    }
   },
   "source": [
    "####3.2.-Se requiere Crear 3 nuevas columnas (**Dirección**, **Ciudad**, **Departamento**) a partir de la columna *Dirección de Compra* (5 pts)"
   ]
  },
  {
   "cell_type": "code",
   "execution_count": 0,
   "metadata": {
    "application/vnd.databricks.v1+cell": {
     "cellMetadata": {},
     "inputWidgets": {},
     "nuid": "d585f7f6-9552-43ca-bffc-1f2baabab76c",
     "showTitle": false,
     "title": ""
    }
   },
   "outputs": [],
   "source": []
  },
  {
   "cell_type": "markdown",
   "metadata": {
    "application/vnd.databricks.v1+cell": {
     "cellMetadata": {},
     "inputWidgets": {},
     "nuid": "7f8b3051-2737-4a2d-a081-c93b9908796e",
     "showTitle": false,
     "title": ""
    }
   },
   "source": [
    "####3.3.-Se requiere crear una nueva columna 'Ciudad(Departamento)', a partir de las columnas Ciudad y Departamento (5 pts)"
   ]
  },
  {
   "cell_type": "code",
   "execution_count": 0,
   "metadata": {
    "application/vnd.databricks.v1+cell": {
     "cellMetadata": {
      "byteLimit": 2048000,
      "rowLimit": 10000
     },
     "inputWidgets": {},
     "nuid": "c7ee2eae-976d-4697-bc65-f61361e82519",
     "showTitle": false,
     "title": ""
    }
   },
   "outputs": [],
   "source": []
  },
  {
   "cell_type": "markdown",
   "metadata": {
    "application/vnd.databricks.v1+cell": {
     "cellMetadata": {},
     "inputWidgets": {},
     "nuid": "b7933828-8df7-4d7c-92db-c81703d88b54",
     "showTitle": false,
     "title": ""
    }
   },
   "source": [
    "####3.4.- Eliminar las columnas: 'Dirección de Compra', 'Ciudad', 'Departamento' (5 pts)"
   ]
  },
  {
   "cell_type": "code",
   "execution_count": 0,
   "metadata": {
    "application/vnd.databricks.v1+cell": {
     "cellMetadata": {
      "byteLimit": 2048000,
      "rowLimit": 10000
     },
     "inputWidgets": {},
     "nuid": "ff46c62e-ef6c-4273-849a-b82713e025da",
     "showTitle": false,
     "title": ""
    }
   },
   "outputs": [],
   "source": []
  },
  {
   "cell_type": "markdown",
   "metadata": {
    "application/vnd.databricks.v1+cell": {
     "cellMetadata": {},
     "inputWidgets": {},
     "nuid": "9c573b54-15e3-4b9b-9001-bd577a5c4477",
     "showTitle": false,
     "title": ""
    }
   },
   "source": [
    "##4.- Limpieza de Datos y Análisis Exploratorio de Datos (40 pts)"
   ]
  },
  {
   "cell_type": "markdown",
   "metadata": {
    "application/vnd.databricks.v1+cell": {
     "cellMetadata": {},
     "inputWidgets": {},
     "nuid": "d52c3d62-2e76-4283-bbd1-aba599772aac",
     "showTitle": false,
     "title": ""
    }
   },
   "source": [
    "####4.1.- Se requiere una tabla que presente la cantidad de datos nulos por variable (1pts)"
   ]
  },
  {
   "cell_type": "code",
   "execution_count": 0,
   "metadata": {
    "application/vnd.databricks.v1+cell": {
     "cellMetadata": {
      "byteLimit": 2048000,
      "rowLimit": 10000
     },
     "inputWidgets": {},
     "nuid": "1eba3109-a000-43b1-8e10-bd7d3b4486a0",
     "showTitle": false,
     "title": ""
    }
   },
   "outputs": [],
   "source": []
  },
  {
   "cell_type": "markdown",
   "metadata": {
    "application/vnd.databricks.v1+cell": {
     "cellMetadata": {},
     "inputWidgets": {},
     "nuid": "8e4fa67c-6c20-498e-8323-8ffffbc5a376",
     "showTitle": false,
     "title": ""
    }
   },
   "source": [
    "####4.2.- Se requiere que los valores nulos encontrados de la variable Producto, sean cambiados por el producto más vendido (8 pts)"
   ]
  },
  {
   "cell_type": "code",
   "execution_count": 0,
   "metadata": {
    "application/vnd.databricks.v1+cell": {
     "cellMetadata": {
      "byteLimit": 2048000,
      "rowLimit": 10000
     },
     "inputWidgets": {},
     "nuid": "b4ad081d-0759-49ee-85fc-913d6441fd31",
     "showTitle": false,
     "title": ""
    }
   },
   "outputs": [],
   "source": []
  },
  {
   "cell_type": "markdown",
   "metadata": {
    "application/vnd.databricks.v1+cell": {
     "cellMetadata": {},
     "inputWidgets": {},
     "nuid": "1d5a83c7-943c-44f3-b730-530e552e5a40",
     "showTitle": false,
     "title": ""
    }
   },
   "source": [
    "####4.3.-Se requiere saber el promedio de precios de cada Producto (1 pts)"
   ]
  },
  {
   "cell_type": "code",
   "execution_count": 0,
   "metadata": {
    "application/vnd.databricks.v1+cell": {
     "cellMetadata": {
      "byteLimit": 2048000,
      "rowLimit": 10000
     },
     "inputWidgets": {},
     "nuid": "7cb9bb1f-05eb-4ed9-ba4e-ee2ee540ea34",
     "showTitle": false,
     "title": ""
    }
   },
   "outputs": [],
   "source": []
  },
  {
   "cell_type": "markdown",
   "metadata": {
    "application/vnd.databricks.v1+cell": {
     "cellMetadata": {},
     "inputWidgets": {},
     "nuid": "cf4a73c4-9b9e-4795-96e3-64517a64c1d3",
     "showTitle": false,
     "title": ""
    }
   },
   "source": [
    "####4.4.- Se requiere que se sustituya los valores Nulos de la variable 'Precio_Unitario', cuando la variable Producto sea:\n",
    "          - Cable de Carga USB-C P/O\n",
    "          - Cable de Carga Lightning\n",
    "####por el precio promedio de los dos productos anteriores (8 pts)."
   ]
  },
  {
   "cell_type": "code",
   "execution_count": 0,
   "metadata": {
    "application/vnd.databricks.v1+cell": {
     "cellMetadata": {
      "byteLimit": 2048000,
      "rowLimit": 10000
     },
     "inputWidgets": {},
     "nuid": "cf5bedbb-371f-4881-bbe9-132e0cfa0e67",
     "showTitle": false,
     "title": ""
    }
   },
   "outputs": [],
   "source": []
  },
  {
   "cell_type": "markdown",
   "metadata": {
    "application/vnd.databricks.v1+cell": {
     "cellMetadata": {},
     "inputWidgets": {},
     "nuid": "f9edcde0-34c7-4c6f-8dcb-4fd31da2ba65",
     "showTitle": false,
     "title": ""
    }
   },
   "source": [
    "####4.5.- ¿Cúantos valores nulos quedaron de la variable Precio_Unitario? (1pts)"
   ]
  },
  {
   "cell_type": "code",
   "execution_count": 0,
   "metadata": {
    "application/vnd.databricks.v1+cell": {
     "cellMetadata": {},
     "inputWidgets": {},
     "nuid": "d22f1e2b-4a63-4b8d-abf3-3ce94cddcf6e",
     "showTitle": false,
     "title": ""
    }
   },
   "outputs": [],
   "source": []
  },
  {
   "cell_type": "markdown",
   "metadata": {
    "application/vnd.databricks.v1+cell": {
     "cellMetadata": {},
     "inputWidgets": {},
     "nuid": "a203cab3-c98c-46b6-ab1c-9ddd7831db20",
     "showTitle": false,
     "title": ""
    }
   },
   "source": [
    "####4.6.- Elimine los valores nulos restantes del Dataframe (verifique) (2pts)"
   ]
  },
  {
   "cell_type": "code",
   "execution_count": 0,
   "metadata": {
    "application/vnd.databricks.v1+cell": {
     "cellMetadata": {
      "byteLimit": 2048000,
      "rowLimit": 10000
     },
     "inputWidgets": {},
     "nuid": "40d4de08-296f-4e71-b47a-c76c36e92a15",
     "showTitle": false,
     "title": ""
    }
   },
   "outputs": [],
   "source": []
  },
  {
   "cell_type": "markdown",
   "metadata": {
    "application/vnd.databricks.v1+cell": {
     "cellMetadata": {},
     "inputWidgets": {},
     "nuid": "083dd361-9e48-4ae9-a6ca-25534667957d",
     "showTitle": false,
     "title": ""
    }
   },
   "source": [
    "####4.7.- Haga una tabla y un gráfico histograma de cantidad de ventas por mes (8pts)"
   ]
  },
  {
   "cell_type": "code",
   "execution_count": 0,
   "metadata": {
    "application/vnd.databricks.v1+cell": {
     "cellMetadata": {
      "byteLimit": 2048000,
      "rowLimit": 10000
     },
     "inputWidgets": {},
     "nuid": "64f54a39-6c70-425d-b7d1-eb5e31d185de",
     "showTitle": false,
     "title": ""
    }
   },
   "outputs": [],
   "source": []
  },
  {
   "cell_type": "code",
   "execution_count": 0,
   "metadata": {
    "application/vnd.databricks.v1+cell": {
     "cellMetadata": {
      "byteLimit": 2048000,
      "rowLimit": 10000
     },
     "inputWidgets": {},
     "nuid": "c39e358a-cd92-4930-88f1-db8b242a7d09",
     "showTitle": false,
     "title": ""
    }
   },
   "outputs": [],
   "source": []
  },
  {
   "cell_type": "markdown",
   "metadata": {
    "application/vnd.databricks.v1+cell": {
     "cellMetadata": {},
     "inputWidgets": {},
     "nuid": "ccea37e2-349d-4002-a0b1-316219c9408c",
     "showTitle": false,
     "title": ""
    }
   },
   "source": [
    "####4.8.- Presente un resumen estadístico del dataframe (1pts)"
   ]
  },
  {
   "cell_type": "code",
   "execution_count": 0,
   "metadata": {
    "application/vnd.databricks.v1+cell": {
     "cellMetadata": {
      "byteLimit": 2048000,
      "rowLimit": 10000
     },
     "inputWidgets": {},
     "nuid": "542ee0db-7540-4410-b3e4-95496e32159d",
     "showTitle": false,
     "title": ""
    }
   },
   "outputs": [],
   "source": []
  },
  {
   "cell_type": "markdown",
   "metadata": {
    "application/vnd.databricks.v1+cell": {
     "cellMetadata": {},
     "inputWidgets": {},
     "nuid": "79a35c5c-95ad-47c0-bbda-5a1acc27d00e",
     "showTitle": false,
     "title": ""
    }
   },
   "source": [
    "####4.9.- Se requiere presentar la cantidad de ventas por Ciudad(Departamento) y hacer un histograma (8pts)."
   ]
  },
  {
   "cell_type": "code",
   "execution_count": 0,
   "metadata": {
    "application/vnd.databricks.v1+cell": {
     "cellMetadata": {
      "byteLimit": 2048000,
      "rowLimit": 10000
     },
     "inputWidgets": {},
     "nuid": "8bdafae7-cf8b-4341-af0d-dd8a509dcc90",
     "showTitle": false,
     "title": ""
    }
   },
   "outputs": [],
   "source": []
  },
  {
   "cell_type": "code",
   "execution_count": 0,
   "metadata": {
    "application/vnd.databricks.v1+cell": {
     "cellMetadata": {
      "byteLimit": 2048000,
      "rowLimit": 10000
     },
     "inputWidgets": {},
     "nuid": "8a7a4057-f996-4dc2-aea2-3728dd909050",
     "showTitle": false,
     "title": ""
    }
   },
   "outputs": [],
   "source": []
  },
  {
   "cell_type": "markdown",
   "metadata": {
    "application/vnd.databricks.v1+cell": {
     "cellMetadata": {},
     "inputWidgets": {},
     "nuid": "ce402d51-42db-45b2-a3d4-d994765b8542",
     "showTitle": false,
     "title": ""
    }
   },
   "source": [
    "##5.-Responda justificando las siguientes preguntas (30 pts):\n",
    "#### 5.1.- Escriba 5 observaciones de la gráfica *4.7* (10 pts)"
   ]
  },
  {
   "cell_type": "code",
   "execution_count": 0,
   "metadata": {
    "application/vnd.databricks.v1+cell": {
     "cellMetadata": {},
     "inputWidgets": {},
     "nuid": "b1cb24d5-be5c-41dd-897c-0ed4f2e3e0b7",
     "showTitle": false,
     "title": ""
    }
   },
   "outputs": [],
   "source": []
  },
  {
   "cell_type": "markdown",
   "metadata": {
    "application/vnd.databricks.v1+cell": {
     "cellMetadata": {
      "byteLimit": 2048000,
      "rowLimit": 10000
     },
     "inputWidgets": {},
     "nuid": "033d8864-e5ae-43b1-b887-ef02261a9ad9",
     "showTitle": false,
     "title": ""
    }
   },
   "source": [
    "#### 5.2.-¿Cúal fue la ciudad que más productos vendió? (5 pts)"
   ]
  },
  {
   "cell_type": "code",
   "execution_count": 0,
   "metadata": {
    "application/vnd.databricks.v1+cell": {
     "cellMetadata": {
      "byteLimit": 2048000,
      "rowLimit": 10000
     },
     "inputWidgets": {},
     "nuid": "c0daaf1b-581f-403b-a91e-8d6d79b352c7",
     "showTitle": false,
     "title": ""
    }
   },
   "outputs": [],
   "source": []
  },
  {
   "cell_type": "markdown",
   "metadata": {
    "application/vnd.databricks.v1+cell": {
     "cellMetadata": {
      "byteLimit": 2048000,
      "rowLimit": 10000
     },
     "inputWidgets": {},
     "nuid": "ae4a961b-df76-4ad6-a459-06839d946fd2",
     "showTitle": false,
     "title": ""
    }
   },
   "source": [
    "#### 5.3.-¿Cúal es el producto más vendido? (5 pts)"
   ]
  },
  {
   "cell_type": "code",
   "execution_count": 0,
   "metadata": {
    "application/vnd.databricks.v1+cell": {
     "cellMetadata": {
      "byteLimit": 2048000,
      "rowLimit": 10000
     },
     "inputWidgets": {},
     "nuid": "4813a414-47b0-4a95-86b9-766ca6a44fbb",
     "showTitle": false,
     "title": ""
    }
   },
   "outputs": [],
   "source": []
  },
  {
   "cell_type": "markdown",
   "metadata": {
    "application/vnd.databricks.v1+cell": {
     "cellMetadata": {
      "byteLimit": 2048000,
      "rowLimit": 10000
     },
     "inputWidgets": {},
     "nuid": "7d403ad9-f062-4b99-8861-fa569177daf8",
     "showTitle": false,
     "title": ""
    }
   },
   "source": [
    "#### 5.4.-¿Cúal es el producto menos vendido? (5 pts)"
   ]
  },
  {
   "cell_type": "code",
   "execution_count": 0,
   "metadata": {
    "application/vnd.databricks.v1+cell": {
     "cellMetadata": {
      "byteLimit": 2048000,
      "rowLimit": 10000
     },
     "inputWidgets": {},
     "nuid": "41fc0127-3857-4680-8979-24d074a83247",
     "showTitle": false,
     "title": ""
    }
   },
   "outputs": [],
   "source": []
  },
  {
   "cell_type": "markdown",
   "metadata": {
    "application/vnd.databricks.v1+cell": {
     "cellMetadata": {
      "byteLimit": 2048000,
      "rowLimit": 10000
     },
     "inputWidgets": {},
     "nuid": "abceabb4-4324-463c-81c0-d9ad8ae6612d",
     "showTitle": false,
     "title": ""
    }
   },
   "source": [
    "#### 5.5.-¿Cúal es la proporción de ventas de la ciudad que más vendió productos? (5 pts)"
   ]
  },
  {
   "cell_type": "code",
   "execution_count": 0,
   "metadata": {
    "application/vnd.databricks.v1+cell": {
     "cellMetadata": {},
     "inputWidgets": {},
     "nuid": "272de571-e79d-40cc-9d88-a4c06df8d0d8",
     "showTitle": false,
     "title": ""
    }
   },
   "outputs": [],
   "source": []
  },
  {
   "cell_type": "code",
   "execution_count": 0,
   "metadata": {
    "application/vnd.databricks.v1+cell": {
     "cellMetadata": {},
     "inputWidgets": {},
     "nuid": "c99d39f3-d1b2-4f0a-b13e-1f7c87483b43",
     "showTitle": false,
     "title": ""
    }
   },
   "outputs": [],
   "source": []
  }
 ],
 "metadata": {
  "application/vnd.databricks.v1+notebook": {
   "dashboards": [],
   "language": "python",
   "notebookMetadata": {
    "pythonIndentUnit": 4
   },
   "notebookName": "Parcial_A_Datos",
   "widgets": {}
  }
 },
 "nbformat": 4,
 "nbformat_minor": 0
}
