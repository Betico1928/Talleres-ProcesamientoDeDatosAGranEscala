{
 "cells": [
  {
   "cell_type": "markdown",
   "metadata": {
    "application/vnd.databricks.v1+cell": {
     "cellMetadata": {},
     "inputWidgets": {},
     "nuid": "cccdfbf8-702e-4b21-b945-92c5576e74e6",
     "showTitle": false,
     "title": ""
    }
   },
   "source": [
    "<h1>Procesamiento de Datos a Gran Escala</h1>"
   ]
  },
  {
   "cell_type": "markdown",
   "metadata": {
    "application/vnd.databricks.v1+cell": {
     "cellMetadata": {},
     "inputWidgets": {},
     "nuid": "484f8b36-86fc-46d6-aa95-97bcc673b90a",
     "showTitle": false,
     "title": ""
    }
   },
   "source": [
    "# Membrete\n",
    "\n",
    "<img src=\"https://upload.wikimedia.org/wikipedia/commons/6/6c/Javeriana.svg\" alt=\"Logo Javeriana\" width=\"150\"/>\n",
    "\n",
    "- **Nombre:** Alberto Luis Vigna Arroyo\n",
    "- **Universidad:** Pontificia Universidad Javeriana\n",
    "- **Materia:** Procesamiento de Datos a Gran Escala\n",
    "- **Nombre del Profesor:** John Corredor\n",
    "- **Correo Electrónico:** a-vigna@javeriana.edu.co\n",
    "- **Fecha:** 29 de enero de 2024"
   ]
  },
  {
   "cell_type": "markdown",
   "metadata": {
    "application/vnd.databricks.v1+cell": {
     "cellMetadata": {},
     "inputWidgets": {},
     "nuid": "9f41ede2-b887-4157-b243-93bdf615db9f",
     "showTitle": false,
     "title": ""
    }
   },
   "source": [
    "<p><strong>Objetivo: </strong> El objetivo de este cuaderno es crear un dataframe de Spark y utilizar código SQL en un notebook de Python:</p>"
   ]
  },
  {
   "cell_type": "markdown",
   "metadata": {
    "application/vnd.databricks.v1+cell": {
     "cellMetadata": {},
     "inputWidgets": {},
     "nuid": "ddfbc4e1-234a-49f2-b180-1deb16e7f5c9",
     "showTitle": false,
     "title": ""
    }
   },
   "source": [
    "<h3>Cargar los datos</h3>\n",
    "Para este ejercicio se va a utilizar un conjunto de datos ejemplo de los que provee Databricks. Se cargan los datos de tipo CSV y se infiere el esquema de los datos:"
   ]
  },
  {
   "cell_type": "code",
   "execution_count": 0,
   "metadata": {
    "application/vnd.databricks.v1+cell": {
     "cellMetadata": {
      "byteLimit": 2048000,
      "rowLimit": 10000
     },
     "inputWidgets": {},
     "nuid": "00a8c2b7-bfb0-43a6-afe9-2e6a41e1ced7",
     "showTitle": false,
     "title": ""
    }
   },
   "outputs": [],
   "source": [
    "# Use the Spark CSV datasource with options specifying:\n",
    "#  - First line of file is a header\n",
    "#  - Automatically infer the schema of the data\n",
    "data = spark.read.csv(\"/databricks-datasets/samples/population-vs-price/data_geo.csv\", header=\"true\", inferSchema=\"true\") "
   ]
  },
  {
   "cell_type": "markdown",
   "metadata": {
    "application/vnd.databricks.v1+cell": {
     "cellMetadata": {},
     "inputWidgets": {},
     "nuid": "110c6b1e-1269-4ef8-9413-0d52f01d9fa7",
     "showTitle": false,
     "title": ""
    }
   },
   "source": [
    "Para visualizar los datos que se han cargado se utiliza el comando <b>display</b>:"
   ]
  },
  {
   "cell_type": "code",
   "execution_count": 0,
   "metadata": {
    "application/vnd.databricks.v1+cell": {
     "cellMetadata": {
      "byteLimit": 2048000,
      "rowLimit": 10000
     },
     "inputWidgets": {},
     "nuid": "fe87250e-b2ce-4123-a0ab-b68709682b75",
     "showTitle": false,
     "title": ""
    }
   },
   "outputs": [
    {
     "output_type": "display_data",
     "data": {
      "text/html": [
       "<style scoped>\n",
       "  .table-result-container {\n",
       "    max-height: 300px;\n",
       "    overflow: auto;\n",
       "  }\n",
       "  table, th, td {\n",
       "    border: 1px solid black;\n",
       "    border-collapse: collapse;\n",
       "  }\n",
       "  th, td {\n",
       "    padding: 5px;\n",
       "  }\n",
       "  th {\n",
       "    text-align: left;\n",
       "  }\n",
       "</style><div class='table-result-container'><table class='table-result'><thead style='background-color: white'><tr><th>2014 rank</th><th>City</th><th>State</th><th>State Code</th><th>2014 Population estimate</th><th>2015 median sales price</th></tr></thead><tbody><tr><td>101</td><td>Birmingham</td><td>Alabama</td><td>AL</td><td>212247</td><td>162.9</td></tr><tr><td>125</td><td>Huntsville</td><td>Alabama</td><td>AL</td><td>188226</td><td>157.7</td></tr><tr><td>122</td><td>Mobile</td><td>Alabama</td><td>AL</td><td>194675</td><td>122.5</td></tr><tr><td>114</td><td>Montgomery</td><td>Alabama</td><td>AL</td><td>200481</td><td>129.0</td></tr><tr><td>64</td><td>Anchorage[19]</td><td>Alaska</td><td>AK</td><td>301010</td><td>null</td></tr><tr><td>78</td><td>Chandler</td><td>Arizona</td><td>AZ</td><td>254276</td><td>null</td></tr><tr><td>86</td><td>Gilbert[20]</td><td>Arizona</td><td>AZ</td><td>239277</td><td>null</td></tr><tr><td>88</td><td>Glendale</td><td>Arizona</td><td>AZ</td><td>237517</td><td>null</td></tr><tr><td>38</td><td>Mesa</td><td>Arizona</td><td>AZ</td><td>464704</td><td>null</td></tr><tr><td>148</td><td>Peoria</td><td>Arizona</td><td>AZ</td><td>166934</td><td>null</td></tr><tr><td>6</td><td>Phoenix</td><td>Arizona</td><td>AZ</td><td>1537058</td><td>206.1</td></tr><tr><td>95</td><td>Scottsdale</td><td>Arizona</td><td>AZ</td><td>230512</td><td>null</td></tr><tr><td>215</td><td>Surprise</td><td>Arizona</td><td>AZ</td><td>126275</td><td>null</td></tr><tr><td>142</td><td>Tempe</td><td>Arizona</td><td>AZ</td><td>172816</td><td>null</td></tr><tr><td>33</td><td>Tucson</td><td>Arizona</td><td>AZ</td><td>527972</td><td>178.1</td></tr><tr><td>119</td><td>Little Rock</td><td>Arkansas</td><td>AR</td><td>197706</td><td>131.8</td></tr><tr><td>56</td><td>Anaheim</td><td>California</td><td>CA</td><td>346997</td><td>685.7</td></tr><tr><td>261</td><td>Antioch</td><td>California</td><td>CA</td><td>108930</td><td>null</td></tr><tr><td>52</td><td>Bakersfield</td><td>California</td><td>CA</td><td>368759</td><td>null</td></tr><tr><td>227</td><td>Berkeley</td><td>California</td><td>CA</td><td>118853</td><td>null</td></tr><tr><td>276</td><td>Burbank</td><td>California</td><td>CA</td><td>105368</td><td>null</td></tr><tr><td>245</td><td>Carlsbad</td><td>California</td><td>CA</td><td>112299</td><td>null</td></tr><tr><td>75</td><td>Chula Vista</td><td>California</td><td>CA</td><td>260988</td><td>null</td></tr><tr><td>291</td><td>Clovis</td><td>California</td><td>CA</td><td>102189</td><td>null</td></tr><tr><td>212</td><td>Concord</td><td>California</td><td>CA</td><td>127522</td><td>null</td></tr><tr><td>153</td><td>Corona</td><td>California</td><td>CA</td><td>161486</td><td>null</td></tr><tr><td>243</td><td>Costa Mesa</td><td>California</td><td>CA</td><td>112784</td><td>null</td></tr><tr><td>274</td><td>Daly City</td><td>California</td><td>CA</td><td>106094</td><td>null</td></tr><tr><td>240</td><td>Downey</td><td>California</td><td>CA</td><td>114172</td><td>null</td></tr><tr><td>285</td><td>El Cajon</td><td>California</td><td>CA</td><td>103091</td><td>null</td></tr><tr><td>234</td><td>El Monte</td><td>California</td><td>CA</td><td>116631</td><td>null</td></tr><tr><td>151</td><td>Elk Grove</td><td>California</td><td>CA</td><td>163553</td><td>null</td></tr><tr><td>167</td><td>Escondido</td><td>California</td><td>CA</td><td>150243</td><td>null</td></tr><tr><td>250</td><td>Fairfield</td><td>California</td><td>CA</td><td>111125</td><td>null</td></tr><tr><td>108</td><td>Fontana</td><td>California</td><td>CA</td><td>204950</td><td>null</td></tr><tr><td>97</td><td>Fremont</td><td>California</td><td>CA</td><td>228758</td><td>null</td></tr><tr><td>34</td><td>Fresno</td><td>California</td><td>CA</td><td>515986</td><td>null</td></tr><tr><td>186</td><td>Fullerton</td><td>California</td><td>CA</td><td>139677</td><td>null</td></tr><tr><td>136</td><td>Garden Grove</td><td>California</td><td>CA</td><td>175078</td><td>null</td></tr><tr><td>116</td><td>Glendale</td><td>California</td><td>CA</td><td>200167</td><td>null</td></tr><tr><td>161</td><td>Hayward</td><td>California</td><td>CA</td><td>154612</td><td>null</td></tr><tr><td>112</td><td>Huntington Beach</td><td>California</td><td>CA</td><td>200809</td><td>null</td></tr><tr><td>248</td><td>Inglewood</td><td>California</td><td>CA</td><td>111905</td><td>null</td></tr><tr><td>82</td><td>Irvine</td><td>California</td><td>CA</td><td>248531</td><td>null</td></tr><tr><td>154</td><td>Lancaster</td><td>California</td><td>CA</td><td>161043</td><td>null</td></tr><tr><td>36</td><td>Long Beach</td><td>California</td><td>CA</td><td>473577</td><td>null</td></tr><tr><td>2</td><td>Los Angeles</td><td>California</td><td>CA</td><td>3928864</td><td>434.7</td></tr><tr><td>104</td><td>Modesto</td><td>California</td><td>CA</td><td>209286</td><td>null</td></tr><tr><td>110</td><td>Moreno Valley</td><td>California</td><td>CA</td><td>202976</td><td>null</td></tr><tr><td>268</td><td>Murrieta</td><td>California</td><td>CA</td><td>108368</td><td>null</td></tr><tr><td>270</td><td>Norwalk</td><td>California</td><td>CA</td><td>107096</td><td>null</td></tr><tr><td>45</td><td>Oakland</td><td>California</td><td>CA</td><td>413775</td><td>null</td></tr><tr><td>137</td><td>Oceanside</td><td>California</td><td>CA</td><td>174558</td><td>null</td></tr><tr><td>146</td><td>Ontario</td><td>California</td><td>CA</td><td>169089</td><td>null</td></tr><tr><td>185</td><td>Orange</td><td>California</td><td>CA</td><td>139812</td><td>null</td></tr><tr><td>106</td><td>Oxnard</td><td>California</td><td>CA</td><td>205437</td><td>null</td></tr><tr><td>156</td><td>Palmdale</td><td>California</td><td>CA</td><td>158279</td><td>null</td></tr><tr><td>184</td><td>Pasadena</td><td>California</td><td>CA</td><td>140881</td><td>null</td></tr><tr><td>165</td><td>Pomona</td><td>California</td><td>CA</td><td>153350</td><td>null</td></tr><tr><td>138</td><td>Rancho Cucamonga</td><td>California</td><td>CA</td><td>174305</td><td>null</td></tr><tr><td>288</td><td>Rialto</td><td>California</td><td>CA</td><td>102741</td><td>null</td></tr><tr><td>265</td><td>Richmond</td><td>California</td><td>CA</td><td>108565</td><td>null</td></tr><tr><td>59</td><td>Riverside</td><td>California</td><td>CA</td><td>319504</td><td>281.0</td></tr><tr><td>205</td><td>Roseville</td><td>California</td><td>CA</td><td>128615</td><td>null</td></tr><tr><td>35</td><td>Sacramento</td><td>California</td><td>CA</td><td>485199</td><td>275.8</td></tr><tr><td>158</td><td>Salinas</td><td>California</td><td>CA</td><td>156677</td><td>null</td></tr><tr><td>100</td><td>San Bernardino</td><td>California</td><td>CA</td><td>215213</td><td>null</td></tr><tr><td>8</td><td>San Diego</td><td>California</td><td>CA</td><td>1381069</td><td>510.3</td></tr><tr><td>13</td><td>San Francisco[10]</td><td>California</td><td>CA</td><td>852469</td><td>748.3</td></tr><tr><td>10</td><td>San Jose</td><td>California</td><td>CA</td><td>1015785</td><td>900.0</td></tr><tr><td>286</td><td>San Mateo</td><td>California</td><td>CA</td><td>102893</td><td>null</td></tr><tr><td>57</td><td>Santa Ana</td><td>California</td><td>CA</td><td>334909</td><td>null</td></tr><tr><td>219</td><td>Santa Clara</td><td>California</td><td>CA</td><td>122192</td><td>null</td></tr><tr><td>133</td><td>Santa Clarita</td><td>California</td><td>CA</td><td>181557</td><td>null</td></tr><tr><td>284</td><td>Santa Maria</td><td>California</td><td>CA</td><td>103410</td><td>null</td></tr><tr><td>139</td><td>Santa Rosa</td><td>California</td><td>CA</td><td>174170</td><td>null</td></tr><tr><td>214</td><td>Simi Valley</td><td>California</td><td>CA</td><td>126871</td><td>null</td></tr><tr><td>63</td><td>Stockton</td><td>California</td><td>CA</td><td>302389</td><td>null</td></tr><tr><td>168</td><td>Sunnyvale</td><td>California</td><td>CA</td><td>149980</td><td>null</td></tr><tr><td>259</td><td>Temecula</td><td>California</td><td>CA</td><td>109428</td><td>null</td></tr><tr><td>201</td><td>Thousand Oaks</td><td>California</td><td>CA</td><td>129342</td><td>null</td></tr><tr><td>172</td><td>Torrance</td><td>California</td><td>CA</td><td>148495</td><td>null</td></tr><tr><td>224</td><td>Vallejo</td><td>California</td><td>CA</td><td>120228</td><td>null</td></tr><tr><td>258</td><td>Ventura[29]</td><td>California</td><td>CA</td><td>109484</td><td>null</td></tr><tr><td>220</td><td>Victorville</td><td>California</td><td>CA</td><td>121901</td><td>null</td></tr><tr><td>202</td><td>Visalia</td><td>California</td><td>CA</td><td>129281</td><td>null</td></tr><tr><td>266</td><td>West Covina</td><td>California</td><td>CA</td><td>108455</td><td>null</td></tr><tr><td>242</td><td>Arvada</td><td>Colorado</td><td>CO</td><td>113574</td><td>null</td></tr><tr><td>54</td><td>Aurora</td><td>Colorado</td><td>CO</td><td>353108</td><td>null</td></tr><tr><td>278</td><td>Boulder</td><td>Colorado</td><td>CO</td><td>105112</td><td>442.2</td></tr><tr><td>269</td><td>Centennial</td><td>Colorado</td><td>CO</td><td>107201</td><td>null</td></tr><tr><td>42</td><td>Colorado Springs</td><td>Colorado</td><td>CO</td><td>445830</td><td>220.1</td></tr><tr><td>21</td><td>Denver[12]</td><td>Colorado</td><td>CO</td><td>663862</td><td>338.1</td></tr><tr><td>159</td><td>Fort Collins</td><td>Colorado</td><td>CO</td><td>156480</td><td>null</td></tr><tr><td>169</td><td>Lakewood</td><td>Colorado</td><td>CO</td><td>149643</td><td>null</td></tr><tr><td>267</td><td>Pueblo</td><td>Colorado</td><td>CO</td><td>108423</td><td>null</td></tr><tr><td>197</td><td>Thornton</td><td>Colorado</td><td>CO</td><td>130307</td><td>null</td></tr><tr><td>247</td><td>Westminster</td><td>Colorado</td><td>CO</td><td>112090</td><td>null</td></tr><tr><td>175</td><td>Bridgeport</td><td>Connecticut</td><td>CT</td><td>147612</td><td>342.7</td></tr><tr><td>218</td><td>Hartford</td><td>Connecticut</td><td>CT</td><td>124705</td><td>202.6</td></tr><tr><td>198</td><td>New Haven</td><td>Connecticut</td><td>CT</td><td>130282</td><td>205.1</td></tr><tr><td>208</td><td>Stamford</td><td>Connecticut</td><td>CT</td><td>128278</td><td>null</td></tr><tr><td>260</td><td>Waterbury</td><td>Connecticut</td><td>CT</td><td>109307</td><td>null</td></tr><tr><td>22</td><td>Washington[13]</td><td>District of Columbia</td><td>DC</td><td>658893</td><td>367.8</td></tr><tr><td>144</td><td>Cape Coral</td><td>Florida</td><td>FL</td><td>169854</td><td>208.0</td></tr><tr><td>253</td><td>Clearwater</td><td>Florida</td><td>FL</td><td>110703</td><td>null</td></tr><tr><td>211</td><td>Coral Springs</td><td>Florida</td><td>FL</td><td>127952</td><td>null</td></tr><tr><td>135</td><td>Fort Lauderdale</td><td>Florida</td><td>FL</td><td>176013</td><td>null</td></tr><tr><td>206</td><td>Gainesville</td><td>Florida</td><td>FL</td><td>128460</td><td>169.9</td></tr><tr><td>90</td><td>Hialeah</td><td>Florida</td><td>FL</td><td>235563</td><td>null</td></tr><tr><td>173</td><td>Hollywood</td><td>Florida</td><td>FL</td><td>148047</td><td>null</td></tr><tr><td>12</td><td>Jacksonville[9]</td><td>Florida</td><td>FL</td><td>853382</td><td>182.5</td></tr><tr><td>290</td><td>Lakeland</td><td>Florida</td><td>FL</td><td>102346</td><td>136.0</td></tr><tr><td>44</td><td>Miami</td><td>Florida</td><td>FL</td><td>430332</td><td>269.1</td></tr><tr><td>246</td><td>Miami Gardens</td><td>Florida</td><td>FL</td><td>112265</td><td>null</td></tr><tr><td>192</td><td>Miramar</td><td>Florida</td><td>FL</td><td>134989</td><td>null</td></tr><tr><td>73</td><td>Orlando</td><td>Florida</td><td>FL</td><td>262372</td><td>null</td></tr><tr><td>275</td><td>Palm Bay</td><td>Florida</td><td>FL</td><td>105838</td><td>145.0</td></tr><tr><td>150</td><td>Pembroke Pines</td><td>Florida</td><td>FL</td><td>164626</td><td>null</td></tr><tr><td>273</td><td>Pompano Beach</td><td>Florida</td><td>FL</td><td>106105</td><td>null</td></tr><tr><td>140</td><td>Port St. Lucie</td><td>Florida</td><td>FL</td><td>174110</td><td>172.0</td></tr><tr><td>79</td><td>St. Petersburg</td><td>Florida</td><td>FL</td><td>253693</td><td>null</td></tr><tr><td>126</td><td>Tallahassee</td><td>Florida</td><td>FL</td><td>188107</td><td>170.5</td></tr><tr><td>53</td><td>Tampa</td><td>Florida</td><td>FL</td><td>358699</td><td>156.0</td></tr><tr><td>281</td><td>West Palm Beach</td><td>Florida</td><td>FL</td><td>104031</td><td>null</td></tr><tr><td>225</td><td>Athens[28]</td><td>Georgia</td><td>GA</td><td>119648</td><td>null</td></tr><tr><td>39</td><td>Atlanta</td><td>Georgia</td><td>GA</td><td>456002</td><td>158.0</td></tr><tr><td>121</td><td>Augusta[24]</td><td>Georgia</td><td>GA</td><td>196741</td><td>null</td></tr><tr><td>111</td><td>Columbus[23]</td><td>Georgia</td><td>GA</td><td>200887</td><td>null</td></tr><tr><td>164</td><td>Macon</td><td>Georgia</td><td>GA</td><td>null</td><td>null</td></tr><tr><td>292</td><td>Sandy Springs</td><td>Georgia</td><td>GA</td><td>101908</td><td>null</td></tr><tr><td>181</td><td>Savannah</td><td>Georgia</td><td>GA</td><td>144352</td><td>null</td></tr><tr><td>55</td><td>Honolulu[2]</td><td>Hawai'i</td><td>HI</td><td>350399</td><td>699.3</td></tr><tr><td>99</td><td>Boise[22]</td><td>Idaho</td><td>ID</td><td>216282</td><td>178.7</td></tr><tr><td>115</td><td>Aurora</td><td>Illinois</td><td>IL</td><td>200456</td><td>null</td></tr><tr><td>3</td><td>Chicago</td><td>Illinois</td><td>IL</td><td>2722389</td><td>192.5</td></tr><tr><td>251</td><td>Elgin</td><td>Illinois</td><td>IL</td><td>111117</td><td>null</td></tr><tr><td>174</td><td>Joliet</td><td>Illinois</td><td>IL</td><td>147928</td><td>null</td></tr><tr><td>178</td><td>Naperville</td><td>Illinois</td><td>IL</td><td>146128</td><td>null</td></tr><tr><td>236</td><td>Peoria</td><td>Illinois</td><td>IL</td><td>115828</td><td>105.2</td></tr><tr><td>171</td><td>Rockford</td><td>Illinois</td><td>IL</td><td>149123</td><td>78.6</td></tr><tr><td>233</td><td>Springfield</td><td>Illinois</td><td>IL</td><td>116809</td><td>115.2</td></tr><tr><td>223</td><td>Evansville</td><td>Indiana</td><td>IN</td><td>120346</td><td>null</td></tr><tr><td>77</td><td>Fort Wayne</td><td>Indiana</td><td>IN</td><td>258522</td><td>106.3</td></tr><tr><td>14</td><td>Indianapolis[11]</td><td>Indiana</td><td>IN</td><td>848788</td><td>139.2</td></tr><tr><td>203</td><td>Cedar Rapids</td><td>Iowa</td><td>IA</td><td>129195</td><td>156.9</td></tr><tr><td>289</td><td>Davenport</td><td>Iowa</td><td>IA</td><td>102448</td><td>109.4</td></tr><tr><td>105</td><td>Des Moines</td><td>Iowa</td><td>IA</td><td>209220</td><td>null</td></tr><tr><td>170</td><td>Kansas City[26]</td><td>Kansas</td><td>KS</td><td>149636</td><td>null</td></tr><tr><td>194</td><td>Olathe</td><td>Kansas</td><td>KS</td><td>133062</td><td>null</td></tr><tr><td>128</td><td>Overland Park</td><td>Kansas</td><td>KS</td><td>184525</td><td>null</td></tr><tr><td>213</td><td>Topeka</td><td>Kansas</td><td>KS</td><td>127215</td><td>105.3</td></tr><tr><td>49</td><td>Wichita</td><td>Kansas</td><td>KS</td><td>388413</td><td>126.0</td></tr><tr><td>61</td><td>Lexington[18]</td><td>Kentucky</td><td>KY</td><td>310797</td><td>141.2</td></tr><tr><td>30</td><td>Louisville[16]</td><td>Kentucky</td><td>KY</td><td>612780</td><td>141.1</td></tr><tr><td>96</td><td>Baton Rouge[21]</td><td>Louisiana</td><td>LA</td><td>228895</td><td>177.2</td></tr><tr><td>216</td><td>Lafayette[27]</td><td>Louisiana</td><td>LA</td><td>126066</td><td>null</td></tr><tr><td>50</td><td>New Orleans[17]</td><td>Louisiana</td><td>LA</td><td>384320</td><td>null</td></tr><tr><td>117</td><td>Shreveport</td><td>Louisiana</td><td>LA</td><td>198242</td><td>151.6</td></tr><tr><td>26</td><td>Baltimore[15]</td><td>Maryland</td><td>MD</td><td>622793</td><td>223.1</td></tr><tr><td>24</td><td>Boston</td><td>Massachusetts</td><td>MA</td><td>655884</td><td>374.6</td></tr><tr><td>257</td><td>Cambridge</td><td>Massachusetts</td><td>MA</td><td>109694</td><td>null</td></tr><tr><td>255</td><td>Lowell</td><td>Massachusetts</td><td>MA</td><td>109945</td><td>null</td></tr><tr><td>162</td><td>Springfield</td><td>Massachusetts</td><td>MA</td><td>153991</td><td>183.9</td></tr><tr><td>131</td><td>Worcester</td><td>Massachusetts</td><td>MA</td><td>183016</td><td>226.9</td></tr><tr><td>229</td><td>Ann Arbor</td><td>Michigan</td><td>MI</td><td>117770</td><td>null</td></tr><tr><td>18</td><td>Detroit</td><td>Michigan</td><td>MI</td><td>680250</td><td>null</td></tr><tr><td>123</td><td>Grand Rapids</td><td>Michigan</td><td>MI</td><td>193792</td><td>null</td></tr><tr><td>238</td><td>Lansing</td><td>Michigan</td><td>MI</td><td>114620</td><td>114.6</td></tr><tr><td>196</td><td>Sterling Heights</td><td>Michigan</td><td>MI</td><td>131741</td><td>null</td></tr><tr><td>191</td><td>Warren</td><td>Michigan</td><td>MI</td><td>135099</td><td>null</td></tr><tr><td>46</td><td>Minneapolis</td><td>Minnesota</td><td>MN</td><td>407207</td><td>209.4</td></tr><tr><td>249</td><td>Rochester</td><td>Minnesota</td><td>MN</td><td>111402</td><td>null</td></tr><tr><td>66</td><td>Saint Paul</td><td>Minnesota</td><td>MN</td><td>297640</td><td>null</td></tr><tr><td>143</td><td>Jackson</td><td>Mississippi</td><td>MS</td><td>171155</td><td>154.1</td></tr><tr><td>232</td><td>Columbia</td><td>Missouri</td><td>MO</td><td>116906</td><td>null</td></tr><tr><td>231</td><td>Independence</td><td>Missouri</td><td>MO</td><td>117494</td><td>null</td></tr><tr><td>37</td><td>Kansas City</td><td>Missouri</td><td>MO</td><td>470800</td><td>153.0</td></tr><tr><td>149</td><td>Springfield</td><td>Missouri</td><td>MO</td><td>165378</td><td>116.5</td></tr><tr><td>60</td><td>St. Louis[15]</td><td>Missouri</td><td>MO</td><td>317419</td><td>null</td></tr><tr><td>262</td><td>Billings</td><td>Montana</td><td>MT</td><td>108869</td><td>null</td></tr><tr><td>72</td><td>Lincoln</td><td>Nebraska</td><td>NE</td><td>272996</td><td>150.2</td></tr><tr><td>41</td><td>Omaha</td><td>Nebraska</td><td>NE</td><td>446599</td><td>148.1</td></tr><tr><td>71</td><td>Henderson</td><td>Nevada</td><td>NV</td><td>277440</td><td>null</td></tr><tr><td>29</td><td>Las Vegas</td><td>Nevada</td><td>NV</td><td>613599</td><td>205.9</td></tr><tr><td>94</td><td>North Las Vegas</td><td>Nevada</td><td>NV</td><td>230788</td><td>null</td></tr><tr><td>89</td><td>Reno</td><td>Nevada</td><td>NV</td><td>236995</td><td>268.7</td></tr><tr><td>254</td><td>Manchester</td><td>New Hampshire</td><td>NH</td><td>110448</td><td>237.4</td></tr><tr><td>204</td><td>Elizabeth</td><td>New Jersey</td><td>NJ</td><td>128705</td><td>null</td></tr><tr><td>74</td><td>Jersey City</td><td>New Jersey</td><td>NJ</td><td>262146</td><td>null</td></tr><tr><td>69</td><td>Newark</td><td>New Jersey</td><td>NJ</td><td>280579</td><td>350.8</td></tr><tr><td>177</td><td>Paterson</td><td>New Jersey</td><td>NJ</td><td>146753</td><td>null</td></tr><tr><td>32</td><td>Albuquerque</td><td>New Mexico</td><td>NM</td><td>557169</td><td>172.2</td></tr><tr><td>294</td><td>Las Cruces</td><td>New Mexico</td><td>NM</td><td>101408</td><td>null</td></tr><tr><td>76</td><td>Buffalo</td><td>New York</td><td>NY</td><td>258703</td><td>117.3</td></tr><tr><td>1</td><td>New York[6]</td><td>New York</td><td>NY</td><td>8491079</td><td>388.6</td></tr><tr><td>103</td><td>Rochester</td><td>New York</td><td>NY</td><td>209983</td><td>118.9</td></tr><tr><td>182</td><td>Syracuse</td><td>New York</td><td>NY</td><td>144263</td><td>118.3</td></tr><tr><td>113</td><td>Yonkers</td><td>New York</td><td>NY</td><td>200667</td><td>null</td></tr><tr><td>160</td><td>Cary[25]</td><td>North Carolina</td><td>NC</td><td>155227</td><td>null</td></tr><tr><td>17</td><td>Charlotte</td><td>North Carolina</td><td>NC</td><td>809958</td><td>197.2</td></tr><tr><td>81</td><td>Durham</td><td>North Carolina</td><td>NC</td><td>251893</td><td>196.9</td></tr><tr><td>109</td><td>Fayetteville</td><td>North Carolina</td><td>NC</td><td>203948</td><td>145.0</td></tr><tr><td>67</td><td>Greensboro</td><td>North Carolina</td><td>NC</td><td>282586</td><td>138.3</td></tr><tr><td>263</td><td>High Point</td><td>North Carolina</td><td>NC</td><td>108629</td><td>null</td></tr><tr><td>43</td><td>Raleigh</td><td>North Carolina</td><td>NC</td><td>439896</td><td>218.9</td></tr><tr><td>241</td><td>Wilmington</td><td>North Carolina</td><td>NC</td><td>113657</td><td>197.5</td></tr><tr><td>87</td><td>Winston�Salem</td><td>North Carolina</td><td>NC</td><td>239269</td><td>138.6</td></tr><tr><td>235</td><td>Fargo</td><td>North Dakota</td><td>ND</td><td>115863</td><td>180.0</td></tr><tr><td>118</td><td>Akron</td><td>Ohio</td><td>OH</td><td>197859</td><td>95.4</td></tr><tr><td>65</td><td>Cincinnati</td><td>Ohio</td><td>OH</td><td>298165</td><td>135.0</td></tr><tr><td>48</td><td>Cleveland</td><td>Ohio</td><td>OH</td><td>389521</td><td>105.9</td></tr><tr><td>15</td><td>Columbus</td><td>Ohio</td><td>OH</td><td>835957</td><td>149.9</td></tr><tr><td>183</td><td>Dayton</td><td>Ohio</td><td>OH</td><td>141003</td><td>107.2</td></tr><tr><td>68</td><td>Toledo</td><td>Ohio</td><td>OH</td><td>281031</td><td>83.8</td></tr><tr><td>280</td><td>Broken Arrow</td><td>Oklahoma</td><td>OK</td><td>104726</td><td>null</td></tr><tr><td>228</td><td>Norman</td><td>Oklahoma</td><td>OK</td><td>118040</td><td>null</td></tr><tr><td>27</td><td>Oklahoma City</td><td>Oklahoma</td><td>OK</td><td>620602</td><td>null</td></tr><tr><td>47</td><td>Tulsa</td><td>Oklahoma</td><td>OK</td><td>399682</td><td>145.1</td></tr><tr><td>155</td><td>Eugene</td><td>Oregon</td><td>OR</td><td>160561</td><td>211.3</td></tr><tr><td>256</td><td>Gresham</td><td>Oregon</td><td>OR</td><td>109892</td><td>null</td></tr><tr><td>28</td><td>Portland</td><td>Oregon</td><td>OR</td><td>619360</td><td>289.4</td></tr><tr><td>152</td><td>Salem</td><td>Oregon</td><td>OR</td><td>161637</td><td>193.9</td></tr><tr><td>226</td><td>Allentown</td><td>Pennsylvania</td><td>PA</td><td>119104</td><td>162.7</td></tr><tr><td>5</td><td>Philadelphia[8]</td><td>Pennsylvania</td><td>PA</td><td>1560297</td><td>204.9</td></tr><tr><td>62</td><td>Pittsburgh</td><td>Pennsylvania</td><td>PA</td><td>305412</td><td>null</td></tr><tr><td>134</td><td>Providence</td><td>Rhode Island</td><td>RI</td><td>179154</td><td>233.3</td></tr><tr><td>200</td><td>Charleston</td><td>South Carolina</td><td>SC</td><td>130113</td><td>null</td></tr><tr><td>195</td><td>Columbia</td><td>South Carolina</td><td>SC</td><td>132067</td><td>null</td></tr><tr><td>271</td><td>North Charleston</td><td>South Carolina</td><td>SC</td><td>106749</td><td>null</td></tr><tr><td>147</td><td>Sioux Falls</td><td>South Dakota</td><td>SD</td><td>168586</td><td>159.5</td></tr><tr><td>141</td><td>Chattanooga</td><td>Tennessee</td><td>TN</td><td>173778</td><td>143.6</td></tr><tr><td>176</td><td>Clarksville</td><td>Tennessee</td><td>TN</td><td>146806</td><td>null</td></tr><tr><td>129</td><td>Knoxville</td><td>Tennessee</td><td>TN</td><td>184281</td><td>149.2</td></tr><tr><td>23</td><td>Memphis</td><td>Tennessee</td><td>TN</td><td>656861</td><td>132.1</td></tr><tr><td>222</td><td>Murfreesboro</td><td>Tennessee</td><td>TN</td><td>120954</td><td>null</td></tr><tr><td>25</td><td>Nashville[14]</td><td>Tennessee</td><td>TN</td><td>644014</td><td>186.4</td></tr><tr><td>221</td><td>Abilene</td><td>Texas</td><td>TX</td><td>120958</td><td>145.7</td></tr><tr><td>120</td><td>Amarillo</td><td>Texas</td><td>TX</td><td>197254</td><td>144.4</td></tr><tr><td>51</td><td>Arlington</td><td>Texas</td><td>TX</td><td>383204</td><td>null</td></tr><tr><td>11</td><td>Austin</td><td>Texas</td><td>TX</td><td>912791</td><td>249.1</td></tr><tr><td>230</td><td>Beaumont</td><td>Texas</td><td>TX</td><td>117585</td><td>133.3</td></tr><tr><td>130</td><td>Brownsville</td><td>Texas</td><td>TX</td><td>183046</td><td>null</td></tr><tr><td>207</td><td>Carrollton</td><td>Texas</td><td>TX</td><td>128353</td><td>null</td></tr><tr><td>282</td><td>College Station</td><td>Texas</td><td>TX</td><td>103483</td><td>null</td></tr><tr><td>58</td><td>Corpus Christi</td><td>Texas</td><td>TX</td><td>320434</td><td>172.9</td></tr><tr><td>9</td><td>Dallas</td><td>Texas</td><td>TX</td><td>1281047</td><td>192.5</td></tr><tr><td>209</td><td>Denton</td><td>Texas</td><td>TX</td><td>128205</td><td>null</td></tr><tr><td>19</td><td>El Paso</td><td>Texas</td><td>TX</td><td>679036</td><td>138.4</td></tr><tr><td>16</td><td>Fort Worth</td><td>Texas</td><td>TX</td><td>812238</td><td>null</td></tr><tr><td>179</td><td>Frisco</td><td>Texas</td><td>TX</td><td>145035</td><td>null</td></tr><tr><td>91</td><td>Garland</td><td>Texas</td><td>TX</td><td>235501</td><td>null</td></tr><tr><td>127</td><td>Grand Prairie</td><td>Texas</td><td>TX</td><td>185453</td><td>null</td></tr><tr><td>4</td><td>Houston[7]</td><td>Texas</td><td>TX</td><td>2239558</td><td>200.3</td></tr><tr><td>93</td><td>Irving</td><td>Texas</td><td>TX</td><td>232406</td><td>null</td></tr><tr><td>188</td><td>Killeen</td><td>Texas</td><td>TX</td><td>138154</td><td>null</td></tr><tr><td>80</td><td>Laredo</td><td>Texas</td><td>TX</td><td>252309</td><td>null</td></tr><tr><td>287</td><td>Lewisville</td><td>Texas</td><td>TX</td><td>102889</td><td>null</td></tr><tr><td>85</td><td>Lubbock</td><td>Texas</td><td>TX</td><td>243839</td><td>null</td></tr><tr><td>187</td><td>McAllen</td><td>Texas</td><td>TX</td><td>138596</td><td>null</td></tr><tr><td>157</td><td>McKinney</td><td>Texas</td><td>TX</td><td>156767</td><td>null</td></tr><tr><td>180</td><td>Mesquite</td><td>Texas</td><td>TX</td><td>144416</td><td>null</td></tr><tr><td>210</td><td>Midland</td><td>Texas</td><td>TX</td><td>128037</td><td>null</td></tr><tr><td>239</td><td>Odessa</td><td>Texas</td><td>TX</td><td>114597</td><td>null</td></tr><tr><td>163</td><td>Pasadena</td><td>Texas</td><td>TX</td><td>153887</td><td>null</td></tr><tr><td>283</td><td>Pearland</td><td>Texas</td><td>TX</td><td>103441</td><td>null</td></tr><tr><td>70</td><td>Plano</td><td>Texas</td><td>TX</td><td>278480</td><td>null</td></tr><tr><td>264</td><td>Richardson</td><td>Texas</td><td>TX</td><td>108617</td><td>null</td></tr><tr><td>244</td><td>Round Rock</td><td>Texas</td><td>TX</td><td>112744</td><td>null</td></tr><tr><td>7</td><td>San Antonio</td><td>Texas</td><td>TX</td><td>1436697</td><td>184.7</td></tr><tr><td>293</td><td>Tyler</td><td>Texas</td><td>TX</td><td>101421</td><td>null</td></tr><tr><td>199</td><td>Waco</td><td>Texas</td><td>TX</td><td>130194</td><td>null</td></tr><tr><td>277</td><td>Wichita Falls</td><td>Texas</td><td>TX</td><td>105114</td><td>null</td></tr><tr><td>237</td><td>Provo</td><td>Utah</td><td>UT</td><td>114801</td><td>null</td></tr><tr><td>124</td><td>Salt Lake City</td><td>Utah</td><td>UT</td><td>190884</td><td>243.3</td></tr><tr><td>252</td><td>West Jordan</td><td>Utah</td><td>UT</td><td>110920</td><td>null</td></tr><tr><td>193</td><td>West Valley City</td><td>Utah</td><td>UT</td><td>134495</td><td>null</td></tr><tr><td>166</td><td>Alexandria[15]</td><td>Virginia</td><td>VA</td><td>150575</td><td>null</td></tr><tr><td>92</td><td>Chesapeake[15]</td><td>Virginia</td><td>VA</td><td>233371</td><td>null</td></tr><tr><td>189</td><td>Hampton[15]</td><td>Virginia</td><td>VA</td><td>136879</td><td>null</td></tr><tr><td>132</td><td>Newport News[15]</td><td>Virginia</td><td>VA</td><td>182965</td><td>null</td></tr><tr><td>84</td><td>Norfolk[15]</td><td>Virginia</td><td>VA</td><td>245428</td><td>null</td></tr><tr><td>98</td><td>Richmond[15]</td><td>Virginia</td><td>VA</td><td>217853</td><td>212.5</td></tr><tr><td>40</td><td>Virginia Beach[15]</td><td>Virginia</td><td>VA</td><td>450980</td><td>190.0</td></tr><tr><td>190</td><td>Bellevue</td><td>Washington</td><td>WA</td><td>136426</td><td>null</td></tr><tr><td>272</td><td>Everett</td><td>Washington</td><td>WA</td><td>106736</td><td>null</td></tr><tr><td>217</td><td>Kent</td><td>Washington</td><td>WA</td><td>125560</td><td>null</td></tr><tr><td>20</td><td>Seattle</td><td>Washington</td><td>WA</td><td>668342</td><td>352.4</td></tr><tr><td>102</td><td>Spokane</td><td>Washington</td><td>WA</td><td>212052</td><td>180.2</td></tr><tr><td>107</td><td>Tacoma</td><td>Washington</td><td>WA</td><td>205159</td><td>null</td></tr><tr><td>145</td><td>Vancouver</td><td>Washington</td><td>WA</td><td>169294</td><td>null</td></tr><tr><td>279</td><td>Green Bay</td><td>Wisconsin</td><td>WI</td><td>104891</td><td>null</td></tr><tr><td>83</td><td>Madison</td><td>Wisconsin</td><td>WI</td><td>245691</td><td>226.2</td></tr><tr><td>31</td><td>Milwaukee</td><td>Wisconsin</td><td>WI</td><td>599642</td><td>195.4</td></tr></tbody></table></div>"
      ]
     },
     "metadata": {
      "application/vnd.databricks.v1+output": {
       "addedWidgets": {},
       "aggData": [],
       "aggError": "",
       "aggOverflow": false,
       "aggSchema": [],
       "aggSeriesLimitReached": false,
       "aggType": "",
       "arguments": {},
       "columnCustomDisplayInfos": {},
       "data": [
        [
         101,
         "Birmingham",
         "Alabama",
         "AL",
         212247,
         162.9
        ],
        [
         125,
         "Huntsville",
         "Alabama",
         "AL",
         188226,
         157.7
        ],
        [
         122,
         "Mobile",
         "Alabama",
         "AL",
         194675,
         122.5
        ],
        [
         114,
         "Montgomery",
         "Alabama",
         "AL",
         200481,
         129.0
        ],
        [
         64,
         "Anchorage[19]",
         "Alaska",
         "AK",
         301010,
         null
        ],
        [
         78,
         "Chandler",
         "Arizona",
         "AZ",
         254276,
         null
        ],
        [
         86,
         "Gilbert[20]",
         "Arizona",
         "AZ",
         239277,
         null
        ],
        [
         88,
         "Glendale",
         "Arizona",
         "AZ",
         237517,
         null
        ],
        [
         38,
         "Mesa",
         "Arizona",
         "AZ",
         464704,
         null
        ],
        [
         148,
         "Peoria",
         "Arizona",
         "AZ",
         166934,
         null
        ],
        [
         6,
         "Phoenix",
         "Arizona",
         "AZ",
         1537058,
         206.1
        ],
        [
         95,
         "Scottsdale",
         "Arizona",
         "AZ",
         230512,
         null
        ],
        [
         215,
         "Surprise",
         "Arizona",
         "AZ",
         126275,
         null
        ],
        [
         142,
         "Tempe",
         "Arizona",
         "AZ",
         172816,
         null
        ],
        [
         33,
         "Tucson",
         "Arizona",
         "AZ",
         527972,
         178.1
        ],
        [
         119,
         "Little Rock",
         "Arkansas",
         "AR",
         197706,
         131.8
        ],
        [
         56,
         "Anaheim",
         "California",
         "CA",
         346997,
         685.7
        ],
        [
         261,
         "Antioch",
         "California",
         "CA",
         108930,
         null
        ],
        [
         52,
         "Bakersfield",
         "California",
         "CA",
         368759,
         null
        ],
        [
         227,
         "Berkeley",
         "California",
         "CA",
         118853,
         null
        ],
        [
         276,
         "Burbank",
         "California",
         "CA",
         105368,
         null
        ],
        [
         245,
         "Carlsbad",
         "California",
         "CA",
         112299,
         null
        ],
        [
         75,
         "Chula Vista",
         "California",
         "CA",
         260988,
         null
        ],
        [
         291,
         "Clovis",
         "California",
         "CA",
         102189,
         null
        ],
        [
         212,
         "Concord",
         "California",
         "CA",
         127522,
         null
        ],
        [
         153,
         "Corona",
         "California",
         "CA",
         161486,
         null
        ],
        [
         243,
         "Costa Mesa",
         "California",
         "CA",
         112784,
         null
        ],
        [
         274,
         "Daly City",
         "California",
         "CA",
         106094,
         null
        ],
        [
         240,
         "Downey",
         "California",
         "CA",
         114172,
         null
        ],
        [
         285,
         "El Cajon",
         "California",
         "CA",
         103091,
         null
        ],
        [
         234,
         "El Monte",
         "California",
         "CA",
         116631,
         null
        ],
        [
         151,
         "Elk Grove",
         "California",
         "CA",
         163553,
         null
        ],
        [
         167,
         "Escondido",
         "California",
         "CA",
         150243,
         null
        ],
        [
         250,
         "Fairfield",
         "California",
         "CA",
         111125,
         null
        ],
        [
         108,
         "Fontana",
         "California",
         "CA",
         204950,
         null
        ],
        [
         97,
         "Fremont",
         "California",
         "CA",
         228758,
         null
        ],
        [
         34,
         "Fresno",
         "California",
         "CA",
         515986,
         null
        ],
        [
         186,
         "Fullerton",
         "California",
         "CA",
         139677,
         null
        ],
        [
         136,
         "Garden Grove",
         "California",
         "CA",
         175078,
         null
        ],
        [
         116,
         "Glendale",
         "California",
         "CA",
         200167,
         null
        ],
        [
         161,
         "Hayward",
         "California",
         "CA",
         154612,
         null
        ],
        [
         112,
         "Huntington Beach",
         "California",
         "CA",
         200809,
         null
        ],
        [
         248,
         "Inglewood",
         "California",
         "CA",
         111905,
         null
        ],
        [
         82,
         "Irvine",
         "California",
         "CA",
         248531,
         null
        ],
        [
         154,
         "Lancaster",
         "California",
         "CA",
         161043,
         null
        ],
        [
         36,
         "Long Beach",
         "California",
         "CA",
         473577,
         null
        ],
        [
         2,
         "Los Angeles",
         "California",
         "CA",
         3928864,
         434.7
        ],
        [
         104,
         "Modesto",
         "California",
         "CA",
         209286,
         null
        ],
        [
         110,
         "Moreno Valley",
         "California",
         "CA",
         202976,
         null
        ],
        [
         268,
         "Murrieta",
         "California",
         "CA",
         108368,
         null
        ],
        [
         270,
         "Norwalk",
         "California",
         "CA",
         107096,
         null
        ],
        [
         45,
         "Oakland",
         "California",
         "CA",
         413775,
         null
        ],
        [
         137,
         "Oceanside",
         "California",
         "CA",
         174558,
         null
        ],
        [
         146,
         "Ontario",
         "California",
         "CA",
         169089,
         null
        ],
        [
         185,
         "Orange",
         "California",
         "CA",
         139812,
         null
        ],
        [
         106,
         "Oxnard",
         "California",
         "CA",
         205437,
         null
        ],
        [
         156,
         "Palmdale",
         "California",
         "CA",
         158279,
         null
        ],
        [
         184,
         "Pasadena",
         "California",
         "CA",
         140881,
         null
        ],
        [
         165,
         "Pomona",
         "California",
         "CA",
         153350,
         null
        ],
        [
         138,
         "Rancho Cucamonga",
         "California",
         "CA",
         174305,
         null
        ],
        [
         288,
         "Rialto",
         "California",
         "CA",
         102741,
         null
        ],
        [
         265,
         "Richmond",
         "California",
         "CA",
         108565,
         null
        ],
        [
         59,
         "Riverside",
         "California",
         "CA",
         319504,
         281.0
        ],
        [
         205,
         "Roseville",
         "California",
         "CA",
         128615,
         null
        ],
        [
         35,
         "Sacramento",
         "California",
         "CA",
         485199,
         275.8
        ],
        [
         158,
         "Salinas",
         "California",
         "CA",
         156677,
         null
        ],
        [
         100,
         "San Bernardino",
         "California",
         "CA",
         215213,
         null
        ],
        [
         8,
         "San Diego",
         "California",
         "CA",
         1381069,
         510.3
        ],
        [
         13,
         "San Francisco[10]",
         "California",
         "CA",
         852469,
         748.3
        ],
        [
         10,
         "San Jose",
         "California",
         "CA",
         1015785,
         900.0
        ],
        [
         286,
         "San Mateo",
         "California",
         "CA",
         102893,
         null
        ],
        [
         57,
         "Santa Ana",
         "California",
         "CA",
         334909,
         null
        ],
        [
         219,
         "Santa Clara",
         "California",
         "CA",
         122192,
         null
        ],
        [
         133,
         "Santa Clarita",
         "California",
         "CA",
         181557,
         null
        ],
        [
         284,
         "Santa Maria",
         "California",
         "CA",
         103410,
         null
        ],
        [
         139,
         "Santa Rosa",
         "California",
         "CA",
         174170,
         null
        ],
        [
         214,
         "Simi Valley",
         "California",
         "CA",
         126871,
         null
        ],
        [
         63,
         "Stockton",
         "California",
         "CA",
         302389,
         null
        ],
        [
         168,
         "Sunnyvale",
         "California",
         "CA",
         149980,
         null
        ],
        [
         259,
         "Temecula",
         "California",
         "CA",
         109428,
         null
        ],
        [
         201,
         "Thousand Oaks",
         "California",
         "CA",
         129342,
         null
        ],
        [
         172,
         "Torrance",
         "California",
         "CA",
         148495,
         null
        ],
        [
         224,
         "Vallejo",
         "California",
         "CA",
         120228,
         null
        ],
        [
         258,
         "Ventura[29]",
         "California",
         "CA",
         109484,
         null
        ],
        [
         220,
         "Victorville",
         "California",
         "CA",
         121901,
         null
        ],
        [
         202,
         "Visalia",
         "California",
         "CA",
         129281,
         null
        ],
        [
         266,
         "West Covina",
         "California",
         "CA",
         108455,
         null
        ],
        [
         242,
         "Arvada",
         "Colorado",
         "CO",
         113574,
         null
        ],
        [
         54,
         "Aurora",
         "Colorado",
         "CO",
         353108,
         null
        ],
        [
         278,
         "Boulder",
         "Colorado",
         "CO",
         105112,
         442.2
        ],
        [
         269,
         "Centennial",
         "Colorado",
         "CO",
         107201,
         null
        ],
        [
         42,
         "Colorado Springs",
         "Colorado",
         "CO",
         445830,
         220.1
        ],
        [
         21,
         "Denver[12]",
         "Colorado",
         "CO",
         663862,
         338.1
        ],
        [
         159,
         "Fort Collins",
         "Colorado",
         "CO",
         156480,
         null
        ],
        [
         169,
         "Lakewood",
         "Colorado",
         "CO",
         149643,
         null
        ],
        [
         267,
         "Pueblo",
         "Colorado",
         "CO",
         108423,
         null
        ],
        [
         197,
         "Thornton",
         "Colorado",
         "CO",
         130307,
         null
        ],
        [
         247,
         "Westminster",
         "Colorado",
         "CO",
         112090,
         null
        ],
        [
         175,
         "Bridgeport",
         "Connecticut",
         "CT",
         147612,
         342.7
        ],
        [
         218,
         "Hartford",
         "Connecticut",
         "CT",
         124705,
         202.6
        ],
        [
         198,
         "New Haven",
         "Connecticut",
         "CT",
         130282,
         205.1
        ],
        [
         208,
         "Stamford",
         "Connecticut",
         "CT",
         128278,
         null
        ],
        [
         260,
         "Waterbury",
         "Connecticut",
         "CT",
         109307,
         null
        ],
        [
         22,
         "Washington[13]",
         "District of Columbia",
         "DC",
         658893,
         367.8
        ],
        [
         144,
         "Cape Coral",
         "Florida",
         "FL",
         169854,
         208.0
        ],
        [
         253,
         "Clearwater",
         "Florida",
         "FL",
         110703,
         null
        ],
        [
         211,
         "Coral Springs",
         "Florida",
         "FL",
         127952,
         null
        ],
        [
         135,
         "Fort Lauderdale",
         "Florida",
         "FL",
         176013,
         null
        ],
        [
         206,
         "Gainesville",
         "Florida",
         "FL",
         128460,
         169.9
        ],
        [
         90,
         "Hialeah",
         "Florida",
         "FL",
         235563,
         null
        ],
        [
         173,
         "Hollywood",
         "Florida",
         "FL",
         148047,
         null
        ],
        [
         12,
         "Jacksonville[9]",
         "Florida",
         "FL",
         853382,
         182.5
        ],
        [
         290,
         "Lakeland",
         "Florida",
         "FL",
         102346,
         136.0
        ],
        [
         44,
         "Miami",
         "Florida",
         "FL",
         430332,
         269.1
        ],
        [
         246,
         "Miami Gardens",
         "Florida",
         "FL",
         112265,
         null
        ],
        [
         192,
         "Miramar",
         "Florida",
         "FL",
         134989,
         null
        ],
        [
         73,
         "Orlando",
         "Florida",
         "FL",
         262372,
         null
        ],
        [
         275,
         "Palm Bay",
         "Florida",
         "FL",
         105838,
         145.0
        ],
        [
         150,
         "Pembroke Pines",
         "Florida",
         "FL",
         164626,
         null
        ],
        [
         273,
         "Pompano Beach",
         "Florida",
         "FL",
         106105,
         null
        ],
        [
         140,
         "Port St. Lucie",
         "Florida",
         "FL",
         174110,
         172.0
        ],
        [
         79,
         "St. Petersburg",
         "Florida",
         "FL",
         253693,
         null
        ],
        [
         126,
         "Tallahassee",
         "Florida",
         "FL",
         188107,
         170.5
        ],
        [
         53,
         "Tampa",
         "Florida",
         "FL",
         358699,
         156.0
        ],
        [
         281,
         "West Palm Beach",
         "Florida",
         "FL",
         104031,
         null
        ],
        [
         225,
         "Athens[28]",
         "Georgia",
         "GA",
         119648,
         null
        ],
        [
         39,
         "Atlanta",
         "Georgia",
         "GA",
         456002,
         158.0
        ],
        [
         121,
         "Augusta[24]",
         "Georgia",
         "GA",
         196741,
         null
        ],
        [
         111,
         "Columbus[23]",
         "Georgia",
         "GA",
         200887,
         null
        ],
        [
         164,
         "Macon",
         "Georgia",
         "GA",
         null,
         null
        ],
        [
         292,
         "Sandy Springs",
         "Georgia",
         "GA",
         101908,
         null
        ],
        [
         181,
         "Savannah",
         "Georgia",
         "GA",
         144352,
         null
        ],
        [
         55,
         "Honolulu[2]",
         "Hawai'i",
         "HI",
         350399,
         699.3
        ],
        [
         99,
         "Boise[22]",
         "Idaho",
         "ID",
         216282,
         178.7
        ],
        [
         115,
         "Aurora",
         "Illinois",
         "IL",
         200456,
         null
        ],
        [
         3,
         "Chicago",
         "Illinois",
         "IL",
         2722389,
         192.5
        ],
        [
         251,
         "Elgin",
         "Illinois",
         "IL",
         111117,
         null
        ],
        [
         174,
         "Joliet",
         "Illinois",
         "IL",
         147928,
         null
        ],
        [
         178,
         "Naperville",
         "Illinois",
         "IL",
         146128,
         null
        ],
        [
         236,
         "Peoria",
         "Illinois",
         "IL",
         115828,
         105.2
        ],
        [
         171,
         "Rockford",
         "Illinois",
         "IL",
         149123,
         78.6
        ],
        [
         233,
         "Springfield",
         "Illinois",
         "IL",
         116809,
         115.2
        ],
        [
         223,
         "Evansville",
         "Indiana",
         "IN",
         120346,
         null
        ],
        [
         77,
         "Fort Wayne",
         "Indiana",
         "IN",
         258522,
         106.3
        ],
        [
         14,
         "Indianapolis[11]",
         "Indiana",
         "IN",
         848788,
         139.2
        ],
        [
         203,
         "Cedar Rapids",
         "Iowa",
         "IA",
         129195,
         156.9
        ],
        [
         289,
         "Davenport",
         "Iowa",
         "IA",
         102448,
         109.4
        ],
        [
         105,
         "Des Moines",
         "Iowa",
         "IA",
         209220,
         null
        ],
        [
         170,
         "Kansas City[26]",
         "Kansas",
         "KS",
         149636,
         null
        ],
        [
         194,
         "Olathe",
         "Kansas",
         "KS",
         133062,
         null
        ],
        [
         128,
         "Overland Park",
         "Kansas",
         "KS",
         184525,
         null
        ],
        [
         213,
         "Topeka",
         "Kansas",
         "KS",
         127215,
         105.3
        ],
        [
         49,
         "Wichita",
         "Kansas",
         "KS",
         388413,
         126.0
        ],
        [
         61,
         "Lexington[18]",
         "Kentucky",
         "KY",
         310797,
         141.2
        ],
        [
         30,
         "Louisville[16]",
         "Kentucky",
         "KY",
         612780,
         141.1
        ],
        [
         96,
         "Baton Rouge[21]",
         "Louisiana",
         "LA",
         228895,
         177.2
        ],
        [
         216,
         "Lafayette[27]",
         "Louisiana",
         "LA",
         126066,
         null
        ],
        [
         50,
         "New Orleans[17]",
         "Louisiana",
         "LA",
         384320,
         null
        ],
        [
         117,
         "Shreveport",
         "Louisiana",
         "LA",
         198242,
         151.6
        ],
        [
         26,
         "Baltimore[15]",
         "Maryland",
         "MD",
         622793,
         223.1
        ],
        [
         24,
         "Boston",
         "Massachusetts",
         "MA",
         655884,
         374.6
        ],
        [
         257,
         "Cambridge",
         "Massachusetts",
         "MA",
         109694,
         null
        ],
        [
         255,
         "Lowell",
         "Massachusetts",
         "MA",
         109945,
         null
        ],
        [
         162,
         "Springfield",
         "Massachusetts",
         "MA",
         153991,
         183.9
        ],
        [
         131,
         "Worcester",
         "Massachusetts",
         "MA",
         183016,
         226.9
        ],
        [
         229,
         "Ann Arbor",
         "Michigan",
         "MI",
         117770,
         null
        ],
        [
         18,
         "Detroit",
         "Michigan",
         "MI",
         680250,
         null
        ],
        [
         123,
         "Grand Rapids",
         "Michigan",
         "MI",
         193792,
         null
        ],
        [
         238,
         "Lansing",
         "Michigan",
         "MI",
         114620,
         114.6
        ],
        [
         196,
         "Sterling Heights",
         "Michigan",
         "MI",
         131741,
         null
        ],
        [
         191,
         "Warren",
         "Michigan",
         "MI",
         135099,
         null
        ],
        [
         46,
         "Minneapolis",
         "Minnesota",
         "MN",
         407207,
         209.4
        ],
        [
         249,
         "Rochester",
         "Minnesota",
         "MN",
         111402,
         null
        ],
        [
         66,
         "Saint Paul",
         "Minnesota",
         "MN",
         297640,
         null
        ],
        [
         143,
         "Jackson",
         "Mississippi",
         "MS",
         171155,
         154.1
        ],
        [
         232,
         "Columbia",
         "Missouri",
         "MO",
         116906,
         null
        ],
        [
         231,
         "Independence",
         "Missouri",
         "MO",
         117494,
         null
        ],
        [
         37,
         "Kansas City",
         "Missouri",
         "MO",
         470800,
         153.0
        ],
        [
         149,
         "Springfield",
         "Missouri",
         "MO",
         165378,
         116.5
        ],
        [
         60,
         "St. Louis[15]",
         "Missouri",
         "MO",
         317419,
         null
        ],
        [
         262,
         "Billings",
         "Montana",
         "MT",
         108869,
         null
        ],
        [
         72,
         "Lincoln",
         "Nebraska",
         "NE",
         272996,
         150.2
        ],
        [
         41,
         "Omaha",
         "Nebraska",
         "NE",
         446599,
         148.1
        ],
        [
         71,
         "Henderson",
         "Nevada",
         "NV",
         277440,
         null
        ],
        [
         29,
         "Las Vegas",
         "Nevada",
         "NV",
         613599,
         205.9
        ],
        [
         94,
         "North Las Vegas",
         "Nevada",
         "NV",
         230788,
         null
        ],
        [
         89,
         "Reno",
         "Nevada",
         "NV",
         236995,
         268.7
        ],
        [
         254,
         "Manchester",
         "New Hampshire",
         "NH",
         110448,
         237.4
        ],
        [
         204,
         "Elizabeth",
         "New Jersey",
         "NJ",
         128705,
         null
        ],
        [
         74,
         "Jersey City",
         "New Jersey",
         "NJ",
         262146,
         null
        ],
        [
         69,
         "Newark",
         "New Jersey",
         "NJ",
         280579,
         350.8
        ],
        [
         177,
         "Paterson",
         "New Jersey",
         "NJ",
         146753,
         null
        ],
        [
         32,
         "Albuquerque",
         "New Mexico",
         "NM",
         557169,
         172.2
        ],
        [
         294,
         "Las Cruces",
         "New Mexico",
         "NM",
         101408,
         null
        ],
        [
         76,
         "Buffalo",
         "New York",
         "NY",
         258703,
         117.3
        ],
        [
         1,
         "New York[6]",
         "New York",
         "NY",
         8491079,
         388.6
        ],
        [
         103,
         "Rochester",
         "New York",
         "NY",
         209983,
         118.9
        ],
        [
         182,
         "Syracuse",
         "New York",
         "NY",
         144263,
         118.3
        ],
        [
         113,
         "Yonkers",
         "New York",
         "NY",
         200667,
         null
        ],
        [
         160,
         "Cary[25]",
         "North Carolina",
         "NC",
         155227,
         null
        ],
        [
         17,
         "Charlotte",
         "North Carolina",
         "NC",
         809958,
         197.2
        ],
        [
         81,
         "Durham",
         "North Carolina",
         "NC",
         251893,
         196.9
        ],
        [
         109,
         "Fayetteville",
         "North Carolina",
         "NC",
         203948,
         145.0
        ],
        [
         67,
         "Greensboro",
         "North Carolina",
         "NC",
         282586,
         138.3
        ],
        [
         263,
         "High Point",
         "North Carolina",
         "NC",
         108629,
         null
        ],
        [
         43,
         "Raleigh",
         "North Carolina",
         "NC",
         439896,
         218.9
        ],
        [
         241,
         "Wilmington",
         "North Carolina",
         "NC",
         113657,
         197.5
        ],
        [
         87,
         "Winston�Salem",
         "North Carolina",
         "NC",
         239269,
         138.6
        ],
        [
         235,
         "Fargo",
         "North Dakota",
         "ND",
         115863,
         180.0
        ],
        [
         118,
         "Akron",
         "Ohio",
         "OH",
         197859,
         95.4
        ],
        [
         65,
         "Cincinnati",
         "Ohio",
         "OH",
         298165,
         135.0
        ],
        [
         48,
         "Cleveland",
         "Ohio",
         "OH",
         389521,
         105.9
        ],
        [
         15,
         "Columbus",
         "Ohio",
         "OH",
         835957,
         149.9
        ],
        [
         183,
         "Dayton",
         "Ohio",
         "OH",
         141003,
         107.2
        ],
        [
         68,
         "Toledo",
         "Ohio",
         "OH",
         281031,
         83.8
        ],
        [
         280,
         "Broken Arrow",
         "Oklahoma",
         "OK",
         104726,
         null
        ],
        [
         228,
         "Norman",
         "Oklahoma",
         "OK",
         118040,
         null
        ],
        [
         27,
         "Oklahoma City",
         "Oklahoma",
         "OK",
         620602,
         null
        ],
        [
         47,
         "Tulsa",
         "Oklahoma",
         "OK",
         399682,
         145.1
        ],
        [
         155,
         "Eugene",
         "Oregon",
         "OR",
         160561,
         211.3
        ],
        [
         256,
         "Gresham",
         "Oregon",
         "OR",
         109892,
         null
        ],
        [
         28,
         "Portland",
         "Oregon",
         "OR",
         619360,
         289.4
        ],
        [
         152,
         "Salem",
         "Oregon",
         "OR",
         161637,
         193.9
        ],
        [
         226,
         "Allentown",
         "Pennsylvania",
         "PA",
         119104,
         162.7
        ],
        [
         5,
         "Philadelphia[8]",
         "Pennsylvania",
         "PA",
         1560297,
         204.9
        ],
        [
         62,
         "Pittsburgh",
         "Pennsylvania",
         "PA",
         305412,
         null
        ],
        [
         134,
         "Providence",
         "Rhode Island",
         "RI",
         179154,
         233.3
        ],
        [
         200,
         "Charleston",
         "South Carolina",
         "SC",
         130113,
         null
        ],
        [
         195,
         "Columbia",
         "South Carolina",
         "SC",
         132067,
         null
        ],
        [
         271,
         "North Charleston",
         "South Carolina",
         "SC",
         106749,
         null
        ],
        [
         147,
         "Sioux Falls",
         "South Dakota",
         "SD",
         168586,
         159.5
        ],
        [
         141,
         "Chattanooga",
         "Tennessee",
         "TN",
         173778,
         143.6
        ],
        [
         176,
         "Clarksville",
         "Tennessee",
         "TN",
         146806,
         null
        ],
        [
         129,
         "Knoxville",
         "Tennessee",
         "TN",
         184281,
         149.2
        ],
        [
         23,
         "Memphis",
         "Tennessee",
         "TN",
         656861,
         132.1
        ],
        [
         222,
         "Murfreesboro",
         "Tennessee",
         "TN",
         120954,
         null
        ],
        [
         25,
         "Nashville[14]",
         "Tennessee",
         "TN",
         644014,
         186.4
        ],
        [
         221,
         "Abilene",
         "Texas",
         "TX",
         120958,
         145.7
        ],
        [
         120,
         "Amarillo",
         "Texas",
         "TX",
         197254,
         144.4
        ],
        [
         51,
         "Arlington",
         "Texas",
         "TX",
         383204,
         null
        ],
        [
         11,
         "Austin",
         "Texas",
         "TX",
         912791,
         249.1
        ],
        [
         230,
         "Beaumont",
         "Texas",
         "TX",
         117585,
         133.3
        ],
        [
         130,
         "Brownsville",
         "Texas",
         "TX",
         183046,
         null
        ],
        [
         207,
         "Carrollton",
         "Texas",
         "TX",
         128353,
         null
        ],
        [
         282,
         "College Station",
         "Texas",
         "TX",
         103483,
         null
        ],
        [
         58,
         "Corpus Christi",
         "Texas",
         "TX",
         320434,
         172.9
        ],
        [
         9,
         "Dallas",
         "Texas",
         "TX",
         1281047,
         192.5
        ],
        [
         209,
         "Denton",
         "Texas",
         "TX",
         128205,
         null
        ],
        [
         19,
         "El Paso",
         "Texas",
         "TX",
         679036,
         138.4
        ],
        [
         16,
         "Fort Worth",
         "Texas",
         "TX",
         812238,
         null
        ],
        [
         179,
         "Frisco",
         "Texas",
         "TX",
         145035,
         null
        ],
        [
         91,
         "Garland",
         "Texas",
         "TX",
         235501,
         null
        ],
        [
         127,
         "Grand Prairie",
         "Texas",
         "TX",
         185453,
         null
        ],
        [
         4,
         "Houston[7]",
         "Texas",
         "TX",
         2239558,
         200.3
        ],
        [
         93,
         "Irving",
         "Texas",
         "TX",
         232406,
         null
        ],
        [
         188,
         "Killeen",
         "Texas",
         "TX",
         138154,
         null
        ],
        [
         80,
         "Laredo",
         "Texas",
         "TX",
         252309,
         null
        ],
        [
         287,
         "Lewisville",
         "Texas",
         "TX",
         102889,
         null
        ],
        [
         85,
         "Lubbock",
         "Texas",
         "TX",
         243839,
         null
        ],
        [
         187,
         "McAllen",
         "Texas",
         "TX",
         138596,
         null
        ],
        [
         157,
         "McKinney",
         "Texas",
         "TX",
         156767,
         null
        ],
        [
         180,
         "Mesquite",
         "Texas",
         "TX",
         144416,
         null
        ],
        [
         210,
         "Midland",
         "Texas",
         "TX",
         128037,
         null
        ],
        [
         239,
         "Odessa",
         "Texas",
         "TX",
         114597,
         null
        ],
        [
         163,
         "Pasadena",
         "Texas",
         "TX",
         153887,
         null
        ],
        [
         283,
         "Pearland",
         "Texas",
         "TX",
         103441,
         null
        ],
        [
         70,
         "Plano",
         "Texas",
         "TX",
         278480,
         null
        ],
        [
         264,
         "Richardson",
         "Texas",
         "TX",
         108617,
         null
        ],
        [
         244,
         "Round Rock",
         "Texas",
         "TX",
         112744,
         null
        ],
        [
         7,
         "San Antonio",
         "Texas",
         "TX",
         1436697,
         184.7
        ],
        [
         293,
         "Tyler",
         "Texas",
         "TX",
         101421,
         null
        ],
        [
         199,
         "Waco",
         "Texas",
         "TX",
         130194,
         null
        ],
        [
         277,
         "Wichita Falls",
         "Texas",
         "TX",
         105114,
         null
        ],
        [
         237,
         "Provo",
         "Utah",
         "UT",
         114801,
         null
        ],
        [
         124,
         "Salt Lake City",
         "Utah",
         "UT",
         190884,
         243.3
        ],
        [
         252,
         "West Jordan",
         "Utah",
         "UT",
         110920,
         null
        ],
        [
         193,
         "West Valley City",
         "Utah",
         "UT",
         134495,
         null
        ],
        [
         166,
         "Alexandria[15]",
         "Virginia",
         "VA",
         150575,
         null
        ],
        [
         92,
         "Chesapeake[15]",
         "Virginia",
         "VA",
         233371,
         null
        ],
        [
         189,
         "Hampton[15]",
         "Virginia",
         "VA",
         136879,
         null
        ],
        [
         132,
         "Newport News[15]",
         "Virginia",
         "VA",
         182965,
         null
        ],
        [
         84,
         "Norfolk[15]",
         "Virginia",
         "VA",
         245428,
         null
        ],
        [
         98,
         "Richmond[15]",
         "Virginia",
         "VA",
         217853,
         212.5
        ],
        [
         40,
         "Virginia Beach[15]",
         "Virginia",
         "VA",
         450980,
         190.0
        ],
        [
         190,
         "Bellevue",
         "Washington",
         "WA",
         136426,
         null
        ],
        [
         272,
         "Everett",
         "Washington",
         "WA",
         106736,
         null
        ],
        [
         217,
         "Kent",
         "Washington",
         "WA",
         125560,
         null
        ],
        [
         20,
         "Seattle",
         "Washington",
         "WA",
         668342,
         352.4
        ],
        [
         102,
         "Spokane",
         "Washington",
         "WA",
         212052,
         180.2
        ],
        [
         107,
         "Tacoma",
         "Washington",
         "WA",
         205159,
         null
        ],
        [
         145,
         "Vancouver",
         "Washington",
         "WA",
         169294,
         null
        ],
        [
         279,
         "Green Bay",
         "Wisconsin",
         "WI",
         104891,
         null
        ],
        [
         83,
         "Madison",
         "Wisconsin",
         "WI",
         245691,
         226.2
        ],
        [
         31,
         "Milwaukee",
         "Wisconsin",
         "WI",
         599642,
         195.4
        ]
       ],
       "datasetInfos": [],
       "dbfsResultPath": null,
       "isJsonSchema": true,
       "metadata": {},
       "overflow": false,
       "plotOptions": {
        "customPlotOptions": {},
        "displayType": "table",
        "pivotAggregation": null,
        "pivotColumns": null,
        "xColumns": null,
        "yColumns": null
       },
       "removedWidgets": [],
       "schema": [
        {
         "metadata": "{}",
         "name": "2014 rank",
         "type": "\"integer\""
        },
        {
         "metadata": "{}",
         "name": "City",
         "type": "\"string\""
        },
        {
         "metadata": "{}",
         "name": "State",
         "type": "\"string\""
        },
        {
         "metadata": "{}",
         "name": "State Code",
         "type": "\"string\""
        },
        {
         "metadata": "{}",
         "name": "2014 Population estimate",
         "type": "\"integer\""
        },
        {
         "metadata": "{}",
         "name": "2015 median sales price",
         "type": "\"double\""
        }
       ],
       "type": "table"
      }
     },
     "output_type": "display_data"
    }
   ],
   "source": [
    "display(data)"
   ]
  },
  {
   "cell_type": "markdown",
   "metadata": {
    "application/vnd.databricks.v1+cell": {
     "cellMetadata": {},
     "inputWidgets": {},
     "nuid": "8f900c23-7dc8-4dc9-b7d1-3592469909ec",
     "showTitle": false,
     "title": ""
    }
   },
   "source": [
    "El comando <b>createOrReplaceTempView</b> crea una nueva vista temporal usando un SparkDataFrame en la sesión de Spark. Si ya existe una vista temporal con el mismo nombre, la reemplaza. U la vista se elimina cuando terminamos el cluster, es una vista temporal. Permite realizar consultas SQL sobre los datos. Se pueden crear una vista de toda el dataframe o de una parte:"
   ]
  },
  {
   "cell_type": "code",
   "execution_count": 0,
   "metadata": {
    "application/vnd.databricks.v1+cell": {
     "cellMetadata": {
      "byteLimit": 2048000,
      "rowLimit": 10000
     },
     "inputWidgets": {},
     "nuid": "230bb5e0-361a-4414-82b5-dba9062e5fd0",
     "showTitle": false,
     "title": ""
    }
   },
   "outputs": [],
   "source": [
    "data.createOrReplaceTempView(\"data_geo\")"
   ]
  },
  {
   "cell_type": "markdown",
   "metadata": {
    "application/vnd.databricks.v1+cell": {
     "cellMetadata": {},
     "inputWidgets": {},
     "nuid": "1dff289d-6e27-4e9d-977b-a4696c0f6da3",
     "showTitle": false,
     "title": ""
    }
   },
   "source": [
    "Ahora se puedes ejecutar consultar SQL sobre la vista <b>data_geo</b> igual que si fuera una tabla. Para ejecutar código SQL en un cuaderno Python se debe poner el comando <b>%sql</b> para indicar que se va a ejecutar otro tipo de código dentro del notebook. En la consulta se puede ver los precios medios por cada estado para el año 2015 y se puede visualizar como un mapa:"
   ]
  },
  {
   "cell_type": "code",
   "execution_count": 0,
   "metadata": {
    "application/vnd.databricks.v1+cell": {
     "cellMetadata": {
      "byteLimit": 2048000,
      "implicitDf": true,
      "rowLimit": 10000
     },
     "inputWidgets": {},
     "nuid": "30208b1a-ae8e-48b4-8b00-c3172dcbe701",
     "showTitle": false,
     "title": ""
    }
   },
   "outputs": [
    {
     "output_type": "display_data",
     "data": {
      "text/html": [
       "<style scoped>\n",
       "  .table-result-container {\n",
       "    max-height: 300px;\n",
       "    overflow: auto;\n",
       "  }\n",
       "  table, th, td {\n",
       "    border: 1px solid black;\n",
       "    border-collapse: collapse;\n",
       "  }\n",
       "  th, td {\n",
       "    padding: 5px;\n",
       "  }\n",
       "  th {\n",
       "    text-align: left;\n",
       "  }\n",
       "</style><div class='table-result-container'><table class='table-result'><thead style='background-color: white'><tr><th>State Code</th><th>2014 Population estimate</th></tr></thead><tbody><tr><td>AL</td><td>212247</td></tr><tr><td>AL</td><td>188226</td></tr><tr><td>AL</td><td>194675</td></tr><tr><td>AL</td><td>200481</td></tr><tr><td>AK</td><td>301010</td></tr><tr><td>AZ</td><td>254276</td></tr><tr><td>AZ</td><td>239277</td></tr><tr><td>AZ</td><td>237517</td></tr><tr><td>AZ</td><td>464704</td></tr><tr><td>AZ</td><td>166934</td></tr><tr><td>AZ</td><td>1537058</td></tr><tr><td>AZ</td><td>230512</td></tr><tr><td>AZ</td><td>126275</td></tr><tr><td>AZ</td><td>172816</td></tr><tr><td>AZ</td><td>527972</td></tr><tr><td>AR</td><td>197706</td></tr><tr><td>CA</td><td>346997</td></tr><tr><td>CA</td><td>108930</td></tr><tr><td>CA</td><td>368759</td></tr><tr><td>CA</td><td>118853</td></tr><tr><td>CA</td><td>105368</td></tr><tr><td>CA</td><td>112299</td></tr><tr><td>CA</td><td>260988</td></tr><tr><td>CA</td><td>102189</td></tr><tr><td>CA</td><td>127522</td></tr><tr><td>CA</td><td>161486</td></tr><tr><td>CA</td><td>112784</td></tr><tr><td>CA</td><td>106094</td></tr><tr><td>CA</td><td>114172</td></tr><tr><td>CA</td><td>103091</td></tr><tr><td>CA</td><td>116631</td></tr><tr><td>CA</td><td>163553</td></tr><tr><td>CA</td><td>150243</td></tr><tr><td>CA</td><td>111125</td></tr><tr><td>CA</td><td>204950</td></tr><tr><td>CA</td><td>228758</td></tr><tr><td>CA</td><td>515986</td></tr><tr><td>CA</td><td>139677</td></tr><tr><td>CA</td><td>175078</td></tr><tr><td>CA</td><td>200167</td></tr><tr><td>CA</td><td>154612</td></tr><tr><td>CA</td><td>200809</td></tr><tr><td>CA</td><td>111905</td></tr><tr><td>CA</td><td>248531</td></tr><tr><td>CA</td><td>161043</td></tr><tr><td>CA</td><td>473577</td></tr><tr><td>CA</td><td>3928864</td></tr><tr><td>CA</td><td>209286</td></tr><tr><td>CA</td><td>202976</td></tr><tr><td>CA</td><td>108368</td></tr><tr><td>CA</td><td>107096</td></tr><tr><td>CA</td><td>413775</td></tr><tr><td>CA</td><td>174558</td></tr><tr><td>CA</td><td>169089</td></tr><tr><td>CA</td><td>139812</td></tr><tr><td>CA</td><td>205437</td></tr><tr><td>CA</td><td>158279</td></tr><tr><td>CA</td><td>140881</td></tr><tr><td>CA</td><td>153350</td></tr><tr><td>CA</td><td>174305</td></tr><tr><td>CA</td><td>102741</td></tr><tr><td>CA</td><td>108565</td></tr><tr><td>CA</td><td>319504</td></tr><tr><td>CA</td><td>128615</td></tr><tr><td>CA</td><td>485199</td></tr><tr><td>CA</td><td>156677</td></tr><tr><td>CA</td><td>215213</td></tr><tr><td>CA</td><td>1381069</td></tr><tr><td>CA</td><td>852469</td></tr><tr><td>CA</td><td>1015785</td></tr><tr><td>CA</td><td>102893</td></tr><tr><td>CA</td><td>334909</td></tr><tr><td>CA</td><td>122192</td></tr><tr><td>CA</td><td>181557</td></tr><tr><td>CA</td><td>103410</td></tr><tr><td>CA</td><td>174170</td></tr><tr><td>CA</td><td>126871</td></tr><tr><td>CA</td><td>302389</td></tr><tr><td>CA</td><td>149980</td></tr><tr><td>CA</td><td>109428</td></tr><tr><td>CA</td><td>129342</td></tr><tr><td>CA</td><td>148495</td></tr><tr><td>CA</td><td>120228</td></tr><tr><td>CA</td><td>109484</td></tr><tr><td>CA</td><td>121901</td></tr><tr><td>CA</td><td>129281</td></tr><tr><td>CA</td><td>108455</td></tr><tr><td>CO</td><td>113574</td></tr><tr><td>CO</td><td>353108</td></tr><tr><td>CO</td><td>105112</td></tr><tr><td>CO</td><td>107201</td></tr><tr><td>CO</td><td>445830</td></tr><tr><td>CO</td><td>663862</td></tr><tr><td>CO</td><td>156480</td></tr><tr><td>CO</td><td>149643</td></tr><tr><td>CO</td><td>108423</td></tr><tr><td>CO</td><td>130307</td></tr><tr><td>CO</td><td>112090</td></tr><tr><td>CT</td><td>147612</td></tr><tr><td>CT</td><td>124705</td></tr><tr><td>CT</td><td>130282</td></tr><tr><td>CT</td><td>128278</td></tr><tr><td>CT</td><td>109307</td></tr><tr><td>DC</td><td>658893</td></tr><tr><td>FL</td><td>169854</td></tr><tr><td>FL</td><td>110703</td></tr><tr><td>FL</td><td>127952</td></tr><tr><td>FL</td><td>176013</td></tr><tr><td>FL</td><td>128460</td></tr><tr><td>FL</td><td>235563</td></tr><tr><td>FL</td><td>148047</td></tr><tr><td>FL</td><td>853382</td></tr><tr><td>FL</td><td>102346</td></tr><tr><td>FL</td><td>430332</td></tr><tr><td>FL</td><td>112265</td></tr><tr><td>FL</td><td>134989</td></tr><tr><td>FL</td><td>262372</td></tr><tr><td>FL</td><td>105838</td></tr><tr><td>FL</td><td>164626</td></tr><tr><td>FL</td><td>106105</td></tr><tr><td>FL</td><td>174110</td></tr><tr><td>FL</td><td>253693</td></tr><tr><td>FL</td><td>188107</td></tr><tr><td>FL</td><td>358699</td></tr><tr><td>FL</td><td>104031</td></tr><tr><td>GA</td><td>119648</td></tr><tr><td>GA</td><td>456002</td></tr><tr><td>GA</td><td>196741</td></tr><tr><td>GA</td><td>200887</td></tr><tr><td>GA</td><td>null</td></tr><tr><td>GA</td><td>101908</td></tr><tr><td>GA</td><td>144352</td></tr><tr><td>HI</td><td>350399</td></tr><tr><td>ID</td><td>216282</td></tr><tr><td>IL</td><td>200456</td></tr><tr><td>IL</td><td>2722389</td></tr><tr><td>IL</td><td>111117</td></tr><tr><td>IL</td><td>147928</td></tr><tr><td>IL</td><td>146128</td></tr><tr><td>IL</td><td>115828</td></tr><tr><td>IL</td><td>149123</td></tr><tr><td>IL</td><td>116809</td></tr><tr><td>IN</td><td>120346</td></tr><tr><td>IN</td><td>258522</td></tr><tr><td>IN</td><td>848788</td></tr><tr><td>IA</td><td>129195</td></tr><tr><td>IA</td><td>102448</td></tr><tr><td>IA</td><td>209220</td></tr><tr><td>KS</td><td>149636</td></tr><tr><td>KS</td><td>133062</td></tr><tr><td>KS</td><td>184525</td></tr><tr><td>KS</td><td>127215</td></tr><tr><td>KS</td><td>388413</td></tr><tr><td>KY</td><td>310797</td></tr><tr><td>KY</td><td>612780</td></tr><tr><td>LA</td><td>228895</td></tr><tr><td>LA</td><td>126066</td></tr><tr><td>LA</td><td>384320</td></tr><tr><td>LA</td><td>198242</td></tr><tr><td>MD</td><td>622793</td></tr><tr><td>MA</td><td>655884</td></tr><tr><td>MA</td><td>109694</td></tr><tr><td>MA</td><td>109945</td></tr><tr><td>MA</td><td>153991</td></tr><tr><td>MA</td><td>183016</td></tr><tr><td>MI</td><td>117770</td></tr><tr><td>MI</td><td>680250</td></tr><tr><td>MI</td><td>193792</td></tr><tr><td>MI</td><td>114620</td></tr><tr><td>MI</td><td>131741</td></tr><tr><td>MI</td><td>135099</td></tr><tr><td>MN</td><td>407207</td></tr><tr><td>MN</td><td>111402</td></tr><tr><td>MN</td><td>297640</td></tr><tr><td>MS</td><td>171155</td></tr><tr><td>MO</td><td>116906</td></tr><tr><td>MO</td><td>117494</td></tr><tr><td>MO</td><td>470800</td></tr><tr><td>MO</td><td>165378</td></tr><tr><td>MO</td><td>317419</td></tr><tr><td>MT</td><td>108869</td></tr><tr><td>NE</td><td>272996</td></tr><tr><td>NE</td><td>446599</td></tr><tr><td>NV</td><td>277440</td></tr><tr><td>NV</td><td>613599</td></tr><tr><td>NV</td><td>230788</td></tr><tr><td>NV</td><td>236995</td></tr><tr><td>NH</td><td>110448</td></tr><tr><td>NJ</td><td>128705</td></tr><tr><td>NJ</td><td>262146</td></tr><tr><td>NJ</td><td>280579</td></tr><tr><td>NJ</td><td>146753</td></tr><tr><td>NM</td><td>557169</td></tr><tr><td>NM</td><td>101408</td></tr><tr><td>NY</td><td>258703</td></tr><tr><td>NY</td><td>8491079</td></tr><tr><td>NY</td><td>209983</td></tr><tr><td>NY</td><td>144263</td></tr><tr><td>NY</td><td>200667</td></tr><tr><td>NC</td><td>155227</td></tr><tr><td>NC</td><td>809958</td></tr><tr><td>NC</td><td>251893</td></tr><tr><td>NC</td><td>203948</td></tr><tr><td>NC</td><td>282586</td></tr><tr><td>NC</td><td>108629</td></tr><tr><td>NC</td><td>439896</td></tr><tr><td>NC</td><td>113657</td></tr><tr><td>NC</td><td>239269</td></tr><tr><td>ND</td><td>115863</td></tr><tr><td>OH</td><td>197859</td></tr><tr><td>OH</td><td>298165</td></tr><tr><td>OH</td><td>389521</td></tr><tr><td>OH</td><td>835957</td></tr><tr><td>OH</td><td>141003</td></tr><tr><td>OH</td><td>281031</td></tr><tr><td>OK</td><td>104726</td></tr><tr><td>OK</td><td>118040</td></tr><tr><td>OK</td><td>620602</td></tr><tr><td>OK</td><td>399682</td></tr><tr><td>OR</td><td>160561</td></tr><tr><td>OR</td><td>109892</td></tr><tr><td>OR</td><td>619360</td></tr><tr><td>OR</td><td>161637</td></tr><tr><td>PA</td><td>119104</td></tr><tr><td>PA</td><td>1560297</td></tr><tr><td>PA</td><td>305412</td></tr><tr><td>RI</td><td>179154</td></tr><tr><td>SC</td><td>130113</td></tr><tr><td>SC</td><td>132067</td></tr><tr><td>SC</td><td>106749</td></tr><tr><td>SD</td><td>168586</td></tr><tr><td>TN</td><td>173778</td></tr><tr><td>TN</td><td>146806</td></tr><tr><td>TN</td><td>184281</td></tr><tr><td>TN</td><td>656861</td></tr><tr><td>TN</td><td>120954</td></tr><tr><td>TN</td><td>644014</td></tr><tr><td>TX</td><td>120958</td></tr><tr><td>TX</td><td>197254</td></tr><tr><td>TX</td><td>383204</td></tr><tr><td>TX</td><td>912791</td></tr><tr><td>TX</td><td>117585</td></tr><tr><td>TX</td><td>183046</td></tr><tr><td>TX</td><td>128353</td></tr><tr><td>TX</td><td>103483</td></tr><tr><td>TX</td><td>320434</td></tr><tr><td>TX</td><td>1281047</td></tr><tr><td>TX</td><td>128205</td></tr><tr><td>TX</td><td>679036</td></tr><tr><td>TX</td><td>812238</td></tr><tr><td>TX</td><td>145035</td></tr><tr><td>TX</td><td>235501</td></tr><tr><td>TX</td><td>185453</td></tr><tr><td>TX</td><td>2239558</td></tr><tr><td>TX</td><td>232406</td></tr><tr><td>TX</td><td>138154</td></tr><tr><td>TX</td><td>252309</td></tr><tr><td>TX</td><td>102889</td></tr><tr><td>TX</td><td>243839</td></tr><tr><td>TX</td><td>138596</td></tr><tr><td>TX</td><td>156767</td></tr><tr><td>TX</td><td>144416</td></tr><tr><td>TX</td><td>128037</td></tr><tr><td>TX</td><td>114597</td></tr><tr><td>TX</td><td>153887</td></tr><tr><td>TX</td><td>103441</td></tr><tr><td>TX</td><td>278480</td></tr><tr><td>TX</td><td>108617</td></tr><tr><td>TX</td><td>112744</td></tr><tr><td>TX</td><td>1436697</td></tr><tr><td>TX</td><td>101421</td></tr><tr><td>TX</td><td>130194</td></tr><tr><td>TX</td><td>105114</td></tr><tr><td>UT</td><td>114801</td></tr><tr><td>UT</td><td>190884</td></tr><tr><td>UT</td><td>110920</td></tr><tr><td>UT</td><td>134495</td></tr><tr><td>VA</td><td>150575</td></tr><tr><td>VA</td><td>233371</td></tr><tr><td>VA</td><td>136879</td></tr><tr><td>VA</td><td>182965</td></tr><tr><td>VA</td><td>245428</td></tr><tr><td>VA</td><td>217853</td></tr><tr><td>VA</td><td>450980</td></tr><tr><td>WA</td><td>136426</td></tr><tr><td>WA</td><td>106736</td></tr><tr><td>WA</td><td>125560</td></tr><tr><td>WA</td><td>668342</td></tr><tr><td>WA</td><td>212052</td></tr><tr><td>WA</td><td>205159</td></tr><tr><td>WA</td><td>169294</td></tr><tr><td>WI</td><td>104891</td></tr><tr><td>WI</td><td>245691</td></tr><tr><td>WI</td><td>599642</td></tr></tbody></table></div>"
      ]
     },
     "metadata": {
      "application/vnd.databricks.v1+output": {
       "addedWidgets": {},
       "aggData": [],
       "aggError": "",
       "aggOverflow": false,
       "aggSchema": [],
       "aggSeriesLimitReached": false,
       "aggType": "",
       "arguments": {},
       "columnCustomDisplayInfos": {},
       "data": [
        [
         "AL",
         212247
        ],
        [
         "AL",
         188226
        ],
        [
         "AL",
         194675
        ],
        [
         "AL",
         200481
        ],
        [
         "AK",
         301010
        ],
        [
         "AZ",
         254276
        ],
        [
         "AZ",
         239277
        ],
        [
         "AZ",
         237517
        ],
        [
         "AZ",
         464704
        ],
        [
         "AZ",
         166934
        ],
        [
         "AZ",
         1537058
        ],
        [
         "AZ",
         230512
        ],
        [
         "AZ",
         126275
        ],
        [
         "AZ",
         172816
        ],
        [
         "AZ",
         527972
        ],
        [
         "AR",
         197706
        ],
        [
         "CA",
         346997
        ],
        [
         "CA",
         108930
        ],
        [
         "CA",
         368759
        ],
        [
         "CA",
         118853
        ],
        [
         "CA",
         105368
        ],
        [
         "CA",
         112299
        ],
        [
         "CA",
         260988
        ],
        [
         "CA",
         102189
        ],
        [
         "CA",
         127522
        ],
        [
         "CA",
         161486
        ],
        [
         "CA",
         112784
        ],
        [
         "CA",
         106094
        ],
        [
         "CA",
         114172
        ],
        [
         "CA",
         103091
        ],
        [
         "CA",
         116631
        ],
        [
         "CA",
         163553
        ],
        [
         "CA",
         150243
        ],
        [
         "CA",
         111125
        ],
        [
         "CA",
         204950
        ],
        [
         "CA",
         228758
        ],
        [
         "CA",
         515986
        ],
        [
         "CA",
         139677
        ],
        [
         "CA",
         175078
        ],
        [
         "CA",
         200167
        ],
        [
         "CA",
         154612
        ],
        [
         "CA",
         200809
        ],
        [
         "CA",
         111905
        ],
        [
         "CA",
         248531
        ],
        [
         "CA",
         161043
        ],
        [
         "CA",
         473577
        ],
        [
         "CA",
         3928864
        ],
        [
         "CA",
         209286
        ],
        [
         "CA",
         202976
        ],
        [
         "CA",
         108368
        ],
        [
         "CA",
         107096
        ],
        [
         "CA",
         413775
        ],
        [
         "CA",
         174558
        ],
        [
         "CA",
         169089
        ],
        [
         "CA",
         139812
        ],
        [
         "CA",
         205437
        ],
        [
         "CA",
         158279
        ],
        [
         "CA",
         140881
        ],
        [
         "CA",
         153350
        ],
        [
         "CA",
         174305
        ],
        [
         "CA",
         102741
        ],
        [
         "CA",
         108565
        ],
        [
         "CA",
         319504
        ],
        [
         "CA",
         128615
        ],
        [
         "CA",
         485199
        ],
        [
         "CA",
         156677
        ],
        [
         "CA",
         215213
        ],
        [
         "CA",
         1381069
        ],
        [
         "CA",
         852469
        ],
        [
         "CA",
         1015785
        ],
        [
         "CA",
         102893
        ],
        [
         "CA",
         334909
        ],
        [
         "CA",
         122192
        ],
        [
         "CA",
         181557
        ],
        [
         "CA",
         103410
        ],
        [
         "CA",
         174170
        ],
        [
         "CA",
         126871
        ],
        [
         "CA",
         302389
        ],
        [
         "CA",
         149980
        ],
        [
         "CA",
         109428
        ],
        [
         "CA",
         129342
        ],
        [
         "CA",
         148495
        ],
        [
         "CA",
         120228
        ],
        [
         "CA",
         109484
        ],
        [
         "CA",
         121901
        ],
        [
         "CA",
         129281
        ],
        [
         "CA",
         108455
        ],
        [
         "CO",
         113574
        ],
        [
         "CO",
         353108
        ],
        [
         "CO",
         105112
        ],
        [
         "CO",
         107201
        ],
        [
         "CO",
         445830
        ],
        [
         "CO",
         663862
        ],
        [
         "CO",
         156480
        ],
        [
         "CO",
         149643
        ],
        [
         "CO",
         108423
        ],
        [
         "CO",
         130307
        ],
        [
         "CO",
         112090
        ],
        [
         "CT",
         147612
        ],
        [
         "CT",
         124705
        ],
        [
         "CT",
         130282
        ],
        [
         "CT",
         128278
        ],
        [
         "CT",
         109307
        ],
        [
         "DC",
         658893
        ],
        [
         "FL",
         169854
        ],
        [
         "FL",
         110703
        ],
        [
         "FL",
         127952
        ],
        [
         "FL",
         176013
        ],
        [
         "FL",
         128460
        ],
        [
         "FL",
         235563
        ],
        [
         "FL",
         148047
        ],
        [
         "FL",
         853382
        ],
        [
         "FL",
         102346
        ],
        [
         "FL",
         430332
        ],
        [
         "FL",
         112265
        ],
        [
         "FL",
         134989
        ],
        [
         "FL",
         262372
        ],
        [
         "FL",
         105838
        ],
        [
         "FL",
         164626
        ],
        [
         "FL",
         106105
        ],
        [
         "FL",
         174110
        ],
        [
         "FL",
         253693
        ],
        [
         "FL",
         188107
        ],
        [
         "FL",
         358699
        ],
        [
         "FL",
         104031
        ],
        [
         "GA",
         119648
        ],
        [
         "GA",
         456002
        ],
        [
         "GA",
         196741
        ],
        [
         "GA",
         200887
        ],
        [
         "GA",
         null
        ],
        [
         "GA",
         101908
        ],
        [
         "GA",
         144352
        ],
        [
         "HI",
         350399
        ],
        [
         "ID",
         216282
        ],
        [
         "IL",
         200456
        ],
        [
         "IL",
         2722389
        ],
        [
         "IL",
         111117
        ],
        [
         "IL",
         147928
        ],
        [
         "IL",
         146128
        ],
        [
         "IL",
         115828
        ],
        [
         "IL",
         149123
        ],
        [
         "IL",
         116809
        ],
        [
         "IN",
         120346
        ],
        [
         "IN",
         258522
        ],
        [
         "IN",
         848788
        ],
        [
         "IA",
         129195
        ],
        [
         "IA",
         102448
        ],
        [
         "IA",
         209220
        ],
        [
         "KS",
         149636
        ],
        [
         "KS",
         133062
        ],
        [
         "KS",
         184525
        ],
        [
         "KS",
         127215
        ],
        [
         "KS",
         388413
        ],
        [
         "KY",
         310797
        ],
        [
         "KY",
         612780
        ],
        [
         "LA",
         228895
        ],
        [
         "LA",
         126066
        ],
        [
         "LA",
         384320
        ],
        [
         "LA",
         198242
        ],
        [
         "MD",
         622793
        ],
        [
         "MA",
         655884
        ],
        [
         "MA",
         109694
        ],
        [
         "MA",
         109945
        ],
        [
         "MA",
         153991
        ],
        [
         "MA",
         183016
        ],
        [
         "MI",
         117770
        ],
        [
         "MI",
         680250
        ],
        [
         "MI",
         193792
        ],
        [
         "MI",
         114620
        ],
        [
         "MI",
         131741
        ],
        [
         "MI",
         135099
        ],
        [
         "MN",
         407207
        ],
        [
         "MN",
         111402
        ],
        [
         "MN",
         297640
        ],
        [
         "MS",
         171155
        ],
        [
         "MO",
         116906
        ],
        [
         "MO",
         117494
        ],
        [
         "MO",
         470800
        ],
        [
         "MO",
         165378
        ],
        [
         "MO",
         317419
        ],
        [
         "MT",
         108869
        ],
        [
         "NE",
         272996
        ],
        [
         "NE",
         446599
        ],
        [
         "NV",
         277440
        ],
        [
         "NV",
         613599
        ],
        [
         "NV",
         230788
        ],
        [
         "NV",
         236995
        ],
        [
         "NH",
         110448
        ],
        [
         "NJ",
         128705
        ],
        [
         "NJ",
         262146
        ],
        [
         "NJ",
         280579
        ],
        [
         "NJ",
         146753
        ],
        [
         "NM",
         557169
        ],
        [
         "NM",
         101408
        ],
        [
         "NY",
         258703
        ],
        [
         "NY",
         8491079
        ],
        [
         "NY",
         209983
        ],
        [
         "NY",
         144263
        ],
        [
         "NY",
         200667
        ],
        [
         "NC",
         155227
        ],
        [
         "NC",
         809958
        ],
        [
         "NC",
         251893
        ],
        [
         "NC",
         203948
        ],
        [
         "NC",
         282586
        ],
        [
         "NC",
         108629
        ],
        [
         "NC",
         439896
        ],
        [
         "NC",
         113657
        ],
        [
         "NC",
         239269
        ],
        [
         "ND",
         115863
        ],
        [
         "OH",
         197859
        ],
        [
         "OH",
         298165
        ],
        [
         "OH",
         389521
        ],
        [
         "OH",
         835957
        ],
        [
         "OH",
         141003
        ],
        [
         "OH",
         281031
        ],
        [
         "OK",
         104726
        ],
        [
         "OK",
         118040
        ],
        [
         "OK",
         620602
        ],
        [
         "OK",
         399682
        ],
        [
         "OR",
         160561
        ],
        [
         "OR",
         109892
        ],
        [
         "OR",
         619360
        ],
        [
         "OR",
         161637
        ],
        [
         "PA",
         119104
        ],
        [
         "PA",
         1560297
        ],
        [
         "PA",
         305412
        ],
        [
         "RI",
         179154
        ],
        [
         "SC",
         130113
        ],
        [
         "SC",
         132067
        ],
        [
         "SC",
         106749
        ],
        [
         "SD",
         168586
        ],
        [
         "TN",
         173778
        ],
        [
         "TN",
         146806
        ],
        [
         "TN",
         184281
        ],
        [
         "TN",
         656861
        ],
        [
         "TN",
         120954
        ],
        [
         "TN",
         644014
        ],
        [
         "TX",
         120958
        ],
        [
         "TX",
         197254
        ],
        [
         "TX",
         383204
        ],
        [
         "TX",
         912791
        ],
        [
         "TX",
         117585
        ],
        [
         "TX",
         183046
        ],
        [
         "TX",
         128353
        ],
        [
         "TX",
         103483
        ],
        [
         "TX",
         320434
        ],
        [
         "TX",
         1281047
        ],
        [
         "TX",
         128205
        ],
        [
         "TX",
         679036
        ],
        [
         "TX",
         812238
        ],
        [
         "TX",
         145035
        ],
        [
         "TX",
         235501
        ],
        [
         "TX",
         185453
        ],
        [
         "TX",
         2239558
        ],
        [
         "TX",
         232406
        ],
        [
         "TX",
         138154
        ],
        [
         "TX",
         252309
        ],
        [
         "TX",
         102889
        ],
        [
         "TX",
         243839
        ],
        [
         "TX",
         138596
        ],
        [
         "TX",
         156767
        ],
        [
         "TX",
         144416
        ],
        [
         "TX",
         128037
        ],
        [
         "TX",
         114597
        ],
        [
         "TX",
         153887
        ],
        [
         "TX",
         103441
        ],
        [
         "TX",
         278480
        ],
        [
         "TX",
         108617
        ],
        [
         "TX",
         112744
        ],
        [
         "TX",
         1436697
        ],
        [
         "TX",
         101421
        ],
        [
         "TX",
         130194
        ],
        [
         "TX",
         105114
        ],
        [
         "UT",
         114801
        ],
        [
         "UT",
         190884
        ],
        [
         "UT",
         110920
        ],
        [
         "UT",
         134495
        ],
        [
         "VA",
         150575
        ],
        [
         "VA",
         233371
        ],
        [
         "VA",
         136879
        ],
        [
         "VA",
         182965
        ],
        [
         "VA",
         245428
        ],
        [
         "VA",
         217853
        ],
        [
         "VA",
         450980
        ],
        [
         "WA",
         136426
        ],
        [
         "WA",
         106736
        ],
        [
         "WA",
         125560
        ],
        [
         "WA",
         668342
        ],
        [
         "WA",
         212052
        ],
        [
         "WA",
         205159
        ],
        [
         "WA",
         169294
        ],
        [
         "WI",
         104891
        ],
        [
         "WI",
         245691
        ],
        [
         "WI",
         599642
        ]
       ],
       "datasetInfos": [],
       "dbfsResultPath": null,
       "isJsonSchema": true,
       "metadata": {
        "dataframeName": "_sqldf",
        "executionCount": 9
       },
       "overflow": false,
       "plotOptions": {
        "customPlotOptions": {},
        "displayType": "mapPlot",
        "pivotAggregation": null,
        "pivotColumns": null,
        "xColumns": null,
        "yColumns": null
       },
       "removedWidgets": [],
       "schema": [
        {
         "metadata": "{}",
         "name": "State Code",
         "type": "\"string\""
        },
        {
         "metadata": "{}",
         "name": "2014 Population estimate",
         "type": "\"integer\""
        }
       ],
       "type": "table"
      }
     },
     "output_type": "display_data"
    }
   ],
   "source": [
    "%sql\n",
    "select `State Code`, `2014 Population estimate` from data_geo"
   ]
  },
  {
   "cell_type": "code",
   "execution_count": 0,
   "metadata": {
    "application/vnd.databricks.v1+cell": {
     "cellMetadata": {
      "byteLimit": 2048000,
      "implicitDf": true,
      "rowLimit": 10000
     },
     "inputWidgets": {},
     "nuid": "4d459505-2388-441b-91fb-2d220a59915d",
     "showTitle": false,
     "title": ""
    }
   },
   "outputs": [
    {
     "output_type": "display_data",
     "data": {
      "text/html": [
       "<style scoped>\n",
       "  .table-result-container {\n",
       "    max-height: 300px;\n",
       "    overflow: auto;\n",
       "  }\n",
       "  table, th, td {\n",
       "    border: 1px solid black;\n",
       "    border-collapse: collapse;\n",
       "  }\n",
       "  th, td {\n",
       "    padding: 5px;\n",
       "  }\n",
       "  th {\n",
       "    text-align: left;\n",
       "  }\n",
       "</style><div class='table-result-container'><table class='table-result'><thead style='background-color: white'><tr><th>City</th></tr></thead><tbody><tr><td>Birmingham</td></tr><tr><td>Huntsville</td></tr><tr><td>Mobile</td></tr><tr><td>Montgomery</td></tr><tr><td>Anchorage[19]</td></tr><tr><td>Chandler</td></tr><tr><td>Gilbert[20]</td></tr><tr><td>Glendale</td></tr><tr><td>Mesa</td></tr><tr><td>Peoria</td></tr><tr><td>Phoenix</td></tr><tr><td>Scottsdale</td></tr><tr><td>Surprise</td></tr><tr><td>Tempe</td></tr><tr><td>Tucson</td></tr><tr><td>Little Rock</td></tr><tr><td>Anaheim</td></tr><tr><td>Antioch</td></tr><tr><td>Bakersfield</td></tr><tr><td>Berkeley</td></tr><tr><td>Burbank</td></tr><tr><td>Carlsbad</td></tr><tr><td>Chula Vista</td></tr><tr><td>Clovis</td></tr><tr><td>Concord</td></tr><tr><td>Corona</td></tr><tr><td>Costa Mesa</td></tr><tr><td>Daly City</td></tr><tr><td>Downey</td></tr><tr><td>El Cajon</td></tr><tr><td>El Monte</td></tr><tr><td>Elk Grove</td></tr><tr><td>Escondido</td></tr><tr><td>Fairfield</td></tr><tr><td>Fontana</td></tr><tr><td>Fremont</td></tr><tr><td>Fresno</td></tr><tr><td>Fullerton</td></tr><tr><td>Garden Grove</td></tr><tr><td>Glendale</td></tr><tr><td>Hayward</td></tr><tr><td>Huntington Beach</td></tr><tr><td>Inglewood</td></tr><tr><td>Irvine</td></tr><tr><td>Lancaster</td></tr><tr><td>Long Beach</td></tr><tr><td>Los Angeles</td></tr><tr><td>Modesto</td></tr><tr><td>Moreno Valley</td></tr><tr><td>Murrieta</td></tr><tr><td>Norwalk</td></tr><tr><td>Oakland</td></tr><tr><td>Oceanside</td></tr><tr><td>Ontario</td></tr><tr><td>Orange</td></tr><tr><td>Oxnard</td></tr><tr><td>Palmdale</td></tr><tr><td>Pasadena</td></tr><tr><td>Pomona</td></tr><tr><td>Rancho Cucamonga</td></tr><tr><td>Rialto</td></tr><tr><td>Richmond</td></tr><tr><td>Riverside</td></tr><tr><td>Roseville</td></tr><tr><td>Sacramento</td></tr><tr><td>Salinas</td></tr><tr><td>San Bernardino</td></tr><tr><td>San Diego</td></tr><tr><td>San Francisco[10]</td></tr><tr><td>San Jose</td></tr><tr><td>San Mateo</td></tr><tr><td>Santa Ana</td></tr><tr><td>Santa Clara</td></tr><tr><td>Santa Clarita</td></tr><tr><td>Santa Maria</td></tr><tr><td>Santa Rosa</td></tr><tr><td>Simi Valley</td></tr><tr><td>Stockton</td></tr><tr><td>Sunnyvale</td></tr><tr><td>Temecula</td></tr><tr><td>Thousand Oaks</td></tr><tr><td>Torrance</td></tr><tr><td>Vallejo</td></tr><tr><td>Ventura[29]</td></tr><tr><td>Victorville</td></tr><tr><td>Visalia</td></tr><tr><td>West Covina</td></tr><tr><td>Arvada</td></tr><tr><td>Aurora</td></tr><tr><td>Boulder</td></tr><tr><td>Centennial</td></tr><tr><td>Colorado Springs</td></tr><tr><td>Denver[12]</td></tr><tr><td>Fort Collins</td></tr><tr><td>Lakewood</td></tr><tr><td>Pueblo</td></tr><tr><td>Thornton</td></tr><tr><td>Westminster</td></tr><tr><td>Bridgeport</td></tr><tr><td>Hartford</td></tr><tr><td>New Haven</td></tr><tr><td>Stamford</td></tr><tr><td>Waterbury</td></tr><tr><td>Washington[13]</td></tr><tr><td>Cape Coral</td></tr><tr><td>Clearwater</td></tr><tr><td>Coral Springs</td></tr><tr><td>Fort Lauderdale</td></tr><tr><td>Gainesville</td></tr><tr><td>Hialeah</td></tr><tr><td>Hollywood</td></tr><tr><td>Jacksonville[9]</td></tr><tr><td>Lakeland</td></tr><tr><td>Miami</td></tr><tr><td>Miami Gardens</td></tr><tr><td>Miramar</td></tr><tr><td>Orlando</td></tr><tr><td>Palm Bay</td></tr><tr><td>Pembroke Pines</td></tr><tr><td>Pompano Beach</td></tr><tr><td>Port St. Lucie</td></tr><tr><td>St. Petersburg</td></tr><tr><td>Tallahassee</td></tr><tr><td>Tampa</td></tr><tr><td>West Palm Beach</td></tr><tr><td>Athens[28]</td></tr><tr><td>Atlanta</td></tr><tr><td>Augusta[24]</td></tr><tr><td>Columbus[23]</td></tr><tr><td>Macon</td></tr><tr><td>Sandy Springs</td></tr><tr><td>Savannah</td></tr><tr><td>Honolulu[2]</td></tr><tr><td>Boise[22]</td></tr><tr><td>Aurora</td></tr><tr><td>Chicago</td></tr><tr><td>Elgin</td></tr><tr><td>Joliet</td></tr><tr><td>Naperville</td></tr><tr><td>Peoria</td></tr><tr><td>Rockford</td></tr><tr><td>Springfield</td></tr><tr><td>Evansville</td></tr><tr><td>Fort Wayne</td></tr><tr><td>Indianapolis[11]</td></tr><tr><td>Cedar Rapids</td></tr><tr><td>Davenport</td></tr><tr><td>Des Moines</td></tr><tr><td>Kansas City[26]</td></tr><tr><td>Olathe</td></tr><tr><td>Overland Park</td></tr><tr><td>Topeka</td></tr><tr><td>Wichita</td></tr><tr><td>Lexington[18]</td></tr><tr><td>Louisville[16]</td></tr><tr><td>Baton Rouge[21]</td></tr><tr><td>Lafayette[27]</td></tr><tr><td>New Orleans[17]</td></tr><tr><td>Shreveport</td></tr><tr><td>Baltimore[15]</td></tr><tr><td>Boston</td></tr><tr><td>Cambridge</td></tr><tr><td>Lowell</td></tr><tr><td>Springfield</td></tr><tr><td>Worcester</td></tr><tr><td>Ann Arbor</td></tr><tr><td>Detroit</td></tr><tr><td>Grand Rapids</td></tr><tr><td>Lansing</td></tr><tr><td>Sterling Heights</td></tr><tr><td>Warren</td></tr><tr><td>Minneapolis</td></tr><tr><td>Rochester</td></tr><tr><td>Saint Paul</td></tr><tr><td>Jackson</td></tr><tr><td>Columbia</td></tr><tr><td>Independence</td></tr><tr><td>Kansas City</td></tr><tr><td>Springfield</td></tr><tr><td>St. Louis[15]</td></tr><tr><td>Billings</td></tr><tr><td>Lincoln</td></tr><tr><td>Omaha</td></tr><tr><td>Henderson</td></tr><tr><td>Las Vegas</td></tr><tr><td>North Las Vegas</td></tr><tr><td>Reno</td></tr><tr><td>Manchester</td></tr><tr><td>Elizabeth</td></tr><tr><td>Jersey City</td></tr><tr><td>Newark</td></tr><tr><td>Paterson</td></tr><tr><td>Albuquerque</td></tr><tr><td>Las Cruces</td></tr><tr><td>Buffalo</td></tr><tr><td>New York[6]</td></tr><tr><td>Rochester</td></tr><tr><td>Syracuse</td></tr><tr><td>Yonkers</td></tr><tr><td>Cary[25]</td></tr><tr><td>Charlotte</td></tr><tr><td>Durham</td></tr><tr><td>Fayetteville</td></tr><tr><td>Greensboro</td></tr><tr><td>High Point</td></tr><tr><td>Raleigh</td></tr><tr><td>Wilmington</td></tr><tr><td>Winston�Salem</td></tr><tr><td>Fargo</td></tr><tr><td>Akron</td></tr><tr><td>Cincinnati</td></tr><tr><td>Cleveland</td></tr><tr><td>Columbus</td></tr><tr><td>Dayton</td></tr><tr><td>Toledo</td></tr><tr><td>Broken Arrow</td></tr><tr><td>Norman</td></tr><tr><td>Oklahoma City</td></tr><tr><td>Tulsa</td></tr><tr><td>Eugene</td></tr><tr><td>Gresham</td></tr><tr><td>Portland</td></tr><tr><td>Salem</td></tr><tr><td>Allentown</td></tr><tr><td>Philadelphia[8]</td></tr><tr><td>Pittsburgh</td></tr><tr><td>Providence</td></tr><tr><td>Charleston</td></tr><tr><td>Columbia</td></tr><tr><td>North Charleston</td></tr><tr><td>Sioux Falls</td></tr><tr><td>Chattanooga</td></tr><tr><td>Clarksville</td></tr><tr><td>Knoxville</td></tr><tr><td>Memphis</td></tr><tr><td>Murfreesboro</td></tr><tr><td>Nashville[14]</td></tr><tr><td>Abilene</td></tr><tr><td>Amarillo</td></tr><tr><td>Arlington</td></tr><tr><td>Austin</td></tr><tr><td>Beaumont</td></tr><tr><td>Brownsville</td></tr><tr><td>Carrollton</td></tr><tr><td>College Station</td></tr><tr><td>Corpus Christi</td></tr><tr><td>Dallas</td></tr><tr><td>Denton</td></tr><tr><td>El Paso</td></tr><tr><td>Fort Worth</td></tr><tr><td>Frisco</td></tr><tr><td>Garland</td></tr><tr><td>Grand Prairie</td></tr><tr><td>Houston[7]</td></tr><tr><td>Irving</td></tr><tr><td>Killeen</td></tr><tr><td>Laredo</td></tr><tr><td>Lewisville</td></tr><tr><td>Lubbock</td></tr><tr><td>McAllen</td></tr><tr><td>McKinney</td></tr><tr><td>Mesquite</td></tr><tr><td>Midland</td></tr><tr><td>Odessa</td></tr><tr><td>Pasadena</td></tr><tr><td>Pearland</td></tr><tr><td>Plano</td></tr><tr><td>Richardson</td></tr><tr><td>Round Rock</td></tr><tr><td>San Antonio</td></tr><tr><td>Tyler</td></tr><tr><td>Waco</td></tr><tr><td>Wichita Falls</td></tr><tr><td>Provo</td></tr><tr><td>Salt Lake City</td></tr><tr><td>West Jordan</td></tr><tr><td>West Valley City</td></tr><tr><td>Alexandria[15]</td></tr><tr><td>Chesapeake[15]</td></tr><tr><td>Hampton[15]</td></tr><tr><td>Newport News[15]</td></tr><tr><td>Norfolk[15]</td></tr><tr><td>Richmond[15]</td></tr><tr><td>Virginia Beach[15]</td></tr><tr><td>Bellevue</td></tr><tr><td>Everett</td></tr><tr><td>Kent</td></tr><tr><td>Seattle</td></tr><tr><td>Spokane</td></tr><tr><td>Tacoma</td></tr><tr><td>Vancouver</td></tr><tr><td>Green Bay</td></tr><tr><td>Madison</td></tr><tr><td>Milwaukee</td></tr></tbody></table></div>"
      ]
     },
     "metadata": {
      "application/vnd.databricks.v1+output": {
       "addedWidgets": {},
       "aggData": [],
       "aggError": "",
       "aggOverflow": false,
       "aggSchema": [],
       "aggSeriesLimitReached": false,
       "aggType": "",
       "arguments": {},
       "columnCustomDisplayInfos": {},
       "data": [
        [
         "Birmingham"
        ],
        [
         "Huntsville"
        ],
        [
         "Mobile"
        ],
        [
         "Montgomery"
        ],
        [
         "Anchorage[19]"
        ],
        [
         "Chandler"
        ],
        [
         "Gilbert[20]"
        ],
        [
         "Glendale"
        ],
        [
         "Mesa"
        ],
        [
         "Peoria"
        ],
        [
         "Phoenix"
        ],
        [
         "Scottsdale"
        ],
        [
         "Surprise"
        ],
        [
         "Tempe"
        ],
        [
         "Tucson"
        ],
        [
         "Little Rock"
        ],
        [
         "Anaheim"
        ],
        [
         "Antioch"
        ],
        [
         "Bakersfield"
        ],
        [
         "Berkeley"
        ],
        [
         "Burbank"
        ],
        [
         "Carlsbad"
        ],
        [
         "Chula Vista"
        ],
        [
         "Clovis"
        ],
        [
         "Concord"
        ],
        [
         "Corona"
        ],
        [
         "Costa Mesa"
        ],
        [
         "Daly City"
        ],
        [
         "Downey"
        ],
        [
         "El Cajon"
        ],
        [
         "El Monte"
        ],
        [
         "Elk Grove"
        ],
        [
         "Escondido"
        ],
        [
         "Fairfield"
        ],
        [
         "Fontana"
        ],
        [
         "Fremont"
        ],
        [
         "Fresno"
        ],
        [
         "Fullerton"
        ],
        [
         "Garden Grove"
        ],
        [
         "Glendale"
        ],
        [
         "Hayward"
        ],
        [
         "Huntington Beach"
        ],
        [
         "Inglewood"
        ],
        [
         "Irvine"
        ],
        [
         "Lancaster"
        ],
        [
         "Long Beach"
        ],
        [
         "Los Angeles"
        ],
        [
         "Modesto"
        ],
        [
         "Moreno Valley"
        ],
        [
         "Murrieta"
        ],
        [
         "Norwalk"
        ],
        [
         "Oakland"
        ],
        [
         "Oceanside"
        ],
        [
         "Ontario"
        ],
        [
         "Orange"
        ],
        [
         "Oxnard"
        ],
        [
         "Palmdale"
        ],
        [
         "Pasadena"
        ],
        [
         "Pomona"
        ],
        [
         "Rancho Cucamonga"
        ],
        [
         "Rialto"
        ],
        [
         "Richmond"
        ],
        [
         "Riverside"
        ],
        [
         "Roseville"
        ],
        [
         "Sacramento"
        ],
        [
         "Salinas"
        ],
        [
         "San Bernardino"
        ],
        [
         "San Diego"
        ],
        [
         "San Francisco[10]"
        ],
        [
         "San Jose"
        ],
        [
         "San Mateo"
        ],
        [
         "Santa Ana"
        ],
        [
         "Santa Clara"
        ],
        [
         "Santa Clarita"
        ],
        [
         "Santa Maria"
        ],
        [
         "Santa Rosa"
        ],
        [
         "Simi Valley"
        ],
        [
         "Stockton"
        ],
        [
         "Sunnyvale"
        ],
        [
         "Temecula"
        ],
        [
         "Thousand Oaks"
        ],
        [
         "Torrance"
        ],
        [
         "Vallejo"
        ],
        [
         "Ventura[29]"
        ],
        [
         "Victorville"
        ],
        [
         "Visalia"
        ],
        [
         "West Covina"
        ],
        [
         "Arvada"
        ],
        [
         "Aurora"
        ],
        [
         "Boulder"
        ],
        [
         "Centennial"
        ],
        [
         "Colorado Springs"
        ],
        [
         "Denver[12]"
        ],
        [
         "Fort Collins"
        ],
        [
         "Lakewood"
        ],
        [
         "Pueblo"
        ],
        [
         "Thornton"
        ],
        [
         "Westminster"
        ],
        [
         "Bridgeport"
        ],
        [
         "Hartford"
        ],
        [
         "New Haven"
        ],
        [
         "Stamford"
        ],
        [
         "Waterbury"
        ],
        [
         "Washington[13]"
        ],
        [
         "Cape Coral"
        ],
        [
         "Clearwater"
        ],
        [
         "Coral Springs"
        ],
        [
         "Fort Lauderdale"
        ],
        [
         "Gainesville"
        ],
        [
         "Hialeah"
        ],
        [
         "Hollywood"
        ],
        [
         "Jacksonville[9]"
        ],
        [
         "Lakeland"
        ],
        [
         "Miami"
        ],
        [
         "Miami Gardens"
        ],
        [
         "Miramar"
        ],
        [
         "Orlando"
        ],
        [
         "Palm Bay"
        ],
        [
         "Pembroke Pines"
        ],
        [
         "Pompano Beach"
        ],
        [
         "Port St. Lucie"
        ],
        [
         "St. Petersburg"
        ],
        [
         "Tallahassee"
        ],
        [
         "Tampa"
        ],
        [
         "West Palm Beach"
        ],
        [
         "Athens[28]"
        ],
        [
         "Atlanta"
        ],
        [
         "Augusta[24]"
        ],
        [
         "Columbus[23]"
        ],
        [
         "Macon"
        ],
        [
         "Sandy Springs"
        ],
        [
         "Savannah"
        ],
        [
         "Honolulu[2]"
        ],
        [
         "Boise[22]"
        ],
        [
         "Aurora"
        ],
        [
         "Chicago"
        ],
        [
         "Elgin"
        ],
        [
         "Joliet"
        ],
        [
         "Naperville"
        ],
        [
         "Peoria"
        ],
        [
         "Rockford"
        ],
        [
         "Springfield"
        ],
        [
         "Evansville"
        ],
        [
         "Fort Wayne"
        ],
        [
         "Indianapolis[11]"
        ],
        [
         "Cedar Rapids"
        ],
        [
         "Davenport"
        ],
        [
         "Des Moines"
        ],
        [
         "Kansas City[26]"
        ],
        [
         "Olathe"
        ],
        [
         "Overland Park"
        ],
        [
         "Topeka"
        ],
        [
         "Wichita"
        ],
        [
         "Lexington[18]"
        ],
        [
         "Louisville[16]"
        ],
        [
         "Baton Rouge[21]"
        ],
        [
         "Lafayette[27]"
        ],
        [
         "New Orleans[17]"
        ],
        [
         "Shreveport"
        ],
        [
         "Baltimore[15]"
        ],
        [
         "Boston"
        ],
        [
         "Cambridge"
        ],
        [
         "Lowell"
        ],
        [
         "Springfield"
        ],
        [
         "Worcester"
        ],
        [
         "Ann Arbor"
        ],
        [
         "Detroit"
        ],
        [
         "Grand Rapids"
        ],
        [
         "Lansing"
        ],
        [
         "Sterling Heights"
        ],
        [
         "Warren"
        ],
        [
         "Minneapolis"
        ],
        [
         "Rochester"
        ],
        [
         "Saint Paul"
        ],
        [
         "Jackson"
        ],
        [
         "Columbia"
        ],
        [
         "Independence"
        ],
        [
         "Kansas City"
        ],
        [
         "Springfield"
        ],
        [
         "St. Louis[15]"
        ],
        [
         "Billings"
        ],
        [
         "Lincoln"
        ],
        [
         "Omaha"
        ],
        [
         "Henderson"
        ],
        [
         "Las Vegas"
        ],
        [
         "North Las Vegas"
        ],
        [
         "Reno"
        ],
        [
         "Manchester"
        ],
        [
         "Elizabeth"
        ],
        [
         "Jersey City"
        ],
        [
         "Newark"
        ],
        [
         "Paterson"
        ],
        [
         "Albuquerque"
        ],
        [
         "Las Cruces"
        ],
        [
         "Buffalo"
        ],
        [
         "New York[6]"
        ],
        [
         "Rochester"
        ],
        [
         "Syracuse"
        ],
        [
         "Yonkers"
        ],
        [
         "Cary[25]"
        ],
        [
         "Charlotte"
        ],
        [
         "Durham"
        ],
        [
         "Fayetteville"
        ],
        [
         "Greensboro"
        ],
        [
         "High Point"
        ],
        [
         "Raleigh"
        ],
        [
         "Wilmington"
        ],
        [
         "Winston�Salem"
        ],
        [
         "Fargo"
        ],
        [
         "Akron"
        ],
        [
         "Cincinnati"
        ],
        [
         "Cleveland"
        ],
        [
         "Columbus"
        ],
        [
         "Dayton"
        ],
        [
         "Toledo"
        ],
        [
         "Broken Arrow"
        ],
        [
         "Norman"
        ],
        [
         "Oklahoma City"
        ],
        [
         "Tulsa"
        ],
        [
         "Eugene"
        ],
        [
         "Gresham"
        ],
        [
         "Portland"
        ],
        [
         "Salem"
        ],
        [
         "Allentown"
        ],
        [
         "Philadelphia[8]"
        ],
        [
         "Pittsburgh"
        ],
        [
         "Providence"
        ],
        [
         "Charleston"
        ],
        [
         "Columbia"
        ],
        [
         "North Charleston"
        ],
        [
         "Sioux Falls"
        ],
        [
         "Chattanooga"
        ],
        [
         "Clarksville"
        ],
        [
         "Knoxville"
        ],
        [
         "Memphis"
        ],
        [
         "Murfreesboro"
        ],
        [
         "Nashville[14]"
        ],
        [
         "Abilene"
        ],
        [
         "Amarillo"
        ],
        [
         "Arlington"
        ],
        [
         "Austin"
        ],
        [
         "Beaumont"
        ],
        [
         "Brownsville"
        ],
        [
         "Carrollton"
        ],
        [
         "College Station"
        ],
        [
         "Corpus Christi"
        ],
        [
         "Dallas"
        ],
        [
         "Denton"
        ],
        [
         "El Paso"
        ],
        [
         "Fort Worth"
        ],
        [
         "Frisco"
        ],
        [
         "Garland"
        ],
        [
         "Grand Prairie"
        ],
        [
         "Houston[7]"
        ],
        [
         "Irving"
        ],
        [
         "Killeen"
        ],
        [
         "Laredo"
        ],
        [
         "Lewisville"
        ],
        [
         "Lubbock"
        ],
        [
         "McAllen"
        ],
        [
         "McKinney"
        ],
        [
         "Mesquite"
        ],
        [
         "Midland"
        ],
        [
         "Odessa"
        ],
        [
         "Pasadena"
        ],
        [
         "Pearland"
        ],
        [
         "Plano"
        ],
        [
         "Richardson"
        ],
        [
         "Round Rock"
        ],
        [
         "San Antonio"
        ],
        [
         "Tyler"
        ],
        [
         "Waco"
        ],
        [
         "Wichita Falls"
        ],
        [
         "Provo"
        ],
        [
         "Salt Lake City"
        ],
        [
         "West Jordan"
        ],
        [
         "West Valley City"
        ],
        [
         "Alexandria[15]"
        ],
        [
         "Chesapeake[15]"
        ],
        [
         "Hampton[15]"
        ],
        [
         "Newport News[15]"
        ],
        [
         "Norfolk[15]"
        ],
        [
         "Richmond[15]"
        ],
        [
         "Virginia Beach[15]"
        ],
        [
         "Bellevue"
        ],
        [
         "Everett"
        ],
        [
         "Kent"
        ],
        [
         "Seattle"
        ],
        [
         "Spokane"
        ],
        [
         "Tacoma"
        ],
        [
         "Vancouver"
        ],
        [
         "Green Bay"
        ],
        [
         "Madison"
        ],
        [
         "Milwaukee"
        ]
       ],
       "datasetInfos": [],
       "dbfsResultPath": null,
       "isJsonSchema": true,
       "metadata": {
        "dataframeName": "_sqldf",
        "executionCount": 12
       },
       "overflow": false,
       "plotOptions": {
        "customPlotOptions": {
         "__migrate__": [
          {
           "key": "status",
           "value": "complete"
          },
          {
           "key": "origDisplayType",
           "value": "mapPlot"
          }
         ],
         "mapPlot": []
        },
        "displayType": "table",
        "pivotAggregation": null,
        "pivotColumns": null,
        "xColumns": null,
        "yColumns": null
       },
       "removedWidgets": [],
       "schema": [
        {
         "metadata": "{}",
         "name": "City",
         "type": "\"string\""
        }
       ],
       "type": "table"
      }
     },
     "output_type": "display_data"
    },
    {
     "output_type": "display_data",
     "data": {
      "text/plain": [
       "Databricks visualization. Run in Databricks to view."
      ]
     },
     "metadata": {
      "application/vnd.databricks.v1.subcommand+json": {
       "baseErrorDetails": null,
       "bindings": {},
       "collapsed": false,
       "command": "%sql\nselect `City` from data_geo",
       "commandTitle": "World map",
       "commandType": "auto",
       "commandVersion": 0,
       "commentThread": [],
       "commentsVisible": false,
       "contentSha256Hex": null,
       "customPlotOptions": {},
       "datasetPreviewNameToCmdIdMap": {},
       "diffDeletes": [],
       "diffInserts": [],
       "displayType": "mapPlot",
       "error": null,
       "errorDetails": null,
       "errorSummary": null,
       "errorTraceType": null,
       "finishTime": 0,
       "globalVars": {},
       "guid": "",
       "height": "auto",
       "hideCommandCode": false,
       "hideCommandResult": false,
       "iPythonMetadata": null,
       "inputWidgets": {},
       "isLockedInExamMode": false,
       "latestUser": "a user",
       "latestUserId": null,
       "listResultMetadata": null,
       "metadata": {},
       "nuid": "fa8aea6d-ef84-4f27-80ee-0dbe7e6ab407",
       "origId": 0,
       "parentHierarchy": [],
       "pivotAggregation": null,
       "pivotColumns": null,
       "position": 1.0,
       "resultDbfsErrorMessage": null,
       "resultDbfsStatus": "INLINED_IN_TREE",
       "results": null,
       "showCommandTitle": false,
       "startTime": 0,
       "state": "input",
       "streamStates": {},
       "subcommandOptions": null,
       "submitTime": 0,
       "subtype": "tableResultSubCmd.visualization",
       "tableResultIndex": 0,
       "useConsistentColors": false,
       "version": "CommandV1",
       "width": "auto",
       "workflows": [],
       "xColumns": null,
       "yColumns": null
      }
     },
     "output_type": "display_data"
    }
   ],
   "source": [
    "%sql\n",
    "select `City` from data_geo\n",
    "\n",
    "-- Se hizo una consulta SQL buscando todas las ciudades"
   ]
  },
  {
   "cell_type": "code",
   "execution_count": 0,
   "metadata": {
    "application/vnd.databricks.v1+cell": {
     "cellMetadata": {
      "byteLimit": 2048000,
      "implicitDf": true,
      "rowLimit": 10000
     },
     "inputWidgets": {},
     "nuid": "9e3a835c-cab2-4748-8592-d794c9ecb5e8",
     "showTitle": false,
     "title": ""
    }
   },
   "outputs": [
    {
     "output_type": "display_data",
     "data": {
      "text/html": [
       "<style scoped>\n",
       "  .table-result-container {\n",
       "    max-height: 300px;\n",
       "    overflow: auto;\n",
       "  }\n",
       "  table, th, td {\n",
       "    border: 1px solid black;\n",
       "    border-collapse: collapse;\n",
       "  }\n",
       "  th, td {\n",
       "    padding: 5px;\n",
       "  }\n",
       "  th {\n",
       "    text-align: left;\n",
       "  }\n",
       "</style><div class='table-result-container'><table class='table-result'><thead style='background-color: white'><tr><th>State Code</th><th>2014 Population estimate</th></tr></thead><tbody><tr><td>AL</td><td>212247</td></tr><tr><td>AL</td><td>188226</td></tr><tr><td>AL</td><td>194675</td></tr><tr><td>AL</td><td>200481</td></tr><tr><td>AK</td><td>301010</td></tr><tr><td>AZ</td><td>254276</td></tr><tr><td>AZ</td><td>239277</td></tr><tr><td>AZ</td><td>237517</td></tr><tr><td>AZ</td><td>464704</td></tr><tr><td>AZ</td><td>166934</td></tr><tr><td>AZ</td><td>1537058</td></tr><tr><td>AZ</td><td>230512</td></tr><tr><td>AZ</td><td>126275</td></tr><tr><td>AZ</td><td>172816</td></tr><tr><td>AZ</td><td>527972</td></tr><tr><td>AR</td><td>197706</td></tr><tr><td>CA</td><td>346997</td></tr><tr><td>CA</td><td>108930</td></tr><tr><td>CA</td><td>368759</td></tr><tr><td>CA</td><td>118853</td></tr><tr><td>CA</td><td>105368</td></tr><tr><td>CA</td><td>112299</td></tr><tr><td>CA</td><td>260988</td></tr><tr><td>CA</td><td>102189</td></tr><tr><td>CA</td><td>127522</td></tr><tr><td>CA</td><td>161486</td></tr><tr><td>CA</td><td>112784</td></tr><tr><td>CA</td><td>106094</td></tr><tr><td>CA</td><td>114172</td></tr><tr><td>CA</td><td>103091</td></tr><tr><td>CA</td><td>116631</td></tr><tr><td>CA</td><td>163553</td></tr><tr><td>CA</td><td>150243</td></tr><tr><td>CA</td><td>111125</td></tr><tr><td>CA</td><td>204950</td></tr><tr><td>CA</td><td>228758</td></tr><tr><td>CA</td><td>515986</td></tr><tr><td>CA</td><td>139677</td></tr><tr><td>CA</td><td>175078</td></tr><tr><td>CA</td><td>200167</td></tr><tr><td>CA</td><td>154612</td></tr><tr><td>CA</td><td>200809</td></tr><tr><td>CA</td><td>111905</td></tr><tr><td>CA</td><td>248531</td></tr><tr><td>CA</td><td>161043</td></tr><tr><td>CA</td><td>473577</td></tr><tr><td>CA</td><td>3928864</td></tr><tr><td>CA</td><td>209286</td></tr><tr><td>CA</td><td>202976</td></tr><tr><td>CA</td><td>108368</td></tr><tr><td>CA</td><td>107096</td></tr><tr><td>CA</td><td>413775</td></tr><tr><td>CA</td><td>174558</td></tr><tr><td>CA</td><td>169089</td></tr><tr><td>CA</td><td>139812</td></tr><tr><td>CA</td><td>205437</td></tr><tr><td>CA</td><td>158279</td></tr><tr><td>CA</td><td>140881</td></tr><tr><td>CA</td><td>153350</td></tr><tr><td>CA</td><td>174305</td></tr><tr><td>CA</td><td>102741</td></tr><tr><td>CA</td><td>108565</td></tr><tr><td>CA</td><td>319504</td></tr><tr><td>CA</td><td>128615</td></tr><tr><td>CA</td><td>485199</td></tr><tr><td>CA</td><td>156677</td></tr><tr><td>CA</td><td>215213</td></tr><tr><td>CA</td><td>1381069</td></tr><tr><td>CA</td><td>852469</td></tr><tr><td>CA</td><td>1015785</td></tr><tr><td>CA</td><td>102893</td></tr><tr><td>CA</td><td>334909</td></tr><tr><td>CA</td><td>122192</td></tr><tr><td>CA</td><td>181557</td></tr><tr><td>CA</td><td>103410</td></tr><tr><td>CA</td><td>174170</td></tr><tr><td>CA</td><td>126871</td></tr><tr><td>CA</td><td>302389</td></tr><tr><td>CA</td><td>149980</td></tr><tr><td>CA</td><td>109428</td></tr><tr><td>CA</td><td>129342</td></tr><tr><td>CA</td><td>148495</td></tr><tr><td>CA</td><td>120228</td></tr><tr><td>CA</td><td>109484</td></tr><tr><td>CA</td><td>121901</td></tr><tr><td>CA</td><td>129281</td></tr><tr><td>CA</td><td>108455</td></tr><tr><td>CO</td><td>113574</td></tr><tr><td>CO</td><td>353108</td></tr><tr><td>CO</td><td>105112</td></tr><tr><td>CO</td><td>107201</td></tr><tr><td>CO</td><td>445830</td></tr><tr><td>CO</td><td>663862</td></tr><tr><td>CO</td><td>156480</td></tr><tr><td>CO</td><td>149643</td></tr><tr><td>CO</td><td>108423</td></tr><tr><td>CO</td><td>130307</td></tr><tr><td>CO</td><td>112090</td></tr><tr><td>CT</td><td>147612</td></tr><tr><td>CT</td><td>124705</td></tr><tr><td>CT</td><td>130282</td></tr><tr><td>CT</td><td>128278</td></tr><tr><td>CT</td><td>109307</td></tr><tr><td>DC</td><td>658893</td></tr><tr><td>FL</td><td>169854</td></tr><tr><td>FL</td><td>110703</td></tr><tr><td>FL</td><td>127952</td></tr><tr><td>FL</td><td>176013</td></tr><tr><td>FL</td><td>128460</td></tr><tr><td>FL</td><td>235563</td></tr><tr><td>FL</td><td>148047</td></tr><tr><td>FL</td><td>853382</td></tr><tr><td>FL</td><td>102346</td></tr><tr><td>FL</td><td>430332</td></tr><tr><td>FL</td><td>112265</td></tr><tr><td>FL</td><td>134989</td></tr><tr><td>FL</td><td>262372</td></tr><tr><td>FL</td><td>105838</td></tr><tr><td>FL</td><td>164626</td></tr><tr><td>FL</td><td>106105</td></tr><tr><td>FL</td><td>174110</td></tr><tr><td>FL</td><td>253693</td></tr><tr><td>FL</td><td>188107</td></tr><tr><td>FL</td><td>358699</td></tr><tr><td>FL</td><td>104031</td></tr><tr><td>GA</td><td>119648</td></tr><tr><td>GA</td><td>456002</td></tr><tr><td>GA</td><td>196741</td></tr><tr><td>GA</td><td>200887</td></tr><tr><td>GA</td><td>null</td></tr><tr><td>GA</td><td>101908</td></tr><tr><td>GA</td><td>144352</td></tr><tr><td>HI</td><td>350399</td></tr><tr><td>ID</td><td>216282</td></tr><tr><td>IL</td><td>200456</td></tr><tr><td>IL</td><td>2722389</td></tr><tr><td>IL</td><td>111117</td></tr><tr><td>IL</td><td>147928</td></tr><tr><td>IL</td><td>146128</td></tr><tr><td>IL</td><td>115828</td></tr><tr><td>IL</td><td>149123</td></tr><tr><td>IL</td><td>116809</td></tr><tr><td>IN</td><td>120346</td></tr><tr><td>IN</td><td>258522</td></tr><tr><td>IN</td><td>848788</td></tr><tr><td>IA</td><td>129195</td></tr><tr><td>IA</td><td>102448</td></tr><tr><td>IA</td><td>209220</td></tr><tr><td>KS</td><td>149636</td></tr><tr><td>KS</td><td>133062</td></tr><tr><td>KS</td><td>184525</td></tr><tr><td>KS</td><td>127215</td></tr><tr><td>KS</td><td>388413</td></tr><tr><td>KY</td><td>310797</td></tr><tr><td>KY</td><td>612780</td></tr><tr><td>LA</td><td>228895</td></tr><tr><td>LA</td><td>126066</td></tr><tr><td>LA</td><td>384320</td></tr><tr><td>LA</td><td>198242</td></tr><tr><td>MD</td><td>622793</td></tr><tr><td>MA</td><td>655884</td></tr><tr><td>MA</td><td>109694</td></tr><tr><td>MA</td><td>109945</td></tr><tr><td>MA</td><td>153991</td></tr><tr><td>MA</td><td>183016</td></tr><tr><td>MI</td><td>117770</td></tr><tr><td>MI</td><td>680250</td></tr><tr><td>MI</td><td>193792</td></tr><tr><td>MI</td><td>114620</td></tr><tr><td>MI</td><td>131741</td></tr><tr><td>MI</td><td>135099</td></tr><tr><td>MN</td><td>407207</td></tr><tr><td>MN</td><td>111402</td></tr><tr><td>MN</td><td>297640</td></tr><tr><td>MS</td><td>171155</td></tr><tr><td>MO</td><td>116906</td></tr><tr><td>MO</td><td>117494</td></tr><tr><td>MO</td><td>470800</td></tr><tr><td>MO</td><td>165378</td></tr><tr><td>MO</td><td>317419</td></tr><tr><td>MT</td><td>108869</td></tr><tr><td>NE</td><td>272996</td></tr><tr><td>NE</td><td>446599</td></tr><tr><td>NV</td><td>277440</td></tr><tr><td>NV</td><td>613599</td></tr><tr><td>NV</td><td>230788</td></tr><tr><td>NV</td><td>236995</td></tr><tr><td>NH</td><td>110448</td></tr><tr><td>NJ</td><td>128705</td></tr><tr><td>NJ</td><td>262146</td></tr><tr><td>NJ</td><td>280579</td></tr><tr><td>NJ</td><td>146753</td></tr><tr><td>NM</td><td>557169</td></tr><tr><td>NM</td><td>101408</td></tr><tr><td>NY</td><td>258703</td></tr><tr><td>NY</td><td>8491079</td></tr><tr><td>NY</td><td>209983</td></tr><tr><td>NY</td><td>144263</td></tr><tr><td>NY</td><td>200667</td></tr><tr><td>NC</td><td>155227</td></tr><tr><td>NC</td><td>809958</td></tr><tr><td>NC</td><td>251893</td></tr><tr><td>NC</td><td>203948</td></tr><tr><td>NC</td><td>282586</td></tr><tr><td>NC</td><td>108629</td></tr><tr><td>NC</td><td>439896</td></tr><tr><td>NC</td><td>113657</td></tr><tr><td>NC</td><td>239269</td></tr><tr><td>ND</td><td>115863</td></tr><tr><td>OH</td><td>197859</td></tr><tr><td>OH</td><td>298165</td></tr><tr><td>OH</td><td>389521</td></tr><tr><td>OH</td><td>835957</td></tr><tr><td>OH</td><td>141003</td></tr><tr><td>OH</td><td>281031</td></tr><tr><td>OK</td><td>104726</td></tr><tr><td>OK</td><td>118040</td></tr><tr><td>OK</td><td>620602</td></tr><tr><td>OK</td><td>399682</td></tr><tr><td>OR</td><td>160561</td></tr><tr><td>OR</td><td>109892</td></tr><tr><td>OR</td><td>619360</td></tr><tr><td>OR</td><td>161637</td></tr><tr><td>PA</td><td>119104</td></tr><tr><td>PA</td><td>1560297</td></tr><tr><td>PA</td><td>305412</td></tr><tr><td>RI</td><td>179154</td></tr><tr><td>SC</td><td>130113</td></tr><tr><td>SC</td><td>132067</td></tr><tr><td>SC</td><td>106749</td></tr><tr><td>SD</td><td>168586</td></tr><tr><td>TN</td><td>173778</td></tr><tr><td>TN</td><td>146806</td></tr><tr><td>TN</td><td>184281</td></tr><tr><td>TN</td><td>656861</td></tr><tr><td>TN</td><td>120954</td></tr><tr><td>TN</td><td>644014</td></tr><tr><td>TX</td><td>120958</td></tr><tr><td>TX</td><td>197254</td></tr><tr><td>TX</td><td>383204</td></tr><tr><td>TX</td><td>912791</td></tr><tr><td>TX</td><td>117585</td></tr><tr><td>TX</td><td>183046</td></tr><tr><td>TX</td><td>128353</td></tr><tr><td>TX</td><td>103483</td></tr><tr><td>TX</td><td>320434</td></tr><tr><td>TX</td><td>1281047</td></tr><tr><td>TX</td><td>128205</td></tr><tr><td>TX</td><td>679036</td></tr><tr><td>TX</td><td>812238</td></tr><tr><td>TX</td><td>145035</td></tr><tr><td>TX</td><td>235501</td></tr><tr><td>TX</td><td>185453</td></tr><tr><td>TX</td><td>2239558</td></tr><tr><td>TX</td><td>232406</td></tr><tr><td>TX</td><td>138154</td></tr><tr><td>TX</td><td>252309</td></tr><tr><td>TX</td><td>102889</td></tr><tr><td>TX</td><td>243839</td></tr><tr><td>TX</td><td>138596</td></tr><tr><td>TX</td><td>156767</td></tr><tr><td>TX</td><td>144416</td></tr><tr><td>TX</td><td>128037</td></tr><tr><td>TX</td><td>114597</td></tr><tr><td>TX</td><td>153887</td></tr><tr><td>TX</td><td>103441</td></tr><tr><td>TX</td><td>278480</td></tr><tr><td>TX</td><td>108617</td></tr><tr><td>TX</td><td>112744</td></tr><tr><td>TX</td><td>1436697</td></tr><tr><td>TX</td><td>101421</td></tr><tr><td>TX</td><td>130194</td></tr><tr><td>TX</td><td>105114</td></tr><tr><td>UT</td><td>114801</td></tr><tr><td>UT</td><td>190884</td></tr><tr><td>UT</td><td>110920</td></tr><tr><td>UT</td><td>134495</td></tr><tr><td>VA</td><td>150575</td></tr><tr><td>VA</td><td>233371</td></tr><tr><td>VA</td><td>136879</td></tr><tr><td>VA</td><td>182965</td></tr><tr><td>VA</td><td>245428</td></tr><tr><td>VA</td><td>217853</td></tr><tr><td>VA</td><td>450980</td></tr><tr><td>WA</td><td>136426</td></tr><tr><td>WA</td><td>106736</td></tr><tr><td>WA</td><td>125560</td></tr><tr><td>WA</td><td>668342</td></tr><tr><td>WA</td><td>212052</td></tr><tr><td>WA</td><td>205159</td></tr><tr><td>WA</td><td>169294</td></tr><tr><td>WI</td><td>104891</td></tr><tr><td>WI</td><td>245691</td></tr><tr><td>WI</td><td>599642</td></tr></tbody></table></div>"
      ]
     },
     "metadata": {
      "application/vnd.databricks.v1+output": {
       "addedWidgets": {},
       "aggData": [],
       "aggError": "",
       "aggOverflow": false,
       "aggSchema": [],
       "aggSeriesLimitReached": false,
       "aggType": "",
       "arguments": {},
       "columnCustomDisplayInfos": {},
       "data": [
        [
         "AL",
         212247
        ],
        [
         "AL",
         188226
        ],
        [
         "AL",
         194675
        ],
        [
         "AL",
         200481
        ],
        [
         "AK",
         301010
        ],
        [
         "AZ",
         254276
        ],
        [
         "AZ",
         239277
        ],
        [
         "AZ",
         237517
        ],
        [
         "AZ",
         464704
        ],
        [
         "AZ",
         166934
        ],
        [
         "AZ",
         1537058
        ],
        [
         "AZ",
         230512
        ],
        [
         "AZ",
         126275
        ],
        [
         "AZ",
         172816
        ],
        [
         "AZ",
         527972
        ],
        [
         "AR",
         197706
        ],
        [
         "CA",
         346997
        ],
        [
         "CA",
         108930
        ],
        [
         "CA",
         368759
        ],
        [
         "CA",
         118853
        ],
        [
         "CA",
         105368
        ],
        [
         "CA",
         112299
        ],
        [
         "CA",
         260988
        ],
        [
         "CA",
         102189
        ],
        [
         "CA",
         127522
        ],
        [
         "CA",
         161486
        ],
        [
         "CA",
         112784
        ],
        [
         "CA",
         106094
        ],
        [
         "CA",
         114172
        ],
        [
         "CA",
         103091
        ],
        [
         "CA",
         116631
        ],
        [
         "CA",
         163553
        ],
        [
         "CA",
         150243
        ],
        [
         "CA",
         111125
        ],
        [
         "CA",
         204950
        ],
        [
         "CA",
         228758
        ],
        [
         "CA",
         515986
        ],
        [
         "CA",
         139677
        ],
        [
         "CA",
         175078
        ],
        [
         "CA",
         200167
        ],
        [
         "CA",
         154612
        ],
        [
         "CA",
         200809
        ],
        [
         "CA",
         111905
        ],
        [
         "CA",
         248531
        ],
        [
         "CA",
         161043
        ],
        [
         "CA",
         473577
        ],
        [
         "CA",
         3928864
        ],
        [
         "CA",
         209286
        ],
        [
         "CA",
         202976
        ],
        [
         "CA",
         108368
        ],
        [
         "CA",
         107096
        ],
        [
         "CA",
         413775
        ],
        [
         "CA",
         174558
        ],
        [
         "CA",
         169089
        ],
        [
         "CA",
         139812
        ],
        [
         "CA",
         205437
        ],
        [
         "CA",
         158279
        ],
        [
         "CA",
         140881
        ],
        [
         "CA",
         153350
        ],
        [
         "CA",
         174305
        ],
        [
         "CA",
         102741
        ],
        [
         "CA",
         108565
        ],
        [
         "CA",
         319504
        ],
        [
         "CA",
         128615
        ],
        [
         "CA",
         485199
        ],
        [
         "CA",
         156677
        ],
        [
         "CA",
         215213
        ],
        [
         "CA",
         1381069
        ],
        [
         "CA",
         852469
        ],
        [
         "CA",
         1015785
        ],
        [
         "CA",
         102893
        ],
        [
         "CA",
         334909
        ],
        [
         "CA",
         122192
        ],
        [
         "CA",
         181557
        ],
        [
         "CA",
         103410
        ],
        [
         "CA",
         174170
        ],
        [
         "CA",
         126871
        ],
        [
         "CA",
         302389
        ],
        [
         "CA",
         149980
        ],
        [
         "CA",
         109428
        ],
        [
         "CA",
         129342
        ],
        [
         "CA",
         148495
        ],
        [
         "CA",
         120228
        ],
        [
         "CA",
         109484
        ],
        [
         "CA",
         121901
        ],
        [
         "CA",
         129281
        ],
        [
         "CA",
         108455
        ],
        [
         "CO",
         113574
        ],
        [
         "CO",
         353108
        ],
        [
         "CO",
         105112
        ],
        [
         "CO",
         107201
        ],
        [
         "CO",
         445830
        ],
        [
         "CO",
         663862
        ],
        [
         "CO",
         156480
        ],
        [
         "CO",
         149643
        ],
        [
         "CO",
         108423
        ],
        [
         "CO",
         130307
        ],
        [
         "CO",
         112090
        ],
        [
         "CT",
         147612
        ],
        [
         "CT",
         124705
        ],
        [
         "CT",
         130282
        ],
        [
         "CT",
         128278
        ],
        [
         "CT",
         109307
        ],
        [
         "DC",
         658893
        ],
        [
         "FL",
         169854
        ],
        [
         "FL",
         110703
        ],
        [
         "FL",
         127952
        ],
        [
         "FL",
         176013
        ],
        [
         "FL",
         128460
        ],
        [
         "FL",
         235563
        ],
        [
         "FL",
         148047
        ],
        [
         "FL",
         853382
        ],
        [
         "FL",
         102346
        ],
        [
         "FL",
         430332
        ],
        [
         "FL",
         112265
        ],
        [
         "FL",
         134989
        ],
        [
         "FL",
         262372
        ],
        [
         "FL",
         105838
        ],
        [
         "FL",
         164626
        ],
        [
         "FL",
         106105
        ],
        [
         "FL",
         174110
        ],
        [
         "FL",
         253693
        ],
        [
         "FL",
         188107
        ],
        [
         "FL",
         358699
        ],
        [
         "FL",
         104031
        ],
        [
         "GA",
         119648
        ],
        [
         "GA",
         456002
        ],
        [
         "GA",
         196741
        ],
        [
         "GA",
         200887
        ],
        [
         "GA",
         null
        ],
        [
         "GA",
         101908
        ],
        [
         "GA",
         144352
        ],
        [
         "HI",
         350399
        ],
        [
         "ID",
         216282
        ],
        [
         "IL",
         200456
        ],
        [
         "IL",
         2722389
        ],
        [
         "IL",
         111117
        ],
        [
         "IL",
         147928
        ],
        [
         "IL",
         146128
        ],
        [
         "IL",
         115828
        ],
        [
         "IL",
         149123
        ],
        [
         "IL",
         116809
        ],
        [
         "IN",
         120346
        ],
        [
         "IN",
         258522
        ],
        [
         "IN",
         848788
        ],
        [
         "IA",
         129195
        ],
        [
         "IA",
         102448
        ],
        [
         "IA",
         209220
        ],
        [
         "KS",
         149636
        ],
        [
         "KS",
         133062
        ],
        [
         "KS",
         184525
        ],
        [
         "KS",
         127215
        ],
        [
         "KS",
         388413
        ],
        [
         "KY",
         310797
        ],
        [
         "KY",
         612780
        ],
        [
         "LA",
         228895
        ],
        [
         "LA",
         126066
        ],
        [
         "LA",
         384320
        ],
        [
         "LA",
         198242
        ],
        [
         "MD",
         622793
        ],
        [
         "MA",
         655884
        ],
        [
         "MA",
         109694
        ],
        [
         "MA",
         109945
        ],
        [
         "MA",
         153991
        ],
        [
         "MA",
         183016
        ],
        [
         "MI",
         117770
        ],
        [
         "MI",
         680250
        ],
        [
         "MI",
         193792
        ],
        [
         "MI",
         114620
        ],
        [
         "MI",
         131741
        ],
        [
         "MI",
         135099
        ],
        [
         "MN",
         407207
        ],
        [
         "MN",
         111402
        ],
        [
         "MN",
         297640
        ],
        [
         "MS",
         171155
        ],
        [
         "MO",
         116906
        ],
        [
         "MO",
         117494
        ],
        [
         "MO",
         470800
        ],
        [
         "MO",
         165378
        ],
        [
         "MO",
         317419
        ],
        [
         "MT",
         108869
        ],
        [
         "NE",
         272996
        ],
        [
         "NE",
         446599
        ],
        [
         "NV",
         277440
        ],
        [
         "NV",
         613599
        ],
        [
         "NV",
         230788
        ],
        [
         "NV",
         236995
        ],
        [
         "NH",
         110448
        ],
        [
         "NJ",
         128705
        ],
        [
         "NJ",
         262146
        ],
        [
         "NJ",
         280579
        ],
        [
         "NJ",
         146753
        ],
        [
         "NM",
         557169
        ],
        [
         "NM",
         101408
        ],
        [
         "NY",
         258703
        ],
        [
         "NY",
         8491079
        ],
        [
         "NY",
         209983
        ],
        [
         "NY",
         144263
        ],
        [
         "NY",
         200667
        ],
        [
         "NC",
         155227
        ],
        [
         "NC",
         809958
        ],
        [
         "NC",
         251893
        ],
        [
         "NC",
         203948
        ],
        [
         "NC",
         282586
        ],
        [
         "NC",
         108629
        ],
        [
         "NC",
         439896
        ],
        [
         "NC",
         113657
        ],
        [
         "NC",
         239269
        ],
        [
         "ND",
         115863
        ],
        [
         "OH",
         197859
        ],
        [
         "OH",
         298165
        ],
        [
         "OH",
         389521
        ],
        [
         "OH",
         835957
        ],
        [
         "OH",
         141003
        ],
        [
         "OH",
         281031
        ],
        [
         "OK",
         104726
        ],
        [
         "OK",
         118040
        ],
        [
         "OK",
         620602
        ],
        [
         "OK",
         399682
        ],
        [
         "OR",
         160561
        ],
        [
         "OR",
         109892
        ],
        [
         "OR",
         619360
        ],
        [
         "OR",
         161637
        ],
        [
         "PA",
         119104
        ],
        [
         "PA",
         1560297
        ],
        [
         "PA",
         305412
        ],
        [
         "RI",
         179154
        ],
        [
         "SC",
         130113
        ],
        [
         "SC",
         132067
        ],
        [
         "SC",
         106749
        ],
        [
         "SD",
         168586
        ],
        [
         "TN",
         173778
        ],
        [
         "TN",
         146806
        ],
        [
         "TN",
         184281
        ],
        [
         "TN",
         656861
        ],
        [
         "TN",
         120954
        ],
        [
         "TN",
         644014
        ],
        [
         "TX",
         120958
        ],
        [
         "TX",
         197254
        ],
        [
         "TX",
         383204
        ],
        [
         "TX",
         912791
        ],
        [
         "TX",
         117585
        ],
        [
         "TX",
         183046
        ],
        [
         "TX",
         128353
        ],
        [
         "TX",
         103483
        ],
        [
         "TX",
         320434
        ],
        [
         "TX",
         1281047
        ],
        [
         "TX",
         128205
        ],
        [
         "TX",
         679036
        ],
        [
         "TX",
         812238
        ],
        [
         "TX",
         145035
        ],
        [
         "TX",
         235501
        ],
        [
         "TX",
         185453
        ],
        [
         "TX",
         2239558
        ],
        [
         "TX",
         232406
        ],
        [
         "TX",
         138154
        ],
        [
         "TX",
         252309
        ],
        [
         "TX",
         102889
        ],
        [
         "TX",
         243839
        ],
        [
         "TX",
         138596
        ],
        [
         "TX",
         156767
        ],
        [
         "TX",
         144416
        ],
        [
         "TX",
         128037
        ],
        [
         "TX",
         114597
        ],
        [
         "TX",
         153887
        ],
        [
         "TX",
         103441
        ],
        [
         "TX",
         278480
        ],
        [
         "TX",
         108617
        ],
        [
         "TX",
         112744
        ],
        [
         "TX",
         1436697
        ],
        [
         "TX",
         101421
        ],
        [
         "TX",
         130194
        ],
        [
         "TX",
         105114
        ],
        [
         "UT",
         114801
        ],
        [
         "UT",
         190884
        ],
        [
         "UT",
         110920
        ],
        [
         "UT",
         134495
        ],
        [
         "VA",
         150575
        ],
        [
         "VA",
         233371
        ],
        [
         "VA",
         136879
        ],
        [
         "VA",
         182965
        ],
        [
         "VA",
         245428
        ],
        [
         "VA",
         217853
        ],
        [
         "VA",
         450980
        ],
        [
         "WA",
         136426
        ],
        [
         "WA",
         106736
        ],
        [
         "WA",
         125560
        ],
        [
         "WA",
         668342
        ],
        [
         "WA",
         212052
        ],
        [
         "WA",
         205159
        ],
        [
         "WA",
         169294
        ],
        [
         "WI",
         104891
        ],
        [
         "WI",
         245691
        ],
        [
         "WI",
         599642
        ]
       ],
       "datasetInfos": [],
       "dbfsResultPath": null,
       "isJsonSchema": true,
       "metadata": {
        "dataframeName": "_sqldf",
        "executionCount": 13
       },
       "overflow": false,
       "plotOptions": {
        "customPlotOptions": {},
        "displayType": "pieChart",
        "pivotAggregation": null,
        "pivotColumns": null,
        "xColumns": null,
        "yColumns": null
       },
       "removedWidgets": [],
       "schema": [
        {
         "metadata": "{}",
         "name": "State Code",
         "type": "\"string\""
        },
        {
         "metadata": "{}",
         "name": "2014 Population estimate",
         "type": "\"integer\""
        }
       ],
       "type": "table"
      }
     },
     "output_type": "display_data"
    }
   ],
   "source": [
    "%sql\n",
    "select `State Code`, `2014 Population estimate` from data_geo\n",
    "\n",
    "-- Se hizo la misma consulta SQL que en el ejemplo pero esta vez se modificó la forma de visualizar los datos para poderlos ver con un \"pie diagram\", esto nos puede ayudar a entender de mejor manera los porcenjates."
   ]
  },
  {
   "cell_type": "code",
   "execution_count": 0,
   "metadata": {
    "application/vnd.databricks.v1+cell": {
     "cellMetadata": {
      "byteLimit": 2048000,
      "implicitDf": true,
      "rowLimit": 10000
     },
     "inputWidgets": {},
     "nuid": "6a3c73d2-d8c1-4581-be81-7e06b2e5d588",
     "showTitle": false,
     "title": ""
    }
   },
   "outputs": [
    {
     "output_type": "display_data",
     "data": {
      "text/html": [
       "<style scoped>\n",
       "  .table-result-container {\n",
       "    max-height: 300px;\n",
       "    overflow: auto;\n",
       "  }\n",
       "  table, th, td {\n",
       "    border: 1px solid black;\n",
       "    border-collapse: collapse;\n",
       "  }\n",
       "  th, td {\n",
       "    padding: 5px;\n",
       "  }\n",
       "  th {\n",
       "    text-align: left;\n",
       "  }\n",
       "</style><div class='table-result-container'><table class='table-result'><thead style='background-color: white'><tr><th>City</th><th>2014 Population estimate</th></tr></thead><tbody><tr><td>Birmingham</td><td>212247</td></tr><tr><td>Huntsville</td><td>188226</td></tr><tr><td>Mobile</td><td>194675</td></tr><tr><td>Montgomery</td><td>200481</td></tr><tr><td>Anchorage[19]</td><td>301010</td></tr><tr><td>Chandler</td><td>254276</td></tr><tr><td>Gilbert[20]</td><td>239277</td></tr><tr><td>Glendale</td><td>237517</td></tr><tr><td>Mesa</td><td>464704</td></tr><tr><td>Peoria</td><td>166934</td></tr><tr><td>Phoenix</td><td>1537058</td></tr><tr><td>Scottsdale</td><td>230512</td></tr><tr><td>Surprise</td><td>126275</td></tr><tr><td>Tempe</td><td>172816</td></tr><tr><td>Tucson</td><td>527972</td></tr><tr><td>Little Rock</td><td>197706</td></tr><tr><td>Anaheim</td><td>346997</td></tr><tr><td>Antioch</td><td>108930</td></tr><tr><td>Bakersfield</td><td>368759</td></tr><tr><td>Berkeley</td><td>118853</td></tr><tr><td>Burbank</td><td>105368</td></tr><tr><td>Carlsbad</td><td>112299</td></tr><tr><td>Chula Vista</td><td>260988</td></tr><tr><td>Clovis</td><td>102189</td></tr><tr><td>Concord</td><td>127522</td></tr><tr><td>Corona</td><td>161486</td></tr><tr><td>Costa Mesa</td><td>112784</td></tr><tr><td>Daly City</td><td>106094</td></tr><tr><td>Downey</td><td>114172</td></tr><tr><td>El Cajon</td><td>103091</td></tr><tr><td>El Monte</td><td>116631</td></tr><tr><td>Elk Grove</td><td>163553</td></tr><tr><td>Escondido</td><td>150243</td></tr><tr><td>Fairfield</td><td>111125</td></tr><tr><td>Fontana</td><td>204950</td></tr><tr><td>Fremont</td><td>228758</td></tr><tr><td>Fresno</td><td>515986</td></tr><tr><td>Fullerton</td><td>139677</td></tr><tr><td>Garden Grove</td><td>175078</td></tr><tr><td>Glendale</td><td>200167</td></tr><tr><td>Hayward</td><td>154612</td></tr><tr><td>Huntington Beach</td><td>200809</td></tr><tr><td>Inglewood</td><td>111905</td></tr><tr><td>Irvine</td><td>248531</td></tr><tr><td>Lancaster</td><td>161043</td></tr><tr><td>Long Beach</td><td>473577</td></tr><tr><td>Los Angeles</td><td>3928864</td></tr><tr><td>Modesto</td><td>209286</td></tr><tr><td>Moreno Valley</td><td>202976</td></tr><tr><td>Murrieta</td><td>108368</td></tr><tr><td>Norwalk</td><td>107096</td></tr><tr><td>Oakland</td><td>413775</td></tr><tr><td>Oceanside</td><td>174558</td></tr><tr><td>Ontario</td><td>169089</td></tr><tr><td>Orange</td><td>139812</td></tr><tr><td>Oxnard</td><td>205437</td></tr><tr><td>Palmdale</td><td>158279</td></tr><tr><td>Pasadena</td><td>140881</td></tr><tr><td>Pomona</td><td>153350</td></tr><tr><td>Rancho Cucamonga</td><td>174305</td></tr><tr><td>Rialto</td><td>102741</td></tr><tr><td>Richmond</td><td>108565</td></tr><tr><td>Riverside</td><td>319504</td></tr><tr><td>Roseville</td><td>128615</td></tr><tr><td>Sacramento</td><td>485199</td></tr><tr><td>Salinas</td><td>156677</td></tr><tr><td>San Bernardino</td><td>215213</td></tr><tr><td>San Diego</td><td>1381069</td></tr><tr><td>San Francisco[10]</td><td>852469</td></tr><tr><td>San Jose</td><td>1015785</td></tr><tr><td>San Mateo</td><td>102893</td></tr><tr><td>Santa Ana</td><td>334909</td></tr><tr><td>Santa Clara</td><td>122192</td></tr><tr><td>Santa Clarita</td><td>181557</td></tr><tr><td>Santa Maria</td><td>103410</td></tr><tr><td>Santa Rosa</td><td>174170</td></tr><tr><td>Simi Valley</td><td>126871</td></tr><tr><td>Stockton</td><td>302389</td></tr><tr><td>Sunnyvale</td><td>149980</td></tr><tr><td>Temecula</td><td>109428</td></tr><tr><td>Thousand Oaks</td><td>129342</td></tr><tr><td>Torrance</td><td>148495</td></tr><tr><td>Vallejo</td><td>120228</td></tr><tr><td>Ventura[29]</td><td>109484</td></tr><tr><td>Victorville</td><td>121901</td></tr><tr><td>Visalia</td><td>129281</td></tr><tr><td>West Covina</td><td>108455</td></tr><tr><td>Arvada</td><td>113574</td></tr><tr><td>Aurora</td><td>353108</td></tr><tr><td>Boulder</td><td>105112</td></tr><tr><td>Centennial</td><td>107201</td></tr><tr><td>Colorado Springs</td><td>445830</td></tr><tr><td>Denver[12]</td><td>663862</td></tr><tr><td>Fort Collins</td><td>156480</td></tr><tr><td>Lakewood</td><td>149643</td></tr><tr><td>Pueblo</td><td>108423</td></tr><tr><td>Thornton</td><td>130307</td></tr><tr><td>Westminster</td><td>112090</td></tr><tr><td>Bridgeport</td><td>147612</td></tr><tr><td>Hartford</td><td>124705</td></tr><tr><td>New Haven</td><td>130282</td></tr><tr><td>Stamford</td><td>128278</td></tr><tr><td>Waterbury</td><td>109307</td></tr><tr><td>Washington[13]</td><td>658893</td></tr><tr><td>Cape Coral</td><td>169854</td></tr><tr><td>Clearwater</td><td>110703</td></tr><tr><td>Coral Springs</td><td>127952</td></tr><tr><td>Fort Lauderdale</td><td>176013</td></tr><tr><td>Gainesville</td><td>128460</td></tr><tr><td>Hialeah</td><td>235563</td></tr><tr><td>Hollywood</td><td>148047</td></tr><tr><td>Jacksonville[9]</td><td>853382</td></tr><tr><td>Lakeland</td><td>102346</td></tr><tr><td>Miami</td><td>430332</td></tr><tr><td>Miami Gardens</td><td>112265</td></tr><tr><td>Miramar</td><td>134989</td></tr><tr><td>Orlando</td><td>262372</td></tr><tr><td>Palm Bay</td><td>105838</td></tr><tr><td>Pembroke Pines</td><td>164626</td></tr><tr><td>Pompano Beach</td><td>106105</td></tr><tr><td>Port St. Lucie</td><td>174110</td></tr><tr><td>St. Petersburg</td><td>253693</td></tr><tr><td>Tallahassee</td><td>188107</td></tr><tr><td>Tampa</td><td>358699</td></tr><tr><td>West Palm Beach</td><td>104031</td></tr><tr><td>Athens[28]</td><td>119648</td></tr><tr><td>Atlanta</td><td>456002</td></tr><tr><td>Augusta[24]</td><td>196741</td></tr><tr><td>Columbus[23]</td><td>200887</td></tr><tr><td>Macon</td><td>null</td></tr><tr><td>Sandy Springs</td><td>101908</td></tr><tr><td>Savannah</td><td>144352</td></tr><tr><td>Honolulu[2]</td><td>350399</td></tr><tr><td>Boise[22]</td><td>216282</td></tr><tr><td>Aurora</td><td>200456</td></tr><tr><td>Chicago</td><td>2722389</td></tr><tr><td>Elgin</td><td>111117</td></tr><tr><td>Joliet</td><td>147928</td></tr><tr><td>Naperville</td><td>146128</td></tr><tr><td>Peoria</td><td>115828</td></tr><tr><td>Rockford</td><td>149123</td></tr><tr><td>Springfield</td><td>116809</td></tr><tr><td>Evansville</td><td>120346</td></tr><tr><td>Fort Wayne</td><td>258522</td></tr><tr><td>Indianapolis[11]</td><td>848788</td></tr><tr><td>Cedar Rapids</td><td>129195</td></tr><tr><td>Davenport</td><td>102448</td></tr><tr><td>Des Moines</td><td>209220</td></tr><tr><td>Kansas City[26]</td><td>149636</td></tr><tr><td>Olathe</td><td>133062</td></tr><tr><td>Overland Park</td><td>184525</td></tr><tr><td>Topeka</td><td>127215</td></tr><tr><td>Wichita</td><td>388413</td></tr><tr><td>Lexington[18]</td><td>310797</td></tr><tr><td>Louisville[16]</td><td>612780</td></tr><tr><td>Baton Rouge[21]</td><td>228895</td></tr><tr><td>Lafayette[27]</td><td>126066</td></tr><tr><td>New Orleans[17]</td><td>384320</td></tr><tr><td>Shreveport</td><td>198242</td></tr><tr><td>Baltimore[15]</td><td>622793</td></tr><tr><td>Boston</td><td>655884</td></tr><tr><td>Cambridge</td><td>109694</td></tr><tr><td>Lowell</td><td>109945</td></tr><tr><td>Springfield</td><td>153991</td></tr><tr><td>Worcester</td><td>183016</td></tr><tr><td>Ann Arbor</td><td>117770</td></tr><tr><td>Detroit</td><td>680250</td></tr><tr><td>Grand Rapids</td><td>193792</td></tr><tr><td>Lansing</td><td>114620</td></tr><tr><td>Sterling Heights</td><td>131741</td></tr><tr><td>Warren</td><td>135099</td></tr><tr><td>Minneapolis</td><td>407207</td></tr><tr><td>Rochester</td><td>111402</td></tr><tr><td>Saint Paul</td><td>297640</td></tr><tr><td>Jackson</td><td>171155</td></tr><tr><td>Columbia</td><td>116906</td></tr><tr><td>Independence</td><td>117494</td></tr><tr><td>Kansas City</td><td>470800</td></tr><tr><td>Springfield</td><td>165378</td></tr><tr><td>St. Louis[15]</td><td>317419</td></tr><tr><td>Billings</td><td>108869</td></tr><tr><td>Lincoln</td><td>272996</td></tr><tr><td>Omaha</td><td>446599</td></tr><tr><td>Henderson</td><td>277440</td></tr><tr><td>Las Vegas</td><td>613599</td></tr><tr><td>North Las Vegas</td><td>230788</td></tr><tr><td>Reno</td><td>236995</td></tr><tr><td>Manchester</td><td>110448</td></tr><tr><td>Elizabeth</td><td>128705</td></tr><tr><td>Jersey City</td><td>262146</td></tr><tr><td>Newark</td><td>280579</td></tr><tr><td>Paterson</td><td>146753</td></tr><tr><td>Albuquerque</td><td>557169</td></tr><tr><td>Las Cruces</td><td>101408</td></tr><tr><td>Buffalo</td><td>258703</td></tr><tr><td>New York[6]</td><td>8491079</td></tr><tr><td>Rochester</td><td>209983</td></tr><tr><td>Syracuse</td><td>144263</td></tr><tr><td>Yonkers</td><td>200667</td></tr><tr><td>Cary[25]</td><td>155227</td></tr><tr><td>Charlotte</td><td>809958</td></tr><tr><td>Durham</td><td>251893</td></tr><tr><td>Fayetteville</td><td>203948</td></tr><tr><td>Greensboro</td><td>282586</td></tr><tr><td>High Point</td><td>108629</td></tr><tr><td>Raleigh</td><td>439896</td></tr><tr><td>Wilmington</td><td>113657</td></tr><tr><td>Winston�Salem</td><td>239269</td></tr><tr><td>Fargo</td><td>115863</td></tr><tr><td>Akron</td><td>197859</td></tr><tr><td>Cincinnati</td><td>298165</td></tr><tr><td>Cleveland</td><td>389521</td></tr><tr><td>Columbus</td><td>835957</td></tr><tr><td>Dayton</td><td>141003</td></tr><tr><td>Toledo</td><td>281031</td></tr><tr><td>Broken Arrow</td><td>104726</td></tr><tr><td>Norman</td><td>118040</td></tr><tr><td>Oklahoma City</td><td>620602</td></tr><tr><td>Tulsa</td><td>399682</td></tr><tr><td>Eugene</td><td>160561</td></tr><tr><td>Gresham</td><td>109892</td></tr><tr><td>Portland</td><td>619360</td></tr><tr><td>Salem</td><td>161637</td></tr><tr><td>Allentown</td><td>119104</td></tr><tr><td>Philadelphia[8]</td><td>1560297</td></tr><tr><td>Pittsburgh</td><td>305412</td></tr><tr><td>Providence</td><td>179154</td></tr><tr><td>Charleston</td><td>130113</td></tr><tr><td>Columbia</td><td>132067</td></tr><tr><td>North Charleston</td><td>106749</td></tr><tr><td>Sioux Falls</td><td>168586</td></tr><tr><td>Chattanooga</td><td>173778</td></tr><tr><td>Clarksville</td><td>146806</td></tr><tr><td>Knoxville</td><td>184281</td></tr><tr><td>Memphis</td><td>656861</td></tr><tr><td>Murfreesboro</td><td>120954</td></tr><tr><td>Nashville[14]</td><td>644014</td></tr><tr><td>Abilene</td><td>120958</td></tr><tr><td>Amarillo</td><td>197254</td></tr><tr><td>Arlington</td><td>383204</td></tr><tr><td>Austin</td><td>912791</td></tr><tr><td>Beaumont</td><td>117585</td></tr><tr><td>Brownsville</td><td>183046</td></tr><tr><td>Carrollton</td><td>128353</td></tr><tr><td>College Station</td><td>103483</td></tr><tr><td>Corpus Christi</td><td>320434</td></tr><tr><td>Dallas</td><td>1281047</td></tr><tr><td>Denton</td><td>128205</td></tr><tr><td>El Paso</td><td>679036</td></tr><tr><td>Fort Worth</td><td>812238</td></tr><tr><td>Frisco</td><td>145035</td></tr><tr><td>Garland</td><td>235501</td></tr><tr><td>Grand Prairie</td><td>185453</td></tr><tr><td>Houston[7]</td><td>2239558</td></tr><tr><td>Irving</td><td>232406</td></tr><tr><td>Killeen</td><td>138154</td></tr><tr><td>Laredo</td><td>252309</td></tr><tr><td>Lewisville</td><td>102889</td></tr><tr><td>Lubbock</td><td>243839</td></tr><tr><td>McAllen</td><td>138596</td></tr><tr><td>McKinney</td><td>156767</td></tr><tr><td>Mesquite</td><td>144416</td></tr><tr><td>Midland</td><td>128037</td></tr><tr><td>Odessa</td><td>114597</td></tr><tr><td>Pasadena</td><td>153887</td></tr><tr><td>Pearland</td><td>103441</td></tr><tr><td>Plano</td><td>278480</td></tr><tr><td>Richardson</td><td>108617</td></tr><tr><td>Round Rock</td><td>112744</td></tr><tr><td>San Antonio</td><td>1436697</td></tr><tr><td>Tyler</td><td>101421</td></tr><tr><td>Waco</td><td>130194</td></tr><tr><td>Wichita Falls</td><td>105114</td></tr><tr><td>Provo</td><td>114801</td></tr><tr><td>Salt Lake City</td><td>190884</td></tr><tr><td>West Jordan</td><td>110920</td></tr><tr><td>West Valley City</td><td>134495</td></tr><tr><td>Alexandria[15]</td><td>150575</td></tr><tr><td>Chesapeake[15]</td><td>233371</td></tr><tr><td>Hampton[15]</td><td>136879</td></tr><tr><td>Newport News[15]</td><td>182965</td></tr><tr><td>Norfolk[15]</td><td>245428</td></tr><tr><td>Richmond[15]</td><td>217853</td></tr><tr><td>Virginia Beach[15]</td><td>450980</td></tr><tr><td>Bellevue</td><td>136426</td></tr><tr><td>Everett</td><td>106736</td></tr><tr><td>Kent</td><td>125560</td></tr><tr><td>Seattle</td><td>668342</td></tr><tr><td>Spokane</td><td>212052</td></tr><tr><td>Tacoma</td><td>205159</td></tr><tr><td>Vancouver</td><td>169294</td></tr><tr><td>Green Bay</td><td>104891</td></tr><tr><td>Madison</td><td>245691</td></tr><tr><td>Milwaukee</td><td>599642</td></tr></tbody></table></div>"
      ]
     },
     "metadata": {
      "application/vnd.databricks.v1+output": {
       "addedWidgets": {},
       "aggData": [],
       "aggError": "",
       "aggOverflow": false,
       "aggSchema": [],
       "aggSeriesLimitReached": false,
       "aggType": "",
       "arguments": {},
       "columnCustomDisplayInfos": {},
       "data": [
        [
         "Birmingham",
         212247
        ],
        [
         "Huntsville",
         188226
        ],
        [
         "Mobile",
         194675
        ],
        [
         "Montgomery",
         200481
        ],
        [
         "Anchorage[19]",
         301010
        ],
        [
         "Chandler",
         254276
        ],
        [
         "Gilbert[20]",
         239277
        ],
        [
         "Glendale",
         237517
        ],
        [
         "Mesa",
         464704
        ],
        [
         "Peoria",
         166934
        ],
        [
         "Phoenix",
         1537058
        ],
        [
         "Scottsdale",
         230512
        ],
        [
         "Surprise",
         126275
        ],
        [
         "Tempe",
         172816
        ],
        [
         "Tucson",
         527972
        ],
        [
         "Little Rock",
         197706
        ],
        [
         "Anaheim",
         346997
        ],
        [
         "Antioch",
         108930
        ],
        [
         "Bakersfield",
         368759
        ],
        [
         "Berkeley",
         118853
        ],
        [
         "Burbank",
         105368
        ],
        [
         "Carlsbad",
         112299
        ],
        [
         "Chula Vista",
         260988
        ],
        [
         "Clovis",
         102189
        ],
        [
         "Concord",
         127522
        ],
        [
         "Corona",
         161486
        ],
        [
         "Costa Mesa",
         112784
        ],
        [
         "Daly City",
         106094
        ],
        [
         "Downey",
         114172
        ],
        [
         "El Cajon",
         103091
        ],
        [
         "El Monte",
         116631
        ],
        [
         "Elk Grove",
         163553
        ],
        [
         "Escondido",
         150243
        ],
        [
         "Fairfield",
         111125
        ],
        [
         "Fontana",
         204950
        ],
        [
         "Fremont",
         228758
        ],
        [
         "Fresno",
         515986
        ],
        [
         "Fullerton",
         139677
        ],
        [
         "Garden Grove",
         175078
        ],
        [
         "Glendale",
         200167
        ],
        [
         "Hayward",
         154612
        ],
        [
         "Huntington Beach",
         200809
        ],
        [
         "Inglewood",
         111905
        ],
        [
         "Irvine",
         248531
        ],
        [
         "Lancaster",
         161043
        ],
        [
         "Long Beach",
         473577
        ],
        [
         "Los Angeles",
         3928864
        ],
        [
         "Modesto",
         209286
        ],
        [
         "Moreno Valley",
         202976
        ],
        [
         "Murrieta",
         108368
        ],
        [
         "Norwalk",
         107096
        ],
        [
         "Oakland",
         413775
        ],
        [
         "Oceanside",
         174558
        ],
        [
         "Ontario",
         169089
        ],
        [
         "Orange",
         139812
        ],
        [
         "Oxnard",
         205437
        ],
        [
         "Palmdale",
         158279
        ],
        [
         "Pasadena",
         140881
        ],
        [
         "Pomona",
         153350
        ],
        [
         "Rancho Cucamonga",
         174305
        ],
        [
         "Rialto",
         102741
        ],
        [
         "Richmond",
         108565
        ],
        [
         "Riverside",
         319504
        ],
        [
         "Roseville",
         128615
        ],
        [
         "Sacramento",
         485199
        ],
        [
         "Salinas",
         156677
        ],
        [
         "San Bernardino",
         215213
        ],
        [
         "San Diego",
         1381069
        ],
        [
         "San Francisco[10]",
         852469
        ],
        [
         "San Jose",
         1015785
        ],
        [
         "San Mateo",
         102893
        ],
        [
         "Santa Ana",
         334909
        ],
        [
         "Santa Clara",
         122192
        ],
        [
         "Santa Clarita",
         181557
        ],
        [
         "Santa Maria",
         103410
        ],
        [
         "Santa Rosa",
         174170
        ],
        [
         "Simi Valley",
         126871
        ],
        [
         "Stockton",
         302389
        ],
        [
         "Sunnyvale",
         149980
        ],
        [
         "Temecula",
         109428
        ],
        [
         "Thousand Oaks",
         129342
        ],
        [
         "Torrance",
         148495
        ],
        [
         "Vallejo",
         120228
        ],
        [
         "Ventura[29]",
         109484
        ],
        [
         "Victorville",
         121901
        ],
        [
         "Visalia",
         129281
        ],
        [
         "West Covina",
         108455
        ],
        [
         "Arvada",
         113574
        ],
        [
         "Aurora",
         353108
        ],
        [
         "Boulder",
         105112
        ],
        [
         "Centennial",
         107201
        ],
        [
         "Colorado Springs",
         445830
        ],
        [
         "Denver[12]",
         663862
        ],
        [
         "Fort Collins",
         156480
        ],
        [
         "Lakewood",
         149643
        ],
        [
         "Pueblo",
         108423
        ],
        [
         "Thornton",
         130307
        ],
        [
         "Westminster",
         112090
        ],
        [
         "Bridgeport",
         147612
        ],
        [
         "Hartford",
         124705
        ],
        [
         "New Haven",
         130282
        ],
        [
         "Stamford",
         128278
        ],
        [
         "Waterbury",
         109307
        ],
        [
         "Washington[13]",
         658893
        ],
        [
         "Cape Coral",
         169854
        ],
        [
         "Clearwater",
         110703
        ],
        [
         "Coral Springs",
         127952
        ],
        [
         "Fort Lauderdale",
         176013
        ],
        [
         "Gainesville",
         128460
        ],
        [
         "Hialeah",
         235563
        ],
        [
         "Hollywood",
         148047
        ],
        [
         "Jacksonville[9]",
         853382
        ],
        [
         "Lakeland",
         102346
        ],
        [
         "Miami",
         430332
        ],
        [
         "Miami Gardens",
         112265
        ],
        [
         "Miramar",
         134989
        ],
        [
         "Orlando",
         262372
        ],
        [
         "Palm Bay",
         105838
        ],
        [
         "Pembroke Pines",
         164626
        ],
        [
         "Pompano Beach",
         106105
        ],
        [
         "Port St. Lucie",
         174110
        ],
        [
         "St. Petersburg",
         253693
        ],
        [
         "Tallahassee",
         188107
        ],
        [
         "Tampa",
         358699
        ],
        [
         "West Palm Beach",
         104031
        ],
        [
         "Athens[28]",
         119648
        ],
        [
         "Atlanta",
         456002
        ],
        [
         "Augusta[24]",
         196741
        ],
        [
         "Columbus[23]",
         200887
        ],
        [
         "Macon",
         null
        ],
        [
         "Sandy Springs",
         101908
        ],
        [
         "Savannah",
         144352
        ],
        [
         "Honolulu[2]",
         350399
        ],
        [
         "Boise[22]",
         216282
        ],
        [
         "Aurora",
         200456
        ],
        [
         "Chicago",
         2722389
        ],
        [
         "Elgin",
         111117
        ],
        [
         "Joliet",
         147928
        ],
        [
         "Naperville",
         146128
        ],
        [
         "Peoria",
         115828
        ],
        [
         "Rockford",
         149123
        ],
        [
         "Springfield",
         116809
        ],
        [
         "Evansville",
         120346
        ],
        [
         "Fort Wayne",
         258522
        ],
        [
         "Indianapolis[11]",
         848788
        ],
        [
         "Cedar Rapids",
         129195
        ],
        [
         "Davenport",
         102448
        ],
        [
         "Des Moines",
         209220
        ],
        [
         "Kansas City[26]",
         149636
        ],
        [
         "Olathe",
         133062
        ],
        [
         "Overland Park",
         184525
        ],
        [
         "Topeka",
         127215
        ],
        [
         "Wichita",
         388413
        ],
        [
         "Lexington[18]",
         310797
        ],
        [
         "Louisville[16]",
         612780
        ],
        [
         "Baton Rouge[21]",
         228895
        ],
        [
         "Lafayette[27]",
         126066
        ],
        [
         "New Orleans[17]",
         384320
        ],
        [
         "Shreveport",
         198242
        ],
        [
         "Baltimore[15]",
         622793
        ],
        [
         "Boston",
         655884
        ],
        [
         "Cambridge",
         109694
        ],
        [
         "Lowell",
         109945
        ],
        [
         "Springfield",
         153991
        ],
        [
         "Worcester",
         183016
        ],
        [
         "Ann Arbor",
         117770
        ],
        [
         "Detroit",
         680250
        ],
        [
         "Grand Rapids",
         193792
        ],
        [
         "Lansing",
         114620
        ],
        [
         "Sterling Heights",
         131741
        ],
        [
         "Warren",
         135099
        ],
        [
         "Minneapolis",
         407207
        ],
        [
         "Rochester",
         111402
        ],
        [
         "Saint Paul",
         297640
        ],
        [
         "Jackson",
         171155
        ],
        [
         "Columbia",
         116906
        ],
        [
         "Independence",
         117494
        ],
        [
         "Kansas City",
         470800
        ],
        [
         "Springfield",
         165378
        ],
        [
         "St. Louis[15]",
         317419
        ],
        [
         "Billings",
         108869
        ],
        [
         "Lincoln",
         272996
        ],
        [
         "Omaha",
         446599
        ],
        [
         "Henderson",
         277440
        ],
        [
         "Las Vegas",
         613599
        ],
        [
         "North Las Vegas",
         230788
        ],
        [
         "Reno",
         236995
        ],
        [
         "Manchester",
         110448
        ],
        [
         "Elizabeth",
         128705
        ],
        [
         "Jersey City",
         262146
        ],
        [
         "Newark",
         280579
        ],
        [
         "Paterson",
         146753
        ],
        [
         "Albuquerque",
         557169
        ],
        [
         "Las Cruces",
         101408
        ],
        [
         "Buffalo",
         258703
        ],
        [
         "New York[6]",
         8491079
        ],
        [
         "Rochester",
         209983
        ],
        [
         "Syracuse",
         144263
        ],
        [
         "Yonkers",
         200667
        ],
        [
         "Cary[25]",
         155227
        ],
        [
         "Charlotte",
         809958
        ],
        [
         "Durham",
         251893
        ],
        [
         "Fayetteville",
         203948
        ],
        [
         "Greensboro",
         282586
        ],
        [
         "High Point",
         108629
        ],
        [
         "Raleigh",
         439896
        ],
        [
         "Wilmington",
         113657
        ],
        [
         "Winston�Salem",
         239269
        ],
        [
         "Fargo",
         115863
        ],
        [
         "Akron",
         197859
        ],
        [
         "Cincinnati",
         298165
        ],
        [
         "Cleveland",
         389521
        ],
        [
         "Columbus",
         835957
        ],
        [
         "Dayton",
         141003
        ],
        [
         "Toledo",
         281031
        ],
        [
         "Broken Arrow",
         104726
        ],
        [
         "Norman",
         118040
        ],
        [
         "Oklahoma City",
         620602
        ],
        [
         "Tulsa",
         399682
        ],
        [
         "Eugene",
         160561
        ],
        [
         "Gresham",
         109892
        ],
        [
         "Portland",
         619360
        ],
        [
         "Salem",
         161637
        ],
        [
         "Allentown",
         119104
        ],
        [
         "Philadelphia[8]",
         1560297
        ],
        [
         "Pittsburgh",
         305412
        ],
        [
         "Providence",
         179154
        ],
        [
         "Charleston",
         130113
        ],
        [
         "Columbia",
         132067
        ],
        [
         "North Charleston",
         106749
        ],
        [
         "Sioux Falls",
         168586
        ],
        [
         "Chattanooga",
         173778
        ],
        [
         "Clarksville",
         146806
        ],
        [
         "Knoxville",
         184281
        ],
        [
         "Memphis",
         656861
        ],
        [
         "Murfreesboro",
         120954
        ],
        [
         "Nashville[14]",
         644014
        ],
        [
         "Abilene",
         120958
        ],
        [
         "Amarillo",
         197254
        ],
        [
         "Arlington",
         383204
        ],
        [
         "Austin",
         912791
        ],
        [
         "Beaumont",
         117585
        ],
        [
         "Brownsville",
         183046
        ],
        [
         "Carrollton",
         128353
        ],
        [
         "College Station",
         103483
        ],
        [
         "Corpus Christi",
         320434
        ],
        [
         "Dallas",
         1281047
        ],
        [
         "Denton",
         128205
        ],
        [
         "El Paso",
         679036
        ],
        [
         "Fort Worth",
         812238
        ],
        [
         "Frisco",
         145035
        ],
        [
         "Garland",
         235501
        ],
        [
         "Grand Prairie",
         185453
        ],
        [
         "Houston[7]",
         2239558
        ],
        [
         "Irving",
         232406
        ],
        [
         "Killeen",
         138154
        ],
        [
         "Laredo",
         252309
        ],
        [
         "Lewisville",
         102889
        ],
        [
         "Lubbock",
         243839
        ],
        [
         "McAllen",
         138596
        ],
        [
         "McKinney",
         156767
        ],
        [
         "Mesquite",
         144416
        ],
        [
         "Midland",
         128037
        ],
        [
         "Odessa",
         114597
        ],
        [
         "Pasadena",
         153887
        ],
        [
         "Pearland",
         103441
        ],
        [
         "Plano",
         278480
        ],
        [
         "Richardson",
         108617
        ],
        [
         "Round Rock",
         112744
        ],
        [
         "San Antonio",
         1436697
        ],
        [
         "Tyler",
         101421
        ],
        [
         "Waco",
         130194
        ],
        [
         "Wichita Falls",
         105114
        ],
        [
         "Provo",
         114801
        ],
        [
         "Salt Lake City",
         190884
        ],
        [
         "West Jordan",
         110920
        ],
        [
         "West Valley City",
         134495
        ],
        [
         "Alexandria[15]",
         150575
        ],
        [
         "Chesapeake[15]",
         233371
        ],
        [
         "Hampton[15]",
         136879
        ],
        [
         "Newport News[15]",
         182965
        ],
        [
         "Norfolk[15]",
         245428
        ],
        [
         "Richmond[15]",
         217853
        ],
        [
         "Virginia Beach[15]",
         450980
        ],
        [
         "Bellevue",
         136426
        ],
        [
         "Everett",
         106736
        ],
        [
         "Kent",
         125560
        ],
        [
         "Seattle",
         668342
        ],
        [
         "Spokane",
         212052
        ],
        [
         "Tacoma",
         205159
        ],
        [
         "Vancouver",
         169294
        ],
        [
         "Green Bay",
         104891
        ],
        [
         "Madison",
         245691
        ],
        [
         "Milwaukee",
         599642
        ]
       ],
       "datasetInfos": [],
       "dbfsResultPath": null,
       "isJsonSchema": true,
       "metadata": {
        "dataframeName": "_sqldf",
        "executionCount": 14
       },
       "overflow": false,
       "plotOptions": {
        "customPlotOptions": {},
        "displayType": "areaChart",
        "pivotAggregation": null,
        "pivotColumns": null,
        "xColumns": null,
        "yColumns": null
       },
       "removedWidgets": [],
       "schema": [
        {
         "metadata": "{}",
         "name": "City",
         "type": "\"string\""
        },
        {
         "metadata": "{}",
         "name": "2014 Population estimate",
         "type": "\"integer\""
        }
       ],
       "type": "table"
      }
     },
     "output_type": "display_data"
    }
   ],
   "source": [
    "%sql\n",
    "select `City`, `2014 Population estimate` from data_geo\n",
    "\n",
    "-- Se hizo la misma consulta SQL que en el ejemplo anterior pero esta vez se modificó la forma de visualizar los datos para poderlos ver con un \"area diagram\", esto nos puede ayudar a entender de mejor manera la cantidad de población en cada una de las ciudades."
   ]
  },
  {
   "cell_type": "code",
   "execution_count": 0,
   "metadata": {
    "application/vnd.databricks.v1+cell": {
     "cellMetadata": {
      "byteLimit": 2048000,
      "implicitDf": true,
      "rowLimit": 10000
     },
     "inputWidgets": {},
     "nuid": "447b12c4-2a56-4e77-8385-744882da9909",
     "showTitle": false,
     "title": ""
    }
   },
   "outputs": [
    {
     "output_type": "display_data",
     "data": {
      "text/html": [
       "<style scoped>\n",
       "  .table-result-container {\n",
       "    max-height: 300px;\n",
       "    overflow: auto;\n",
       "  }\n",
       "  table, th, td {\n",
       "    border: 1px solid black;\n",
       "    border-collapse: collapse;\n",
       "  }\n",
       "  th, td {\n",
       "    padding: 5px;\n",
       "  }\n",
       "  th {\n",
       "    text-align: left;\n",
       "  }\n",
       "</style><div class='table-result-container'><table class='table-result'><thead style='background-color: white'><tr><th>City</th><th>2014 Population estimate</th></tr></thead><tbody><tr><td>Birmingham</td><td>212247</td></tr><tr><td>Huntsville</td><td>188226</td></tr><tr><td>Mobile</td><td>194675</td></tr><tr><td>Montgomery</td><td>200481</td></tr><tr><td>Anchorage[19]</td><td>301010</td></tr><tr><td>Chandler</td><td>254276</td></tr><tr><td>Gilbert[20]</td><td>239277</td></tr><tr><td>Glendale</td><td>237517</td></tr><tr><td>Mesa</td><td>464704</td></tr><tr><td>Peoria</td><td>166934</td></tr><tr><td>Phoenix</td><td>1537058</td></tr><tr><td>Scottsdale</td><td>230512</td></tr><tr><td>Surprise</td><td>126275</td></tr><tr><td>Tempe</td><td>172816</td></tr><tr><td>Tucson</td><td>527972</td></tr><tr><td>Little Rock</td><td>197706</td></tr><tr><td>Anaheim</td><td>346997</td></tr><tr><td>Antioch</td><td>108930</td></tr><tr><td>Bakersfield</td><td>368759</td></tr><tr><td>Berkeley</td><td>118853</td></tr><tr><td>Burbank</td><td>105368</td></tr><tr><td>Carlsbad</td><td>112299</td></tr><tr><td>Chula Vista</td><td>260988</td></tr><tr><td>Clovis</td><td>102189</td></tr><tr><td>Concord</td><td>127522</td></tr><tr><td>Corona</td><td>161486</td></tr><tr><td>Costa Mesa</td><td>112784</td></tr><tr><td>Daly City</td><td>106094</td></tr><tr><td>Downey</td><td>114172</td></tr><tr><td>El Cajon</td><td>103091</td></tr><tr><td>El Monte</td><td>116631</td></tr><tr><td>Elk Grove</td><td>163553</td></tr><tr><td>Escondido</td><td>150243</td></tr><tr><td>Fairfield</td><td>111125</td></tr><tr><td>Fontana</td><td>204950</td></tr><tr><td>Fremont</td><td>228758</td></tr><tr><td>Fresno</td><td>515986</td></tr><tr><td>Fullerton</td><td>139677</td></tr><tr><td>Garden Grove</td><td>175078</td></tr><tr><td>Glendale</td><td>200167</td></tr><tr><td>Hayward</td><td>154612</td></tr><tr><td>Huntington Beach</td><td>200809</td></tr><tr><td>Inglewood</td><td>111905</td></tr><tr><td>Irvine</td><td>248531</td></tr><tr><td>Lancaster</td><td>161043</td></tr><tr><td>Long Beach</td><td>473577</td></tr><tr><td>Los Angeles</td><td>3928864</td></tr><tr><td>Modesto</td><td>209286</td></tr><tr><td>Moreno Valley</td><td>202976</td></tr><tr><td>Murrieta</td><td>108368</td></tr><tr><td>Norwalk</td><td>107096</td></tr><tr><td>Oakland</td><td>413775</td></tr><tr><td>Oceanside</td><td>174558</td></tr><tr><td>Ontario</td><td>169089</td></tr><tr><td>Orange</td><td>139812</td></tr><tr><td>Oxnard</td><td>205437</td></tr><tr><td>Palmdale</td><td>158279</td></tr><tr><td>Pasadena</td><td>140881</td></tr><tr><td>Pomona</td><td>153350</td></tr><tr><td>Rancho Cucamonga</td><td>174305</td></tr><tr><td>Rialto</td><td>102741</td></tr><tr><td>Richmond</td><td>108565</td></tr><tr><td>Riverside</td><td>319504</td></tr><tr><td>Roseville</td><td>128615</td></tr><tr><td>Sacramento</td><td>485199</td></tr><tr><td>Salinas</td><td>156677</td></tr><tr><td>San Bernardino</td><td>215213</td></tr><tr><td>San Diego</td><td>1381069</td></tr><tr><td>San Francisco[10]</td><td>852469</td></tr><tr><td>San Jose</td><td>1015785</td></tr><tr><td>San Mateo</td><td>102893</td></tr><tr><td>Santa Ana</td><td>334909</td></tr><tr><td>Santa Clara</td><td>122192</td></tr><tr><td>Santa Clarita</td><td>181557</td></tr><tr><td>Santa Maria</td><td>103410</td></tr><tr><td>Santa Rosa</td><td>174170</td></tr><tr><td>Simi Valley</td><td>126871</td></tr><tr><td>Stockton</td><td>302389</td></tr><tr><td>Sunnyvale</td><td>149980</td></tr><tr><td>Temecula</td><td>109428</td></tr><tr><td>Thousand Oaks</td><td>129342</td></tr><tr><td>Torrance</td><td>148495</td></tr><tr><td>Vallejo</td><td>120228</td></tr><tr><td>Ventura[29]</td><td>109484</td></tr><tr><td>Victorville</td><td>121901</td></tr><tr><td>Visalia</td><td>129281</td></tr><tr><td>West Covina</td><td>108455</td></tr><tr><td>Arvada</td><td>113574</td></tr><tr><td>Aurora</td><td>353108</td></tr><tr><td>Boulder</td><td>105112</td></tr><tr><td>Centennial</td><td>107201</td></tr><tr><td>Colorado Springs</td><td>445830</td></tr><tr><td>Denver[12]</td><td>663862</td></tr><tr><td>Fort Collins</td><td>156480</td></tr><tr><td>Lakewood</td><td>149643</td></tr><tr><td>Pueblo</td><td>108423</td></tr><tr><td>Thornton</td><td>130307</td></tr><tr><td>Westminster</td><td>112090</td></tr><tr><td>Bridgeport</td><td>147612</td></tr><tr><td>Hartford</td><td>124705</td></tr><tr><td>New Haven</td><td>130282</td></tr><tr><td>Stamford</td><td>128278</td></tr><tr><td>Waterbury</td><td>109307</td></tr><tr><td>Washington[13]</td><td>658893</td></tr><tr><td>Cape Coral</td><td>169854</td></tr><tr><td>Clearwater</td><td>110703</td></tr><tr><td>Coral Springs</td><td>127952</td></tr><tr><td>Fort Lauderdale</td><td>176013</td></tr><tr><td>Gainesville</td><td>128460</td></tr><tr><td>Hialeah</td><td>235563</td></tr><tr><td>Hollywood</td><td>148047</td></tr><tr><td>Jacksonville[9]</td><td>853382</td></tr><tr><td>Lakeland</td><td>102346</td></tr><tr><td>Miami</td><td>430332</td></tr><tr><td>Miami Gardens</td><td>112265</td></tr><tr><td>Miramar</td><td>134989</td></tr><tr><td>Orlando</td><td>262372</td></tr><tr><td>Palm Bay</td><td>105838</td></tr><tr><td>Pembroke Pines</td><td>164626</td></tr><tr><td>Pompano Beach</td><td>106105</td></tr><tr><td>Port St. Lucie</td><td>174110</td></tr><tr><td>St. Petersburg</td><td>253693</td></tr><tr><td>Tallahassee</td><td>188107</td></tr><tr><td>Tampa</td><td>358699</td></tr><tr><td>West Palm Beach</td><td>104031</td></tr><tr><td>Athens[28]</td><td>119648</td></tr><tr><td>Atlanta</td><td>456002</td></tr><tr><td>Augusta[24]</td><td>196741</td></tr><tr><td>Columbus[23]</td><td>200887</td></tr><tr><td>Macon</td><td>null</td></tr><tr><td>Sandy Springs</td><td>101908</td></tr><tr><td>Savannah</td><td>144352</td></tr><tr><td>Honolulu[2]</td><td>350399</td></tr><tr><td>Boise[22]</td><td>216282</td></tr><tr><td>Aurora</td><td>200456</td></tr><tr><td>Chicago</td><td>2722389</td></tr><tr><td>Elgin</td><td>111117</td></tr><tr><td>Joliet</td><td>147928</td></tr><tr><td>Naperville</td><td>146128</td></tr><tr><td>Peoria</td><td>115828</td></tr><tr><td>Rockford</td><td>149123</td></tr><tr><td>Springfield</td><td>116809</td></tr><tr><td>Evansville</td><td>120346</td></tr><tr><td>Fort Wayne</td><td>258522</td></tr><tr><td>Indianapolis[11]</td><td>848788</td></tr><tr><td>Cedar Rapids</td><td>129195</td></tr><tr><td>Davenport</td><td>102448</td></tr><tr><td>Des Moines</td><td>209220</td></tr><tr><td>Kansas City[26]</td><td>149636</td></tr><tr><td>Olathe</td><td>133062</td></tr><tr><td>Overland Park</td><td>184525</td></tr><tr><td>Topeka</td><td>127215</td></tr><tr><td>Wichita</td><td>388413</td></tr><tr><td>Lexington[18]</td><td>310797</td></tr><tr><td>Louisville[16]</td><td>612780</td></tr><tr><td>Baton Rouge[21]</td><td>228895</td></tr><tr><td>Lafayette[27]</td><td>126066</td></tr><tr><td>New Orleans[17]</td><td>384320</td></tr><tr><td>Shreveport</td><td>198242</td></tr><tr><td>Baltimore[15]</td><td>622793</td></tr><tr><td>Boston</td><td>655884</td></tr><tr><td>Cambridge</td><td>109694</td></tr><tr><td>Lowell</td><td>109945</td></tr><tr><td>Springfield</td><td>153991</td></tr><tr><td>Worcester</td><td>183016</td></tr><tr><td>Ann Arbor</td><td>117770</td></tr><tr><td>Detroit</td><td>680250</td></tr><tr><td>Grand Rapids</td><td>193792</td></tr><tr><td>Lansing</td><td>114620</td></tr><tr><td>Sterling Heights</td><td>131741</td></tr><tr><td>Warren</td><td>135099</td></tr><tr><td>Minneapolis</td><td>407207</td></tr><tr><td>Rochester</td><td>111402</td></tr><tr><td>Saint Paul</td><td>297640</td></tr><tr><td>Jackson</td><td>171155</td></tr><tr><td>Columbia</td><td>116906</td></tr><tr><td>Independence</td><td>117494</td></tr><tr><td>Kansas City</td><td>470800</td></tr><tr><td>Springfield</td><td>165378</td></tr><tr><td>St. Louis[15]</td><td>317419</td></tr><tr><td>Billings</td><td>108869</td></tr><tr><td>Lincoln</td><td>272996</td></tr><tr><td>Omaha</td><td>446599</td></tr><tr><td>Henderson</td><td>277440</td></tr><tr><td>Las Vegas</td><td>613599</td></tr><tr><td>North Las Vegas</td><td>230788</td></tr><tr><td>Reno</td><td>236995</td></tr><tr><td>Manchester</td><td>110448</td></tr><tr><td>Elizabeth</td><td>128705</td></tr><tr><td>Jersey City</td><td>262146</td></tr><tr><td>Newark</td><td>280579</td></tr><tr><td>Paterson</td><td>146753</td></tr><tr><td>Albuquerque</td><td>557169</td></tr><tr><td>Las Cruces</td><td>101408</td></tr><tr><td>Buffalo</td><td>258703</td></tr><tr><td>New York[6]</td><td>8491079</td></tr><tr><td>Rochester</td><td>209983</td></tr><tr><td>Syracuse</td><td>144263</td></tr><tr><td>Yonkers</td><td>200667</td></tr><tr><td>Cary[25]</td><td>155227</td></tr><tr><td>Charlotte</td><td>809958</td></tr><tr><td>Durham</td><td>251893</td></tr><tr><td>Fayetteville</td><td>203948</td></tr><tr><td>Greensboro</td><td>282586</td></tr><tr><td>High Point</td><td>108629</td></tr><tr><td>Raleigh</td><td>439896</td></tr><tr><td>Wilmington</td><td>113657</td></tr><tr><td>Winston�Salem</td><td>239269</td></tr><tr><td>Fargo</td><td>115863</td></tr><tr><td>Akron</td><td>197859</td></tr><tr><td>Cincinnati</td><td>298165</td></tr><tr><td>Cleveland</td><td>389521</td></tr><tr><td>Columbus</td><td>835957</td></tr><tr><td>Dayton</td><td>141003</td></tr><tr><td>Toledo</td><td>281031</td></tr><tr><td>Broken Arrow</td><td>104726</td></tr><tr><td>Norman</td><td>118040</td></tr><tr><td>Oklahoma City</td><td>620602</td></tr><tr><td>Tulsa</td><td>399682</td></tr><tr><td>Eugene</td><td>160561</td></tr><tr><td>Gresham</td><td>109892</td></tr><tr><td>Portland</td><td>619360</td></tr><tr><td>Salem</td><td>161637</td></tr><tr><td>Allentown</td><td>119104</td></tr><tr><td>Philadelphia[8]</td><td>1560297</td></tr><tr><td>Pittsburgh</td><td>305412</td></tr><tr><td>Providence</td><td>179154</td></tr><tr><td>Charleston</td><td>130113</td></tr><tr><td>Columbia</td><td>132067</td></tr><tr><td>North Charleston</td><td>106749</td></tr><tr><td>Sioux Falls</td><td>168586</td></tr><tr><td>Chattanooga</td><td>173778</td></tr><tr><td>Clarksville</td><td>146806</td></tr><tr><td>Knoxville</td><td>184281</td></tr><tr><td>Memphis</td><td>656861</td></tr><tr><td>Murfreesboro</td><td>120954</td></tr><tr><td>Nashville[14]</td><td>644014</td></tr><tr><td>Abilene</td><td>120958</td></tr><tr><td>Amarillo</td><td>197254</td></tr><tr><td>Arlington</td><td>383204</td></tr><tr><td>Austin</td><td>912791</td></tr><tr><td>Beaumont</td><td>117585</td></tr><tr><td>Brownsville</td><td>183046</td></tr><tr><td>Carrollton</td><td>128353</td></tr><tr><td>College Station</td><td>103483</td></tr><tr><td>Corpus Christi</td><td>320434</td></tr><tr><td>Dallas</td><td>1281047</td></tr><tr><td>Denton</td><td>128205</td></tr><tr><td>El Paso</td><td>679036</td></tr><tr><td>Fort Worth</td><td>812238</td></tr><tr><td>Frisco</td><td>145035</td></tr><tr><td>Garland</td><td>235501</td></tr><tr><td>Grand Prairie</td><td>185453</td></tr><tr><td>Houston[7]</td><td>2239558</td></tr><tr><td>Irving</td><td>232406</td></tr><tr><td>Killeen</td><td>138154</td></tr><tr><td>Laredo</td><td>252309</td></tr><tr><td>Lewisville</td><td>102889</td></tr><tr><td>Lubbock</td><td>243839</td></tr><tr><td>McAllen</td><td>138596</td></tr><tr><td>McKinney</td><td>156767</td></tr><tr><td>Mesquite</td><td>144416</td></tr><tr><td>Midland</td><td>128037</td></tr><tr><td>Odessa</td><td>114597</td></tr><tr><td>Pasadena</td><td>153887</td></tr><tr><td>Pearland</td><td>103441</td></tr><tr><td>Plano</td><td>278480</td></tr><tr><td>Richardson</td><td>108617</td></tr><tr><td>Round Rock</td><td>112744</td></tr><tr><td>San Antonio</td><td>1436697</td></tr><tr><td>Tyler</td><td>101421</td></tr><tr><td>Waco</td><td>130194</td></tr><tr><td>Wichita Falls</td><td>105114</td></tr><tr><td>Provo</td><td>114801</td></tr><tr><td>Salt Lake City</td><td>190884</td></tr><tr><td>West Jordan</td><td>110920</td></tr><tr><td>West Valley City</td><td>134495</td></tr><tr><td>Alexandria[15]</td><td>150575</td></tr><tr><td>Chesapeake[15]</td><td>233371</td></tr><tr><td>Hampton[15]</td><td>136879</td></tr><tr><td>Newport News[15]</td><td>182965</td></tr><tr><td>Norfolk[15]</td><td>245428</td></tr><tr><td>Richmond[15]</td><td>217853</td></tr><tr><td>Virginia Beach[15]</td><td>450980</td></tr><tr><td>Bellevue</td><td>136426</td></tr><tr><td>Everett</td><td>106736</td></tr><tr><td>Kent</td><td>125560</td></tr><tr><td>Seattle</td><td>668342</td></tr><tr><td>Spokane</td><td>212052</td></tr><tr><td>Tacoma</td><td>205159</td></tr><tr><td>Vancouver</td><td>169294</td></tr><tr><td>Green Bay</td><td>104891</td></tr><tr><td>Madison</td><td>245691</td></tr><tr><td>Milwaukee</td><td>599642</td></tr></tbody></table></div>"
      ]
     },
     "metadata": {
      "application/vnd.databricks.v1+output": {
       "addedWidgets": {},
       "aggData": [],
       "aggError": "",
       "aggOverflow": false,
       "aggSchema": [],
       "aggSeriesLimitReached": false,
       "aggType": "",
       "arguments": {},
       "columnCustomDisplayInfos": {},
       "data": [
        [
         "Birmingham",
         212247
        ],
        [
         "Huntsville",
         188226
        ],
        [
         "Mobile",
         194675
        ],
        [
         "Montgomery",
         200481
        ],
        [
         "Anchorage[19]",
         301010
        ],
        [
         "Chandler",
         254276
        ],
        [
         "Gilbert[20]",
         239277
        ],
        [
         "Glendale",
         237517
        ],
        [
         "Mesa",
         464704
        ],
        [
         "Peoria",
         166934
        ],
        [
         "Phoenix",
         1537058
        ],
        [
         "Scottsdale",
         230512
        ],
        [
         "Surprise",
         126275
        ],
        [
         "Tempe",
         172816
        ],
        [
         "Tucson",
         527972
        ],
        [
         "Little Rock",
         197706
        ],
        [
         "Anaheim",
         346997
        ],
        [
         "Antioch",
         108930
        ],
        [
         "Bakersfield",
         368759
        ],
        [
         "Berkeley",
         118853
        ],
        [
         "Burbank",
         105368
        ],
        [
         "Carlsbad",
         112299
        ],
        [
         "Chula Vista",
         260988
        ],
        [
         "Clovis",
         102189
        ],
        [
         "Concord",
         127522
        ],
        [
         "Corona",
         161486
        ],
        [
         "Costa Mesa",
         112784
        ],
        [
         "Daly City",
         106094
        ],
        [
         "Downey",
         114172
        ],
        [
         "El Cajon",
         103091
        ],
        [
         "El Monte",
         116631
        ],
        [
         "Elk Grove",
         163553
        ],
        [
         "Escondido",
         150243
        ],
        [
         "Fairfield",
         111125
        ],
        [
         "Fontana",
         204950
        ],
        [
         "Fremont",
         228758
        ],
        [
         "Fresno",
         515986
        ],
        [
         "Fullerton",
         139677
        ],
        [
         "Garden Grove",
         175078
        ],
        [
         "Glendale",
         200167
        ],
        [
         "Hayward",
         154612
        ],
        [
         "Huntington Beach",
         200809
        ],
        [
         "Inglewood",
         111905
        ],
        [
         "Irvine",
         248531
        ],
        [
         "Lancaster",
         161043
        ],
        [
         "Long Beach",
         473577
        ],
        [
         "Los Angeles",
         3928864
        ],
        [
         "Modesto",
         209286
        ],
        [
         "Moreno Valley",
         202976
        ],
        [
         "Murrieta",
         108368
        ],
        [
         "Norwalk",
         107096
        ],
        [
         "Oakland",
         413775
        ],
        [
         "Oceanside",
         174558
        ],
        [
         "Ontario",
         169089
        ],
        [
         "Orange",
         139812
        ],
        [
         "Oxnard",
         205437
        ],
        [
         "Palmdale",
         158279
        ],
        [
         "Pasadena",
         140881
        ],
        [
         "Pomona",
         153350
        ],
        [
         "Rancho Cucamonga",
         174305
        ],
        [
         "Rialto",
         102741
        ],
        [
         "Richmond",
         108565
        ],
        [
         "Riverside",
         319504
        ],
        [
         "Roseville",
         128615
        ],
        [
         "Sacramento",
         485199
        ],
        [
         "Salinas",
         156677
        ],
        [
         "San Bernardino",
         215213
        ],
        [
         "San Diego",
         1381069
        ],
        [
         "San Francisco[10]",
         852469
        ],
        [
         "San Jose",
         1015785
        ],
        [
         "San Mateo",
         102893
        ],
        [
         "Santa Ana",
         334909
        ],
        [
         "Santa Clara",
         122192
        ],
        [
         "Santa Clarita",
         181557
        ],
        [
         "Santa Maria",
         103410
        ],
        [
         "Santa Rosa",
         174170
        ],
        [
         "Simi Valley",
         126871
        ],
        [
         "Stockton",
         302389
        ],
        [
         "Sunnyvale",
         149980
        ],
        [
         "Temecula",
         109428
        ],
        [
         "Thousand Oaks",
         129342
        ],
        [
         "Torrance",
         148495
        ],
        [
         "Vallejo",
         120228
        ],
        [
         "Ventura[29]",
         109484
        ],
        [
         "Victorville",
         121901
        ],
        [
         "Visalia",
         129281
        ],
        [
         "West Covina",
         108455
        ],
        [
         "Arvada",
         113574
        ],
        [
         "Aurora",
         353108
        ],
        [
         "Boulder",
         105112
        ],
        [
         "Centennial",
         107201
        ],
        [
         "Colorado Springs",
         445830
        ],
        [
         "Denver[12]",
         663862
        ],
        [
         "Fort Collins",
         156480
        ],
        [
         "Lakewood",
         149643
        ],
        [
         "Pueblo",
         108423
        ],
        [
         "Thornton",
         130307
        ],
        [
         "Westminster",
         112090
        ],
        [
         "Bridgeport",
         147612
        ],
        [
         "Hartford",
         124705
        ],
        [
         "New Haven",
         130282
        ],
        [
         "Stamford",
         128278
        ],
        [
         "Waterbury",
         109307
        ],
        [
         "Washington[13]",
         658893
        ],
        [
         "Cape Coral",
         169854
        ],
        [
         "Clearwater",
         110703
        ],
        [
         "Coral Springs",
         127952
        ],
        [
         "Fort Lauderdale",
         176013
        ],
        [
         "Gainesville",
         128460
        ],
        [
         "Hialeah",
         235563
        ],
        [
         "Hollywood",
         148047
        ],
        [
         "Jacksonville[9]",
         853382
        ],
        [
         "Lakeland",
         102346
        ],
        [
         "Miami",
         430332
        ],
        [
         "Miami Gardens",
         112265
        ],
        [
         "Miramar",
         134989
        ],
        [
         "Orlando",
         262372
        ],
        [
         "Palm Bay",
         105838
        ],
        [
         "Pembroke Pines",
         164626
        ],
        [
         "Pompano Beach",
         106105
        ],
        [
         "Port St. Lucie",
         174110
        ],
        [
         "St. Petersburg",
         253693
        ],
        [
         "Tallahassee",
         188107
        ],
        [
         "Tampa",
         358699
        ],
        [
         "West Palm Beach",
         104031
        ],
        [
         "Athens[28]",
         119648
        ],
        [
         "Atlanta",
         456002
        ],
        [
         "Augusta[24]",
         196741
        ],
        [
         "Columbus[23]",
         200887
        ],
        [
         "Macon",
         null
        ],
        [
         "Sandy Springs",
         101908
        ],
        [
         "Savannah",
         144352
        ],
        [
         "Honolulu[2]",
         350399
        ],
        [
         "Boise[22]",
         216282
        ],
        [
         "Aurora",
         200456
        ],
        [
         "Chicago",
         2722389
        ],
        [
         "Elgin",
         111117
        ],
        [
         "Joliet",
         147928
        ],
        [
         "Naperville",
         146128
        ],
        [
         "Peoria",
         115828
        ],
        [
         "Rockford",
         149123
        ],
        [
         "Springfield",
         116809
        ],
        [
         "Evansville",
         120346
        ],
        [
         "Fort Wayne",
         258522
        ],
        [
         "Indianapolis[11]",
         848788
        ],
        [
         "Cedar Rapids",
         129195
        ],
        [
         "Davenport",
         102448
        ],
        [
         "Des Moines",
         209220
        ],
        [
         "Kansas City[26]",
         149636
        ],
        [
         "Olathe",
         133062
        ],
        [
         "Overland Park",
         184525
        ],
        [
         "Topeka",
         127215
        ],
        [
         "Wichita",
         388413
        ],
        [
         "Lexington[18]",
         310797
        ],
        [
         "Louisville[16]",
         612780
        ],
        [
         "Baton Rouge[21]",
         228895
        ],
        [
         "Lafayette[27]",
         126066
        ],
        [
         "New Orleans[17]",
         384320
        ],
        [
         "Shreveport",
         198242
        ],
        [
         "Baltimore[15]",
         622793
        ],
        [
         "Boston",
         655884
        ],
        [
         "Cambridge",
         109694
        ],
        [
         "Lowell",
         109945
        ],
        [
         "Springfield",
         153991
        ],
        [
         "Worcester",
         183016
        ],
        [
         "Ann Arbor",
         117770
        ],
        [
         "Detroit",
         680250
        ],
        [
         "Grand Rapids",
         193792
        ],
        [
         "Lansing",
         114620
        ],
        [
         "Sterling Heights",
         131741
        ],
        [
         "Warren",
         135099
        ],
        [
         "Minneapolis",
         407207
        ],
        [
         "Rochester",
         111402
        ],
        [
         "Saint Paul",
         297640
        ],
        [
         "Jackson",
         171155
        ],
        [
         "Columbia",
         116906
        ],
        [
         "Independence",
         117494
        ],
        [
         "Kansas City",
         470800
        ],
        [
         "Springfield",
         165378
        ],
        [
         "St. Louis[15]",
         317419
        ],
        [
         "Billings",
         108869
        ],
        [
         "Lincoln",
         272996
        ],
        [
         "Omaha",
         446599
        ],
        [
         "Henderson",
         277440
        ],
        [
         "Las Vegas",
         613599
        ],
        [
         "North Las Vegas",
         230788
        ],
        [
         "Reno",
         236995
        ],
        [
         "Manchester",
         110448
        ],
        [
         "Elizabeth",
         128705
        ],
        [
         "Jersey City",
         262146
        ],
        [
         "Newark",
         280579
        ],
        [
         "Paterson",
         146753
        ],
        [
         "Albuquerque",
         557169
        ],
        [
         "Las Cruces",
         101408
        ],
        [
         "Buffalo",
         258703
        ],
        [
         "New York[6]",
         8491079
        ],
        [
         "Rochester",
         209983
        ],
        [
         "Syracuse",
         144263
        ],
        [
         "Yonkers",
         200667
        ],
        [
         "Cary[25]",
         155227
        ],
        [
         "Charlotte",
         809958
        ],
        [
         "Durham",
         251893
        ],
        [
         "Fayetteville",
         203948
        ],
        [
         "Greensboro",
         282586
        ],
        [
         "High Point",
         108629
        ],
        [
         "Raleigh",
         439896
        ],
        [
         "Wilmington",
         113657
        ],
        [
         "Winston�Salem",
         239269
        ],
        [
         "Fargo",
         115863
        ],
        [
         "Akron",
         197859
        ],
        [
         "Cincinnati",
         298165
        ],
        [
         "Cleveland",
         389521
        ],
        [
         "Columbus",
         835957
        ],
        [
         "Dayton",
         141003
        ],
        [
         "Toledo",
         281031
        ],
        [
         "Broken Arrow",
         104726
        ],
        [
         "Norman",
         118040
        ],
        [
         "Oklahoma City",
         620602
        ],
        [
         "Tulsa",
         399682
        ],
        [
         "Eugene",
         160561
        ],
        [
         "Gresham",
         109892
        ],
        [
         "Portland",
         619360
        ],
        [
         "Salem",
         161637
        ],
        [
         "Allentown",
         119104
        ],
        [
         "Philadelphia[8]",
         1560297
        ],
        [
         "Pittsburgh",
         305412
        ],
        [
         "Providence",
         179154
        ],
        [
         "Charleston",
         130113
        ],
        [
         "Columbia",
         132067
        ],
        [
         "North Charleston",
         106749
        ],
        [
         "Sioux Falls",
         168586
        ],
        [
         "Chattanooga",
         173778
        ],
        [
         "Clarksville",
         146806
        ],
        [
         "Knoxville",
         184281
        ],
        [
         "Memphis",
         656861
        ],
        [
         "Murfreesboro",
         120954
        ],
        [
         "Nashville[14]",
         644014
        ],
        [
         "Abilene",
         120958
        ],
        [
         "Amarillo",
         197254
        ],
        [
         "Arlington",
         383204
        ],
        [
         "Austin",
         912791
        ],
        [
         "Beaumont",
         117585
        ],
        [
         "Brownsville",
         183046
        ],
        [
         "Carrollton",
         128353
        ],
        [
         "College Station",
         103483
        ],
        [
         "Corpus Christi",
         320434
        ],
        [
         "Dallas",
         1281047
        ],
        [
         "Denton",
         128205
        ],
        [
         "El Paso",
         679036
        ],
        [
         "Fort Worth",
         812238
        ],
        [
         "Frisco",
         145035
        ],
        [
         "Garland",
         235501
        ],
        [
         "Grand Prairie",
         185453
        ],
        [
         "Houston[7]",
         2239558
        ],
        [
         "Irving",
         232406
        ],
        [
         "Killeen",
         138154
        ],
        [
         "Laredo",
         252309
        ],
        [
         "Lewisville",
         102889
        ],
        [
         "Lubbock",
         243839
        ],
        [
         "McAllen",
         138596
        ],
        [
         "McKinney",
         156767
        ],
        [
         "Mesquite",
         144416
        ],
        [
         "Midland",
         128037
        ],
        [
         "Odessa",
         114597
        ],
        [
         "Pasadena",
         153887
        ],
        [
         "Pearland",
         103441
        ],
        [
         "Plano",
         278480
        ],
        [
         "Richardson",
         108617
        ],
        [
         "Round Rock",
         112744
        ],
        [
         "San Antonio",
         1436697
        ],
        [
         "Tyler",
         101421
        ],
        [
         "Waco",
         130194
        ],
        [
         "Wichita Falls",
         105114
        ],
        [
         "Provo",
         114801
        ],
        [
         "Salt Lake City",
         190884
        ],
        [
         "West Jordan",
         110920
        ],
        [
         "West Valley City",
         134495
        ],
        [
         "Alexandria[15]",
         150575
        ],
        [
         "Chesapeake[15]",
         233371
        ],
        [
         "Hampton[15]",
         136879
        ],
        [
         "Newport News[15]",
         182965
        ],
        [
         "Norfolk[15]",
         245428
        ],
        [
         "Richmond[15]",
         217853
        ],
        [
         "Virginia Beach[15]",
         450980
        ],
        [
         "Bellevue",
         136426
        ],
        [
         "Everett",
         106736
        ],
        [
         "Kent",
         125560
        ],
        [
         "Seattle",
         668342
        ],
        [
         "Spokane",
         212052
        ],
        [
         "Tacoma",
         205159
        ],
        [
         "Vancouver",
         169294
        ],
        [
         "Green Bay",
         104891
        ],
        [
         "Madison",
         245691
        ],
        [
         "Milwaukee",
         599642
        ]
       ],
       "datasetInfos": [],
       "dbfsResultPath": null,
       "isJsonSchema": true,
       "metadata": {
        "dataframeName": "_sqldf",
        "executionCount": 21
       },
       "overflow": false,
       "plotOptions": {
        "customPlotOptions": {
         "__migrate__": [
          {
           "key": "status",
           "value": "complete"
          },
          {
           "key": "origDisplayType",
           "value": "areaChart"
          }
         ],
         "areaChart": [
          {
           "key": "grouped",
           "value": true
          },
          {
           "key": "stacked",
           "value": false
          },
          {
           "key": "100_stacked",
           "value": false
          }
         ]
        },
        "displayType": "table",
        "pivotAggregation": "sum",
        "pivotColumns": [],
        "xColumns": [
         "City"
        ],
        "yColumns": [
         "2014 Population estimate"
        ]
       },
       "removedWidgets": [],
       "schema": [
        {
         "metadata": "{}",
         "name": "City",
         "type": "\"string\""
        },
        {
         "metadata": "{}",
         "name": "2014 Population estimate",
         "type": "\"integer\""
        }
       ],
       "type": "table"
      }
     },
     "output_type": "display_data"
    }
   ],
   "source": [
    "%sql\n",
    "select `City`, `2014 Population estimate` from data_geo\n",
    "\n",
    "-- Se hizo la misma consulta SQL que en el ejemplo anterior pero esta vez se modificó la forma de visualizar los datos para poderlos ver con un \"area diagram\", esto nos puede ayudar a entender de mejor manera la cantidad de población en cada una de las ciudades. En esta versión se ha puesto en una tabla para poder visualizar mas datos."
   ]
  },
  {
   "cell_type": "code",
   "execution_count": 0,
   "metadata": {
    "application/vnd.databricks.v1+cell": {
     "cellMetadata": {
      "byteLimit": 2048000,
      "implicitDf": true,
      "rowLimit": 10000
     },
     "inputWidgets": {},
     "nuid": "09a2f0a0-f8a6-4652-82a8-7be70ca5d536",
     "showTitle": false,
     "title": ""
    }
   },
   "outputs": [
    {
     "output_type": "display_data",
     "data": {
      "text/html": [
       "<style scoped>\n",
       "  .table-result-container {\n",
       "    max-height: 300px;\n",
       "    overflow: auto;\n",
       "  }\n",
       "  table, th, td {\n",
       "    border: 1px solid black;\n",
       "    border-collapse: collapse;\n",
       "  }\n",
       "  th, td {\n",
       "    padding: 5px;\n",
       "  }\n",
       "  th {\n",
       "    text-align: left;\n",
       "  }\n",
       "</style><div class='table-result-container'><table class='table-result'><thead style='background-color: white'><tr><th>State</th><th>2014 Population estimate</th></tr></thead><tbody><tr><td>Alabama</td><td>212247</td></tr><tr><td>Alabama</td><td>188226</td></tr><tr><td>Alabama</td><td>194675</td></tr><tr><td>Alabama</td><td>200481</td></tr><tr><td>Alaska</td><td>301010</td></tr><tr><td>Arizona</td><td>254276</td></tr><tr><td>Arizona</td><td>239277</td></tr><tr><td>Arizona</td><td>237517</td></tr><tr><td>Arizona</td><td>464704</td></tr><tr><td>Arizona</td><td>166934</td></tr><tr><td>Arizona</td><td>1537058</td></tr><tr><td>Arizona</td><td>230512</td></tr><tr><td>Arizona</td><td>126275</td></tr><tr><td>Arizona</td><td>172816</td></tr><tr><td>Arizona</td><td>527972</td></tr><tr><td>Arkansas</td><td>197706</td></tr><tr><td>California</td><td>346997</td></tr><tr><td>California</td><td>108930</td></tr><tr><td>California</td><td>368759</td></tr><tr><td>California</td><td>118853</td></tr><tr><td>California</td><td>105368</td></tr><tr><td>California</td><td>112299</td></tr><tr><td>California</td><td>260988</td></tr><tr><td>California</td><td>102189</td></tr><tr><td>California</td><td>127522</td></tr><tr><td>California</td><td>161486</td></tr><tr><td>California</td><td>112784</td></tr><tr><td>California</td><td>106094</td></tr><tr><td>California</td><td>114172</td></tr><tr><td>California</td><td>103091</td></tr><tr><td>California</td><td>116631</td></tr><tr><td>California</td><td>163553</td></tr><tr><td>California</td><td>150243</td></tr><tr><td>California</td><td>111125</td></tr><tr><td>California</td><td>204950</td></tr><tr><td>California</td><td>228758</td></tr><tr><td>California</td><td>515986</td></tr><tr><td>California</td><td>139677</td></tr><tr><td>California</td><td>175078</td></tr><tr><td>California</td><td>200167</td></tr><tr><td>California</td><td>154612</td></tr><tr><td>California</td><td>200809</td></tr><tr><td>California</td><td>111905</td></tr><tr><td>California</td><td>248531</td></tr><tr><td>California</td><td>161043</td></tr><tr><td>California</td><td>473577</td></tr><tr><td>California</td><td>3928864</td></tr><tr><td>California</td><td>209286</td></tr><tr><td>California</td><td>202976</td></tr><tr><td>California</td><td>108368</td></tr><tr><td>California</td><td>107096</td></tr><tr><td>California</td><td>413775</td></tr><tr><td>California</td><td>174558</td></tr><tr><td>California</td><td>169089</td></tr><tr><td>California</td><td>139812</td></tr><tr><td>California</td><td>205437</td></tr><tr><td>California</td><td>158279</td></tr><tr><td>California</td><td>140881</td></tr><tr><td>California</td><td>153350</td></tr><tr><td>California</td><td>174305</td></tr><tr><td>California</td><td>102741</td></tr><tr><td>California</td><td>108565</td></tr><tr><td>California</td><td>319504</td></tr><tr><td>California</td><td>128615</td></tr><tr><td>California</td><td>485199</td></tr><tr><td>California</td><td>156677</td></tr><tr><td>California</td><td>215213</td></tr><tr><td>California</td><td>1381069</td></tr><tr><td>California</td><td>852469</td></tr><tr><td>California</td><td>1015785</td></tr><tr><td>California</td><td>102893</td></tr><tr><td>California</td><td>334909</td></tr><tr><td>California</td><td>122192</td></tr><tr><td>California</td><td>181557</td></tr><tr><td>California</td><td>103410</td></tr><tr><td>California</td><td>174170</td></tr><tr><td>California</td><td>126871</td></tr><tr><td>California</td><td>302389</td></tr><tr><td>California</td><td>149980</td></tr><tr><td>California</td><td>109428</td></tr><tr><td>California</td><td>129342</td></tr><tr><td>California</td><td>148495</td></tr><tr><td>California</td><td>120228</td></tr><tr><td>California</td><td>109484</td></tr><tr><td>California</td><td>121901</td></tr><tr><td>California</td><td>129281</td></tr><tr><td>California</td><td>108455</td></tr><tr><td>Colorado</td><td>113574</td></tr><tr><td>Colorado</td><td>353108</td></tr><tr><td>Colorado</td><td>105112</td></tr><tr><td>Colorado</td><td>107201</td></tr><tr><td>Colorado</td><td>445830</td></tr><tr><td>Colorado</td><td>663862</td></tr><tr><td>Colorado</td><td>156480</td></tr><tr><td>Colorado</td><td>149643</td></tr><tr><td>Colorado</td><td>108423</td></tr><tr><td>Colorado</td><td>130307</td></tr><tr><td>Colorado</td><td>112090</td></tr><tr><td>Connecticut</td><td>147612</td></tr><tr><td>Connecticut</td><td>124705</td></tr><tr><td>Connecticut</td><td>130282</td></tr><tr><td>Connecticut</td><td>128278</td></tr><tr><td>Connecticut</td><td>109307</td></tr><tr><td>District of Columbia</td><td>658893</td></tr><tr><td>Florida</td><td>169854</td></tr><tr><td>Florida</td><td>110703</td></tr><tr><td>Florida</td><td>127952</td></tr><tr><td>Florida</td><td>176013</td></tr><tr><td>Florida</td><td>128460</td></tr><tr><td>Florida</td><td>235563</td></tr><tr><td>Florida</td><td>148047</td></tr><tr><td>Florida</td><td>853382</td></tr><tr><td>Florida</td><td>102346</td></tr><tr><td>Florida</td><td>430332</td></tr><tr><td>Florida</td><td>112265</td></tr><tr><td>Florida</td><td>134989</td></tr><tr><td>Florida</td><td>262372</td></tr><tr><td>Florida</td><td>105838</td></tr><tr><td>Florida</td><td>164626</td></tr><tr><td>Florida</td><td>106105</td></tr><tr><td>Florida</td><td>174110</td></tr><tr><td>Florida</td><td>253693</td></tr><tr><td>Florida</td><td>188107</td></tr><tr><td>Florida</td><td>358699</td></tr><tr><td>Florida</td><td>104031</td></tr><tr><td>Georgia</td><td>119648</td></tr><tr><td>Georgia</td><td>456002</td></tr><tr><td>Georgia</td><td>196741</td></tr><tr><td>Georgia</td><td>200887</td></tr><tr><td>Georgia</td><td>null</td></tr><tr><td>Georgia</td><td>101908</td></tr><tr><td>Georgia</td><td>144352</td></tr><tr><td>Hawai'i</td><td>350399</td></tr><tr><td>Idaho</td><td>216282</td></tr><tr><td>Illinois</td><td>200456</td></tr><tr><td>Illinois</td><td>2722389</td></tr><tr><td>Illinois</td><td>111117</td></tr><tr><td>Illinois</td><td>147928</td></tr><tr><td>Illinois</td><td>146128</td></tr><tr><td>Illinois</td><td>115828</td></tr><tr><td>Illinois</td><td>149123</td></tr><tr><td>Illinois</td><td>116809</td></tr><tr><td>Indiana</td><td>120346</td></tr><tr><td>Indiana</td><td>258522</td></tr><tr><td>Indiana</td><td>848788</td></tr><tr><td>Iowa</td><td>129195</td></tr><tr><td>Iowa</td><td>102448</td></tr><tr><td>Iowa</td><td>209220</td></tr><tr><td>Kansas</td><td>149636</td></tr><tr><td>Kansas</td><td>133062</td></tr><tr><td>Kansas</td><td>184525</td></tr><tr><td>Kansas</td><td>127215</td></tr><tr><td>Kansas</td><td>388413</td></tr><tr><td>Kentucky</td><td>310797</td></tr><tr><td>Kentucky</td><td>612780</td></tr><tr><td>Louisiana</td><td>228895</td></tr><tr><td>Louisiana</td><td>126066</td></tr><tr><td>Louisiana</td><td>384320</td></tr><tr><td>Louisiana</td><td>198242</td></tr><tr><td>Maryland</td><td>622793</td></tr><tr><td>Massachusetts</td><td>655884</td></tr><tr><td>Massachusetts</td><td>109694</td></tr><tr><td>Massachusetts</td><td>109945</td></tr><tr><td>Massachusetts</td><td>153991</td></tr><tr><td>Massachusetts</td><td>183016</td></tr><tr><td>Michigan</td><td>117770</td></tr><tr><td>Michigan</td><td>680250</td></tr><tr><td>Michigan</td><td>193792</td></tr><tr><td>Michigan</td><td>114620</td></tr><tr><td>Michigan</td><td>131741</td></tr><tr><td>Michigan</td><td>135099</td></tr><tr><td>Minnesota</td><td>407207</td></tr><tr><td>Minnesota</td><td>111402</td></tr><tr><td>Minnesota</td><td>297640</td></tr><tr><td>Mississippi</td><td>171155</td></tr><tr><td>Missouri</td><td>116906</td></tr><tr><td>Missouri</td><td>117494</td></tr><tr><td>Missouri</td><td>470800</td></tr><tr><td>Missouri</td><td>165378</td></tr><tr><td>Missouri</td><td>317419</td></tr><tr><td>Montana</td><td>108869</td></tr><tr><td>Nebraska</td><td>272996</td></tr><tr><td>Nebraska</td><td>446599</td></tr><tr><td>Nevada</td><td>277440</td></tr><tr><td>Nevada</td><td>613599</td></tr><tr><td>Nevada</td><td>230788</td></tr><tr><td>Nevada</td><td>236995</td></tr><tr><td>New Hampshire</td><td>110448</td></tr><tr><td>New Jersey</td><td>128705</td></tr><tr><td>New Jersey</td><td>262146</td></tr><tr><td>New Jersey</td><td>280579</td></tr><tr><td>New Jersey</td><td>146753</td></tr><tr><td>New Mexico</td><td>557169</td></tr><tr><td>New Mexico</td><td>101408</td></tr><tr><td>New York</td><td>258703</td></tr><tr><td>New York</td><td>8491079</td></tr><tr><td>New York</td><td>209983</td></tr><tr><td>New York</td><td>144263</td></tr><tr><td>New York</td><td>200667</td></tr><tr><td>North Carolina</td><td>155227</td></tr><tr><td>North Carolina</td><td>809958</td></tr><tr><td>North Carolina</td><td>251893</td></tr><tr><td>North Carolina</td><td>203948</td></tr><tr><td>North Carolina</td><td>282586</td></tr><tr><td>North Carolina</td><td>108629</td></tr><tr><td>North Carolina</td><td>439896</td></tr><tr><td>North Carolina</td><td>113657</td></tr><tr><td>North Carolina</td><td>239269</td></tr><tr><td>North Dakota</td><td>115863</td></tr><tr><td>Ohio</td><td>197859</td></tr><tr><td>Ohio</td><td>298165</td></tr><tr><td>Ohio</td><td>389521</td></tr><tr><td>Ohio</td><td>835957</td></tr><tr><td>Ohio</td><td>141003</td></tr><tr><td>Ohio</td><td>281031</td></tr><tr><td>Oklahoma</td><td>104726</td></tr><tr><td>Oklahoma</td><td>118040</td></tr><tr><td>Oklahoma</td><td>620602</td></tr><tr><td>Oklahoma</td><td>399682</td></tr><tr><td>Oregon</td><td>160561</td></tr><tr><td>Oregon</td><td>109892</td></tr><tr><td>Oregon</td><td>619360</td></tr><tr><td>Oregon</td><td>161637</td></tr><tr><td>Pennsylvania</td><td>119104</td></tr><tr><td>Pennsylvania</td><td>1560297</td></tr><tr><td>Pennsylvania</td><td>305412</td></tr><tr><td>Rhode Island</td><td>179154</td></tr><tr><td>South Carolina</td><td>130113</td></tr><tr><td>South Carolina</td><td>132067</td></tr><tr><td>South Carolina</td><td>106749</td></tr><tr><td>South Dakota</td><td>168586</td></tr><tr><td>Tennessee</td><td>173778</td></tr><tr><td>Tennessee</td><td>146806</td></tr><tr><td>Tennessee</td><td>184281</td></tr><tr><td>Tennessee</td><td>656861</td></tr><tr><td>Tennessee</td><td>120954</td></tr><tr><td>Tennessee</td><td>644014</td></tr><tr><td>Texas</td><td>120958</td></tr><tr><td>Texas</td><td>197254</td></tr><tr><td>Texas</td><td>383204</td></tr><tr><td>Texas</td><td>912791</td></tr><tr><td>Texas</td><td>117585</td></tr><tr><td>Texas</td><td>183046</td></tr><tr><td>Texas</td><td>128353</td></tr><tr><td>Texas</td><td>103483</td></tr><tr><td>Texas</td><td>320434</td></tr><tr><td>Texas</td><td>1281047</td></tr><tr><td>Texas</td><td>128205</td></tr><tr><td>Texas</td><td>679036</td></tr><tr><td>Texas</td><td>812238</td></tr><tr><td>Texas</td><td>145035</td></tr><tr><td>Texas</td><td>235501</td></tr><tr><td>Texas</td><td>185453</td></tr><tr><td>Texas</td><td>2239558</td></tr><tr><td>Texas</td><td>232406</td></tr><tr><td>Texas</td><td>138154</td></tr><tr><td>Texas</td><td>252309</td></tr><tr><td>Texas</td><td>102889</td></tr><tr><td>Texas</td><td>243839</td></tr><tr><td>Texas</td><td>138596</td></tr><tr><td>Texas</td><td>156767</td></tr><tr><td>Texas</td><td>144416</td></tr><tr><td>Texas</td><td>128037</td></tr><tr><td>Texas</td><td>114597</td></tr><tr><td>Texas</td><td>153887</td></tr><tr><td>Texas</td><td>103441</td></tr><tr><td>Texas</td><td>278480</td></tr><tr><td>Texas</td><td>108617</td></tr><tr><td>Texas</td><td>112744</td></tr><tr><td>Texas</td><td>1436697</td></tr><tr><td>Texas</td><td>101421</td></tr><tr><td>Texas</td><td>130194</td></tr><tr><td>Texas</td><td>105114</td></tr><tr><td>Utah</td><td>114801</td></tr><tr><td>Utah</td><td>190884</td></tr><tr><td>Utah</td><td>110920</td></tr><tr><td>Utah</td><td>134495</td></tr><tr><td>Virginia</td><td>150575</td></tr><tr><td>Virginia</td><td>233371</td></tr><tr><td>Virginia</td><td>136879</td></tr><tr><td>Virginia</td><td>182965</td></tr><tr><td>Virginia</td><td>245428</td></tr><tr><td>Virginia</td><td>217853</td></tr><tr><td>Virginia</td><td>450980</td></tr><tr><td>Washington</td><td>136426</td></tr><tr><td>Washington</td><td>106736</td></tr><tr><td>Washington</td><td>125560</td></tr><tr><td>Washington</td><td>668342</td></tr><tr><td>Washington</td><td>212052</td></tr><tr><td>Washington</td><td>205159</td></tr><tr><td>Washington</td><td>169294</td></tr><tr><td>Wisconsin</td><td>104891</td></tr><tr><td>Wisconsin</td><td>245691</td></tr><tr><td>Wisconsin</td><td>599642</td></tr></tbody></table></div>"
      ]
     },
     "metadata": {
      "application/vnd.databricks.v1+output": {
       "addedWidgets": {},
       "aggData": [],
       "aggError": "",
       "aggOverflow": false,
       "aggSchema": [],
       "aggSeriesLimitReached": false,
       "aggType": "",
       "arguments": {},
       "columnCustomDisplayInfos": {},
       "data": [
        [
         "Alabama",
         212247
        ],
        [
         "Alabama",
         188226
        ],
        [
         "Alabama",
         194675
        ],
        [
         "Alabama",
         200481
        ],
        [
         "Alaska",
         301010
        ],
        [
         "Arizona",
         254276
        ],
        [
         "Arizona",
         239277
        ],
        [
         "Arizona",
         237517
        ],
        [
         "Arizona",
         464704
        ],
        [
         "Arizona",
         166934
        ],
        [
         "Arizona",
         1537058
        ],
        [
         "Arizona",
         230512
        ],
        [
         "Arizona",
         126275
        ],
        [
         "Arizona",
         172816
        ],
        [
         "Arizona",
         527972
        ],
        [
         "Arkansas",
         197706
        ],
        [
         "California",
         346997
        ],
        [
         "California",
         108930
        ],
        [
         "California",
         368759
        ],
        [
         "California",
         118853
        ],
        [
         "California",
         105368
        ],
        [
         "California",
         112299
        ],
        [
         "California",
         260988
        ],
        [
         "California",
         102189
        ],
        [
         "California",
         127522
        ],
        [
         "California",
         161486
        ],
        [
         "California",
         112784
        ],
        [
         "California",
         106094
        ],
        [
         "California",
         114172
        ],
        [
         "California",
         103091
        ],
        [
         "California",
         116631
        ],
        [
         "California",
         163553
        ],
        [
         "California",
         150243
        ],
        [
         "California",
         111125
        ],
        [
         "California",
         204950
        ],
        [
         "California",
         228758
        ],
        [
         "California",
         515986
        ],
        [
         "California",
         139677
        ],
        [
         "California",
         175078
        ],
        [
         "California",
         200167
        ],
        [
         "California",
         154612
        ],
        [
         "California",
         200809
        ],
        [
         "California",
         111905
        ],
        [
         "California",
         248531
        ],
        [
         "California",
         161043
        ],
        [
         "California",
         473577
        ],
        [
         "California",
         3928864
        ],
        [
         "California",
         209286
        ],
        [
         "California",
         202976
        ],
        [
         "California",
         108368
        ],
        [
         "California",
         107096
        ],
        [
         "California",
         413775
        ],
        [
         "California",
         174558
        ],
        [
         "California",
         169089
        ],
        [
         "California",
         139812
        ],
        [
         "California",
         205437
        ],
        [
         "California",
         158279
        ],
        [
         "California",
         140881
        ],
        [
         "California",
         153350
        ],
        [
         "California",
         174305
        ],
        [
         "California",
         102741
        ],
        [
         "California",
         108565
        ],
        [
         "California",
         319504
        ],
        [
         "California",
         128615
        ],
        [
         "California",
         485199
        ],
        [
         "California",
         156677
        ],
        [
         "California",
         215213
        ],
        [
         "California",
         1381069
        ],
        [
         "California",
         852469
        ],
        [
         "California",
         1015785
        ],
        [
         "California",
         102893
        ],
        [
         "California",
         334909
        ],
        [
         "California",
         122192
        ],
        [
         "California",
         181557
        ],
        [
         "California",
         103410
        ],
        [
         "California",
         174170
        ],
        [
         "California",
         126871
        ],
        [
         "California",
         302389
        ],
        [
         "California",
         149980
        ],
        [
         "California",
         109428
        ],
        [
         "California",
         129342
        ],
        [
         "California",
         148495
        ],
        [
         "California",
         120228
        ],
        [
         "California",
         109484
        ],
        [
         "California",
         121901
        ],
        [
         "California",
         129281
        ],
        [
         "California",
         108455
        ],
        [
         "Colorado",
         113574
        ],
        [
         "Colorado",
         353108
        ],
        [
         "Colorado",
         105112
        ],
        [
         "Colorado",
         107201
        ],
        [
         "Colorado",
         445830
        ],
        [
         "Colorado",
         663862
        ],
        [
         "Colorado",
         156480
        ],
        [
         "Colorado",
         149643
        ],
        [
         "Colorado",
         108423
        ],
        [
         "Colorado",
         130307
        ],
        [
         "Colorado",
         112090
        ],
        [
         "Connecticut",
         147612
        ],
        [
         "Connecticut",
         124705
        ],
        [
         "Connecticut",
         130282
        ],
        [
         "Connecticut",
         128278
        ],
        [
         "Connecticut",
         109307
        ],
        [
         "District of Columbia",
         658893
        ],
        [
         "Florida",
         169854
        ],
        [
         "Florida",
         110703
        ],
        [
         "Florida",
         127952
        ],
        [
         "Florida",
         176013
        ],
        [
         "Florida",
         128460
        ],
        [
         "Florida",
         235563
        ],
        [
         "Florida",
         148047
        ],
        [
         "Florida",
         853382
        ],
        [
         "Florida",
         102346
        ],
        [
         "Florida",
         430332
        ],
        [
         "Florida",
         112265
        ],
        [
         "Florida",
         134989
        ],
        [
         "Florida",
         262372
        ],
        [
         "Florida",
         105838
        ],
        [
         "Florida",
         164626
        ],
        [
         "Florida",
         106105
        ],
        [
         "Florida",
         174110
        ],
        [
         "Florida",
         253693
        ],
        [
         "Florida",
         188107
        ],
        [
         "Florida",
         358699
        ],
        [
         "Florida",
         104031
        ],
        [
         "Georgia",
         119648
        ],
        [
         "Georgia",
         456002
        ],
        [
         "Georgia",
         196741
        ],
        [
         "Georgia",
         200887
        ],
        [
         "Georgia",
         null
        ],
        [
         "Georgia",
         101908
        ],
        [
         "Georgia",
         144352
        ],
        [
         "Hawai'i",
         350399
        ],
        [
         "Idaho",
         216282
        ],
        [
         "Illinois",
         200456
        ],
        [
         "Illinois",
         2722389
        ],
        [
         "Illinois",
         111117
        ],
        [
         "Illinois",
         147928
        ],
        [
         "Illinois",
         146128
        ],
        [
         "Illinois",
         115828
        ],
        [
         "Illinois",
         149123
        ],
        [
         "Illinois",
         116809
        ],
        [
         "Indiana",
         120346
        ],
        [
         "Indiana",
         258522
        ],
        [
         "Indiana",
         848788
        ],
        [
         "Iowa",
         129195
        ],
        [
         "Iowa",
         102448
        ],
        [
         "Iowa",
         209220
        ],
        [
         "Kansas",
         149636
        ],
        [
         "Kansas",
         133062
        ],
        [
         "Kansas",
         184525
        ],
        [
         "Kansas",
         127215
        ],
        [
         "Kansas",
         388413
        ],
        [
         "Kentucky",
         310797
        ],
        [
         "Kentucky",
         612780
        ],
        [
         "Louisiana",
         228895
        ],
        [
         "Louisiana",
         126066
        ],
        [
         "Louisiana",
         384320
        ],
        [
         "Louisiana",
         198242
        ],
        [
         "Maryland",
         622793
        ],
        [
         "Massachusetts",
         655884
        ],
        [
         "Massachusetts",
         109694
        ],
        [
         "Massachusetts",
         109945
        ],
        [
         "Massachusetts",
         153991
        ],
        [
         "Massachusetts",
         183016
        ],
        [
         "Michigan",
         117770
        ],
        [
         "Michigan",
         680250
        ],
        [
         "Michigan",
         193792
        ],
        [
         "Michigan",
         114620
        ],
        [
         "Michigan",
         131741
        ],
        [
         "Michigan",
         135099
        ],
        [
         "Minnesota",
         407207
        ],
        [
         "Minnesota",
         111402
        ],
        [
         "Minnesota",
         297640
        ],
        [
         "Mississippi",
         171155
        ],
        [
         "Missouri",
         116906
        ],
        [
         "Missouri",
         117494
        ],
        [
         "Missouri",
         470800
        ],
        [
         "Missouri",
         165378
        ],
        [
         "Missouri",
         317419
        ],
        [
         "Montana",
         108869
        ],
        [
         "Nebraska",
         272996
        ],
        [
         "Nebraska",
         446599
        ],
        [
         "Nevada",
         277440
        ],
        [
         "Nevada",
         613599
        ],
        [
         "Nevada",
         230788
        ],
        [
         "Nevada",
         236995
        ],
        [
         "New Hampshire",
         110448
        ],
        [
         "New Jersey",
         128705
        ],
        [
         "New Jersey",
         262146
        ],
        [
         "New Jersey",
         280579
        ],
        [
         "New Jersey",
         146753
        ],
        [
         "New Mexico",
         557169
        ],
        [
         "New Mexico",
         101408
        ],
        [
         "New York",
         258703
        ],
        [
         "New York",
         8491079
        ],
        [
         "New York",
         209983
        ],
        [
         "New York",
         144263
        ],
        [
         "New York",
         200667
        ],
        [
         "North Carolina",
         155227
        ],
        [
         "North Carolina",
         809958
        ],
        [
         "North Carolina",
         251893
        ],
        [
         "North Carolina",
         203948
        ],
        [
         "North Carolina",
         282586
        ],
        [
         "North Carolina",
         108629
        ],
        [
         "North Carolina",
         439896
        ],
        [
         "North Carolina",
         113657
        ],
        [
         "North Carolina",
         239269
        ],
        [
         "North Dakota",
         115863
        ],
        [
         "Ohio",
         197859
        ],
        [
         "Ohio",
         298165
        ],
        [
         "Ohio",
         389521
        ],
        [
         "Ohio",
         835957
        ],
        [
         "Ohio",
         141003
        ],
        [
         "Ohio",
         281031
        ],
        [
         "Oklahoma",
         104726
        ],
        [
         "Oklahoma",
         118040
        ],
        [
         "Oklahoma",
         620602
        ],
        [
         "Oklahoma",
         399682
        ],
        [
         "Oregon",
         160561
        ],
        [
         "Oregon",
         109892
        ],
        [
         "Oregon",
         619360
        ],
        [
         "Oregon",
         161637
        ],
        [
         "Pennsylvania",
         119104
        ],
        [
         "Pennsylvania",
         1560297
        ],
        [
         "Pennsylvania",
         305412
        ],
        [
         "Rhode Island",
         179154
        ],
        [
         "South Carolina",
         130113
        ],
        [
         "South Carolina",
         132067
        ],
        [
         "South Carolina",
         106749
        ],
        [
         "South Dakota",
         168586
        ],
        [
         "Tennessee",
         173778
        ],
        [
         "Tennessee",
         146806
        ],
        [
         "Tennessee",
         184281
        ],
        [
         "Tennessee",
         656861
        ],
        [
         "Tennessee",
         120954
        ],
        [
         "Tennessee",
         644014
        ],
        [
         "Texas",
         120958
        ],
        [
         "Texas",
         197254
        ],
        [
         "Texas",
         383204
        ],
        [
         "Texas",
         912791
        ],
        [
         "Texas",
         117585
        ],
        [
         "Texas",
         183046
        ],
        [
         "Texas",
         128353
        ],
        [
         "Texas",
         103483
        ],
        [
         "Texas",
         320434
        ],
        [
         "Texas",
         1281047
        ],
        [
         "Texas",
         128205
        ],
        [
         "Texas",
         679036
        ],
        [
         "Texas",
         812238
        ],
        [
         "Texas",
         145035
        ],
        [
         "Texas",
         235501
        ],
        [
         "Texas",
         185453
        ],
        [
         "Texas",
         2239558
        ],
        [
         "Texas",
         232406
        ],
        [
         "Texas",
         138154
        ],
        [
         "Texas",
         252309
        ],
        [
         "Texas",
         102889
        ],
        [
         "Texas",
         243839
        ],
        [
         "Texas",
         138596
        ],
        [
         "Texas",
         156767
        ],
        [
         "Texas",
         144416
        ],
        [
         "Texas",
         128037
        ],
        [
         "Texas",
         114597
        ],
        [
         "Texas",
         153887
        ],
        [
         "Texas",
         103441
        ],
        [
         "Texas",
         278480
        ],
        [
         "Texas",
         108617
        ],
        [
         "Texas",
         112744
        ],
        [
         "Texas",
         1436697
        ],
        [
         "Texas",
         101421
        ],
        [
         "Texas",
         130194
        ],
        [
         "Texas",
         105114
        ],
        [
         "Utah",
         114801
        ],
        [
         "Utah",
         190884
        ],
        [
         "Utah",
         110920
        ],
        [
         "Utah",
         134495
        ],
        [
         "Virginia",
         150575
        ],
        [
         "Virginia",
         233371
        ],
        [
         "Virginia",
         136879
        ],
        [
         "Virginia",
         182965
        ],
        [
         "Virginia",
         245428
        ],
        [
         "Virginia",
         217853
        ],
        [
         "Virginia",
         450980
        ],
        [
         "Washington",
         136426
        ],
        [
         "Washington",
         106736
        ],
        [
         "Washington",
         125560
        ],
        [
         "Washington",
         668342
        ],
        [
         "Washington",
         212052
        ],
        [
         "Washington",
         205159
        ],
        [
         "Washington",
         169294
        ],
        [
         "Wisconsin",
         104891
        ],
        [
         "Wisconsin",
         245691
        ],
        [
         "Wisconsin",
         599642
        ]
       ],
       "datasetInfos": [],
       "dbfsResultPath": null,
       "isJsonSchema": true,
       "metadata": {
        "dataframeName": "_sqldf",
        "executionCount": 22
       },
       "overflow": false,
       "plotOptions": {
        "customPlotOptions": {},
        "displayType": "plotlyBar",
        "pivotAggregation": null,
        "pivotColumns": null,
        "xColumns": null,
        "yColumns": null
       },
       "removedWidgets": [],
       "schema": [
        {
         "metadata": "{}",
         "name": "State",
         "type": "\"string\""
        },
        {
         "metadata": "{}",
         "name": "2014 Population estimate",
         "type": "\"integer\""
        }
       ],
       "type": "table"
      }
     },
     "output_type": "display_data"
    }
   ],
   "source": [
    "%sql\n",
    "select `State`, `2014 Population estimate` from data_geo\n",
    "\n",
    "-- Se hizo la misma consulta SQL que en el ejemplo anterior pero esta vez se modificó la forma de visualizar los datos para poderlos ver con un \"bar chart\", esto nos puede ayudar a entender de mejor manera la cantidad de población en cada una de los estados."
   ]
  },
  {
   "cell_type": "markdown",
   "metadata": {
    "application/vnd.databricks.v1+cell": {
     "cellMetadata": {},
     "inputWidgets": {},
     "nuid": "36dff049-f90b-47b3-aca6-b6d0655fe5d9",
     "showTitle": false,
     "title": ""
    }
   },
   "source": [
    "En esta otra consulta se pueden observar las top 10 ciudades con los precios medios más altos para 2015 y la población estimada en 2014:"
   ]
  },
  {
   "cell_type": "code",
   "execution_count": 0,
   "metadata": {
    "application/vnd.databricks.v1+cell": {
     "cellMetadata": {
      "byteLimit": 2048000,
      "implicitDf": true,
      "rowLimit": 10000
     },
     "inputWidgets": {},
     "nuid": "4bac2fc4-3a8a-4fd5-a2e8-4d1d0401f37b",
     "showTitle": false,
     "title": ""
    }
   },
   "outputs": [
    {
     "output_type": "display_data",
     "data": {
      "text/html": [
       "<style scoped>\n",
       "  .table-result-container {\n",
       "    max-height: 300px;\n",
       "    overflow: auto;\n",
       "  }\n",
       "  table, th, td {\n",
       "    border: 1px solid black;\n",
       "    border-collapse: collapse;\n",
       "  }\n",
       "  th, td {\n",
       "    padding: 5px;\n",
       "  }\n",
       "  th {\n",
       "    text-align: left;\n",
       "  }\n",
       "</style><div class='table-result-container'><table class='table-result'><thead style='background-color: white'><tr><th>City</th><th>2014 Population Estimate (1000s)</th><th>2015 Median Sales Price (1000s)</th></tr></thead><tbody><tr><td>San Jose</td><td>1015.785</td><td>900.0</td></tr><tr><td>San Francisco[10]</td><td>852.469</td><td>748.3</td></tr><tr><td>Honolulu[2]</td><td>350.399</td><td>699.3</td></tr><tr><td>Anaheim</td><td>346.997</td><td>685.7</td></tr><tr><td>San Diego</td><td>1381.069</td><td>510.3</td></tr><tr><td>Boulder</td><td>105.112</td><td>442.2</td></tr><tr><td>Los Angeles</td><td>3928.864</td><td>434.7</td></tr><tr><td>New York[6]</td><td>8491.079</td><td>388.6</td></tr><tr><td>Boston</td><td>655.884</td><td>374.6</td></tr><tr><td>Washington[13]</td><td>658.893</td><td>367.8</td></tr></tbody></table></div>"
      ]
     },
     "metadata": {
      "application/vnd.databricks.v1+output": {
       "addedWidgets": {},
       "aggData": [],
       "aggError": "",
       "aggOverflow": false,
       "aggSchema": [],
       "aggSeriesLimitReached": false,
       "aggType": "",
       "arguments": {},
       "columnCustomDisplayInfos": {},
       "data": [
        [
         "San Jose",
         1015.785,
         900.0
        ],
        [
         "San Francisco[10]",
         852.469,
         748.3
        ],
        [
         "Honolulu[2]",
         350.399,
         699.3
        ],
        [
         "Anaheim",
         346.997,
         685.7
        ],
        [
         "San Diego",
         1381.069,
         510.3
        ],
        [
         "Boulder",
         105.112,
         442.2
        ],
        [
         "Los Angeles",
         3928.864,
         434.7
        ],
        [
         "New York[6]",
         8491.079,
         388.6
        ],
        [
         "Boston",
         655.884,
         374.6
        ],
        [
         "Washington[13]",
         658.893,
         367.8
        ]
       ],
       "datasetInfos": [],
       "dbfsResultPath": null,
       "isJsonSchema": true,
       "metadata": {
        "dataframeName": "_sqldf",
        "executionCount": 5
       },
       "overflow": false,
       "plotOptions": {
        "customPlotOptions": {
         "pieChart": [
          {
           "key": "donut",
           "value": true
          }
         ]
        },
        "displayType": "pieChart",
        "pivotAggregation": "sum",
        "pivotColumns": [],
        "xColumns": [
         "City"
        ],
        "yColumns": [
         "2014 Population Estimate (1000s)",
         "2015 Median Sales Price (1000s)"
        ]
       },
       "removedWidgets": [],
       "schema": [
        {
         "metadata": "{}",
         "name": "City",
         "type": "\"string\""
        },
        {
         "metadata": "{}",
         "name": "2014 Population Estimate (1000s)",
         "type": "\"double\""
        },
        {
         "metadata": "{}",
         "name": "2015 Median Sales Price (1000s)",
         "type": "\"double\""
        }
       ],
       "type": "table"
      }
     },
     "output_type": "display_data"
    }
   ],
   "source": [
    "%sql\n",
    "select City, `2014 Population estimate`/1000 as `2014 Population Estimate (1000s)`, `2015 median sales price` as `2015 Median Sales Price (1000s)` from data_geo order by `2015 median sales price` desc limit 10;"
   ]
  },
  {
   "cell_type": "code",
   "execution_count": 0,
   "metadata": {
    "application/vnd.databricks.v1+cell": {
     "cellMetadata": {
      "byteLimit": 2048000,
      "implicitDf": true,
      "rowLimit": 10000
     },
     "inputWidgets": {},
     "nuid": "4fa82182-d409-4e7f-a6b3-0853f0d80771",
     "showTitle": false,
     "title": ""
    }
   },
   "outputs": [
    {
     "output_type": "display_data",
     "data": {
      "text/html": [
       "<style scoped>\n",
       "  .table-result-container {\n",
       "    max-height: 300px;\n",
       "    overflow: auto;\n",
       "  }\n",
       "  table, th, td {\n",
       "    border: 1px solid black;\n",
       "    border-collapse: collapse;\n",
       "  }\n",
       "  th, td {\n",
       "    padding: 5px;\n",
       "  }\n",
       "  th {\n",
       "    text-align: left;\n",
       "  }\n",
       "</style><div class='table-result-container'><table class='table-result'><thead style='background-color: white'><tr><th>State</th><th>2014 Population Estimate (1000s)</th><th>2015 Median Sales Price (1000s)</th></tr></thead><tbody><tr><td>California</td><td>1015.785</td><td>900.0</td></tr><tr><td>California</td><td>852.469</td><td>748.3</td></tr><tr><td>Hawai'i</td><td>350.399</td><td>699.3</td></tr><tr><td>California</td><td>346.997</td><td>685.7</td></tr><tr><td>California</td><td>1381.069</td><td>510.3</td></tr><tr><td>Colorado</td><td>105.112</td><td>442.2</td></tr><tr><td>California</td><td>3928.864</td><td>434.7</td></tr><tr><td>New York</td><td>8491.079</td><td>388.6</td></tr><tr><td>Massachusetts</td><td>655.884</td><td>374.6</td></tr><tr><td>District of Columbia</td><td>658.893</td><td>367.8</td></tr></tbody></table></div>"
      ]
     },
     "metadata": {
      "application/vnd.databricks.v1+output": {
       "addedWidgets": {},
       "aggData": [],
       "aggError": "",
       "aggOverflow": false,
       "aggSchema": [],
       "aggSeriesLimitReached": false,
       "aggType": "",
       "arguments": {},
       "columnCustomDisplayInfos": {},
       "data": [
        [
         "California",
         1015.785,
         900.0
        ],
        [
         "California",
         852.469,
         748.3
        ],
        [
         "Hawai'i",
         350.399,
         699.3
        ],
        [
         "California",
         346.997,
         685.7
        ],
        [
         "California",
         1381.069,
         510.3
        ],
        [
         "Colorado",
         105.112,
         442.2
        ],
        [
         "California",
         3928.864,
         434.7
        ],
        [
         "New York",
         8491.079,
         388.6
        ],
        [
         "Massachusetts",
         655.884,
         374.6
        ],
        [
         "District of Columbia",
         658.893,
         367.8
        ]
       ],
       "datasetInfos": [],
       "dbfsResultPath": null,
       "isJsonSchema": true,
       "metadata": {
        "dataframeName": "_sqldf",
        "executionCount": 19
       },
       "overflow": false,
       "plotOptions": {
        "customPlotOptions": {
         "pieChart": [
          {
           "key": "donut",
           "value": true
          }
         ]
        },
        "displayType": "areaChart",
        "pivotAggregation": "sum",
        "pivotColumns": [],
        "xColumns": [],
        "yColumns": [
         "2014 Population Estimate (1000s)",
         "2015 Median Sales Price (1000s)"
        ]
       },
       "removedWidgets": [],
       "schema": [
        {
         "metadata": "{}",
         "name": "State",
         "type": "\"string\""
        },
        {
         "metadata": "{}",
         "name": "2014 Population Estimate (1000s)",
         "type": "\"double\""
        },
        {
         "metadata": "{}",
         "name": "2015 Median Sales Price (1000s)",
         "type": "\"double\""
        }
       ],
       "type": "table"
      }
     },
     "output_type": "display_data"
    }
   ],
   "source": [
    "%sql\n",
    "select State, `2014 Population estimate`/1000 as `2014 Population Estimate (1000s)`, `2015 median sales price` as `2015 Median Sales Price (1000s)` from data_geo order by `2015 median sales price` desc limit 10;\n",
    "\n",
    "-- Aquí se hizo una consulta similar a la del ejemplo de arriba, pero en este caso en lugar de comparar cada una de las ciudades lo estamos haciendo con cada uno de los estados. De esta manera podemos tener una información mucho mas general sobre estos datos."
   ]
  },
  {
   "cell_type": "markdown",
   "metadata": {
    "application/vnd.databricks.v1+cell": {
     "cellMetadata": {},
     "inputWidgets": {},
     "nuid": "dd8c17b5-dbb1-4048-bad6-ccdb1f90ab3f",
     "showTitle": false,
     "title": ""
    }
   },
   "source": [
    "En esta conuslta se muestra un histograma de los precios medios de las ventas para 2015:"
   ]
  },
  {
   "cell_type": "code",
   "execution_count": 0,
   "metadata": {
    "application/vnd.databricks.v1+cell": {
     "cellMetadata": {
      "byteLimit": 2048000,
      "implicitDf": true,
      "rowLimit": 10000
     },
     "inputWidgets": {},
     "nuid": "038c3093-5f83-4027-95c1-c959a061b2bd",
     "showTitle": false,
     "title": ""
    }
   },
   "outputs": [
    {
     "output_type": "display_data",
     "data": {
      "text/html": [
       "<style scoped>\n",
       "  .table-result-container {\n",
       "    max-height: 300px;\n",
       "    overflow: auto;\n",
       "  }\n",
       "  table, th, td {\n",
       "    border: 1px solid black;\n",
       "    border-collapse: collapse;\n",
       "  }\n",
       "  th, td {\n",
       "    padding: 5px;\n",
       "  }\n",
       "  th {\n",
       "    text-align: left;\n",
       "  }\n",
       "</style><div class='table-result-container'><table class='table-result'><thead style='background-color: white'><tr><th>State Code</th><th>2015 median sales price</th></tr></thead><tbody><tr><td>CA</td><td>900.0</td></tr><tr><td>CA</td><td>748.3</td></tr><tr><td>HI</td><td>699.3</td></tr><tr><td>CA</td><td>685.7</td></tr><tr><td>CA</td><td>510.3</td></tr><tr><td>CO</td><td>442.2</td></tr><tr><td>CA</td><td>434.7</td></tr><tr><td>NY</td><td>388.6</td></tr><tr><td>MA</td><td>374.6</td></tr><tr><td>DC</td><td>367.8</td></tr><tr><td>WA</td><td>352.4</td></tr><tr><td>NJ</td><td>350.8</td></tr><tr><td>CT</td><td>342.7</td></tr><tr><td>CO</td><td>338.1</td></tr><tr><td>OR</td><td>289.4</td></tr><tr><td>CA</td><td>281.0</td></tr><tr><td>CA</td><td>275.8</td></tr><tr><td>FL</td><td>269.1</td></tr><tr><td>NV</td><td>268.7</td></tr><tr><td>TX</td><td>249.1</td></tr><tr><td>UT</td><td>243.3</td></tr><tr><td>NH</td><td>237.4</td></tr><tr><td>RI</td><td>233.3</td></tr><tr><td>MA</td><td>226.9</td></tr><tr><td>WI</td><td>226.2</td></tr><tr><td>MD</td><td>223.1</td></tr><tr><td>CO</td><td>220.1</td></tr><tr><td>NC</td><td>218.9</td></tr><tr><td>VA</td><td>212.5</td></tr><tr><td>OR</td><td>211.3</td></tr><tr><td>MN</td><td>209.4</td></tr><tr><td>FL</td><td>208.0</td></tr><tr><td>AZ</td><td>206.1</td></tr><tr><td>NV</td><td>205.9</td></tr><tr><td>CT</td><td>205.1</td></tr><tr><td>PA</td><td>204.9</td></tr><tr><td>CT</td><td>202.6</td></tr><tr><td>TX</td><td>200.3</td></tr><tr><td>NC</td><td>197.5</td></tr><tr><td>NC</td><td>197.2</td></tr><tr><td>NC</td><td>196.9</td></tr><tr><td>WI</td><td>195.4</td></tr><tr><td>OR</td><td>193.9</td></tr><tr><td>IL</td><td>192.5</td></tr><tr><td>TX</td><td>192.5</td></tr><tr><td>VA</td><td>190.0</td></tr><tr><td>TN</td><td>186.4</td></tr><tr><td>TX</td><td>184.7</td></tr><tr><td>MA</td><td>183.9</td></tr><tr><td>FL</td><td>182.5</td></tr><tr><td>WA</td><td>180.2</td></tr><tr><td>ND</td><td>180.0</td></tr><tr><td>ID</td><td>178.7</td></tr><tr><td>AZ</td><td>178.1</td></tr><tr><td>LA</td><td>177.2</td></tr><tr><td>TX</td><td>172.9</td></tr><tr><td>NM</td><td>172.2</td></tr><tr><td>FL</td><td>172.0</td></tr><tr><td>FL</td><td>170.5</td></tr><tr><td>FL</td><td>169.9</td></tr><tr><td>AL</td><td>162.9</td></tr><tr><td>PA</td><td>162.7</td></tr><tr><td>SD</td><td>159.5</td></tr><tr><td>GA</td><td>158.0</td></tr><tr><td>AL</td><td>157.7</td></tr><tr><td>IA</td><td>156.9</td></tr><tr><td>FL</td><td>156.0</td></tr><tr><td>MS</td><td>154.1</td></tr><tr><td>MO</td><td>153.0</td></tr><tr><td>LA</td><td>151.6</td></tr><tr><td>NE</td><td>150.2</td></tr><tr><td>OH</td><td>149.9</td></tr><tr><td>TN</td><td>149.2</td></tr><tr><td>NE</td><td>148.1</td></tr><tr><td>TX</td><td>145.7</td></tr><tr><td>OK</td><td>145.1</td></tr><tr><td>FL</td><td>145.0</td></tr><tr><td>NC</td><td>145.0</td></tr><tr><td>TX</td><td>144.4</td></tr><tr><td>TN</td><td>143.6</td></tr><tr><td>KY</td><td>141.2</td></tr><tr><td>KY</td><td>141.1</td></tr><tr><td>IN</td><td>139.2</td></tr><tr><td>NC</td><td>138.6</td></tr><tr><td>TX</td><td>138.4</td></tr><tr><td>NC</td><td>138.3</td></tr><tr><td>FL</td><td>136.0</td></tr><tr><td>OH</td><td>135.0</td></tr><tr><td>TX</td><td>133.3</td></tr><tr><td>TN</td><td>132.1</td></tr><tr><td>AR</td><td>131.8</td></tr><tr><td>AL</td><td>129.0</td></tr><tr><td>KS</td><td>126.0</td></tr><tr><td>AL</td><td>122.5</td></tr><tr><td>NY</td><td>118.9</td></tr><tr><td>NY</td><td>118.3</td></tr><tr><td>NY</td><td>117.3</td></tr><tr><td>MO</td><td>116.5</td></tr><tr><td>IL</td><td>115.2</td></tr><tr><td>MI</td><td>114.6</td></tr><tr><td>IA</td><td>109.4</td></tr><tr><td>OH</td><td>107.2</td></tr><tr><td>IN</td><td>106.3</td></tr><tr><td>OH</td><td>105.9</td></tr><tr><td>KS</td><td>105.3</td></tr><tr><td>IL</td><td>105.2</td></tr><tr><td>OH</td><td>95.4</td></tr><tr><td>OH</td><td>83.8</td></tr><tr><td>IL</td><td>78.6</td></tr><tr><td>AK</td><td>null</td></tr><tr><td>AZ</td><td>null</td></tr><tr><td>AZ</td><td>null</td></tr><tr><td>AZ</td><td>null</td></tr><tr><td>AZ</td><td>null</td></tr><tr><td>AZ</td><td>null</td></tr><tr><td>AZ</td><td>null</td></tr><tr><td>AZ</td><td>null</td></tr><tr><td>AZ</td><td>null</td></tr><tr><td>CA</td><td>null</td></tr><tr><td>CA</td><td>null</td></tr><tr><td>CA</td><td>null</td></tr><tr><td>CA</td><td>null</td></tr><tr><td>CA</td><td>null</td></tr><tr><td>CA</td><td>null</td></tr><tr><td>CA</td><td>null</td></tr><tr><td>CA</td><td>null</td></tr><tr><td>CA</td><td>null</td></tr><tr><td>CA</td><td>null</td></tr><tr><td>CA</td><td>null</td></tr><tr><td>CA</td><td>null</td></tr><tr><td>CA</td><td>null</td></tr><tr><td>CA</td><td>null</td></tr><tr><td>CA</td><td>null</td></tr><tr><td>CA</td><td>null</td></tr><tr><td>CA</td><td>null</td></tr><tr><td>CA</td><td>null</td></tr><tr><td>CA</td><td>null</td></tr><tr><td>CA</td><td>null</td></tr><tr><td>CA</td><td>null</td></tr><tr><td>CA</td><td>null</td></tr><tr><td>CA</td><td>null</td></tr><tr><td>CA</td><td>null</td></tr><tr><td>CA</td><td>null</td></tr><tr><td>CA</td><td>null</td></tr><tr><td>CA</td><td>null</td></tr><tr><td>CA</td><td>null</td></tr><tr><td>CA</td><td>null</td></tr><tr><td>CA</td><td>null</td></tr><tr><td>CA</td><td>null</td></tr><tr><td>CA</td><td>null</td></tr><tr><td>CA</td><td>null</td></tr><tr><td>CA</td><td>null</td></tr><tr><td>CA</td><td>null</td></tr><tr><td>CA</td><td>null</td></tr><tr><td>CA</td><td>null</td></tr><tr><td>CA</td><td>null</td></tr><tr><td>CA</td><td>null</td></tr><tr><td>CA</td><td>null</td></tr><tr><td>CA</td><td>null</td></tr><tr><td>CA</td><td>null</td></tr><tr><td>CA</td><td>null</td></tr><tr><td>CA</td><td>null</td></tr><tr><td>CA</td><td>null</td></tr><tr><td>CA</td><td>null</td></tr><tr><td>CA</td><td>null</td></tr><tr><td>CA</td><td>null</td></tr><tr><td>CA</td><td>null</td></tr><tr><td>CA</td><td>null</td></tr><tr><td>CA</td><td>null</td></tr><tr><td>CA</td><td>null</td></tr><tr><td>CA</td><td>null</td></tr><tr><td>CA</td><td>null</td></tr><tr><td>CA</td><td>null</td></tr><tr><td>CA</td><td>null</td></tr><tr><td>CA</td><td>null</td></tr><tr><td>CA</td><td>null</td></tr><tr><td>CA</td><td>null</td></tr><tr><td>CA</td><td>null</td></tr><tr><td>CA</td><td>null</td></tr><tr><td>CA</td><td>null</td></tr><tr><td>CA</td><td>null</td></tr><tr><td>CA</td><td>null</td></tr><tr><td>CO</td><td>null</td></tr><tr><td>CO</td><td>null</td></tr><tr><td>CO</td><td>null</td></tr><tr><td>CO</td><td>null</td></tr><tr><td>CO</td><td>null</td></tr><tr><td>CO</td><td>null</td></tr><tr><td>CO</td><td>null</td></tr><tr><td>CO</td><td>null</td></tr><tr><td>CT</td><td>null</td></tr><tr><td>CT</td><td>null</td></tr><tr><td>FL</td><td>null</td></tr><tr><td>FL</td><td>null</td></tr><tr><td>FL</td><td>null</td></tr><tr><td>FL</td><td>null</td></tr><tr><td>FL</td><td>null</td></tr><tr><td>FL</td><td>null</td></tr><tr><td>FL</td><td>null</td></tr><tr><td>FL</td><td>null</td></tr><tr><td>FL</td><td>null</td></tr><tr><td>FL</td><td>null</td></tr><tr><td>FL</td><td>null</td></tr><tr><td>FL</td><td>null</td></tr><tr><td>GA</td><td>null</td></tr><tr><td>GA</td><td>null</td></tr><tr><td>GA</td><td>null</td></tr><tr><td>GA</td><td>null</td></tr><tr><td>GA</td><td>null</td></tr><tr><td>GA</td><td>null</td></tr><tr><td>IL</td><td>null</td></tr><tr><td>IL</td><td>null</td></tr><tr><td>IL</td><td>null</td></tr><tr><td>IL</td><td>null</td></tr><tr><td>IN</td><td>null</td></tr><tr><td>IA</td><td>null</td></tr><tr><td>KS</td><td>null</td></tr><tr><td>KS</td><td>null</td></tr><tr><td>KS</td><td>null</td></tr><tr><td>LA</td><td>null</td></tr><tr><td>LA</td><td>null</td></tr><tr><td>MA</td><td>null</td></tr><tr><td>MA</td><td>null</td></tr><tr><td>MI</td><td>null</td></tr><tr><td>MI</td><td>null</td></tr><tr><td>MI</td><td>null</td></tr><tr><td>MI</td><td>null</td></tr><tr><td>MI</td><td>null</td></tr><tr><td>MN</td><td>null</td></tr><tr><td>MN</td><td>null</td></tr><tr><td>MO</td><td>null</td></tr><tr><td>MO</td><td>null</td></tr><tr><td>MO</td><td>null</td></tr><tr><td>MT</td><td>null</td></tr><tr><td>NV</td><td>null</td></tr><tr><td>NV</td><td>null</td></tr><tr><td>NJ</td><td>null</td></tr><tr><td>NJ</td><td>null</td></tr><tr><td>NJ</td><td>null</td></tr><tr><td>NM</td><td>null</td></tr><tr><td>NY</td><td>null</td></tr><tr><td>NC</td><td>null</td></tr><tr><td>NC</td><td>null</td></tr><tr><td>OK</td><td>null</td></tr><tr><td>OK</td><td>null</td></tr><tr><td>OK</td><td>null</td></tr><tr><td>OR</td><td>null</td></tr><tr><td>PA</td><td>null</td></tr><tr><td>SC</td><td>null</td></tr><tr><td>SC</td><td>null</td></tr><tr><td>SC</td><td>null</td></tr><tr><td>TN</td><td>null</td></tr><tr><td>TN</td><td>null</td></tr><tr><td>TX</td><td>null</td></tr><tr><td>TX</td><td>null</td></tr><tr><td>TX</td><td>null</td></tr><tr><td>TX</td><td>null</td></tr><tr><td>TX</td><td>null</td></tr><tr><td>TX</td><td>null</td></tr><tr><td>TX</td><td>null</td></tr><tr><td>TX</td><td>null</td></tr><tr><td>TX</td><td>null</td></tr><tr><td>TX</td><td>null</td></tr><tr><td>TX</td><td>null</td></tr><tr><td>TX</td><td>null</td></tr><tr><td>TX</td><td>null</td></tr><tr><td>TX</td><td>null</td></tr><tr><td>TX</td><td>null</td></tr><tr><td>TX</td><td>null</td></tr><tr><td>TX</td><td>null</td></tr><tr><td>TX</td><td>null</td></tr><tr><td>TX</td><td>null</td></tr><tr><td>TX</td><td>null</td></tr><tr><td>TX</td><td>null</td></tr><tr><td>TX</td><td>null</td></tr><tr><td>TX</td><td>null</td></tr><tr><td>TX</td><td>null</td></tr><tr><td>TX</td><td>null</td></tr><tr><td>TX</td><td>null</td></tr><tr><td>TX</td><td>null</td></tr><tr><td>UT</td><td>null</td></tr><tr><td>UT</td><td>null</td></tr><tr><td>UT</td><td>null</td></tr><tr><td>VA</td><td>null</td></tr><tr><td>VA</td><td>null</td></tr><tr><td>VA</td><td>null</td></tr><tr><td>VA</td><td>null</td></tr><tr><td>VA</td><td>null</td></tr><tr><td>WA</td><td>null</td></tr><tr><td>WA</td><td>null</td></tr><tr><td>WA</td><td>null</td></tr><tr><td>WA</td><td>null</td></tr><tr><td>WA</td><td>null</td></tr><tr><td>WI</td><td>null</td></tr></tbody></table></div>"
      ]
     },
     "metadata": {
      "application/vnd.databricks.v1+output": {
       "addedWidgets": {},
       "aggData": [],
       "aggError": "",
       "aggOverflow": false,
       "aggSchema": [],
       "aggSeriesLimitReached": false,
       "aggType": "",
       "arguments": {},
       "columnCustomDisplayInfos": {},
       "data": [
        [
         "CA",
         900.0
        ],
        [
         "CA",
         748.3
        ],
        [
         "HI",
         699.3
        ],
        [
         "CA",
         685.7
        ],
        [
         "CA",
         510.3
        ],
        [
         "CO",
         442.2
        ],
        [
         "CA",
         434.7
        ],
        [
         "NY",
         388.6
        ],
        [
         "MA",
         374.6
        ],
        [
         "DC",
         367.8
        ],
        [
         "WA",
         352.4
        ],
        [
         "NJ",
         350.8
        ],
        [
         "CT",
         342.7
        ],
        [
         "CO",
         338.1
        ],
        [
         "OR",
         289.4
        ],
        [
         "CA",
         281.0
        ],
        [
         "CA",
         275.8
        ],
        [
         "FL",
         269.1
        ],
        [
         "NV",
         268.7
        ],
        [
         "TX",
         249.1
        ],
        [
         "UT",
         243.3
        ],
        [
         "NH",
         237.4
        ],
        [
         "RI",
         233.3
        ],
        [
         "MA",
         226.9
        ],
        [
         "WI",
         226.2
        ],
        [
         "MD",
         223.1
        ],
        [
         "CO",
         220.1
        ],
        [
         "NC",
         218.9
        ],
        [
         "VA",
         212.5
        ],
        [
         "OR",
         211.3
        ],
        [
         "MN",
         209.4
        ],
        [
         "FL",
         208.0
        ],
        [
         "AZ",
         206.1
        ],
        [
         "NV",
         205.9
        ],
        [
         "CT",
         205.1
        ],
        [
         "PA",
         204.9
        ],
        [
         "CT",
         202.6
        ],
        [
         "TX",
         200.3
        ],
        [
         "NC",
         197.5
        ],
        [
         "NC",
         197.2
        ],
        [
         "NC",
         196.9
        ],
        [
         "WI",
         195.4
        ],
        [
         "OR",
         193.9
        ],
        [
         "IL",
         192.5
        ],
        [
         "TX",
         192.5
        ],
        [
         "VA",
         190.0
        ],
        [
         "TN",
         186.4
        ],
        [
         "TX",
         184.7
        ],
        [
         "MA",
         183.9
        ],
        [
         "FL",
         182.5
        ],
        [
         "WA",
         180.2
        ],
        [
         "ND",
         180.0
        ],
        [
         "ID",
         178.7
        ],
        [
         "AZ",
         178.1
        ],
        [
         "LA",
         177.2
        ],
        [
         "TX",
         172.9
        ],
        [
         "NM",
         172.2
        ],
        [
         "FL",
         172.0
        ],
        [
         "FL",
         170.5
        ],
        [
         "FL",
         169.9
        ],
        [
         "AL",
         162.9
        ],
        [
         "PA",
         162.7
        ],
        [
         "SD",
         159.5
        ],
        [
         "GA",
         158.0
        ],
        [
         "AL",
         157.7
        ],
        [
         "IA",
         156.9
        ],
        [
         "FL",
         156.0
        ],
        [
         "MS",
         154.1
        ],
        [
         "MO",
         153.0
        ],
        [
         "LA",
         151.6
        ],
        [
         "NE",
         150.2
        ],
        [
         "OH",
         149.9
        ],
        [
         "TN",
         149.2
        ],
        [
         "NE",
         148.1
        ],
        [
         "TX",
         145.7
        ],
        [
         "OK",
         145.1
        ],
        [
         "FL",
         145.0
        ],
        [
         "NC",
         145.0
        ],
        [
         "TX",
         144.4
        ],
        [
         "TN",
         143.6
        ],
        [
         "KY",
         141.2
        ],
        [
         "KY",
         141.1
        ],
        [
         "IN",
         139.2
        ],
        [
         "NC",
         138.6
        ],
        [
         "TX",
         138.4
        ],
        [
         "NC",
         138.3
        ],
        [
         "FL",
         136.0
        ],
        [
         "OH",
         135.0
        ],
        [
         "TX",
         133.3
        ],
        [
         "TN",
         132.1
        ],
        [
         "AR",
         131.8
        ],
        [
         "AL",
         129.0
        ],
        [
         "KS",
         126.0
        ],
        [
         "AL",
         122.5
        ],
        [
         "NY",
         118.9
        ],
        [
         "NY",
         118.3
        ],
        [
         "NY",
         117.3
        ],
        [
         "MO",
         116.5
        ],
        [
         "IL",
         115.2
        ],
        [
         "MI",
         114.6
        ],
        [
         "IA",
         109.4
        ],
        [
         "OH",
         107.2
        ],
        [
         "IN",
         106.3
        ],
        [
         "OH",
         105.9
        ],
        [
         "KS",
         105.3
        ],
        [
         "IL",
         105.2
        ],
        [
         "OH",
         95.4
        ],
        [
         "OH",
         83.8
        ],
        [
         "IL",
         78.6
        ],
        [
         "AK",
         null
        ],
        [
         "AZ",
         null
        ],
        [
         "AZ",
         null
        ],
        [
         "AZ",
         null
        ],
        [
         "AZ",
         null
        ],
        [
         "AZ",
         null
        ],
        [
         "AZ",
         null
        ],
        [
         "AZ",
         null
        ],
        [
         "AZ",
         null
        ],
        [
         "CA",
         null
        ],
        [
         "CA",
         null
        ],
        [
         "CA",
         null
        ],
        [
         "CA",
         null
        ],
        [
         "CA",
         null
        ],
        [
         "CA",
         null
        ],
        [
         "CA",
         null
        ],
        [
         "CA",
         null
        ],
        [
         "CA",
         null
        ],
        [
         "CA",
         null
        ],
        [
         "CA",
         null
        ],
        [
         "CA",
         null
        ],
        [
         "CA",
         null
        ],
        [
         "CA",
         null
        ],
        [
         "CA",
         null
        ],
        [
         "CA",
         null
        ],
        [
         "CA",
         null
        ],
        [
         "CA",
         null
        ],
        [
         "CA",
         null
        ],
        [
         "CA",
         null
        ],
        [
         "CA",
         null
        ],
        [
         "CA",
         null
        ],
        [
         "CA",
         null
        ],
        [
         "CA",
         null
        ],
        [
         "CA",
         null
        ],
        [
         "CA",
         null
        ],
        [
         "CA",
         null
        ],
        [
         "CA",
         null
        ],
        [
         "CA",
         null
        ],
        [
         "CA",
         null
        ],
        [
         "CA",
         null
        ],
        [
         "CA",
         null
        ],
        [
         "CA",
         null
        ],
        [
         "CA",
         null
        ],
        [
         "CA",
         null
        ],
        [
         "CA",
         null
        ],
        [
         "CA",
         null
        ],
        [
         "CA",
         null
        ],
        [
         "CA",
         null
        ],
        [
         "CA",
         null
        ],
        [
         "CA",
         null
        ],
        [
         "CA",
         null
        ],
        [
         "CA",
         null
        ],
        [
         "CA",
         null
        ],
        [
         "CA",
         null
        ],
        [
         "CA",
         null
        ],
        [
         "CA",
         null
        ],
        [
         "CA",
         null
        ],
        [
         "CA",
         null
        ],
        [
         "CA",
         null
        ],
        [
         "CA",
         null
        ],
        [
         "CA",
         null
        ],
        [
         "CA",
         null
        ],
        [
         "CA",
         null
        ],
        [
         "CA",
         null
        ],
        [
         "CA",
         null
        ],
        [
         "CA",
         null
        ],
        [
         "CA",
         null
        ],
        [
         "CA",
         null
        ],
        [
         "CA",
         null
        ],
        [
         "CA",
         null
        ],
        [
         "CA",
         null
        ],
        [
         "CA",
         null
        ],
        [
         "CA",
         null
        ],
        [
         "CO",
         null
        ],
        [
         "CO",
         null
        ],
        [
         "CO",
         null
        ],
        [
         "CO",
         null
        ],
        [
         "CO",
         null
        ],
        [
         "CO",
         null
        ],
        [
         "CO",
         null
        ],
        [
         "CO",
         null
        ],
        [
         "CT",
         null
        ],
        [
         "CT",
         null
        ],
        [
         "FL",
         null
        ],
        [
         "FL",
         null
        ],
        [
         "FL",
         null
        ],
        [
         "FL",
         null
        ],
        [
         "FL",
         null
        ],
        [
         "FL",
         null
        ],
        [
         "FL",
         null
        ],
        [
         "FL",
         null
        ],
        [
         "FL",
         null
        ],
        [
         "FL",
         null
        ],
        [
         "FL",
         null
        ],
        [
         "FL",
         null
        ],
        [
         "GA",
         null
        ],
        [
         "GA",
         null
        ],
        [
         "GA",
         null
        ],
        [
         "GA",
         null
        ],
        [
         "GA",
         null
        ],
        [
         "GA",
         null
        ],
        [
         "IL",
         null
        ],
        [
         "IL",
         null
        ],
        [
         "IL",
         null
        ],
        [
         "IL",
         null
        ],
        [
         "IN",
         null
        ],
        [
         "IA",
         null
        ],
        [
         "KS",
         null
        ],
        [
         "KS",
         null
        ],
        [
         "KS",
         null
        ],
        [
         "LA",
         null
        ],
        [
         "LA",
         null
        ],
        [
         "MA",
         null
        ],
        [
         "MA",
         null
        ],
        [
         "MI",
         null
        ],
        [
         "MI",
         null
        ],
        [
         "MI",
         null
        ],
        [
         "MI",
         null
        ],
        [
         "MI",
         null
        ],
        [
         "MN",
         null
        ],
        [
         "MN",
         null
        ],
        [
         "MO",
         null
        ],
        [
         "MO",
         null
        ],
        [
         "MO",
         null
        ],
        [
         "MT",
         null
        ],
        [
         "NV",
         null
        ],
        [
         "NV",
         null
        ],
        [
         "NJ",
         null
        ],
        [
         "NJ",
         null
        ],
        [
         "NJ",
         null
        ],
        [
         "NM",
         null
        ],
        [
         "NY",
         null
        ],
        [
         "NC",
         null
        ],
        [
         "NC",
         null
        ],
        [
         "OK",
         null
        ],
        [
         "OK",
         null
        ],
        [
         "OK",
         null
        ],
        [
         "OR",
         null
        ],
        [
         "PA",
         null
        ],
        [
         "SC",
         null
        ],
        [
         "SC",
         null
        ],
        [
         "SC",
         null
        ],
        [
         "TN",
         null
        ],
        [
         "TN",
         null
        ],
        [
         "TX",
         null
        ],
        [
         "TX",
         null
        ],
        [
         "TX",
         null
        ],
        [
         "TX",
         null
        ],
        [
         "TX",
         null
        ],
        [
         "TX",
         null
        ],
        [
         "TX",
         null
        ],
        [
         "TX",
         null
        ],
        [
         "TX",
         null
        ],
        [
         "TX",
         null
        ],
        [
         "TX",
         null
        ],
        [
         "TX",
         null
        ],
        [
         "TX",
         null
        ],
        [
         "TX",
         null
        ],
        [
         "TX",
         null
        ],
        [
         "TX",
         null
        ],
        [
         "TX",
         null
        ],
        [
         "TX",
         null
        ],
        [
         "TX",
         null
        ],
        [
         "TX",
         null
        ],
        [
         "TX",
         null
        ],
        [
         "TX",
         null
        ],
        [
         "TX",
         null
        ],
        [
         "TX",
         null
        ],
        [
         "TX",
         null
        ],
        [
         "TX",
         null
        ],
        [
         "TX",
         null
        ],
        [
         "UT",
         null
        ],
        [
         "UT",
         null
        ],
        [
         "UT",
         null
        ],
        [
         "VA",
         null
        ],
        [
         "VA",
         null
        ],
        [
         "VA",
         null
        ],
        [
         "VA",
         null
        ],
        [
         "VA",
         null
        ],
        [
         "WA",
         null
        ],
        [
         "WA",
         null
        ],
        [
         "WA",
         null
        ],
        [
         "WA",
         null
        ],
        [
         "WA",
         null
        ],
        [
         "WI",
         null
        ]
       ],
       "datasetInfos": [],
       "dbfsResultPath": null,
       "isJsonSchema": true,
       "metadata": {
        "dataframeName": "_sqldf",
        "executionCount": 6
       },
       "overflow": false,
       "plotOptions": {
        "customPlotOptions": {},
        "displayType": "histogram",
        "pivotAggregation": null,
        "pivotColumns": null,
        "xColumns": null,
        "yColumns": null
       },
       "removedWidgets": [],
       "schema": [
        {
         "metadata": "{}",
         "name": "State Code",
         "type": "\"string\""
        },
        {
         "metadata": "{}",
         "name": "2015 median sales price",
         "type": "\"double\""
        }
       ],
       "type": "table"
      }
     },
     "output_type": "display_data"
    }
   ],
   "source": [
    "%sql\n",
    "select `State Code`, `2015 median sales price` from data_geo order by `2015 median sales price` desc;"
   ]
  },
  {
   "cell_type": "code",
   "execution_count": 0,
   "metadata": {
    "application/vnd.databricks.v1+cell": {
     "cellMetadata": {
      "byteLimit": 2048000,
      "implicitDf": true,
      "rowLimit": 10000
     },
     "inputWidgets": {},
     "nuid": "0ce8e1e1-f0a8-4538-a5fe-d840d978a336",
     "showTitle": false,
     "title": ""
    }
   },
   "outputs": [
    {
     "output_type": "display_data",
     "data": {
      "text/html": [
       "<style scoped>\n",
       "  .table-result-container {\n",
       "    max-height: 300px;\n",
       "    overflow: auto;\n",
       "  }\n",
       "  table, th, td {\n",
       "    border: 1px solid black;\n",
       "    border-collapse: collapse;\n",
       "  }\n",
       "  th, td {\n",
       "    padding: 5px;\n",
       "  }\n",
       "  th {\n",
       "    text-align: left;\n",
       "  }\n",
       "</style><div class='table-result-container'><table class='table-result'><thead style='background-color: white'><tr><th>State Code</th><th>2015 median sales price</th></tr></thead><tbody><tr><td>CA</td><td>900.0</td></tr><tr><td>CA</td><td>748.3</td></tr><tr><td>HI</td><td>699.3</td></tr><tr><td>CA</td><td>685.7</td></tr><tr><td>CA</td><td>510.3</td></tr><tr><td>CO</td><td>442.2</td></tr><tr><td>CA</td><td>434.7</td></tr><tr><td>NY</td><td>388.6</td></tr><tr><td>MA</td><td>374.6</td></tr><tr><td>DC</td><td>367.8</td></tr><tr><td>WA</td><td>352.4</td></tr><tr><td>NJ</td><td>350.8</td></tr><tr><td>CT</td><td>342.7</td></tr><tr><td>CO</td><td>338.1</td></tr><tr><td>OR</td><td>289.4</td></tr><tr><td>CA</td><td>281.0</td></tr><tr><td>CA</td><td>275.8</td></tr><tr><td>FL</td><td>269.1</td></tr><tr><td>NV</td><td>268.7</td></tr><tr><td>TX</td><td>249.1</td></tr><tr><td>UT</td><td>243.3</td></tr><tr><td>NH</td><td>237.4</td></tr><tr><td>RI</td><td>233.3</td></tr><tr><td>MA</td><td>226.9</td></tr><tr><td>WI</td><td>226.2</td></tr><tr><td>MD</td><td>223.1</td></tr><tr><td>CO</td><td>220.1</td></tr><tr><td>NC</td><td>218.9</td></tr><tr><td>VA</td><td>212.5</td></tr><tr><td>OR</td><td>211.3</td></tr><tr><td>MN</td><td>209.4</td></tr><tr><td>FL</td><td>208.0</td></tr><tr><td>AZ</td><td>206.1</td></tr><tr><td>NV</td><td>205.9</td></tr><tr><td>CT</td><td>205.1</td></tr><tr><td>PA</td><td>204.9</td></tr><tr><td>CT</td><td>202.6</td></tr><tr><td>TX</td><td>200.3</td></tr><tr><td>NC</td><td>197.5</td></tr><tr><td>NC</td><td>197.2</td></tr><tr><td>NC</td><td>196.9</td></tr><tr><td>WI</td><td>195.4</td></tr><tr><td>OR</td><td>193.9</td></tr><tr><td>IL</td><td>192.5</td></tr><tr><td>TX</td><td>192.5</td></tr><tr><td>VA</td><td>190.0</td></tr><tr><td>TN</td><td>186.4</td></tr><tr><td>TX</td><td>184.7</td></tr><tr><td>MA</td><td>183.9</td></tr><tr><td>FL</td><td>182.5</td></tr><tr><td>WA</td><td>180.2</td></tr><tr><td>ND</td><td>180.0</td></tr><tr><td>ID</td><td>178.7</td></tr><tr><td>AZ</td><td>178.1</td></tr><tr><td>LA</td><td>177.2</td></tr><tr><td>TX</td><td>172.9</td></tr><tr><td>NM</td><td>172.2</td></tr><tr><td>FL</td><td>172.0</td></tr><tr><td>FL</td><td>170.5</td></tr><tr><td>FL</td><td>169.9</td></tr><tr><td>AL</td><td>162.9</td></tr><tr><td>PA</td><td>162.7</td></tr><tr><td>SD</td><td>159.5</td></tr><tr><td>GA</td><td>158.0</td></tr><tr><td>AL</td><td>157.7</td></tr><tr><td>IA</td><td>156.9</td></tr><tr><td>FL</td><td>156.0</td></tr><tr><td>MS</td><td>154.1</td></tr><tr><td>MO</td><td>153.0</td></tr><tr><td>LA</td><td>151.6</td></tr><tr><td>NE</td><td>150.2</td></tr><tr><td>OH</td><td>149.9</td></tr><tr><td>TN</td><td>149.2</td></tr><tr><td>NE</td><td>148.1</td></tr><tr><td>TX</td><td>145.7</td></tr><tr><td>OK</td><td>145.1</td></tr><tr><td>FL</td><td>145.0</td></tr><tr><td>NC</td><td>145.0</td></tr><tr><td>TX</td><td>144.4</td></tr><tr><td>TN</td><td>143.6</td></tr><tr><td>KY</td><td>141.2</td></tr><tr><td>KY</td><td>141.1</td></tr><tr><td>IN</td><td>139.2</td></tr><tr><td>NC</td><td>138.6</td></tr><tr><td>TX</td><td>138.4</td></tr><tr><td>NC</td><td>138.3</td></tr><tr><td>FL</td><td>136.0</td></tr><tr><td>OH</td><td>135.0</td></tr><tr><td>TX</td><td>133.3</td></tr><tr><td>TN</td><td>132.1</td></tr><tr><td>AR</td><td>131.8</td></tr><tr><td>AL</td><td>129.0</td></tr><tr><td>KS</td><td>126.0</td></tr><tr><td>AL</td><td>122.5</td></tr><tr><td>NY</td><td>118.9</td></tr><tr><td>NY</td><td>118.3</td></tr><tr><td>NY</td><td>117.3</td></tr><tr><td>MO</td><td>116.5</td></tr><tr><td>IL</td><td>115.2</td></tr><tr><td>MI</td><td>114.6</td></tr><tr><td>IA</td><td>109.4</td></tr><tr><td>OH</td><td>107.2</td></tr><tr><td>IN</td><td>106.3</td></tr><tr><td>OH</td><td>105.9</td></tr><tr><td>KS</td><td>105.3</td></tr><tr><td>IL</td><td>105.2</td></tr><tr><td>OH</td><td>95.4</td></tr><tr><td>OH</td><td>83.8</td></tr><tr><td>IL</td><td>78.6</td></tr><tr><td>AK</td><td>null</td></tr><tr><td>AZ</td><td>null</td></tr><tr><td>AZ</td><td>null</td></tr><tr><td>AZ</td><td>null</td></tr><tr><td>AZ</td><td>null</td></tr><tr><td>AZ</td><td>null</td></tr><tr><td>AZ</td><td>null</td></tr><tr><td>AZ</td><td>null</td></tr><tr><td>AZ</td><td>null</td></tr><tr><td>CA</td><td>null</td></tr><tr><td>CA</td><td>null</td></tr><tr><td>CA</td><td>null</td></tr><tr><td>CA</td><td>null</td></tr><tr><td>CA</td><td>null</td></tr><tr><td>CA</td><td>null</td></tr><tr><td>CA</td><td>null</td></tr><tr><td>CA</td><td>null</td></tr><tr><td>CA</td><td>null</td></tr><tr><td>CA</td><td>null</td></tr><tr><td>CA</td><td>null</td></tr><tr><td>CA</td><td>null</td></tr><tr><td>CA</td><td>null</td></tr><tr><td>CA</td><td>null</td></tr><tr><td>CA</td><td>null</td></tr><tr><td>CA</td><td>null</td></tr><tr><td>CA</td><td>null</td></tr><tr><td>CA</td><td>null</td></tr><tr><td>CA</td><td>null</td></tr><tr><td>CA</td><td>null</td></tr><tr><td>CA</td><td>null</td></tr><tr><td>CA</td><td>null</td></tr><tr><td>CA</td><td>null</td></tr><tr><td>CA</td><td>null</td></tr><tr><td>CA</td><td>null</td></tr><tr><td>CA</td><td>null</td></tr><tr><td>CA</td><td>null</td></tr><tr><td>CA</td><td>null</td></tr><tr><td>CA</td><td>null</td></tr><tr><td>CA</td><td>null</td></tr><tr><td>CA</td><td>null</td></tr><tr><td>CA</td><td>null</td></tr><tr><td>CA</td><td>null</td></tr><tr><td>CA</td><td>null</td></tr><tr><td>CA</td><td>null</td></tr><tr><td>CA</td><td>null</td></tr><tr><td>CA</td><td>null</td></tr><tr><td>CA</td><td>null</td></tr><tr><td>CA</td><td>null</td></tr><tr><td>CA</td><td>null</td></tr><tr><td>CA</td><td>null</td></tr><tr><td>CA</td><td>null</td></tr><tr><td>CA</td><td>null</td></tr><tr><td>CA</td><td>null</td></tr><tr><td>CA</td><td>null</td></tr><tr><td>CA</td><td>null</td></tr><tr><td>CA</td><td>null</td></tr><tr><td>CA</td><td>null</td></tr><tr><td>CA</td><td>null</td></tr><tr><td>CA</td><td>null</td></tr><tr><td>CA</td><td>null</td></tr><tr><td>CA</td><td>null</td></tr><tr><td>CA</td><td>null</td></tr><tr><td>CA</td><td>null</td></tr><tr><td>CA</td><td>null</td></tr><tr><td>CA</td><td>null</td></tr><tr><td>CA</td><td>null</td></tr><tr><td>CA</td><td>null</td></tr><tr><td>CA</td><td>null</td></tr><tr><td>CA</td><td>null</td></tr><tr><td>CA</td><td>null</td></tr><tr><td>CA</td><td>null</td></tr><tr><td>CA</td><td>null</td></tr><tr><td>CA</td><td>null</td></tr><tr><td>CO</td><td>null</td></tr><tr><td>CO</td><td>null</td></tr><tr><td>CO</td><td>null</td></tr><tr><td>CO</td><td>null</td></tr><tr><td>CO</td><td>null</td></tr><tr><td>CO</td><td>null</td></tr><tr><td>CO</td><td>null</td></tr><tr><td>CO</td><td>null</td></tr><tr><td>CT</td><td>null</td></tr><tr><td>CT</td><td>null</td></tr><tr><td>FL</td><td>null</td></tr><tr><td>FL</td><td>null</td></tr><tr><td>FL</td><td>null</td></tr><tr><td>FL</td><td>null</td></tr><tr><td>FL</td><td>null</td></tr><tr><td>FL</td><td>null</td></tr><tr><td>FL</td><td>null</td></tr><tr><td>FL</td><td>null</td></tr><tr><td>FL</td><td>null</td></tr><tr><td>FL</td><td>null</td></tr><tr><td>FL</td><td>null</td></tr><tr><td>FL</td><td>null</td></tr><tr><td>GA</td><td>null</td></tr><tr><td>GA</td><td>null</td></tr><tr><td>GA</td><td>null</td></tr><tr><td>GA</td><td>null</td></tr><tr><td>GA</td><td>null</td></tr><tr><td>GA</td><td>null</td></tr><tr><td>IL</td><td>null</td></tr><tr><td>IL</td><td>null</td></tr><tr><td>IL</td><td>null</td></tr><tr><td>IL</td><td>null</td></tr><tr><td>IN</td><td>null</td></tr><tr><td>IA</td><td>null</td></tr><tr><td>KS</td><td>null</td></tr><tr><td>KS</td><td>null</td></tr><tr><td>KS</td><td>null</td></tr><tr><td>LA</td><td>null</td></tr><tr><td>LA</td><td>null</td></tr><tr><td>MA</td><td>null</td></tr><tr><td>MA</td><td>null</td></tr><tr><td>MI</td><td>null</td></tr><tr><td>MI</td><td>null</td></tr><tr><td>MI</td><td>null</td></tr><tr><td>MI</td><td>null</td></tr><tr><td>MI</td><td>null</td></tr><tr><td>MN</td><td>null</td></tr><tr><td>MN</td><td>null</td></tr><tr><td>MO</td><td>null</td></tr><tr><td>MO</td><td>null</td></tr><tr><td>MO</td><td>null</td></tr><tr><td>MT</td><td>null</td></tr><tr><td>NV</td><td>null</td></tr><tr><td>NV</td><td>null</td></tr><tr><td>NJ</td><td>null</td></tr><tr><td>NJ</td><td>null</td></tr><tr><td>NJ</td><td>null</td></tr><tr><td>NM</td><td>null</td></tr><tr><td>NY</td><td>null</td></tr><tr><td>NC</td><td>null</td></tr><tr><td>NC</td><td>null</td></tr><tr><td>OK</td><td>null</td></tr><tr><td>OK</td><td>null</td></tr><tr><td>OK</td><td>null</td></tr><tr><td>OR</td><td>null</td></tr><tr><td>PA</td><td>null</td></tr><tr><td>SC</td><td>null</td></tr><tr><td>SC</td><td>null</td></tr><tr><td>SC</td><td>null</td></tr><tr><td>TN</td><td>null</td></tr><tr><td>TN</td><td>null</td></tr><tr><td>TX</td><td>null</td></tr><tr><td>TX</td><td>null</td></tr><tr><td>TX</td><td>null</td></tr><tr><td>TX</td><td>null</td></tr><tr><td>TX</td><td>null</td></tr><tr><td>TX</td><td>null</td></tr><tr><td>TX</td><td>null</td></tr><tr><td>TX</td><td>null</td></tr><tr><td>TX</td><td>null</td></tr><tr><td>TX</td><td>null</td></tr><tr><td>TX</td><td>null</td></tr><tr><td>TX</td><td>null</td></tr><tr><td>TX</td><td>null</td></tr><tr><td>TX</td><td>null</td></tr><tr><td>TX</td><td>null</td></tr><tr><td>TX</td><td>null</td></tr><tr><td>TX</td><td>null</td></tr><tr><td>TX</td><td>null</td></tr><tr><td>TX</td><td>null</td></tr><tr><td>TX</td><td>null</td></tr><tr><td>TX</td><td>null</td></tr><tr><td>TX</td><td>null</td></tr><tr><td>TX</td><td>null</td></tr><tr><td>TX</td><td>null</td></tr><tr><td>TX</td><td>null</td></tr><tr><td>TX</td><td>null</td></tr><tr><td>TX</td><td>null</td></tr><tr><td>UT</td><td>null</td></tr><tr><td>UT</td><td>null</td></tr><tr><td>UT</td><td>null</td></tr><tr><td>VA</td><td>null</td></tr><tr><td>VA</td><td>null</td></tr><tr><td>VA</td><td>null</td></tr><tr><td>VA</td><td>null</td></tr><tr><td>VA</td><td>null</td></tr><tr><td>WA</td><td>null</td></tr><tr><td>WA</td><td>null</td></tr><tr><td>WA</td><td>null</td></tr><tr><td>WA</td><td>null</td></tr><tr><td>WA</td><td>null</td></tr><tr><td>WI</td><td>null</td></tr></tbody></table></div>"
      ]
     },
     "metadata": {
      "application/vnd.databricks.v1+output": {
       "addedWidgets": {},
       "aggData": [],
       "aggError": "",
       "aggOverflow": false,
       "aggSchema": [],
       "aggSeriesLimitReached": false,
       "aggType": "",
       "arguments": {},
       "columnCustomDisplayInfos": {},
       "data": [
        [
         "CA",
         900.0
        ],
        [
         "CA",
         748.3
        ],
        [
         "HI",
         699.3
        ],
        [
         "CA",
         685.7
        ],
        [
         "CA",
         510.3
        ],
        [
         "CO",
         442.2
        ],
        [
         "CA",
         434.7
        ],
        [
         "NY",
         388.6
        ],
        [
         "MA",
         374.6
        ],
        [
         "DC",
         367.8
        ],
        [
         "WA",
         352.4
        ],
        [
         "NJ",
         350.8
        ],
        [
         "CT",
         342.7
        ],
        [
         "CO",
         338.1
        ],
        [
         "OR",
         289.4
        ],
        [
         "CA",
         281.0
        ],
        [
         "CA",
         275.8
        ],
        [
         "FL",
         269.1
        ],
        [
         "NV",
         268.7
        ],
        [
         "TX",
         249.1
        ],
        [
         "UT",
         243.3
        ],
        [
         "NH",
         237.4
        ],
        [
         "RI",
         233.3
        ],
        [
         "MA",
         226.9
        ],
        [
         "WI",
         226.2
        ],
        [
         "MD",
         223.1
        ],
        [
         "CO",
         220.1
        ],
        [
         "NC",
         218.9
        ],
        [
         "VA",
         212.5
        ],
        [
         "OR",
         211.3
        ],
        [
         "MN",
         209.4
        ],
        [
         "FL",
         208.0
        ],
        [
         "AZ",
         206.1
        ],
        [
         "NV",
         205.9
        ],
        [
         "CT",
         205.1
        ],
        [
         "PA",
         204.9
        ],
        [
         "CT",
         202.6
        ],
        [
         "TX",
         200.3
        ],
        [
         "NC",
         197.5
        ],
        [
         "NC",
         197.2
        ],
        [
         "NC",
         196.9
        ],
        [
         "WI",
         195.4
        ],
        [
         "OR",
         193.9
        ],
        [
         "IL",
         192.5
        ],
        [
         "TX",
         192.5
        ],
        [
         "VA",
         190.0
        ],
        [
         "TN",
         186.4
        ],
        [
         "TX",
         184.7
        ],
        [
         "MA",
         183.9
        ],
        [
         "FL",
         182.5
        ],
        [
         "WA",
         180.2
        ],
        [
         "ND",
         180.0
        ],
        [
         "ID",
         178.7
        ],
        [
         "AZ",
         178.1
        ],
        [
         "LA",
         177.2
        ],
        [
         "TX",
         172.9
        ],
        [
         "NM",
         172.2
        ],
        [
         "FL",
         172.0
        ],
        [
         "FL",
         170.5
        ],
        [
         "FL",
         169.9
        ],
        [
         "AL",
         162.9
        ],
        [
         "PA",
         162.7
        ],
        [
         "SD",
         159.5
        ],
        [
         "GA",
         158.0
        ],
        [
         "AL",
         157.7
        ],
        [
         "IA",
         156.9
        ],
        [
         "FL",
         156.0
        ],
        [
         "MS",
         154.1
        ],
        [
         "MO",
         153.0
        ],
        [
         "LA",
         151.6
        ],
        [
         "NE",
         150.2
        ],
        [
         "OH",
         149.9
        ],
        [
         "TN",
         149.2
        ],
        [
         "NE",
         148.1
        ],
        [
         "TX",
         145.7
        ],
        [
         "OK",
         145.1
        ],
        [
         "FL",
         145.0
        ],
        [
         "NC",
         145.0
        ],
        [
         "TX",
         144.4
        ],
        [
         "TN",
         143.6
        ],
        [
         "KY",
         141.2
        ],
        [
         "KY",
         141.1
        ],
        [
         "IN",
         139.2
        ],
        [
         "NC",
         138.6
        ],
        [
         "TX",
         138.4
        ],
        [
         "NC",
         138.3
        ],
        [
         "FL",
         136.0
        ],
        [
         "OH",
         135.0
        ],
        [
         "TX",
         133.3
        ],
        [
         "TN",
         132.1
        ],
        [
         "AR",
         131.8
        ],
        [
         "AL",
         129.0
        ],
        [
         "KS",
         126.0
        ],
        [
         "AL",
         122.5
        ],
        [
         "NY",
         118.9
        ],
        [
         "NY",
         118.3
        ],
        [
         "NY",
         117.3
        ],
        [
         "MO",
         116.5
        ],
        [
         "IL",
         115.2
        ],
        [
         "MI",
         114.6
        ],
        [
         "IA",
         109.4
        ],
        [
         "OH",
         107.2
        ],
        [
         "IN",
         106.3
        ],
        [
         "OH",
         105.9
        ],
        [
         "KS",
         105.3
        ],
        [
         "IL",
         105.2
        ],
        [
         "OH",
         95.4
        ],
        [
         "OH",
         83.8
        ],
        [
         "IL",
         78.6
        ],
        [
         "AK",
         null
        ],
        [
         "AZ",
         null
        ],
        [
         "AZ",
         null
        ],
        [
         "AZ",
         null
        ],
        [
         "AZ",
         null
        ],
        [
         "AZ",
         null
        ],
        [
         "AZ",
         null
        ],
        [
         "AZ",
         null
        ],
        [
         "AZ",
         null
        ],
        [
         "CA",
         null
        ],
        [
         "CA",
         null
        ],
        [
         "CA",
         null
        ],
        [
         "CA",
         null
        ],
        [
         "CA",
         null
        ],
        [
         "CA",
         null
        ],
        [
         "CA",
         null
        ],
        [
         "CA",
         null
        ],
        [
         "CA",
         null
        ],
        [
         "CA",
         null
        ],
        [
         "CA",
         null
        ],
        [
         "CA",
         null
        ],
        [
         "CA",
         null
        ],
        [
         "CA",
         null
        ],
        [
         "CA",
         null
        ],
        [
         "CA",
         null
        ],
        [
         "CA",
         null
        ],
        [
         "CA",
         null
        ],
        [
         "CA",
         null
        ],
        [
         "CA",
         null
        ],
        [
         "CA",
         null
        ],
        [
         "CA",
         null
        ],
        [
         "CA",
         null
        ],
        [
         "CA",
         null
        ],
        [
         "CA",
         null
        ],
        [
         "CA",
         null
        ],
        [
         "CA",
         null
        ],
        [
         "CA",
         null
        ],
        [
         "CA",
         null
        ],
        [
         "CA",
         null
        ],
        [
         "CA",
         null
        ],
        [
         "CA",
         null
        ],
        [
         "CA",
         null
        ],
        [
         "CA",
         null
        ],
        [
         "CA",
         null
        ],
        [
         "CA",
         null
        ],
        [
         "CA",
         null
        ],
        [
         "CA",
         null
        ],
        [
         "CA",
         null
        ],
        [
         "CA",
         null
        ],
        [
         "CA",
         null
        ],
        [
         "CA",
         null
        ],
        [
         "CA",
         null
        ],
        [
         "CA",
         null
        ],
        [
         "CA",
         null
        ],
        [
         "CA",
         null
        ],
        [
         "CA",
         null
        ],
        [
         "CA",
         null
        ],
        [
         "CA",
         null
        ],
        [
         "CA",
         null
        ],
        [
         "CA",
         null
        ],
        [
         "CA",
         null
        ],
        [
         "CA",
         null
        ],
        [
         "CA",
         null
        ],
        [
         "CA",
         null
        ],
        [
         "CA",
         null
        ],
        [
         "CA",
         null
        ],
        [
         "CA",
         null
        ],
        [
         "CA",
         null
        ],
        [
         "CA",
         null
        ],
        [
         "CA",
         null
        ],
        [
         "CA",
         null
        ],
        [
         "CA",
         null
        ],
        [
         "CA",
         null
        ],
        [
         "CO",
         null
        ],
        [
         "CO",
         null
        ],
        [
         "CO",
         null
        ],
        [
         "CO",
         null
        ],
        [
         "CO",
         null
        ],
        [
         "CO",
         null
        ],
        [
         "CO",
         null
        ],
        [
         "CO",
         null
        ],
        [
         "CT",
         null
        ],
        [
         "CT",
         null
        ],
        [
         "FL",
         null
        ],
        [
         "FL",
         null
        ],
        [
         "FL",
         null
        ],
        [
         "FL",
         null
        ],
        [
         "FL",
         null
        ],
        [
         "FL",
         null
        ],
        [
         "FL",
         null
        ],
        [
         "FL",
         null
        ],
        [
         "FL",
         null
        ],
        [
         "FL",
         null
        ],
        [
         "FL",
         null
        ],
        [
         "FL",
         null
        ],
        [
         "GA",
         null
        ],
        [
         "GA",
         null
        ],
        [
         "GA",
         null
        ],
        [
         "GA",
         null
        ],
        [
         "GA",
         null
        ],
        [
         "GA",
         null
        ],
        [
         "IL",
         null
        ],
        [
         "IL",
         null
        ],
        [
         "IL",
         null
        ],
        [
         "IL",
         null
        ],
        [
         "IN",
         null
        ],
        [
         "IA",
         null
        ],
        [
         "KS",
         null
        ],
        [
         "KS",
         null
        ],
        [
         "KS",
         null
        ],
        [
         "LA",
         null
        ],
        [
         "LA",
         null
        ],
        [
         "MA",
         null
        ],
        [
         "MA",
         null
        ],
        [
         "MI",
         null
        ],
        [
         "MI",
         null
        ],
        [
         "MI",
         null
        ],
        [
         "MI",
         null
        ],
        [
         "MI",
         null
        ],
        [
         "MN",
         null
        ],
        [
         "MN",
         null
        ],
        [
         "MO",
         null
        ],
        [
         "MO",
         null
        ],
        [
         "MO",
         null
        ],
        [
         "MT",
         null
        ],
        [
         "NV",
         null
        ],
        [
         "NV",
         null
        ],
        [
         "NJ",
         null
        ],
        [
         "NJ",
         null
        ],
        [
         "NJ",
         null
        ],
        [
         "NM",
         null
        ],
        [
         "NY",
         null
        ],
        [
         "NC",
         null
        ],
        [
         "NC",
         null
        ],
        [
         "OK",
         null
        ],
        [
         "OK",
         null
        ],
        [
         "OK",
         null
        ],
        [
         "OR",
         null
        ],
        [
         "PA",
         null
        ],
        [
         "SC",
         null
        ],
        [
         "SC",
         null
        ],
        [
         "SC",
         null
        ],
        [
         "TN",
         null
        ],
        [
         "TN",
         null
        ],
        [
         "TX",
         null
        ],
        [
         "TX",
         null
        ],
        [
         "TX",
         null
        ],
        [
         "TX",
         null
        ],
        [
         "TX",
         null
        ],
        [
         "TX",
         null
        ],
        [
         "TX",
         null
        ],
        [
         "TX",
         null
        ],
        [
         "TX",
         null
        ],
        [
         "TX",
         null
        ],
        [
         "TX",
         null
        ],
        [
         "TX",
         null
        ],
        [
         "TX",
         null
        ],
        [
         "TX",
         null
        ],
        [
         "TX",
         null
        ],
        [
         "TX",
         null
        ],
        [
         "TX",
         null
        ],
        [
         "TX",
         null
        ],
        [
         "TX",
         null
        ],
        [
         "TX",
         null
        ],
        [
         "TX",
         null
        ],
        [
         "TX",
         null
        ],
        [
         "TX",
         null
        ],
        [
         "TX",
         null
        ],
        [
         "TX",
         null
        ],
        [
         "TX",
         null
        ],
        [
         "TX",
         null
        ],
        [
         "UT",
         null
        ],
        [
         "UT",
         null
        ],
        [
         "UT",
         null
        ],
        [
         "VA",
         null
        ],
        [
         "VA",
         null
        ],
        [
         "VA",
         null
        ],
        [
         "VA",
         null
        ],
        [
         "VA",
         null
        ],
        [
         "WA",
         null
        ],
        [
         "WA",
         null
        ],
        [
         "WA",
         null
        ],
        [
         "WA",
         null
        ],
        [
         "WA",
         null
        ],
        [
         "WI",
         null
        ]
       ],
       "datasetInfos": [],
       "dbfsResultPath": null,
       "isJsonSchema": true,
       "metadata": {
        "dataframeName": "_sqldf",
        "executionCount": 20
       },
       "overflow": false,
       "plotOptions": {
        "customPlotOptions": {},
        "displayType": "mapPlot",
        "pivotAggregation": null,
        "pivotColumns": null,
        "xColumns": null,
        "yColumns": null
       },
       "removedWidgets": [],
       "schema": [
        {
         "metadata": "{}",
         "name": "State Code",
         "type": "\"string\""
        },
        {
         "metadata": "{}",
         "name": "2015 median sales price",
         "type": "\"double\""
        }
       ],
       "type": "table"
      }
     },
     "output_type": "display_data"
    }
   ],
   "source": [
    "%sql\n",
    "select `State Code`, `2015 median sales price` from data_geo order by `2015 median sales price` desc;\n",
    "\n",
    "-- Aquí estamos corroborando el precio promedio en Estados Unidos en el 2015 en cada uno de los estados, y visualizandolo con un mapa para poder ver los datos de una forma mucho mas interactiva."
   ]
  },
  {
   "cell_type": "code",
   "execution_count": 0,
   "metadata": {
    "application/vnd.databricks.v1+cell": {
     "cellMetadata": {},
     "inputWidgets": {},
     "nuid": "2ae000b0-6229-4e07-9428-04ada50bb229",
     "showTitle": false,
     "title": ""
    }
   },
   "outputs": [],
   "source": []
  }
 ],
 "metadata": {
  "application/vnd.databricks.v1+notebook": {
   "dashboards": [],
   "language": "python",
   "notebookMetadata": {
    "mostRecentlyExecutedCommandWithImplicitDF": {
     "commandId": 471493590521843,
     "dataframes": [
      "_sqldf"
     ]
    },
    "pythonIndentUnit": 2
   },
   "notebookName": "Spark01",
   "widgets": {}
  }
 },
 "nbformat": 4,
 "nbformat_minor": 0
}
